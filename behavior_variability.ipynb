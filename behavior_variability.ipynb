{
 "cells": [
  {
   "cell_type": "code",
   "execution_count": 2,
   "metadata": {
    "jupyter": {
     "is_executing": true
    },
    "tags": []
   },
   "outputs": [],
   "source": [
    "import torch\n",
    "import pandas as pd\n",
    "import numpy as np\n",
    "import matplotlib.pyplot as plt\n",
    "\n",
    "import seaborn as sns\n",
    "import scipy.io\n",
    "import h5py\n",
    "import mat73\n",
    "import math\n",
    "\n",
    "from numpy import ndarray, dtype, floating\n",
    "from numpy._typing import _64Bit\n",
    "from scipy.stats import gaussian_kde\n",
    "from pathlib import Path\n",
    "from tqdm import tqdm\n",
    "from typing import List, Tuple, Any\n",
    "\n",
    "from pynwb import NWBHDF5IO\n",
    "import pyarrow as pa\n",
    "import pyarrow.parquet as pq\n",
    "\n",
    "from pyspark.sql import SparkSession\n",
    "from pyspark.sql import functions as F\n",
    "\n",
    "import warnings\n",
    "warnings.filterwarnings(\"ignore\")"
   ]
  },
  {
   "cell_type": "code",
   "execution_count": 4,
   "metadata": {
    "jupyter": {
     "is_executing": true
    },
    "tags": []
   },
   "outputs": [],
   "source": [
    "ANIMAL_ID = 'Jenkins'\n",
    "SESSION_ID = '20090918'\n",
    "\n",
    "#file = h5py.File(f'/home/makki/data/NWB/000070/sub-Jenkins/sub-{ANIMAL_ID}_ses-{SESSION_ID}_behavior+ecephys.nwb')\n",
    "file = h5py.File(Path('~/data').expanduser().as_posix() + f'/NWB/000070/sub-Jenkins/sub-{ANIMAL_ID}_ses-{SESSION_ID}_behavior+ecephys.nwb')\n",
    "io = NWBHDF5IO(file=file, mode='r', load_namespaces=True)"
   ]
  },
  {
   "cell_type": "code",
   "execution_count": 6,
   "metadata": {
    "ExecuteTime": {
     "end_time": "2024-11-21T15:54:13.179505Z",
     "start_time": "2024-11-21T15:54:12.751483Z"
    },
    "tags": []
   },
   "outputs": [
    {
     "data": {
      "text/html": [
       "\n",
       "        <style>\n",
       "            .container-fields {\n",
       "                font-family: \"Open Sans\", Arial, sans-serif;\n",
       "            }\n",
       "            .container-fields .field-value {\n",
       "                color: #00788E;\n",
       "            }\n",
       "            .container-fields details > summary {\n",
       "                cursor: pointer;\n",
       "                display: list-item;\n",
       "            }\n",
       "            .container-fields details > summary:hover {\n",
       "                color: #0A6EAA;\n",
       "            }\n",
       "        </style>\n",
       "        \n",
       "        <script>\n",
       "            function copyToClipboard(text) {\n",
       "                navigator.clipboard.writeText(text).then(function() {\n",
       "                    console.log('Copied to clipboard: ' + text);\n",
       "                }, function(err) {\n",
       "                    console.error('Could not copy text: ', err);\n",
       "                });\n",
       "            }\n",
       "\n",
       "            document.addEventListener('DOMContentLoaded', function() {\n",
       "                let fieldKeys = document.querySelectorAll('.container-fields .field-key');\n",
       "                fieldKeys.forEach(function(fieldKey) {\n",
       "                    fieldKey.addEventListener('click', function() {\n",
       "                        let accessCode = fieldKey.getAttribute('title').replace('Access code: ', '');\n",
       "                        copyToClipboard(accessCode);\n",
       "                    });\n",
       "                });\n",
       "            });\n",
       "        </script>\n",
       "        <div class='container-wrap'><div class='container-header'><div class='xr-obj-type'><h3>root (NWBFile)</h3></div></div><div style=\"margin-left: 0px;\" class=\"container-fields\"><span class=\"field-key\" title=\".session_description\">session_description: </span><span class=\"field-value\"></span></div><div style=\"margin-left: 0px;\" class=\"container-fields\"><span class=\"field-key\" title=\".identifier\">identifier: </span><span class=\"field-value\">88cc73b6-971c-4b57-8444-df4ec4acea12</span></div><details><summary style=\"display: list-item; margin-left: 0px;\" class=\"container-fields field-key\" title=\".session_start_time\"><b>session_start_time</b></summary><span class=\"field-key\">2009-09-18 00:00:00-07:00</span></details><details><summary style=\"display: list-item; margin-left: 0px;\" class=\"container-fields field-key\" title=\".timestamps_reference_time\"><b>timestamps_reference_time</b></summary><span class=\"field-key\">2009-09-18 00:00:00-07:00</span></details><details><summary style=\"display: list-item; margin-left: 0px;\" class=\"container-fields field-key\" title=\".file_create_date\"><b>file_create_date</b></summary><details><summary style=\"display: list-item; margin-left: 20px;\" class=\"container-fields field-key\" title=\".file_create_date[0]\"><b>0</b></summary><span class=\"field-key\">2021-08-11 03:01:26.636714-04:00</span></details></details><details><summary style=\"display: list-item; margin-left: 0px;\" class=\"container-fields field-key\" title=\".experimenter\"><b>experimenter</b></summary><span class=\"field-key\">('Matthew T. Kaufman', 'Mark M. Churchland')</span></details><details><summary style=\"display: list-item; margin-left: 0px;\" class=\"container-fields field-key\" title=\".related_publications\"><b>related_publications</b></summary><span class=\"field-key\">('10.1038/nature11129 10.1152/jn.00892.2011 10.1038/nn.3643 10.1038/nn.4042 10.1146/annurev-neuro-062111-150509 10.7554/eLife.0467710.1523/ENEURO.0085-16.2016 10.1038/s41592-018-0109-9',)</span></details><details><summary style=\"display: list-item; margin-left: 0px;\" class=\"container-fields field-key\" title=\".processing\"><b>processing</b></summary><details><summary style=\"display: list-item; margin-left: 20px;\" class=\"container-fields field-key\" title=\".processing['behavior']\"><b>behavior</b></summary><div style=\"margin-left: 40px;\" class=\"container-fields\"><span class=\"field-key\" title=\".processing['behavior'].description\">description: </span><span class=\"field-value\">contains monkey movement data</span></div><details><summary style=\"display: list-item; margin-left: 40px;\" class=\"container-fields field-key\" title=\".processing['behavior'].data_interfaces\"><b>data_interfaces</b></summary><details><summary style=\"display: list-item; margin-left: 60px;\" class=\"container-fields field-key\" title=\".processing['behavior'].data_interfaces['Position']\"><b>Position</b></summary><details><summary style=\"display: list-item; margin-left: 80px;\" class=\"container-fields field-key\" title=\".processing['behavior'].data_interfaces['Position'].spatial_series\"><b>spatial_series</b></summary><details><summary style=\"display: list-item; margin-left: 100px;\" class=\"container-fields field-key\" title=\".processing['behavior'].data_interfaces['Position'].spatial_series['Cursor']\"><b>Cursor</b></summary><div style=\"margin-left: 120px;\" class=\"container-fields\"><span class=\"field-key\" title=\".processing['behavior'].data_interfaces['Position'].spatial_series['Cursor'].resolution\">resolution: </span><span class=\"field-value\">-1.0</span></div><div style=\"margin-left: 120px;\" class=\"container-fields\"><span class=\"field-key\" title=\".processing['behavior'].data_interfaces['Position'].spatial_series['Cursor'].comments\">comments: </span><span class=\"field-value\">no comments</span></div><div style=\"margin-left: 120px;\" class=\"container-fields\"><span class=\"field-key\" title=\".processing['behavior'].data_interfaces['Position'].spatial_series['Cursor'].description\">description: </span><span class=\"field-value\">no description</span></div><div style=\"margin-left: 120px;\" class=\"container-fields\"><span class=\"field-key\" title=\".processing['behavior'].data_interfaces['Position'].spatial_series['Cursor'].conversion\">conversion: </span><span class=\"field-value\">nan</span></div><div style=\"margin-left: 120px;\" class=\"container-fields\"><span class=\"field-key\" title=\".processing['behavior'].data_interfaces['Position'].spatial_series['Cursor'].offset\">offset: </span><span class=\"field-value\">0.0</span></div><div style=\"margin-left: 120px;\" class=\"container-fields\"><span class=\"field-key\" title=\".processing['behavior'].data_interfaces['Position'].spatial_series['Cursor'].unit\">unit: </span><span class=\"field-value\">meters</span></div><details><summary style=\"display: list-item; margin-left: 120px;\" class=\"container-fields field-key\" title=\".processing['behavior'].data_interfaces['Position'].spatial_series['Cursor'].data\"><b>data</b></summary></details><details><summary style=\"display: list-item; margin-left: 120px;\" class=\"container-fields field-key\" title=\".processing['behavior'].data_interfaces['Position'].spatial_series['Cursor'].timestamps\"><b>timestamps</b></summary></details><div style=\"margin-left: 120px;\" class=\"container-fields\"><span class=\"field-key\" title=\".processing['behavior'].data_interfaces['Position'].spatial_series['Cursor'].timestamps_unit\">timestamps_unit: </span><span class=\"field-value\">seconds</span></div><div style=\"margin-left: 120px;\" class=\"container-fields\"><span class=\"field-key\" title=\".processing['behavior'].data_interfaces['Position'].spatial_series['Cursor'].interval\">interval: </span><span class=\"field-value\">1</span></div><div style=\"margin-left: 120px;\" class=\"container-fields\"><span class=\"field-key\" title=\".processing['behavior'].data_interfaces['Position'].spatial_series['Cursor'].reference_frame\">reference_frame: </span><span class=\"field-value\">screen center</span></div></details><details><summary style=\"display: list-item; margin-left: 100px;\" class=\"container-fields field-key\" title=\".processing['behavior'].data_interfaces['Position'].spatial_series['Eye']\"><b>Eye</b></summary><div style=\"margin-left: 120px;\" class=\"container-fields\"><span class=\"field-key\" title=\".processing['behavior'].data_interfaces['Position'].spatial_series['Eye'].resolution\">resolution: </span><span class=\"field-value\">-1.0</span></div><div style=\"margin-left: 120px;\" class=\"container-fields\"><span class=\"field-key\" title=\".processing['behavior'].data_interfaces['Position'].spatial_series['Eye'].comments\">comments: </span><span class=\"field-value\">no comments</span></div><div style=\"margin-left: 120px;\" class=\"container-fields\"><span class=\"field-key\" title=\".processing['behavior'].data_interfaces['Position'].spatial_series['Eye'].description\">description: </span><span class=\"field-value\">no description</span></div><div style=\"margin-left: 120px;\" class=\"container-fields\"><span class=\"field-key\" title=\".processing['behavior'].data_interfaces['Position'].spatial_series['Eye'].conversion\">conversion: </span><span class=\"field-value\">nan</span></div><div style=\"margin-left: 120px;\" class=\"container-fields\"><span class=\"field-key\" title=\".processing['behavior'].data_interfaces['Position'].spatial_series['Eye'].offset\">offset: </span><span class=\"field-value\">0.0</span></div><div style=\"margin-left: 120px;\" class=\"container-fields\"><span class=\"field-key\" title=\".processing['behavior'].data_interfaces['Position'].spatial_series['Eye'].unit\">unit: </span><span class=\"field-value\">meters</span></div><details><summary style=\"display: list-item; margin-left: 120px;\" class=\"container-fields field-key\" title=\".processing['behavior'].data_interfaces['Position'].spatial_series['Eye'].data\"><b>data</b></summary></details><details><summary style=\"display: list-item; margin-left: 120px;\" class=\"container-fields field-key\" title=\".processing['behavior'].data_interfaces['Position'].spatial_series['Eye'].timestamps\"><b>timestamps</b></summary></details><div style=\"margin-left: 120px;\" class=\"container-fields\"><span class=\"field-key\" title=\".processing['behavior'].data_interfaces['Position'].spatial_series['Eye'].timestamps_unit\">timestamps_unit: </span><span class=\"field-value\">seconds</span></div><div style=\"margin-left: 120px;\" class=\"container-fields\"><span class=\"field-key\" title=\".processing['behavior'].data_interfaces['Position'].spatial_series['Eye'].interval\">interval: </span><span class=\"field-value\">1</span></div><div style=\"margin-left: 120px;\" class=\"container-fields\"><span class=\"field-key\" title=\".processing['behavior'].data_interfaces['Position'].spatial_series['Eye'].reference_frame\">reference_frame: </span><span class=\"field-value\">screen center</span></div></details><details><summary style=\"display: list-item; margin-left: 100px;\" class=\"container-fields field-key\" title=\".processing['behavior'].data_interfaces['Position'].spatial_series['Hand']\"><b>Hand</b></summary><div style=\"margin-left: 120px;\" class=\"container-fields\"><span class=\"field-key\" title=\".processing['behavior'].data_interfaces['Position'].spatial_series['Hand'].resolution\">resolution: </span><span class=\"field-value\">-1.0</span></div><div style=\"margin-left: 120px;\" class=\"container-fields\"><span class=\"field-key\" title=\".processing['behavior'].data_interfaces['Position'].spatial_series['Hand'].comments\">comments: </span><span class=\"field-value\">no comments</span></div><div style=\"margin-left: 120px;\" class=\"container-fields\"><span class=\"field-key\" title=\".processing['behavior'].data_interfaces['Position'].spatial_series['Hand'].description\">description: </span><span class=\"field-value\">no description</span></div><div style=\"margin-left: 120px;\" class=\"container-fields\"><span class=\"field-key\" title=\".processing['behavior'].data_interfaces['Position'].spatial_series['Hand'].conversion\">conversion: </span><span class=\"field-value\">nan</span></div><div style=\"margin-left: 120px;\" class=\"container-fields\"><span class=\"field-key\" title=\".processing['behavior'].data_interfaces['Position'].spatial_series['Hand'].offset\">offset: </span><span class=\"field-value\">0.0</span></div><div style=\"margin-left: 120px;\" class=\"container-fields\"><span class=\"field-key\" title=\".processing['behavior'].data_interfaces['Position'].spatial_series['Hand'].unit\">unit: </span><span class=\"field-value\">meters</span></div><details><summary style=\"display: list-item; margin-left: 120px;\" class=\"container-fields field-key\" title=\".processing['behavior'].data_interfaces['Position'].spatial_series['Hand'].data\"><b>data</b></summary></details><details><summary style=\"display: list-item; margin-left: 120px;\" class=\"container-fields field-key\" title=\".processing['behavior'].data_interfaces['Position'].spatial_series['Hand'].timestamps\"><b>timestamps</b></summary></details><div style=\"margin-left: 120px;\" class=\"container-fields\"><span class=\"field-key\" title=\".processing['behavior'].data_interfaces['Position'].spatial_series['Hand'].timestamps_unit\">timestamps_unit: </span><span class=\"field-value\">seconds</span></div><div style=\"margin-left: 120px;\" class=\"container-fields\"><span class=\"field-key\" title=\".processing['behavior'].data_interfaces['Position'].spatial_series['Hand'].interval\">interval: </span><span class=\"field-value\">1</span></div><div style=\"margin-left: 120px;\" class=\"container-fields\"><span class=\"field-key\" title=\".processing['behavior'].data_interfaces['Position'].spatial_series['Hand'].reference_frame\">reference_frame: </span><span class=\"field-value\">screen center</span></div></details></details></details></details></details><details><summary style=\"display: list-item; margin-left: 20px;\" class=\"container-fields field-key\" title=\".processing['ecephys']\"><b>ecephys</b></summary><div style=\"margin-left: 40px;\" class=\"container-fields\"><span class=\"field-key\" title=\".processing['ecephys'].description\">description: </span><span class=\"field-value\">Intermediate data from extracellular electrophysiology recordings, e.g., LFP.</span></div><details><summary style=\"display: list-item; margin-left: 40px;\" class=\"container-fields field-key\" title=\".processing['ecephys'].data_interfaces\"><b>data_interfaces</b></summary><details><summary style=\"display: list-item; margin-left: 60px;\" class=\"container-fields field-key\" title=\".processing['ecephys'].data_interfaces['Processed']\"><b>Processed</b></summary><details><summary style=\"display: list-item; margin-left: 80px;\" class=\"container-fields field-key\" title=\".processing['ecephys'].data_interfaces['Processed'].electrical_series\"><b>electrical_series</b></summary><details><summary style=\"display: list-item; margin-left: 100px;\" class=\"container-fields field-key\" title=\".processing['ecephys'].data_interfaces['Processed'].electrical_series['A001']\"><b>A001</b></summary><div style=\"margin-left: 120px;\" class=\"container-fields\"><span class=\"field-key\" title=\".processing['ecephys'].data_interfaces['Processed'].electrical_series['A001'].starting_time\">starting_time: </span><span class=\"field-value\">0.0</span></div><div style=\"margin-left: 120px;\" class=\"container-fields\"><span class=\"field-key\" title=\".processing['ecephys'].data_interfaces['Processed'].electrical_series['A001'].rate\">rate: </span><span class=\"field-value\">1000.0</span></div><div style=\"margin-left: 120px;\" class=\"container-fields\"><span class=\"field-key\" title=\".processing['ecephys'].data_interfaces['Processed'].electrical_series['A001'].resolution\">resolution: </span><span class=\"field-value\">-1.0</span></div><div style=\"margin-left: 120px;\" class=\"container-fields\"><span class=\"field-key\" title=\".processing['ecephys'].data_interfaces['Processed'].electrical_series['A001'].comments\">comments: </span><span class=\"field-value\">Generated from SpikeInterface::NwbRecordingExtractor</span></div><div style=\"margin-left: 120px;\" class=\"container-fields\"><span class=\"field-key\" title=\".processing['ecephys'].data_interfaces['Processed'].electrical_series['A001'].description\">description: </span><span class=\"field-value\">LFP signal for array A, segment 1data for both arrays A,B in the same segment should be, but is not of the same time lengthand cannot be synced due to lack of time stamps. Ignore the starting times.</span></div><div style=\"margin-left: 120px;\" class=\"container-fields\"><span class=\"field-key\" title=\".processing['ecephys'].data_interfaces['Processed'].electrical_series['A001'].conversion\">conversion: </span><span class=\"field-value\">1e-06</span></div><div style=\"margin-left: 120px;\" class=\"container-fields\"><span class=\"field-key\" title=\".processing['ecephys'].data_interfaces['Processed'].electrical_series['A001'].offset\">offset: </span><span class=\"field-value\">0.0</span></div><div style=\"margin-left: 120px;\" class=\"container-fields\"><span class=\"field-key\" title=\".processing['ecephys'].data_interfaces['Processed'].electrical_series['A001'].unit\">unit: </span><span class=\"field-value\">volts</span></div><details><summary style=\"display: list-item; margin-left: 120px;\" class=\"container-fields field-key\" title=\".processing['ecephys'].data_interfaces['Processed'].electrical_series['A001'].data\"><b>data</b></summary></details><div style=\"margin-left: 120px;\" class=\"container-fields\"><span class=\"field-key\" title=\".processing['ecephys'].data_interfaces['Processed'].electrical_series['A001'].starting_time_unit\">starting_time_unit: </span><span class=\"field-value\">seconds</span></div><details><summary style=\"display: list-item; margin-left: 120px;\" class=\"container-fields field-key\" title=\".processing['ecephys'].data_interfaces['Processed'].electrical_series['A001'].electrodes\"><b>electrodes</b></summary><div style=\"margin-left: 140px;\" class=\"container-fields\"><span class=\"field-key\" title=\".processing['ecephys'].data_interfaces['Processed'].electrical_series['A001'].electrodes.description\">description: </span><span class=\"field-value\">electrode_table_region</span></div><details><summary style=\"display: list-item; margin-left: 140px;\" class=\"container-fields field-key\" title=\".processing['ecephys'].data_interfaces['Processed'].electrical_series['A001'].electrodes.table\"><b>table</b></summary><div style=\"margin-left: 160px;\" class=\"container-fields\"><span class=\"field-key\" title=\".processing['ecephys'].data_interfaces['Processed'].electrical_series['A001'].electrodes.table\">description: </span><span class=\"field-value\">metadata about extracellular electrodes</span></div><details><summary style=\"display: list-item; margin-left: 160px;\" class=\"container-fields field-key\" title=\".processing['ecephys'].data_interfaces['Processed'].electrical_series['A001'].electrodes.table\"><b>table</b></summary><table border=\"1\" class=\"dataframe\">\n",
       "  <thead>\n",
       "    <tr style=\"text-align: right;\">\n",
       "      <th></th>\n",
       "      <th>x</th>\n",
       "      <th>y</th>\n",
       "      <th>z</th>\n",
       "      <th>imp</th>\n",
       "      <th>location</th>\n",
       "      <th>filtering</th>\n",
       "      <th>group</th>\n",
       "      <th>group_name</th>\n",
       "      <th>gain</th>\n",
       "      <th>offset</th>\n",
       "    </tr>\n",
       "    <tr>\n",
       "      <th>id</th>\n",
       "      <th></th>\n",
       "      <th></th>\n",
       "      <th></th>\n",
       "      <th></th>\n",
       "      <th></th>\n",
       "      <th></th>\n",
       "      <th></th>\n",
       "      <th></th>\n",
       "      <th></th>\n",
       "      <th></th>\n",
       "    </tr>\n",
       "  </thead>\n",
       "  <tbody>\n",
       "    <tr>\n",
       "      <th>1</th>\n",
       "      <td>NaN</td>\n",
       "      <td>NaN</td>\n",
       "      <td>NaN</td>\n",
       "      <td>-1.0</td>\n",
       "      <td>Pre-Motor Cortex, dorsal</td>\n",
       "      <td>1000Hz</td>\n",
       "      <td>1 pynwb.ecephys.ElectrodeGroup at 0x5833167120\\nFields:\\n  description: array corresponding to device implanted at PMd\\n  device: Utah Array(PMd) pynwb.device.Device at 0x5833210128\\nFields:\\n  description: 96 channel utah array\\n  manufacturer: BlackRock Microsystems\\n\\n  location: Caudal, dorsal Pre-motor cortex, Left hemisphere\\n</td>\n",
       "      <td>1</td>\n",
       "      <td>1.0</td>\n",
       "      <td>0.0</td>\n",
       "    </tr>\n",
       "    <tr>\n",
       "      <th>2</th>\n",
       "      <td>NaN</td>\n",
       "      <td>NaN</td>\n",
       "      <td>NaN</td>\n",
       "      <td>-1.0</td>\n",
       "      <td>Pre-Motor Cortex, dorsal</td>\n",
       "      <td>1000Hz</td>\n",
       "      <td>1 pynwb.ecephys.ElectrodeGroup at 0x5833167120\\nFields:\\n  description: array corresponding to device implanted at PMd\\n  device: Utah Array(PMd) pynwb.device.Device at 0x5833210128\\nFields:\\n  description: 96 channel utah array\\n  manufacturer: BlackRock Microsystems\\n\\n  location: Caudal, dorsal Pre-motor cortex, Left hemisphere\\n</td>\n",
       "      <td>1</td>\n",
       "      <td>1.0</td>\n",
       "      <td>0.0</td>\n",
       "    </tr>\n",
       "    <tr>\n",
       "      <th>3</th>\n",
       "      <td>NaN</td>\n",
       "      <td>NaN</td>\n",
       "      <td>NaN</td>\n",
       "      <td>-1.0</td>\n",
       "      <td>Pre-Motor Cortex, dorsal</td>\n",
       "      <td>1000Hz</td>\n",
       "      <td>1 pynwb.ecephys.ElectrodeGroup at 0x5833167120\\nFields:\\n  description: array corresponding to device implanted at PMd\\n  device: Utah Array(PMd) pynwb.device.Device at 0x5833210128\\nFields:\\n  description: 96 channel utah array\\n  manufacturer: BlackRock Microsystems\\n\\n  location: Caudal, dorsal Pre-motor cortex, Left hemisphere\\n</td>\n",
       "      <td>1</td>\n",
       "      <td>1.0</td>\n",
       "      <td>0.0</td>\n",
       "    </tr>\n",
       "    <tr>\n",
       "      <th>4</th>\n",
       "      <td>NaN</td>\n",
       "      <td>NaN</td>\n",
       "      <td>NaN</td>\n",
       "      <td>-1.0</td>\n",
       "      <td>Pre-Motor Cortex, dorsal</td>\n",
       "      <td>1000Hz</td>\n",
       "      <td>1 pynwb.ecephys.ElectrodeGroup at 0x5833167120\\nFields:\\n  description: array corresponding to device implanted at PMd\\n  device: Utah Array(PMd) pynwb.device.Device at 0x5833210128\\nFields:\\n  description: 96 channel utah array\\n  manufacturer: BlackRock Microsystems\\n\\n  location: Caudal, dorsal Pre-motor cortex, Left hemisphere\\n</td>\n",
       "      <td>1</td>\n",
       "      <td>1.0</td>\n",
       "      <td>0.0</td>\n",
       "    </tr>\n",
       "  </tbody>\n",
       "</table><p>... and 188 more rows.</p></details></details></details></details><details><summary style=\"display: list-item; margin-left: 100px;\" class=\"container-fields field-key\" title=\".processing['ecephys'].data_interfaces['Processed'].electrical_series['A002']\"><b>A002</b></summary><div style=\"margin-left: 120px;\" class=\"container-fields\"><span class=\"field-key\" title=\".processing['ecephys'].data_interfaces['Processed'].electrical_series['A002'].starting_time\">starting_time: </span><span class=\"field-value\">0.0</span></div><div style=\"margin-left: 120px;\" class=\"container-fields\"><span class=\"field-key\" title=\".processing['ecephys'].data_interfaces['Processed'].electrical_series['A002'].rate\">rate: </span><span class=\"field-value\">1000.0</span></div><div style=\"margin-left: 120px;\" class=\"container-fields\"><span class=\"field-key\" title=\".processing['ecephys'].data_interfaces['Processed'].electrical_series['A002'].resolution\">resolution: </span><span class=\"field-value\">-1.0</span></div><div style=\"margin-left: 120px;\" class=\"container-fields\"><span class=\"field-key\" title=\".processing['ecephys'].data_interfaces['Processed'].electrical_series['A002'].comments\">comments: </span><span class=\"field-value\">Generated from SpikeInterface::NwbRecordingExtractor</span></div><div style=\"margin-left: 120px;\" class=\"container-fields\"><span class=\"field-key\" title=\".processing['ecephys'].data_interfaces['Processed'].electrical_series['A002'].description\">description: </span><span class=\"field-value\">LFP signal for array A, segment 2data for both arrays A,B in the same segment should be, but is not of the same time lengthand cannot be synced due to lack of time stamps. Ignore the starting times.</span></div><div style=\"margin-left: 120px;\" class=\"container-fields\"><span class=\"field-key\" title=\".processing['ecephys'].data_interfaces['Processed'].electrical_series['A002'].conversion\">conversion: </span><span class=\"field-value\">1e-06</span></div><div style=\"margin-left: 120px;\" class=\"container-fields\"><span class=\"field-key\" title=\".processing['ecephys'].data_interfaces['Processed'].electrical_series['A002'].offset\">offset: </span><span class=\"field-value\">0.0</span></div><div style=\"margin-left: 120px;\" class=\"container-fields\"><span class=\"field-key\" title=\".processing['ecephys'].data_interfaces['Processed'].electrical_series['A002'].unit\">unit: </span><span class=\"field-value\">volts</span></div><details><summary style=\"display: list-item; margin-left: 120px;\" class=\"container-fields field-key\" title=\".processing['ecephys'].data_interfaces['Processed'].electrical_series['A002'].data\"><b>data</b></summary></details><div style=\"margin-left: 120px;\" class=\"container-fields\"><span class=\"field-key\" title=\".processing['ecephys'].data_interfaces['Processed'].electrical_series['A002'].starting_time_unit\">starting_time_unit: </span><span class=\"field-value\">seconds</span></div><details><summary style=\"display: list-item; margin-left: 120px;\" class=\"container-fields field-key\" title=\".processing['ecephys'].data_interfaces['Processed'].electrical_series['A002'].electrodes\"><b>electrodes</b></summary><div style=\"margin-left: 140px;\" class=\"container-fields\"><span class=\"field-key\" title=\".processing['ecephys'].data_interfaces['Processed'].electrical_series['A002'].electrodes.description\">description: </span><span class=\"field-value\">electrode_table_region</span></div><details><summary style=\"display: list-item; margin-left: 140px;\" class=\"container-fields field-key\" title=\".processing['ecephys'].data_interfaces['Processed'].electrical_series['A002'].electrodes.table\"><b>table</b></summary><div style=\"margin-left: 160px;\" class=\"container-fields\"><span class=\"field-key\" title=\".processing['ecephys'].data_interfaces['Processed'].electrical_series['A002'].electrodes.table\">description: </span><span class=\"field-value\">metadata about extracellular electrodes</span></div><details><summary style=\"display: list-item; margin-left: 160px;\" class=\"container-fields field-key\" title=\".processing['ecephys'].data_interfaces['Processed'].electrical_series['A002'].electrodes.table\"><b>table</b></summary><table border=\"1\" class=\"dataframe\">\n",
       "  <thead>\n",
       "    <tr style=\"text-align: right;\">\n",
       "      <th></th>\n",
       "      <th>x</th>\n",
       "      <th>y</th>\n",
       "      <th>z</th>\n",
       "      <th>imp</th>\n",
       "      <th>location</th>\n",
       "      <th>filtering</th>\n",
       "      <th>group</th>\n",
       "      <th>group_name</th>\n",
       "      <th>gain</th>\n",
       "      <th>offset</th>\n",
       "    </tr>\n",
       "    <tr>\n",
       "      <th>id</th>\n",
       "      <th></th>\n",
       "      <th></th>\n",
       "      <th></th>\n",
       "      <th></th>\n",
       "      <th></th>\n",
       "      <th></th>\n",
       "      <th></th>\n",
       "      <th></th>\n",
       "      <th></th>\n",
       "      <th></th>\n",
       "    </tr>\n",
       "  </thead>\n",
       "  <tbody>\n",
       "    <tr>\n",
       "      <th>1</th>\n",
       "      <td>NaN</td>\n",
       "      <td>NaN</td>\n",
       "      <td>NaN</td>\n",
       "      <td>-1.0</td>\n",
       "      <td>Pre-Motor Cortex, dorsal</td>\n",
       "      <td>1000Hz</td>\n",
       "      <td>1 pynwb.ecephys.ElectrodeGroup at 0x5833167120\\nFields:\\n  description: array corresponding to device implanted at PMd\\n  device: Utah Array(PMd) pynwb.device.Device at 0x5833210128\\nFields:\\n  description: 96 channel utah array\\n  manufacturer: BlackRock Microsystems\\n\\n  location: Caudal, dorsal Pre-motor cortex, Left hemisphere\\n</td>\n",
       "      <td>1</td>\n",
       "      <td>1.0</td>\n",
       "      <td>0.0</td>\n",
       "    </tr>\n",
       "    <tr>\n",
       "      <th>2</th>\n",
       "      <td>NaN</td>\n",
       "      <td>NaN</td>\n",
       "      <td>NaN</td>\n",
       "      <td>-1.0</td>\n",
       "      <td>Pre-Motor Cortex, dorsal</td>\n",
       "      <td>1000Hz</td>\n",
       "      <td>1 pynwb.ecephys.ElectrodeGroup at 0x5833167120\\nFields:\\n  description: array corresponding to device implanted at PMd\\n  device: Utah Array(PMd) pynwb.device.Device at 0x5833210128\\nFields:\\n  description: 96 channel utah array\\n  manufacturer: BlackRock Microsystems\\n\\n  location: Caudal, dorsal Pre-motor cortex, Left hemisphere\\n</td>\n",
       "      <td>1</td>\n",
       "      <td>1.0</td>\n",
       "      <td>0.0</td>\n",
       "    </tr>\n",
       "    <tr>\n",
       "      <th>3</th>\n",
       "      <td>NaN</td>\n",
       "      <td>NaN</td>\n",
       "      <td>NaN</td>\n",
       "      <td>-1.0</td>\n",
       "      <td>Pre-Motor Cortex, dorsal</td>\n",
       "      <td>1000Hz</td>\n",
       "      <td>1 pynwb.ecephys.ElectrodeGroup at 0x5833167120\\nFields:\\n  description: array corresponding to device implanted at PMd\\n  device: Utah Array(PMd) pynwb.device.Device at 0x5833210128\\nFields:\\n  description: 96 channel utah array\\n  manufacturer: BlackRock Microsystems\\n\\n  location: Caudal, dorsal Pre-motor cortex, Left hemisphere\\n</td>\n",
       "      <td>1</td>\n",
       "      <td>1.0</td>\n",
       "      <td>0.0</td>\n",
       "    </tr>\n",
       "    <tr>\n",
       "      <th>4</th>\n",
       "      <td>NaN</td>\n",
       "      <td>NaN</td>\n",
       "      <td>NaN</td>\n",
       "      <td>-1.0</td>\n",
       "      <td>Pre-Motor Cortex, dorsal</td>\n",
       "      <td>1000Hz</td>\n",
       "      <td>1 pynwb.ecephys.ElectrodeGroup at 0x5833167120\\nFields:\\n  description: array corresponding to device implanted at PMd\\n  device: Utah Array(PMd) pynwb.device.Device at 0x5833210128\\nFields:\\n  description: 96 channel utah array\\n  manufacturer: BlackRock Microsystems\\n\\n  location: Caudal, dorsal Pre-motor cortex, Left hemisphere\\n</td>\n",
       "      <td>1</td>\n",
       "      <td>1.0</td>\n",
       "      <td>0.0</td>\n",
       "    </tr>\n",
       "  </tbody>\n",
       "</table><p>... and 188 more rows.</p></details></details></details></details><details><summary style=\"display: list-item; margin-left: 100px;\" class=\"container-fields field-key\" title=\".processing['ecephys'].data_interfaces['Processed'].electrical_series['B001']\"><b>B001</b></summary><div style=\"margin-left: 120px;\" class=\"container-fields\"><span class=\"field-key\" title=\".processing['ecephys'].data_interfaces['Processed'].electrical_series['B001'].starting_time\">starting_time: </span><span class=\"field-value\">0.0</span></div><div style=\"margin-left: 120px;\" class=\"container-fields\"><span class=\"field-key\" title=\".processing['ecephys'].data_interfaces['Processed'].electrical_series['B001'].rate\">rate: </span><span class=\"field-value\">1000.0</span></div><div style=\"margin-left: 120px;\" class=\"container-fields\"><span class=\"field-key\" title=\".processing['ecephys'].data_interfaces['Processed'].electrical_series['B001'].resolution\">resolution: </span><span class=\"field-value\">-1.0</span></div><div style=\"margin-left: 120px;\" class=\"container-fields\"><span class=\"field-key\" title=\".processing['ecephys'].data_interfaces['Processed'].electrical_series['B001'].comments\">comments: </span><span class=\"field-value\">Generated from SpikeInterface::NwbRecordingExtractor</span></div><div style=\"margin-left: 120px;\" class=\"container-fields\"><span class=\"field-key\" title=\".processing['ecephys'].data_interfaces['Processed'].electrical_series['B001'].description\">description: </span><span class=\"field-value\">LFP signal for array B, segment 1data for both arrays A,B in the same segment should be, but is not of the same time lengthand cannot be synced due to lack of time stamps. Ignore the starting times.</span></div><div style=\"margin-left: 120px;\" class=\"container-fields\"><span class=\"field-key\" title=\".processing['ecephys'].data_interfaces['Processed'].electrical_series['B001'].conversion\">conversion: </span><span class=\"field-value\">1e-06</span></div><div style=\"margin-left: 120px;\" class=\"container-fields\"><span class=\"field-key\" title=\".processing['ecephys'].data_interfaces['Processed'].electrical_series['B001'].offset\">offset: </span><span class=\"field-value\">0.0</span></div><div style=\"margin-left: 120px;\" class=\"container-fields\"><span class=\"field-key\" title=\".processing['ecephys'].data_interfaces['Processed'].electrical_series['B001'].unit\">unit: </span><span class=\"field-value\">volts</span></div><details><summary style=\"display: list-item; margin-left: 120px;\" class=\"container-fields field-key\" title=\".processing['ecephys'].data_interfaces['Processed'].electrical_series['B001'].data\"><b>data</b></summary></details><div style=\"margin-left: 120px;\" class=\"container-fields\"><span class=\"field-key\" title=\".processing['ecephys'].data_interfaces['Processed'].electrical_series['B001'].starting_time_unit\">starting_time_unit: </span><span class=\"field-value\">seconds</span></div><details><summary style=\"display: list-item; margin-left: 120px;\" class=\"container-fields field-key\" title=\".processing['ecephys'].data_interfaces['Processed'].electrical_series['B001'].electrodes\"><b>electrodes</b></summary><div style=\"margin-left: 140px;\" class=\"container-fields\"><span class=\"field-key\" title=\".processing['ecephys'].data_interfaces['Processed'].electrical_series['B001'].electrodes.description\">description: </span><span class=\"field-value\">electrode_table_region</span></div><details><summary style=\"display: list-item; margin-left: 140px;\" class=\"container-fields field-key\" title=\".processing['ecephys'].data_interfaces['Processed'].electrical_series['B001'].electrodes.table\"><b>table</b></summary><div style=\"margin-left: 160px;\" class=\"container-fields\"><span class=\"field-key\" title=\".processing['ecephys'].data_interfaces['Processed'].electrical_series['B001'].electrodes.table\">description: </span><span class=\"field-value\">metadata about extracellular electrodes</span></div><details><summary style=\"display: list-item; margin-left: 160px;\" class=\"container-fields field-key\" title=\".processing['ecephys'].data_interfaces['Processed'].electrical_series['B001'].electrodes.table\"><b>table</b></summary><table border=\"1\" class=\"dataframe\">\n",
       "  <thead>\n",
       "    <tr style=\"text-align: right;\">\n",
       "      <th></th>\n",
       "      <th>x</th>\n",
       "      <th>y</th>\n",
       "      <th>z</th>\n",
       "      <th>imp</th>\n",
       "      <th>location</th>\n",
       "      <th>filtering</th>\n",
       "      <th>group</th>\n",
       "      <th>group_name</th>\n",
       "      <th>gain</th>\n",
       "      <th>offset</th>\n",
       "    </tr>\n",
       "    <tr>\n",
       "      <th>id</th>\n",
       "      <th></th>\n",
       "      <th></th>\n",
       "      <th></th>\n",
       "      <th></th>\n",
       "      <th></th>\n",
       "      <th></th>\n",
       "      <th></th>\n",
       "      <th></th>\n",
       "      <th></th>\n",
       "      <th></th>\n",
       "    </tr>\n",
       "  </thead>\n",
       "  <tbody>\n",
       "    <tr>\n",
       "      <th>1</th>\n",
       "      <td>NaN</td>\n",
       "      <td>NaN</td>\n",
       "      <td>NaN</td>\n",
       "      <td>-1.0</td>\n",
       "      <td>Pre-Motor Cortex, dorsal</td>\n",
       "      <td>1000Hz</td>\n",
       "      <td>1 pynwb.ecephys.ElectrodeGroup at 0x5833167120\\nFields:\\n  description: array corresponding to device implanted at PMd\\n  device: Utah Array(PMd) pynwb.device.Device at 0x5833210128\\nFields:\\n  description: 96 channel utah array\\n  manufacturer: BlackRock Microsystems\\n\\n  location: Caudal, dorsal Pre-motor cortex, Left hemisphere\\n</td>\n",
       "      <td>1</td>\n",
       "      <td>1.0</td>\n",
       "      <td>0.0</td>\n",
       "    </tr>\n",
       "    <tr>\n",
       "      <th>2</th>\n",
       "      <td>NaN</td>\n",
       "      <td>NaN</td>\n",
       "      <td>NaN</td>\n",
       "      <td>-1.0</td>\n",
       "      <td>Pre-Motor Cortex, dorsal</td>\n",
       "      <td>1000Hz</td>\n",
       "      <td>1 pynwb.ecephys.ElectrodeGroup at 0x5833167120\\nFields:\\n  description: array corresponding to device implanted at PMd\\n  device: Utah Array(PMd) pynwb.device.Device at 0x5833210128\\nFields:\\n  description: 96 channel utah array\\n  manufacturer: BlackRock Microsystems\\n\\n  location: Caudal, dorsal Pre-motor cortex, Left hemisphere\\n</td>\n",
       "      <td>1</td>\n",
       "      <td>1.0</td>\n",
       "      <td>0.0</td>\n",
       "    </tr>\n",
       "    <tr>\n",
       "      <th>3</th>\n",
       "      <td>NaN</td>\n",
       "      <td>NaN</td>\n",
       "      <td>NaN</td>\n",
       "      <td>-1.0</td>\n",
       "      <td>Pre-Motor Cortex, dorsal</td>\n",
       "      <td>1000Hz</td>\n",
       "      <td>1 pynwb.ecephys.ElectrodeGroup at 0x5833167120\\nFields:\\n  description: array corresponding to device implanted at PMd\\n  device: Utah Array(PMd) pynwb.device.Device at 0x5833210128\\nFields:\\n  description: 96 channel utah array\\n  manufacturer: BlackRock Microsystems\\n\\n  location: Caudal, dorsal Pre-motor cortex, Left hemisphere\\n</td>\n",
       "      <td>1</td>\n",
       "      <td>1.0</td>\n",
       "      <td>0.0</td>\n",
       "    </tr>\n",
       "    <tr>\n",
       "      <th>4</th>\n",
       "      <td>NaN</td>\n",
       "      <td>NaN</td>\n",
       "      <td>NaN</td>\n",
       "      <td>-1.0</td>\n",
       "      <td>Pre-Motor Cortex, dorsal</td>\n",
       "      <td>1000Hz</td>\n",
       "      <td>1 pynwb.ecephys.ElectrodeGroup at 0x5833167120\\nFields:\\n  description: array corresponding to device implanted at PMd\\n  device: Utah Array(PMd) pynwb.device.Device at 0x5833210128\\nFields:\\n  description: 96 channel utah array\\n  manufacturer: BlackRock Microsystems\\n\\n  location: Caudal, dorsal Pre-motor cortex, Left hemisphere\\n</td>\n",
       "      <td>1</td>\n",
       "      <td>1.0</td>\n",
       "      <td>0.0</td>\n",
       "    </tr>\n",
       "  </tbody>\n",
       "</table><p>... and 188 more rows.</p></details></details></details></details><details><summary style=\"display: list-item; margin-left: 100px;\" class=\"container-fields field-key\" title=\".processing['ecephys'].data_interfaces['Processed'].electrical_series['B002']\"><b>B002</b></summary><div style=\"margin-left: 120px;\" class=\"container-fields\"><span class=\"field-key\" title=\".processing['ecephys'].data_interfaces['Processed'].electrical_series['B002'].starting_time\">starting_time: </span><span class=\"field-value\">0.0</span></div><div style=\"margin-left: 120px;\" class=\"container-fields\"><span class=\"field-key\" title=\".processing['ecephys'].data_interfaces['Processed'].electrical_series['B002'].rate\">rate: </span><span class=\"field-value\">1000.0</span></div><div style=\"margin-left: 120px;\" class=\"container-fields\"><span class=\"field-key\" title=\".processing['ecephys'].data_interfaces['Processed'].electrical_series['B002'].resolution\">resolution: </span><span class=\"field-value\">-1.0</span></div><div style=\"margin-left: 120px;\" class=\"container-fields\"><span class=\"field-key\" title=\".processing['ecephys'].data_interfaces['Processed'].electrical_series['B002'].comments\">comments: </span><span class=\"field-value\">Generated from SpikeInterface::NwbRecordingExtractor</span></div><div style=\"margin-left: 120px;\" class=\"container-fields\"><span class=\"field-key\" title=\".processing['ecephys'].data_interfaces['Processed'].electrical_series['B002'].description\">description: </span><span class=\"field-value\">LFP signal for array B, segment 2data for both arrays A,B in the same segment should be, but is not of the same time lengthand cannot be synced due to lack of time stamps. Ignore the starting times.</span></div><div style=\"margin-left: 120px;\" class=\"container-fields\"><span class=\"field-key\" title=\".processing['ecephys'].data_interfaces['Processed'].electrical_series['B002'].conversion\">conversion: </span><span class=\"field-value\">1e-06</span></div><div style=\"margin-left: 120px;\" class=\"container-fields\"><span class=\"field-key\" title=\".processing['ecephys'].data_interfaces['Processed'].electrical_series['B002'].offset\">offset: </span><span class=\"field-value\">0.0</span></div><div style=\"margin-left: 120px;\" class=\"container-fields\"><span class=\"field-key\" title=\".processing['ecephys'].data_interfaces['Processed'].electrical_series['B002'].unit\">unit: </span><span class=\"field-value\">volts</span></div><details><summary style=\"display: list-item; margin-left: 120px;\" class=\"container-fields field-key\" title=\".processing['ecephys'].data_interfaces['Processed'].electrical_series['B002'].data\"><b>data</b></summary></details><div style=\"margin-left: 120px;\" class=\"container-fields\"><span class=\"field-key\" title=\".processing['ecephys'].data_interfaces['Processed'].electrical_series['B002'].starting_time_unit\">starting_time_unit: </span><span class=\"field-value\">seconds</span></div><details><summary style=\"display: list-item; margin-left: 120px;\" class=\"container-fields field-key\" title=\".processing['ecephys'].data_interfaces['Processed'].electrical_series['B002'].electrodes\"><b>electrodes</b></summary><div style=\"margin-left: 140px;\" class=\"container-fields\"><span class=\"field-key\" title=\".processing['ecephys'].data_interfaces['Processed'].electrical_series['B002'].electrodes.description\">description: </span><span class=\"field-value\">electrode_table_region</span></div><details><summary style=\"display: list-item; margin-left: 140px;\" class=\"container-fields field-key\" title=\".processing['ecephys'].data_interfaces['Processed'].electrical_series['B002'].electrodes.table\"><b>table</b></summary><div style=\"margin-left: 160px;\" class=\"container-fields\"><span class=\"field-key\" title=\".processing['ecephys'].data_interfaces['Processed'].electrical_series['B002'].electrodes.table\">description: </span><span class=\"field-value\">metadata about extracellular electrodes</span></div><details><summary style=\"display: list-item; margin-left: 160px;\" class=\"container-fields field-key\" title=\".processing['ecephys'].data_interfaces['Processed'].electrical_series['B002'].electrodes.table\"><b>table</b></summary><table border=\"1\" class=\"dataframe\">\n",
       "  <thead>\n",
       "    <tr style=\"text-align: right;\">\n",
       "      <th></th>\n",
       "      <th>x</th>\n",
       "      <th>y</th>\n",
       "      <th>z</th>\n",
       "      <th>imp</th>\n",
       "      <th>location</th>\n",
       "      <th>filtering</th>\n",
       "      <th>group</th>\n",
       "      <th>group_name</th>\n",
       "      <th>gain</th>\n",
       "      <th>offset</th>\n",
       "    </tr>\n",
       "    <tr>\n",
       "      <th>id</th>\n",
       "      <th></th>\n",
       "      <th></th>\n",
       "      <th></th>\n",
       "      <th></th>\n",
       "      <th></th>\n",
       "      <th></th>\n",
       "      <th></th>\n",
       "      <th></th>\n",
       "      <th></th>\n",
       "      <th></th>\n",
       "    </tr>\n",
       "  </thead>\n",
       "  <tbody>\n",
       "    <tr>\n",
       "      <th>1</th>\n",
       "      <td>NaN</td>\n",
       "      <td>NaN</td>\n",
       "      <td>NaN</td>\n",
       "      <td>-1.0</td>\n",
       "      <td>Pre-Motor Cortex, dorsal</td>\n",
       "      <td>1000Hz</td>\n",
       "      <td>1 pynwb.ecephys.ElectrodeGroup at 0x5833167120\\nFields:\\n  description: array corresponding to device implanted at PMd\\n  device: Utah Array(PMd) pynwb.device.Device at 0x5833210128\\nFields:\\n  description: 96 channel utah array\\n  manufacturer: BlackRock Microsystems\\n\\n  location: Caudal, dorsal Pre-motor cortex, Left hemisphere\\n</td>\n",
       "      <td>1</td>\n",
       "      <td>1.0</td>\n",
       "      <td>0.0</td>\n",
       "    </tr>\n",
       "    <tr>\n",
       "      <th>2</th>\n",
       "      <td>NaN</td>\n",
       "      <td>NaN</td>\n",
       "      <td>NaN</td>\n",
       "      <td>-1.0</td>\n",
       "      <td>Pre-Motor Cortex, dorsal</td>\n",
       "      <td>1000Hz</td>\n",
       "      <td>1 pynwb.ecephys.ElectrodeGroup at 0x5833167120\\nFields:\\n  description: array corresponding to device implanted at PMd\\n  device: Utah Array(PMd) pynwb.device.Device at 0x5833210128\\nFields:\\n  description: 96 channel utah array\\n  manufacturer: BlackRock Microsystems\\n\\n  location: Caudal, dorsal Pre-motor cortex, Left hemisphere\\n</td>\n",
       "      <td>1</td>\n",
       "      <td>1.0</td>\n",
       "      <td>0.0</td>\n",
       "    </tr>\n",
       "    <tr>\n",
       "      <th>3</th>\n",
       "      <td>NaN</td>\n",
       "      <td>NaN</td>\n",
       "      <td>NaN</td>\n",
       "      <td>-1.0</td>\n",
       "      <td>Pre-Motor Cortex, dorsal</td>\n",
       "      <td>1000Hz</td>\n",
       "      <td>1 pynwb.ecephys.ElectrodeGroup at 0x5833167120\\nFields:\\n  description: array corresponding to device implanted at PMd\\n  device: Utah Array(PMd) pynwb.device.Device at 0x5833210128\\nFields:\\n  description: 96 channel utah array\\n  manufacturer: BlackRock Microsystems\\n\\n  location: Caudal, dorsal Pre-motor cortex, Left hemisphere\\n</td>\n",
       "      <td>1</td>\n",
       "      <td>1.0</td>\n",
       "      <td>0.0</td>\n",
       "    </tr>\n",
       "    <tr>\n",
       "      <th>4</th>\n",
       "      <td>NaN</td>\n",
       "      <td>NaN</td>\n",
       "      <td>NaN</td>\n",
       "      <td>-1.0</td>\n",
       "      <td>Pre-Motor Cortex, dorsal</td>\n",
       "      <td>1000Hz</td>\n",
       "      <td>1 pynwb.ecephys.ElectrodeGroup at 0x5833167120\\nFields:\\n  description: array corresponding to device implanted at PMd\\n  device: Utah Array(PMd) pynwb.device.Device at 0x5833210128\\nFields:\\n  description: 96 channel utah array\\n  manufacturer: BlackRock Microsystems\\n\\n  location: Caudal, dorsal Pre-motor cortex, Left hemisphere\\n</td>\n",
       "      <td>1</td>\n",
       "      <td>1.0</td>\n",
       "      <td>0.0</td>\n",
       "    </tr>\n",
       "  </tbody>\n",
       "</table><p>... and 188 more rows.</p></details></details></details></details></details></details></details></details></details><details><summary style=\"display: list-item; margin-left: 0px;\" class=\"container-fields field-key\" title=\".electrodes\"><b>electrodes</b></summary><div style=\"margin-left: 20px;\" class=\"container-fields\"><span class=\"field-key\" title=\".electrodes\">description: </span><span class=\"field-value\">metadata about extracellular electrodes</span></div><details><summary style=\"display: list-item; margin-left: 20px;\" class=\"container-fields field-key\" title=\".electrodes\"><b>table</b></summary><table border=\"1\" class=\"dataframe\">\n",
       "  <thead>\n",
       "    <tr style=\"text-align: right;\">\n",
       "      <th></th>\n",
       "      <th>x</th>\n",
       "      <th>y</th>\n",
       "      <th>z</th>\n",
       "      <th>imp</th>\n",
       "      <th>location</th>\n",
       "      <th>filtering</th>\n",
       "      <th>group</th>\n",
       "      <th>group_name</th>\n",
       "      <th>gain</th>\n",
       "      <th>offset</th>\n",
       "    </tr>\n",
       "    <tr>\n",
       "      <th>id</th>\n",
       "      <th></th>\n",
       "      <th></th>\n",
       "      <th></th>\n",
       "      <th></th>\n",
       "      <th></th>\n",
       "      <th></th>\n",
       "      <th></th>\n",
       "      <th></th>\n",
       "      <th></th>\n",
       "      <th></th>\n",
       "    </tr>\n",
       "  </thead>\n",
       "  <tbody>\n",
       "    <tr>\n",
       "      <th>1</th>\n",
       "      <td>NaN</td>\n",
       "      <td>NaN</td>\n",
       "      <td>NaN</td>\n",
       "      <td>-1.0</td>\n",
       "      <td>Pre-Motor Cortex, dorsal</td>\n",
       "      <td>1000Hz</td>\n",
       "      <td>1 pynwb.ecephys.ElectrodeGroup at 0x5833167120\\nFields:\\n  description: array corresponding to device implanted at PMd\\n  device: Utah Array(PMd) pynwb.device.Device at 0x5833210128\\nFields:\\n  description: 96 channel utah array\\n  manufacturer: BlackRock Microsystems\\n\\n  location: Caudal, dorsal Pre-motor cortex, Left hemisphere\\n</td>\n",
       "      <td>1</td>\n",
       "      <td>1.0</td>\n",
       "      <td>0.0</td>\n",
       "    </tr>\n",
       "    <tr>\n",
       "      <th>2</th>\n",
       "      <td>NaN</td>\n",
       "      <td>NaN</td>\n",
       "      <td>NaN</td>\n",
       "      <td>-1.0</td>\n",
       "      <td>Pre-Motor Cortex, dorsal</td>\n",
       "      <td>1000Hz</td>\n",
       "      <td>1 pynwb.ecephys.ElectrodeGroup at 0x5833167120\\nFields:\\n  description: array corresponding to device implanted at PMd\\n  device: Utah Array(PMd) pynwb.device.Device at 0x5833210128\\nFields:\\n  description: 96 channel utah array\\n  manufacturer: BlackRock Microsystems\\n\\n  location: Caudal, dorsal Pre-motor cortex, Left hemisphere\\n</td>\n",
       "      <td>1</td>\n",
       "      <td>1.0</td>\n",
       "      <td>0.0</td>\n",
       "    </tr>\n",
       "    <tr>\n",
       "      <th>3</th>\n",
       "      <td>NaN</td>\n",
       "      <td>NaN</td>\n",
       "      <td>NaN</td>\n",
       "      <td>-1.0</td>\n",
       "      <td>Pre-Motor Cortex, dorsal</td>\n",
       "      <td>1000Hz</td>\n",
       "      <td>1 pynwb.ecephys.ElectrodeGroup at 0x5833167120\\nFields:\\n  description: array corresponding to device implanted at PMd\\n  device: Utah Array(PMd) pynwb.device.Device at 0x5833210128\\nFields:\\n  description: 96 channel utah array\\n  manufacturer: BlackRock Microsystems\\n\\n  location: Caudal, dorsal Pre-motor cortex, Left hemisphere\\n</td>\n",
       "      <td>1</td>\n",
       "      <td>1.0</td>\n",
       "      <td>0.0</td>\n",
       "    </tr>\n",
       "    <tr>\n",
       "      <th>4</th>\n",
       "      <td>NaN</td>\n",
       "      <td>NaN</td>\n",
       "      <td>NaN</td>\n",
       "      <td>-1.0</td>\n",
       "      <td>Pre-Motor Cortex, dorsal</td>\n",
       "      <td>1000Hz</td>\n",
       "      <td>1 pynwb.ecephys.ElectrodeGroup at 0x5833167120\\nFields:\\n  description: array corresponding to device implanted at PMd\\n  device: Utah Array(PMd) pynwb.device.Device at 0x5833210128\\nFields:\\n  description: 96 channel utah array\\n  manufacturer: BlackRock Microsystems\\n\\n  location: Caudal, dorsal Pre-motor cortex, Left hemisphere\\n</td>\n",
       "      <td>1</td>\n",
       "      <td>1.0</td>\n",
       "      <td>0.0</td>\n",
       "    </tr>\n",
       "  </tbody>\n",
       "</table><p>... and 188 more rows.</p></details></details><details><summary style=\"display: list-item; margin-left: 0px;\" class=\"container-fields field-key\" title=\".electrode_groups\"><b>electrode_groups</b></summary><details><summary style=\"display: list-item; margin-left: 20px;\" class=\"container-fields field-key\" title=\".electrode_groups['1']\"><b>1</b></summary><div style=\"margin-left: 40px;\" class=\"container-fields\"><span class=\"field-key\" title=\".electrode_groups['1'].description\">description: </span><span class=\"field-value\">array corresponding to device implanted at PMd</span></div><div style=\"margin-left: 40px;\" class=\"container-fields\"><span class=\"field-key\" title=\".electrode_groups['1'].location\">location: </span><span class=\"field-value\">Caudal, dorsal Pre-motor cortex, Left hemisphere</span></div><details><summary style=\"display: list-item; margin-left: 40px;\" class=\"container-fields field-key\" title=\".electrode_groups['1'].device\"><b>device</b></summary><div style=\"margin-left: 60px;\" class=\"container-fields\"><span class=\"field-key\" title=\".electrode_groups['1'].device.description\">description: </span><span class=\"field-value\">96 channel utah array</span></div><div style=\"margin-left: 60px;\" class=\"container-fields\"><span class=\"field-key\" title=\".electrode_groups['1'].device.manufacturer\">manufacturer: </span><span class=\"field-value\">BlackRock Microsystems</span></div></details></details><details><summary style=\"display: list-item; margin-left: 20px;\" class=\"container-fields field-key\" title=\".electrode_groups['2']\"><b>2</b></summary><div style=\"margin-left: 40px;\" class=\"container-fields\"><span class=\"field-key\" title=\".electrode_groups['2'].description\">description: </span><span class=\"field-value\">array corresponding to device implanted at M1</span></div><div style=\"margin-left: 40px;\" class=\"container-fields\"><span class=\"field-key\" title=\".electrode_groups['2'].location\">location: </span><span class=\"field-value\">M1 in Motor Cortex, left hemisphere</span></div><details><summary style=\"display: list-item; margin-left: 40px;\" class=\"container-fields field-key\" title=\".electrode_groups['2'].device\"><b>device</b></summary><div style=\"margin-left: 60px;\" class=\"container-fields\"><span class=\"field-key\" title=\".electrode_groups['2'].device.description\">description: </span><span class=\"field-value\">96 channel utah array</span></div><div style=\"margin-left: 60px;\" class=\"container-fields\"><span class=\"field-key\" title=\".electrode_groups['2'].device.manufacturer\">manufacturer: </span><span class=\"field-value\">BlackRock Microsystems</span></div></details></details></details><details><summary style=\"display: list-item; margin-left: 0px;\" class=\"container-fields field-key\" title=\".devices\"><b>devices</b></summary><details><summary style=\"display: list-item; margin-left: 20px;\" class=\"container-fields field-key\" title=\".devices['Utah Array(M1)']\"><b>Utah Array(M1)</b></summary><div style=\"margin-left: 40px;\" class=\"container-fields\"><span class=\"field-key\" title=\".devices['Utah Array(M1)'].description\">description: </span><span class=\"field-value\">96 channel utah array</span></div><div style=\"margin-left: 40px;\" class=\"container-fields\"><span class=\"field-key\" title=\".devices['Utah Array(M1)'].manufacturer\">manufacturer: </span><span class=\"field-value\">BlackRock Microsystems</span></div></details><details><summary style=\"display: list-item; margin-left: 20px;\" class=\"container-fields field-key\" title=\".devices['Utah Array(PMd)']\"><b>Utah Array(PMd)</b></summary><div style=\"margin-left: 40px;\" class=\"container-fields\"><span class=\"field-key\" title=\".devices['Utah Array(PMd)'].description\">description: </span><span class=\"field-value\">96 channel utah array</span></div><div style=\"margin-left: 40px;\" class=\"container-fields\"><span class=\"field-key\" title=\".devices['Utah Array(PMd)'].manufacturer\">manufacturer: </span><span class=\"field-value\">BlackRock Microsystems</span></div></details></details><details><summary style=\"display: list-item; margin-left: 0px;\" class=\"container-fields field-key\" title=\".intervals\"><b>intervals</b></summary><details><summary style=\"display: list-item; margin-left: 20px;\" class=\"container-fields field-key\" title=\".intervals['trials']\"><b>trials</b></summary><div style=\"margin-left: 40px;\" class=\"container-fields\"><span class=\"field-key\" title=\".intervals['trials']\">description: </span><span class=\"field-value\">experimental trials</span></div><details><summary style=\"display: list-item; margin-left: 40px;\" class=\"container-fields field-key\" title=\".intervals['trials']\"><b>table</b></summary><table border=\"1\" class=\"dataframe\">\n",
       "  <thead>\n",
       "    <tr style=\"text-align: right;\">\n",
       "      <th></th>\n",
       "      <th>start_time</th>\n",
       "      <th>stop_time</th>\n",
       "      <th>target_presentation_time</th>\n",
       "      <th>go_cue_time</th>\n",
       "      <th>reaction_time</th>\n",
       "      <th>move_begins_time</th>\n",
       "      <th>move_ends_time</th>\n",
       "      <th>discard_trial</th>\n",
       "      <th>task_success</th>\n",
       "      <th>trial_type</th>\n",
       "      <th>trial_version</th>\n",
       "      <th>proto_trial</th>\n",
       "      <th>maze_condition</th>\n",
       "      <th>correct_reach</th>\n",
       "      <th>maze_num_targets</th>\n",
       "      <th>maze_num_barriers</th>\n",
       "      <th>novel_maze</th>\n",
       "      <th>target_positions</th>\n",
       "      <th>frame_details</th>\n",
       "      <th>hit_target_position</th>\n",
       "      <th>target_size</th>\n",
       "      <th>barrier_info</th>\n",
       "      <th>timeseries</th>\n",
       "    </tr>\n",
       "    <tr>\n",
       "      <th>id</th>\n",
       "      <th></th>\n",
       "      <th></th>\n",
       "      <th></th>\n",
       "      <th></th>\n",
       "      <th></th>\n",
       "      <th></th>\n",
       "      <th></th>\n",
       "      <th></th>\n",
       "      <th></th>\n",
       "      <th></th>\n",
       "      <th></th>\n",
       "      <th></th>\n",
       "      <th></th>\n",
       "      <th></th>\n",
       "      <th></th>\n",
       "      <th></th>\n",
       "      <th></th>\n",
       "      <th></th>\n",
       "      <th></th>\n",
       "      <th></th>\n",
       "      <th></th>\n",
       "      <th></th>\n",
       "      <th></th>\n",
       "    </tr>\n",
       "  </thead>\n",
       "  <tbody>\n",
       "    <tr>\n",
       "      <th>0</th>\n",
       "      <td>4.707200</td>\n",
       "      <td>8.567133</td>\n",
       "      <td>5.570200</td>\n",
       "      <td>6.517200</td>\n",
       "      <td>0.335</td>\n",
       "      <td>6.819200</td>\n",
       "      <td>7.234200</td>\n",
       "      <td>0</td>\n",
       "      <td>1</td>\n",
       "      <td>0</td>\n",
       "      <td>0</td>\n",
       "      <td>0</td>\n",
       "      <td>0</td>\n",
       "      <td>0</td>\n",
       "      <td>1</td>\n",
       "      <td>2</td>\n",
       "      <td>1</td>\n",
       "      <td>[[-130, -57]]</td>\n",
       "      <td>[[[-200]], [[200]], [[-155]], [[155]], [[20]]]</td>\n",
       "      <td>[-130, -57]</td>\n",
       "      <td>13</td>\n",
       "      <td>[[-16.0, 96.0, 59.0, 22.0], [-62.0, -112.0, 43.0, 19.0]]</td>\n",
       "      <td>[(0, 3226, Eye pynwb.behavior.SpatialSeries at 0x5833251344\\nFields:\\n  comments: no comments\\n  conversion: nan\\n  data: &lt;HDF5 dataset \"data\": shape (8005321, 2), type \"&lt;f8\"&gt;\\n  description: no description\\n  interval: 1\\n  offset: 0.0\\n  reference_frame: screen center\\n  resolution: -1.0\\n  timestamps: &lt;HDF5 dataset \"timestamps\": shape (8005321,), type \"&lt;f8\"&gt;\\n  timestamps_unit: seconds\\n  unit: meters\\n), (0, 3226, Hand pynwb.behavior.SpatialSeries at 0x5833247824\\nFields:\\n  comments: no comments\\n  conversion: nan\\n  data: &lt;HDF5 dataset \"data\": shape (8005321, 2), type \"&lt;f8\"&gt;\\n  description: no description\\n  interval: 1\\n  offset: 0.0\\n  reference_frame: screen center\\n  resolution: -1.0\\n  timestamps: &lt;HDF5 dataset \"timestamps\": shape (8005321,), type \"&lt;f8\"&gt;\\n  timestamps_unit: seconds\\n  unit: meters\\n), (0, 3226, Cursor pynwb.behavior.SpatialSeries at 0x5832771024\\nFields:\\n  comments: no comments\\n  conversion: nan\\n  data: &lt;HDF5 dataset \"data\": shape (8005321, 2), type \"&lt;f8\"&gt;\\n  description: no description\\n  interval: 1\\n  offset: 0.0\\n  reference_frame: screen center\\n  resolution: -1.0\\n  timestamps: &lt;HDF5 dataset \"timestamps\": shape (8005321,), type \"&lt;f8\"&gt;\\n  timestamps_unit: seconds\\n  unit: meters\\n)]</td>\n",
       "    </tr>\n",
       "    <tr>\n",
       "      <th>1</th>\n",
       "      <td>9.407200</td>\n",
       "      <td>12.112167</td>\n",
       "      <td>10.172200</td>\n",
       "      <td>10.202200</td>\n",
       "      <td>0.305</td>\n",
       "      <td>10.479200</td>\n",
       "      <td>10.789200</td>\n",
       "      <td>0</td>\n",
       "      <td>1</td>\n",
       "      <td>0</td>\n",
       "      <td>0</td>\n",
       "      <td>0</td>\n",
       "      <td>0</td>\n",
       "      <td>0</td>\n",
       "      <td>1</td>\n",
       "      <td>2</td>\n",
       "      <td>1</td>\n",
       "      <td>[[120, 70]]</td>\n",
       "      <td>[[[-200]], [[200]], [[-155]], [[155]], [[20]]]</td>\n",
       "      <td>[120, 70]</td>\n",
       "      <td>13</td>\n",
       "      <td>[[-49.0, -59.0, 22.0, 53.0], [-33.0, -100.0, 55.0, 26.0]]</td>\n",
       "      <td>[(3226, 2081, Eye pynwb.behavior.SpatialSeries at 0x5833251344\\nFields:\\n  comments: no comments\\n  conversion: nan\\n  data: &lt;HDF5 dataset \"data\": shape (8005321, 2), type \"&lt;f8\"&gt;\\n  description: no description\\n  interval: 1\\n  offset: 0.0\\n  reference_frame: screen center\\n  resolution: -1.0\\n  timestamps: &lt;HDF5 dataset \"timestamps\": shape (8005321,), type \"&lt;f8\"&gt;\\n  timestamps_unit: seconds\\n  unit: meters\\n), (3226, 2081, Hand pynwb.behavior.SpatialSeries at 0x5833247824\\nFields:\\n  comments: no comments\\n  conversion: nan\\n  data: &lt;HDF5 dataset \"data\": shape (8005321, 2), type \"&lt;f8\"&gt;\\n  description: no description\\n  interval: 1\\n  offset: 0.0\\n  reference_frame: screen center\\n  resolution: -1.0\\n  timestamps: &lt;HDF5 dataset \"timestamps\": shape (8005321,), type \"&lt;f8\"&gt;\\n  timestamps_unit: seconds\\n  unit: meters\\n), (3226, 2081, Cursor pynwb.behavior.SpatialSeries at 0x5832771024\\nFields:\\n  comments: no comments\\n  conversion: nan\\n  data: &lt;HDF5 dataset \"data\": shape (8005321, 2), type \"&lt;f8\"&gt;\\n  description: no description\\n  interval: 1\\n  offset: 0.0\\n  reference_frame: screen center\\n  resolution: -1.0\\n  timestamps: &lt;HDF5 dataset \"timestamps\": shape (8005321,), type \"&lt;f8\"&gt;\\n  timestamps_unit: seconds\\n  unit: meters\\n)]</td>\n",
       "    </tr>\n",
       "    <tr>\n",
       "      <th>2</th>\n",
       "      <td>18.437233</td>\n",
       "      <td>21.972267</td>\n",
       "      <td>19.209233</td>\n",
       "      <td>19.857233</td>\n",
       "      <td>0.300</td>\n",
       "      <td>20.124233</td>\n",
       "      <td>20.584233</td>\n",
       "      <td>0</td>\n",
       "      <td>1</td>\n",
       "      <td>17</td>\n",
       "      <td>1</td>\n",
       "      <td>0</td>\n",
       "      <td>53</td>\n",
       "      <td>1</td>\n",
       "      <td>1</td>\n",
       "      <td>9</td>\n",
       "      <td>0</td>\n",
       "      <td>[[-77, 82]]</td>\n",
       "      <td>[[[-200]], [[200]], [[-155]], [[155]], [[20]]]</td>\n",
       "      <td>[-77, 82]</td>\n",
       "      <td>13</td>\n",
       "      <td>[[-33.0, 47.0, 6.0, 37.0], [-77.0, 48.0, 11.0, 61.0], [-64.0, -22.0, 66.0, 8.0], [-82.0, -115.0, 40.0, 5.0], [175.0, 107.0, 46.0, 11.0], [86.0, -40.0, 11.0, 20.0], [85.0, -96.0, 59.0, 6.0], [149.0, -18.0, 6.0, 51.0], [-76.0, -29.0, 40.0, 11.0]]</td>\n",
       "      <td>[(5307, 2846, Eye pynwb.behavior.SpatialSeries at 0x5833251344\\nFields:\\n  comments: no comments\\n  conversion: nan\\n  data: &lt;HDF5 dataset \"data\": shape (8005321, 2), type \"&lt;f8\"&gt;\\n  description: no description\\n  interval: 1\\n  offset: 0.0\\n  reference_frame: screen center\\n  resolution: -1.0\\n  timestamps: &lt;HDF5 dataset \"timestamps\": shape (8005321,), type \"&lt;f8\"&gt;\\n  timestamps_unit: seconds\\n  unit: meters\\n), (5307, 2846, Hand pynwb.behavior.SpatialSeries at 0x5833247824\\nFields:\\n  comments: no comments\\n  conversion: nan\\n  data: &lt;HDF5 dataset \"data\": shape (8005321, 2), type \"&lt;f8\"&gt;\\n  description: no description\\n  interval: 1\\n  offset: 0.0\\n  reference_frame: screen center\\n  resolution: -1.0\\n  timestamps: &lt;HDF5 dataset \"timestamps\": shape (8005321,), type \"&lt;f8\"&gt;\\n  timestamps_unit: seconds\\n  unit: meters\\n), (5307, 2846, Cursor pynwb.behavior.SpatialSeries at 0x5832771024\\nFields:\\n  comments: no comments\\n  conversion: nan\\n  data: &lt;HDF5 dataset \"data\": shape (8005321, 2), type \"&lt;f8\"&gt;\\n  description: no description\\n  interval: 1\\n  offset: 0.0\\n  reference_frame: screen center\\n  resolution: -1.0\\n  timestamps: &lt;HDF5 dataset \"timestamps\": shape (8005321,), type \"&lt;f8\"&gt;\\n  timestamps_unit: seconds\\n  unit: meters\\n)]</td>\n",
       "    </tr>\n",
       "    <tr>\n",
       "      <th>3</th>\n",
       "      <td>22.777233</td>\n",
       "      <td>26.007267</td>\n",
       "      <td>23.495233</td>\n",
       "      <td>23.959233</td>\n",
       "      <td>0.305</td>\n",
       "      <td>24.229233</td>\n",
       "      <td>24.644233</td>\n",
       "      <td>0</td>\n",
       "      <td>1</td>\n",
       "      <td>8</td>\n",
       "      <td>1</td>\n",
       "      <td>1</td>\n",
       "      <td>38</td>\n",
       "      <td>1</td>\n",
       "      <td>1</td>\n",
       "      <td>9</td>\n",
       "      <td>0</td>\n",
       "      <td>[[132, 56]]</td>\n",
       "      <td>[[[-200]], [[200]], [[-155]], [[155]], [[20]]]</td>\n",
       "      <td>[132, 56]</td>\n",
       "      <td>13</td>\n",
       "      <td>[[-82.0, -43.0, 8.0, 118.0], [145.0, -105.0, 11.0, 41.0], [82.0, 76.0, 40.0, 29.0], [84.0, 126.0, 29.0, 11.0], [28.0, -104.0, 46.0, 17.0], [-82.0, 82.0, 38.0, 9.0], [-160.0, 35.0, 19.0, 40.0], [-139.0, 130.0, 11.0, 43.0], [-91.0, 41.0, 6.0, 48.0]]</td>\n",
       "      <td>[(8153, 2566, Eye pynwb.behavior.SpatialSeries at 0x5833251344\\nFields:\\n  comments: no comments\\n  conversion: nan\\n  data: &lt;HDF5 dataset \"data\": shape (8005321, 2), type \"&lt;f8\"&gt;\\n  description: no description\\n  interval: 1\\n  offset: 0.0\\n  reference_frame: screen center\\n  resolution: -1.0\\n  timestamps: &lt;HDF5 dataset \"timestamps\": shape (8005321,), type \"&lt;f8\"&gt;\\n  timestamps_unit: seconds\\n  unit: meters\\n), (8153, 2566, Hand pynwb.behavior.SpatialSeries at 0x5833247824\\nFields:\\n  comments: no comments\\n  conversion: nan\\n  data: &lt;HDF5 dataset \"data\": shape (8005321, 2), type \"&lt;f8\"&gt;\\n  description: no description\\n  interval: 1\\n  offset: 0.0\\n  reference_frame: screen center\\n  resolution: -1.0\\n  timestamps: &lt;HDF5 dataset \"timestamps\": shape (8005321,), type \"&lt;f8\"&gt;\\n  timestamps_unit: seconds\\n  unit: meters\\n), (8153, 2566, Cursor pynwb.behavior.SpatialSeries at 0x5832771024\\nFields:\\n  comments: no comments\\n  conversion: nan\\n  data: &lt;HDF5 dataset \"data\": shape (8005321, 2), type \"&lt;f8\"&gt;\\n  description: no description\\n  interval: 1\\n  offset: 0.0\\n  reference_frame: screen center\\n  resolution: -1.0\\n  timestamps: &lt;HDF5 dataset \"timestamps\": shape (8005321,), type \"&lt;f8\"&gt;\\n  timestamps_unit: seconds\\n  unit: meters\\n)]</td>\n",
       "    </tr>\n",
       "  </tbody>\n",
       "</table><p>... and 2632 more rows.</p></details></details></details><details><summary style=\"display: list-item; margin-left: 0px;\" class=\"container-fields field-key\" title=\".subject\"><b>subject</b></summary><div style=\"margin-left: 20px;\" class=\"container-fields\"><span class=\"field-key\" title=\".subject.sex\">sex: </span><span class=\"field-value\">M</span></div><div style=\"margin-left: 20px;\" class=\"container-fields\"><span class=\"field-key\" title=\".subject.species\">species: </span><span class=\"field-value\">Macaca mulatta</span></div><div style=\"margin-left: 20px;\" class=\"container-fields\"><span class=\"field-key\" title=\".subject.subject_id\">subject_id: </span><span class=\"field-value\">Jenkins</span></div></details><details><summary style=\"display: list-item; margin-left: 0px;\" class=\"container-fields field-key\" title=\".trials\"><b>trials</b></summary><div style=\"margin-left: 20px;\" class=\"container-fields\"><span class=\"field-key\" title=\".trials\">description: </span><span class=\"field-value\">experimental trials</span></div><details><summary style=\"display: list-item; margin-left: 20px;\" class=\"container-fields field-key\" title=\".trials\"><b>table</b></summary><table border=\"1\" class=\"dataframe\">\n",
       "  <thead>\n",
       "    <tr style=\"text-align: right;\">\n",
       "      <th></th>\n",
       "      <th>start_time</th>\n",
       "      <th>stop_time</th>\n",
       "      <th>target_presentation_time</th>\n",
       "      <th>go_cue_time</th>\n",
       "      <th>reaction_time</th>\n",
       "      <th>move_begins_time</th>\n",
       "      <th>move_ends_time</th>\n",
       "      <th>discard_trial</th>\n",
       "      <th>task_success</th>\n",
       "      <th>trial_type</th>\n",
       "      <th>trial_version</th>\n",
       "      <th>proto_trial</th>\n",
       "      <th>maze_condition</th>\n",
       "      <th>correct_reach</th>\n",
       "      <th>maze_num_targets</th>\n",
       "      <th>maze_num_barriers</th>\n",
       "      <th>novel_maze</th>\n",
       "      <th>target_positions</th>\n",
       "      <th>frame_details</th>\n",
       "      <th>hit_target_position</th>\n",
       "      <th>target_size</th>\n",
       "      <th>barrier_info</th>\n",
       "      <th>timeseries</th>\n",
       "    </tr>\n",
       "    <tr>\n",
       "      <th>id</th>\n",
       "      <th></th>\n",
       "      <th></th>\n",
       "      <th></th>\n",
       "      <th></th>\n",
       "      <th></th>\n",
       "      <th></th>\n",
       "      <th></th>\n",
       "      <th></th>\n",
       "      <th></th>\n",
       "      <th></th>\n",
       "      <th></th>\n",
       "      <th></th>\n",
       "      <th></th>\n",
       "      <th></th>\n",
       "      <th></th>\n",
       "      <th></th>\n",
       "      <th></th>\n",
       "      <th></th>\n",
       "      <th></th>\n",
       "      <th></th>\n",
       "      <th></th>\n",
       "      <th></th>\n",
       "      <th></th>\n",
       "    </tr>\n",
       "  </thead>\n",
       "  <tbody>\n",
       "    <tr>\n",
       "      <th>0</th>\n",
       "      <td>4.707200</td>\n",
       "      <td>8.567133</td>\n",
       "      <td>5.570200</td>\n",
       "      <td>6.517200</td>\n",
       "      <td>0.335</td>\n",
       "      <td>6.819200</td>\n",
       "      <td>7.234200</td>\n",
       "      <td>0</td>\n",
       "      <td>1</td>\n",
       "      <td>0</td>\n",
       "      <td>0</td>\n",
       "      <td>0</td>\n",
       "      <td>0</td>\n",
       "      <td>0</td>\n",
       "      <td>1</td>\n",
       "      <td>2</td>\n",
       "      <td>1</td>\n",
       "      <td>[[-130, -57]]</td>\n",
       "      <td>[[[-200]], [[200]], [[-155]], [[155]], [[20]]]</td>\n",
       "      <td>[-130, -57]</td>\n",
       "      <td>13</td>\n",
       "      <td>[[-16.0, 96.0, 59.0, 22.0], [-62.0, -112.0, 43.0, 19.0]]</td>\n",
       "      <td>[(0, 3226, Eye pynwb.behavior.SpatialSeries at 0x5833251344\\nFields:\\n  comments: no comments\\n  conversion: nan\\n  data: &lt;HDF5 dataset \"data\": shape (8005321, 2), type \"&lt;f8\"&gt;\\n  description: no description\\n  interval: 1\\n  offset: 0.0\\n  reference_frame: screen center\\n  resolution: -1.0\\n  timestamps: &lt;HDF5 dataset \"timestamps\": shape (8005321,), type \"&lt;f8\"&gt;\\n  timestamps_unit: seconds\\n  unit: meters\\n), (0, 3226, Hand pynwb.behavior.SpatialSeries at 0x5833247824\\nFields:\\n  comments: no comments\\n  conversion: nan\\n  data: &lt;HDF5 dataset \"data\": shape (8005321, 2), type \"&lt;f8\"&gt;\\n  description: no description\\n  interval: 1\\n  offset: 0.0\\n  reference_frame: screen center\\n  resolution: -1.0\\n  timestamps: &lt;HDF5 dataset \"timestamps\": shape (8005321,), type \"&lt;f8\"&gt;\\n  timestamps_unit: seconds\\n  unit: meters\\n), (0, 3226, Cursor pynwb.behavior.SpatialSeries at 0x5832771024\\nFields:\\n  comments: no comments\\n  conversion: nan\\n  data: &lt;HDF5 dataset \"data\": shape (8005321, 2), type \"&lt;f8\"&gt;\\n  description: no description\\n  interval: 1\\n  offset: 0.0\\n  reference_frame: screen center\\n  resolution: -1.0\\n  timestamps: &lt;HDF5 dataset \"timestamps\": shape (8005321,), type \"&lt;f8\"&gt;\\n  timestamps_unit: seconds\\n  unit: meters\\n)]</td>\n",
       "    </tr>\n",
       "    <tr>\n",
       "      <th>1</th>\n",
       "      <td>9.407200</td>\n",
       "      <td>12.112167</td>\n",
       "      <td>10.172200</td>\n",
       "      <td>10.202200</td>\n",
       "      <td>0.305</td>\n",
       "      <td>10.479200</td>\n",
       "      <td>10.789200</td>\n",
       "      <td>0</td>\n",
       "      <td>1</td>\n",
       "      <td>0</td>\n",
       "      <td>0</td>\n",
       "      <td>0</td>\n",
       "      <td>0</td>\n",
       "      <td>0</td>\n",
       "      <td>1</td>\n",
       "      <td>2</td>\n",
       "      <td>1</td>\n",
       "      <td>[[120, 70]]</td>\n",
       "      <td>[[[-200]], [[200]], [[-155]], [[155]], [[20]]]</td>\n",
       "      <td>[120, 70]</td>\n",
       "      <td>13</td>\n",
       "      <td>[[-49.0, -59.0, 22.0, 53.0], [-33.0, -100.0, 55.0, 26.0]]</td>\n",
       "      <td>[(3226, 2081, Eye pynwb.behavior.SpatialSeries at 0x5833251344\\nFields:\\n  comments: no comments\\n  conversion: nan\\n  data: &lt;HDF5 dataset \"data\": shape (8005321, 2), type \"&lt;f8\"&gt;\\n  description: no description\\n  interval: 1\\n  offset: 0.0\\n  reference_frame: screen center\\n  resolution: -1.0\\n  timestamps: &lt;HDF5 dataset \"timestamps\": shape (8005321,), type \"&lt;f8\"&gt;\\n  timestamps_unit: seconds\\n  unit: meters\\n), (3226, 2081, Hand pynwb.behavior.SpatialSeries at 0x5833247824\\nFields:\\n  comments: no comments\\n  conversion: nan\\n  data: &lt;HDF5 dataset \"data\": shape (8005321, 2), type \"&lt;f8\"&gt;\\n  description: no description\\n  interval: 1\\n  offset: 0.0\\n  reference_frame: screen center\\n  resolution: -1.0\\n  timestamps: &lt;HDF5 dataset \"timestamps\": shape (8005321,), type \"&lt;f8\"&gt;\\n  timestamps_unit: seconds\\n  unit: meters\\n), (3226, 2081, Cursor pynwb.behavior.SpatialSeries at 0x5832771024\\nFields:\\n  comments: no comments\\n  conversion: nan\\n  data: &lt;HDF5 dataset \"data\": shape (8005321, 2), type \"&lt;f8\"&gt;\\n  description: no description\\n  interval: 1\\n  offset: 0.0\\n  reference_frame: screen center\\n  resolution: -1.0\\n  timestamps: &lt;HDF5 dataset \"timestamps\": shape (8005321,), type \"&lt;f8\"&gt;\\n  timestamps_unit: seconds\\n  unit: meters\\n)]</td>\n",
       "    </tr>\n",
       "    <tr>\n",
       "      <th>2</th>\n",
       "      <td>18.437233</td>\n",
       "      <td>21.972267</td>\n",
       "      <td>19.209233</td>\n",
       "      <td>19.857233</td>\n",
       "      <td>0.300</td>\n",
       "      <td>20.124233</td>\n",
       "      <td>20.584233</td>\n",
       "      <td>0</td>\n",
       "      <td>1</td>\n",
       "      <td>17</td>\n",
       "      <td>1</td>\n",
       "      <td>0</td>\n",
       "      <td>53</td>\n",
       "      <td>1</td>\n",
       "      <td>1</td>\n",
       "      <td>9</td>\n",
       "      <td>0</td>\n",
       "      <td>[[-77, 82]]</td>\n",
       "      <td>[[[-200]], [[200]], [[-155]], [[155]], [[20]]]</td>\n",
       "      <td>[-77, 82]</td>\n",
       "      <td>13</td>\n",
       "      <td>[[-33.0, 47.0, 6.0, 37.0], [-77.0, 48.0, 11.0, 61.0], [-64.0, -22.0, 66.0, 8.0], [-82.0, -115.0, 40.0, 5.0], [175.0, 107.0, 46.0, 11.0], [86.0, -40.0, 11.0, 20.0], [85.0, -96.0, 59.0, 6.0], [149.0, -18.0, 6.0, 51.0], [-76.0, -29.0, 40.0, 11.0]]</td>\n",
       "      <td>[(5307, 2846, Eye pynwb.behavior.SpatialSeries at 0x5833251344\\nFields:\\n  comments: no comments\\n  conversion: nan\\n  data: &lt;HDF5 dataset \"data\": shape (8005321, 2), type \"&lt;f8\"&gt;\\n  description: no description\\n  interval: 1\\n  offset: 0.0\\n  reference_frame: screen center\\n  resolution: -1.0\\n  timestamps: &lt;HDF5 dataset \"timestamps\": shape (8005321,), type \"&lt;f8\"&gt;\\n  timestamps_unit: seconds\\n  unit: meters\\n), (5307, 2846, Hand pynwb.behavior.SpatialSeries at 0x5833247824\\nFields:\\n  comments: no comments\\n  conversion: nan\\n  data: &lt;HDF5 dataset \"data\": shape (8005321, 2), type \"&lt;f8\"&gt;\\n  description: no description\\n  interval: 1\\n  offset: 0.0\\n  reference_frame: screen center\\n  resolution: -1.0\\n  timestamps: &lt;HDF5 dataset \"timestamps\": shape (8005321,), type \"&lt;f8\"&gt;\\n  timestamps_unit: seconds\\n  unit: meters\\n), (5307, 2846, Cursor pynwb.behavior.SpatialSeries at 0x5832771024\\nFields:\\n  comments: no comments\\n  conversion: nan\\n  data: &lt;HDF5 dataset \"data\": shape (8005321, 2), type \"&lt;f8\"&gt;\\n  description: no description\\n  interval: 1\\n  offset: 0.0\\n  reference_frame: screen center\\n  resolution: -1.0\\n  timestamps: &lt;HDF5 dataset \"timestamps\": shape (8005321,), type \"&lt;f8\"&gt;\\n  timestamps_unit: seconds\\n  unit: meters\\n)]</td>\n",
       "    </tr>\n",
       "    <tr>\n",
       "      <th>3</th>\n",
       "      <td>22.777233</td>\n",
       "      <td>26.007267</td>\n",
       "      <td>23.495233</td>\n",
       "      <td>23.959233</td>\n",
       "      <td>0.305</td>\n",
       "      <td>24.229233</td>\n",
       "      <td>24.644233</td>\n",
       "      <td>0</td>\n",
       "      <td>1</td>\n",
       "      <td>8</td>\n",
       "      <td>1</td>\n",
       "      <td>1</td>\n",
       "      <td>38</td>\n",
       "      <td>1</td>\n",
       "      <td>1</td>\n",
       "      <td>9</td>\n",
       "      <td>0</td>\n",
       "      <td>[[132, 56]]</td>\n",
       "      <td>[[[-200]], [[200]], [[-155]], [[155]], [[20]]]</td>\n",
       "      <td>[132, 56]</td>\n",
       "      <td>13</td>\n",
       "      <td>[[-82.0, -43.0, 8.0, 118.0], [145.0, -105.0, 11.0, 41.0], [82.0, 76.0, 40.0, 29.0], [84.0, 126.0, 29.0, 11.0], [28.0, -104.0, 46.0, 17.0], [-82.0, 82.0, 38.0, 9.0], [-160.0, 35.0, 19.0, 40.0], [-139.0, 130.0, 11.0, 43.0], [-91.0, 41.0, 6.0, 48.0]]</td>\n",
       "      <td>[(8153, 2566, Eye pynwb.behavior.SpatialSeries at 0x5833251344\\nFields:\\n  comments: no comments\\n  conversion: nan\\n  data: &lt;HDF5 dataset \"data\": shape (8005321, 2), type \"&lt;f8\"&gt;\\n  description: no description\\n  interval: 1\\n  offset: 0.0\\n  reference_frame: screen center\\n  resolution: -1.0\\n  timestamps: &lt;HDF5 dataset \"timestamps\": shape (8005321,), type \"&lt;f8\"&gt;\\n  timestamps_unit: seconds\\n  unit: meters\\n), (8153, 2566, Hand pynwb.behavior.SpatialSeries at 0x5833247824\\nFields:\\n  comments: no comments\\n  conversion: nan\\n  data: &lt;HDF5 dataset \"data\": shape (8005321, 2), type \"&lt;f8\"&gt;\\n  description: no description\\n  interval: 1\\n  offset: 0.0\\n  reference_frame: screen center\\n  resolution: -1.0\\n  timestamps: &lt;HDF5 dataset \"timestamps\": shape (8005321,), type \"&lt;f8\"&gt;\\n  timestamps_unit: seconds\\n  unit: meters\\n), (8153, 2566, Cursor pynwb.behavior.SpatialSeries at 0x5832771024\\nFields:\\n  comments: no comments\\n  conversion: nan\\n  data: &lt;HDF5 dataset \"data\": shape (8005321, 2), type \"&lt;f8\"&gt;\\n  description: no description\\n  interval: 1\\n  offset: 0.0\\n  reference_frame: screen center\\n  resolution: -1.0\\n  timestamps: &lt;HDF5 dataset \"timestamps\": shape (8005321,), type \"&lt;f8\"&gt;\\n  timestamps_unit: seconds\\n  unit: meters\\n)]</td>\n",
       "    </tr>\n",
       "  </tbody>\n",
       "</table><p>... and 2632 more rows.</p></details></details><details><summary style=\"display: list-item; margin-left: 0px;\" class=\"container-fields field-key\" title=\".units\"><b>units</b></summary><div style=\"margin-left: 20px;\" class=\"container-fields\"><span class=\"field-key\" title=\".units\">description: </span><span class=\"field-value\">Autogenerated by NWBFile</span></div><div style=\"margin-left: 20px;\" class=\"container-fields\"><span class=\"field-key\" title=\".units\">waveform_unit: </span><span class=\"field-value\">volts</span></div><details><summary style=\"display: list-item; margin-left: 20px;\" class=\"container-fields field-key\" title=\".units\"><b>table</b></summary><table border=\"1\" class=\"dataframe\">\n",
       "  <thead>\n",
       "    <tr style=\"text-align: right;\">\n",
       "      <th></th>\n",
       "      <th>spike_times</th>\n",
       "      <th>obs_intervals</th>\n",
       "      <th>electrodes</th>\n",
       "      <th>electrode_group</th>\n",
       "    </tr>\n",
       "    <tr>\n",
       "      <th>id</th>\n",
       "      <th></th>\n",
       "      <th></th>\n",
       "      <th></th>\n",
       "      <th></th>\n",
       "    </tr>\n",
       "  </thead>\n",
       "  <tbody>\n",
       "    <tr>\n",
       "      <th>0</th>\n",
       "      <td>[4.863466666666667, 4.8950000000000005, 4.934, 4.9394, 4.9549666666666665, 4.9638333333333335, 5.094966666666667, 5.098566666666667, 5.105433333333334, 5.110966666666667, 5.217666666666667, 5.2916, 5.317633333333333, 5.348733333333334, 5.368733333333334, 5.454766666666667, 5.597033333333334, 5.8338, 5.8419, 5.902633333333333, 5.914066666666667, 5.9373000000000005, 5.978233333333334, 6.059366666666667, 6.084433333333334, 6.221866666666667, 6.2462333333333335, 6.382633333333334, 6.435300000000001, 6.5086, 6.599966666666667, 6.610533333333334, 6.690666666666667, 6.810933333333334, 6.851100000000001, 6.913233333333333, 7.130266666666667, 7.140166666666667, 7.244866666666667, 7.406766666666667, 7.421833333333334, 7.455166666666667, 7.555766666666667, 7.615733333333334, 7.6512, 7.705900000000001, 7.7359333333333336, 7.942833333333334, 7.975033333333334, 8.017033333333334, 8.057333333333334, 8.080733333333333, 8.161266666666666, 8.180366666666668, 8.1987, 8.213133333333333, 8.294733333333333, 8.330433333333334, 8.348666666666666, 9.471833333333334, 9.854833333333334, 9.878033333333335, 10.036833333333334, 10.106200000000001, 10.166533333333334, 10.2315, 10.325366666666667, 10.395533333333335, 10.5382, 10.669933333333335, 10.716333333333333, 10.742666666666667, 10.820533333333334, 10.8397, 11.0723, 11.138766666666667, 11.2591, 11.301566666666668, 11.488800000000001, 11.529566666666668, 11.536833333333334, 11.543366666666667, 11.588066666666668, 11.611933333333335, 11.635766666666667, 11.640166666666667, 11.641966666666667, 11.652933333333333, 11.891233333333334, 12.018733333333333, 12.0205, 18.612533333333335, 18.636133333333333, 18.799866666666667, 18.801533333333335, 18.855633333333333, 18.881800000000002, 18.900033333333333, 18.934733333333334, 18.987133333333333, ...]</td>\n",
       "      <td>[[4.7072, 8.567133333333334], [9.407200000000001, 12.112166666666667], [18.437233333333335, 21.972266666666666], [22.777233333333335, 26.007266666666666], [26.93726666666667, 30.31726666666667], [31.207233333333335, 35.38276666666667], [36.09226666666667, 39.55226666666667], [40.432300000000005, 43.9123], [44.947300000000006, 48.347100000000005], [49.152300000000004, 52.847166666666666], [53.557300000000005, 57.1773], [57.967333333333336, 61.257200000000005], [61.84733333333334, 65.1923], [71.57746666666667, 75.4581], [76.34746666666668, 80.74233333333333], [81.43236666666667, 84.8822], [85.7475, 89.34303333333334], [90.0874, 93.8823], [94.71253333333334, 97.89816666666667], [98.78253333333333, 102.33316666666667], [108.3375, 111.8173], [112.5078, 117.20736666666667], [118.0676, 121.89793333333334], [122.64250000000001, 126.33246666666668], [127.21260000000001, 130.16266666666667], [130.9126, 133.98260000000002], [134.78773333333334, 137.84786666666668], [138.53776666666667, 141.6825], [142.46263333333334, 145.9283], [146.80253333333334, 150.14733333333334], [150.96766666666667, 154.74266666666668], [155.55256666666668, 159.69743333333335], [160.4677, 164.70756666666668], [165.40756666666667, 168.65236666666667], [169.57770000000002, 173.39766666666668], [174.11260000000001, 178.22246666666666], [187.06763333333333, 190.18263333333334], [191.09263333333334, 195.023], [197.33290000000002, 201.02246666666667], [201.7626666666667, 205.12263333333334], [207.46793333333335, 210.7725], [211.55780000000001, 215.3428], [216.02280000000002, 219.95846666666668], [220.69283333333334, 224.49283333333335], [225.23273333333336, 228.2876], [229.1077666666667, 232.63253333333336], [233.3578, 236.8825666666667], [237.8028666666667, 241.30283333333335], [242.1427666666667, 245.88326666666669], [246.90303333333335, 250.6776], [251.5129, 255.39790000000002], [257.22803333333337, 260.9578], [261.7078333333333, 265.0378], [265.8079666666667, 269.16793333333334], [270.0278333333333, 274.14833333333337], [274.8479666666667, 278.3829666666667], [279.10786666666667, 282.3378666666667], [283.183, 287.053], [287.84790000000004, 290.9427], [291.74786666666665, 294.9429], [295.82800000000003, 299.3683666666667], [300.08293333333336, 302.96270000000004], [303.82803333333334, 307.36803333333336], [308.25793333333337, 311.28773333333334], [312.1779333333333, 315.85793333333334], [316.6779333333333, 320.4279666666667], [321.1980666666667, 324.7581], [325.51796666666667, 328.5878666666667], [330.87823333333336, 334.4128666666667], [335.4182333333334, 338.5528], [339.32800000000003, 342.553], [343.37800000000004, 347.10790000000003], [347.78813333333335, 351.53813333333335], [352.4630333333333, 356.5879], [357.33816666666667, 361.2581666666667], [362.12803333333335, 365.8681], [367.7833, 371.25793333333337], [372.2080666666667, 375.3681], [377.7333666666667, 381.33860000000004], [386.17813333333334, 389.99350000000004], [390.9583666666667, 394.08793333333335], [395.21816666666666, 398.648], [399.4431666666667, 402.92803333333336], [403.7582666666667, 407.63890000000004], [413.0982, 416.5532], [417.26320000000004, 421.1331666666667], [421.9133, 425.58833333333337], [426.4232, 429.97810000000004], [431.1433666666667, 434.5389666666667], [435.93826666666666, 439.52323333333334], [440.52333333333337, 444.05333333333334], [444.8733666666667, 448.7033666666667], [449.50326666666666, 453.16330000000005], [454.15340000000003, 457.84340000000003], [458.52840000000003, 461.9490333333334], [462.6784, 466.21340000000004], [467.0333, 470.4332], [471.18333333333334, 474.04333333333335], [474.78843333333333, 479.37330000000003], [480.21333333333337, 483.7133666666667], ...]</td>\n",
       "      <td>[0]</td>\n",
       "      <td>1 pynwb.ecephys.ElectrodeGroup at 0x5833167120\\nFields:\\n  description: array corresponding to device implanted at PMd\\n  device: Utah Array(PMd) pynwb.device.Device at 0x5833210128\\nFields:\\n  description: 96 channel utah array\\n  manufacturer: BlackRock Microsystems\\n\\n  location: Caudal, dorsal Pre-motor cortex, Left hemisphere\\n</td>\n",
       "    </tr>\n",
       "    <tr>\n",
       "      <th>1</th>\n",
       "      <td>[4259.096533333333, 4259.1847333333335, 4259.205933333334, 4259.208533333333, 4259.316366666667, 4259.337500000001, 4259.372866666667, 4259.440633333334, 4259.486066666667, 4259.544366666667, 4259.546833333334, 4259.571733333333, 4259.577833333334, 4259.584766666667, 4259.6141333333335, 4259.673666666667, 4259.7037, 4259.712166666667, 4259.7469, 4259.7752, 4259.8015000000005, 4259.808533333334, 4259.8199, 4259.844433333334, 4259.847233333334, 4259.8639, 4259.946766666667, 4259.999466666667, 4260.002466666667, 4260.036133333334, 4260.044266666667, 4260.0525, 4260.123666666667, 4260.180633333333, 4260.247766666667, 4260.278333333334, 4260.304866666667, 4260.3148, 4260.328666666667, 4260.3350666666665, 4260.4020666666665, 4260.437966666667, 4260.4492, 4260.450833333333, 4260.508866666667, 4260.5106000000005, 4260.5490666666665, 4260.561766666667, 4260.5776000000005, 4260.630066666667, 4260.751133333333, 4260.827233333333, 4260.9263, 4261.031666666667, 4261.036266666667, 4261.115433333333, 4261.143466666666, 4261.180033333333, 4261.249533333334, 4261.287533333333, 4261.3304, 4261.349233333333, 4261.404866666667, 4261.502533333333, 4261.550633333333, 4261.5589, 4261.5742, 4261.618133333333, 4262.717066666667, 4262.828466666667, 4262.846633333334, 4262.866566666667, 4262.902366666667, 4262.914866666667, 4262.925233333333, 4263.0212, 4263.075133333334, 4263.136566666667, 4263.249400000001, 4263.252166666667, 4263.2607, 4263.273366666667, 4263.328833333334, 4263.415566666667, 4263.474233333333, 4263.561900000001, 4263.582, 4263.634133333334, 4263.6508, 4263.6564, 4263.712266666666, 4263.733166666667, 4263.7525000000005, 4263.867033333334, 4263.8723666666665, 4263.891866666667, 4263.9159666666665, 4263.939866666667, 4264.0329, 4264.0382, ...]</td>\n",
       "      <td>[[4.7072, 8.567133333333334], [9.407200000000001, 12.112166666666667], [18.437233333333335, 21.972266666666666], [22.777233333333335, 26.007266666666666], [26.93726666666667, 30.31726666666667], [31.207233333333335, 35.38276666666667], [36.09226666666667, 39.55226666666667], [40.432300000000005, 43.9123], [44.947300000000006, 48.347100000000005], [49.152300000000004, 52.847166666666666], [53.557300000000005, 57.1773], [57.967333333333336, 61.257200000000005], [61.84733333333334, 65.1923], [71.57746666666667, 75.4581], [76.34746666666668, 80.74233333333333], [81.43236666666667, 84.8822], [85.7475, 89.34303333333334], [90.0874, 93.8823], [94.71253333333334, 97.89816666666667], [98.78253333333333, 102.33316666666667], [108.3375, 111.8173], [112.5078, 117.20736666666667], [118.0676, 121.89793333333334], [122.64250000000001, 126.33246666666668], [127.21260000000001, 130.16266666666667], [130.9126, 133.98260000000002], [134.78773333333334, 137.84786666666668], [138.53776666666667, 141.6825], [142.46263333333334, 145.9283], [146.80253333333334, 150.14733333333334], [150.96766666666667, 154.74266666666668], [155.55256666666668, 159.69743333333335], [160.4677, 164.70756666666668], [165.40756666666667, 168.65236666666667], [169.57770000000002, 173.39766666666668], [174.11260000000001, 178.22246666666666], [187.06763333333333, 190.18263333333334], [191.09263333333334, 195.023], [197.33290000000002, 201.02246666666667], [201.7626666666667, 205.12263333333334], [207.46793333333335, 210.7725], [211.55780000000001, 215.3428], [216.02280000000002, 219.95846666666668], [220.69283333333334, 224.49283333333335], [225.23273333333336, 228.2876], [229.1077666666667, 232.63253333333336], [233.3578, 236.8825666666667], [237.8028666666667, 241.30283333333335], [242.1427666666667, 245.88326666666669], [246.90303333333335, 250.6776], [251.5129, 255.39790000000002], [257.22803333333337, 260.9578], [261.7078333333333, 265.0378], [265.8079666666667, 269.16793333333334], [270.0278333333333, 274.14833333333337], [274.8479666666667, 278.3829666666667], [279.10786666666667, 282.3378666666667], [283.183, 287.053], [287.84790000000004, 290.9427], [291.74786666666665, 294.9429], [295.82800000000003, 299.3683666666667], [300.08293333333336, 302.96270000000004], [303.82803333333334, 307.36803333333336], [308.25793333333337, 311.28773333333334], [312.1779333333333, 315.85793333333334], [316.6779333333333, 320.4279666666667], [321.1980666666667, 324.7581], [325.51796666666667, 328.5878666666667], [330.87823333333336, 334.4128666666667], [335.4182333333334, 338.5528], [339.32800000000003, 342.553], [343.37800000000004, 347.10790000000003], [347.78813333333335, 351.53813333333335], [352.4630333333333, 356.5879], [357.33816666666667, 361.2581666666667], [362.12803333333335, 365.8681], [367.7833, 371.25793333333337], [372.2080666666667, 375.3681], [377.7333666666667, 381.33860000000004], [386.17813333333334, 389.99350000000004], [390.9583666666667, 394.08793333333335], [395.21816666666666, 398.648], [399.4431666666667, 402.92803333333336], [403.7582666666667, 407.63890000000004], [413.0982, 416.5532], [417.26320000000004, 421.1331666666667], [421.9133, 425.58833333333337], [426.4232, 429.97810000000004], [431.1433666666667, 434.5389666666667], [435.93826666666666, 439.52323333333334], [440.52333333333337, 444.05333333333334], [444.8733666666667, 448.7033666666667], [449.50326666666666, 453.16330000000005], [454.15340000000003, 457.84340000000003], [458.52840000000003, 461.9490333333334], [462.6784, 466.21340000000004], [467.0333, 470.4332], [471.18333333333334, 474.04333333333335], [474.78843333333333, 479.37330000000003], [480.21333333333337, 483.7133666666667], ...]</td>\n",
       "      <td>[1]</td>\n",
       "      <td>1 pynwb.ecephys.ElectrodeGroup at 0x5833167120\\nFields:\\n  description: array corresponding to device implanted at PMd\\n  device: Utah Array(PMd) pynwb.device.Device at 0x5833210128\\nFields:\\n  description: 96 channel utah array\\n  manufacturer: BlackRock Microsystems\\n\\n  location: Caudal, dorsal Pre-motor cortex, Left hemisphere\\n</td>\n",
       "    </tr>\n",
       "    <tr>\n",
       "      <th>2</th>\n",
       "      <td>[4.7085333333333335, 4.802266666666667, 4.827833333333333, 4.9759, 4.987833333333334, 5.126533333333334, 5.1473, 5.152, 5.1734, 5.2148, 5.2493, 5.260033333333333, 5.266533333333333, 5.2969333333333335, 5.316833333333333, 5.331033333333334, 5.348666666666667, 5.3558, 5.3583, 5.365633333333333, 5.375966666666667, 5.3962666666666665, 5.398233333333334, 5.401666666666667, 5.404133333333333, 5.4215, 5.429266666666667, 5.467333333333333, 5.4857000000000005, 5.495133333333333, 5.496766666666667, 5.524766666666667, 5.5276000000000005, 5.543, 5.5479, 5.5578666666666665, 5.566, 5.598733333333334, 5.602233333333333, 5.6101, 5.6151333333333335, 5.617966666666667, 5.627766666666667, 5.631066666666667, 5.6376, 5.646866666666667, 5.659633333333334, 5.666033333333334, 5.6686000000000005, 5.6725, 5.688133333333334, 5.7089, 5.711833333333334, 5.7298, 5.735733333333334, 5.7796666666666665, 5.7881, 5.835, 5.865333333333334, 5.902833333333334, 5.908166666666667, 5.917433333333333, 5.991266666666667, 6.0251, 6.059333333333334, 6.063366666666667, 6.089566666666667, 6.189333333333334, 6.263633333333334, 6.357933333333333, 6.395133333333334, 6.418933333333333, 6.4707333333333334, 6.486766666666667, 6.525866666666667, 6.545566666666667, 6.558333333333334, 6.599966666666667, 6.6254333333333335, 6.644166666666667, 6.6481, 6.6591000000000005, 6.6662, 6.6738, 6.705433333333334, 6.7193000000000005, 6.7286, 6.735466666666667, 6.747233333333334, 6.760966666666667, 6.778666666666667, 6.786700000000001, 6.828133333333334, 6.856666666666667, 6.882233333333334, 6.890266666666667, 6.932966666666667, 6.957666666666667, 6.980433333333334, 7.010233333333334, ...]</td>\n",
       "      <td>[[4.7072, 8.567133333333334], [9.407200000000001, 12.112166666666667], [18.437233333333335, 21.972266666666666], [22.777233333333335, 26.007266666666666], [26.93726666666667, 30.31726666666667], [31.207233333333335, 35.38276666666667], [36.09226666666667, 39.55226666666667], [40.432300000000005, 43.9123], [44.947300000000006, 48.347100000000005], [49.152300000000004, 52.847166666666666], [53.557300000000005, 57.1773], [57.967333333333336, 61.257200000000005], [61.84733333333334, 65.1923], [71.57746666666667, 75.4581], [76.34746666666668, 80.74233333333333], [81.43236666666667, 84.8822], [85.7475, 89.34303333333334], [90.0874, 93.8823], [94.71253333333334, 97.89816666666667], [98.78253333333333, 102.33316666666667], [108.3375, 111.8173], [112.5078, 117.20736666666667], [118.0676, 121.89793333333334], [122.64250000000001, 126.33246666666668], [127.21260000000001, 130.16266666666667], [130.9126, 133.98260000000002], [134.78773333333334, 137.84786666666668], [138.53776666666667, 141.6825], [142.46263333333334, 145.9283], [146.80253333333334, 150.14733333333334], [150.96766666666667, 154.74266666666668], [155.55256666666668, 159.69743333333335], [160.4677, 164.70756666666668], [165.40756666666667, 168.65236666666667], [169.57770000000002, 173.39766666666668], [174.11260000000001, 178.22246666666666], [187.06763333333333, 190.18263333333334], [191.09263333333334, 195.023], [197.33290000000002, 201.02246666666667], [201.7626666666667, 205.12263333333334], [207.46793333333335, 210.7725], [211.55780000000001, 215.3428], [216.02280000000002, 219.95846666666668], [220.69283333333334, 224.49283333333335], [225.23273333333336, 228.2876], [229.1077666666667, 232.63253333333336], [233.3578, 236.8825666666667], [237.8028666666667, 241.30283333333335], [242.1427666666667, 245.88326666666669], [246.90303333333335, 250.6776], [251.5129, 255.39790000000002], [257.22803333333337, 260.9578], [261.7078333333333, 265.0378], [265.8079666666667, 269.16793333333334], [270.0278333333333, 274.14833333333337], [274.8479666666667, 278.3829666666667], [279.10786666666667, 282.3378666666667], [283.183, 287.053], [287.84790000000004, 290.9427], [291.74786666666665, 294.9429], [295.82800000000003, 299.3683666666667], [300.08293333333336, 302.96270000000004], [303.82803333333334, 307.36803333333336], [308.25793333333337, 311.28773333333334], [312.1779333333333, 315.85793333333334], [316.6779333333333, 320.4279666666667], [321.1980666666667, 324.7581], [325.51796666666667, 328.5878666666667], [330.87823333333336, 334.4128666666667], [335.4182333333334, 338.5528], [339.32800000000003, 342.553], [343.37800000000004, 347.10790000000003], [347.78813333333335, 351.53813333333335], [352.4630333333333, 356.5879], [357.33816666666667, 361.2581666666667], [362.12803333333335, 365.8681], [367.7833, 371.25793333333337], [372.2080666666667, 375.3681], [377.7333666666667, 381.33860000000004], [386.17813333333334, 389.99350000000004], [390.9583666666667, 394.08793333333335], [395.21816666666666, 398.648], [399.4431666666667, 402.92803333333336], [403.7582666666667, 407.63890000000004], [413.0982, 416.5532], [417.26320000000004, 421.1331666666667], [421.9133, 425.58833333333337], [426.4232, 429.97810000000004], [431.1433666666667, 434.5389666666667], [435.93826666666666, 439.52323333333334], [440.52333333333337, 444.05333333333334], [444.8733666666667, 448.7033666666667], [449.50326666666666, 453.16330000000005], [454.15340000000003, 457.84340000000003], [458.52840000000003, 461.9490333333334], [462.6784, 466.21340000000004], [467.0333, 470.4332], [471.18333333333334, 474.04333333333335], [474.78843333333333, 479.37330000000003], [480.21333333333337, 483.7133666666667], ...]</td>\n",
       "      <td>[2]</td>\n",
       "      <td>1 pynwb.ecephys.ElectrodeGroup at 0x5833167120\\nFields:\\n  description: array corresponding to device implanted at PMd\\n  device: Utah Array(PMd) pynwb.device.Device at 0x5833210128\\nFields:\\n  description: 96 channel utah array\\n  manufacturer: BlackRock Microsystems\\n\\n  location: Caudal, dorsal Pre-motor cortex, Left hemisphere\\n</td>\n",
       "    </tr>\n",
       "    <tr>\n",
       "      <th>3</th>\n",
       "      <td>[4.737566666666667, 4.906233333333334, 5.010800000000001, 5.174566666666667, 5.218533333333333, 5.3253, 5.366133333333334, 5.3952333333333335, 5.421566666666667, 5.611766666666667, 5.6201, 5.628133333333333, 5.636900000000001, 5.660033333333334, 5.692733333333334, 5.721533333333333, 5.739666666666667, 5.7433000000000005, 5.759600000000001, 5.8024000000000004, 5.8051, 5.846466666666667, 5.852333333333334, 5.892733333333334, 5.902633333333333, 5.9248, 5.953833333333334, 5.957566666666667, 6.015733333333333, 6.025, 6.031533333333334, 6.061633333333334, 6.082766666666667, 6.115766666666667, 6.238433333333334, 6.253233333333333, 6.3731333333333335, 6.519533333333333, 6.553333333333334, 6.606433333333333, 6.6298, 6.650366666666667, 6.6662, 6.689866666666667, 6.719033333333334, 6.732866666666667, 6.765133333333334, 6.7691333333333334, 6.777433333333334, 6.783166666666667, 6.7987, 6.820366666666667, 6.8266, 6.836466666666667, 6.856933333333334, 6.8807, 6.901800000000001, 6.906233333333334, 6.921, 6.9352, 6.9665333333333335, 6.969266666666667, 6.9741333333333335, 6.9905333333333335, 7.010833333333333, 7.0244333333333335, 7.034033333333333, 7.040900000000001, 7.042933333333334, 7.049866666666667, 7.055133333333334, 7.0601, 7.074566666666667, 7.079233333333334, 7.085133333333333, 7.101233333333334, 7.105366666666667, 7.1279666666666675, 7.138433333333333, 7.161700000000001, 7.178766666666667, 7.189866666666667, 7.220533333333334, 7.245866666666667, 7.2490000000000006, 7.2725333333333335, 7.303966666666667, 7.359100000000001, 7.518233333333334, 7.5686333333333335, 7.720233333333334, 7.8632, 8.003066666666667, 8.095566666666667, 8.106066666666667, 8.135200000000001, 8.207766666666666, 8.280433333333333, 8.286266666666666, 8.3184, ...]</td>\n",
       "      <td>[[4.7072, 8.567133333333334], [9.407200000000001, 12.112166666666667], [18.437233333333335, 21.972266666666666], [22.777233333333335, 26.007266666666666], [26.93726666666667, 30.31726666666667], [31.207233333333335, 35.38276666666667], [36.09226666666667, 39.55226666666667], [40.432300000000005, 43.9123], [44.947300000000006, 48.347100000000005], [49.152300000000004, 52.847166666666666], [53.557300000000005, 57.1773], [57.967333333333336, 61.257200000000005], [61.84733333333334, 65.1923], [71.57746666666667, 75.4581], [76.34746666666668, 80.74233333333333], [81.43236666666667, 84.8822], [85.7475, 89.34303333333334], [90.0874, 93.8823], [94.71253333333334, 97.89816666666667], [98.78253333333333, 102.33316666666667], [108.3375, 111.8173], [112.5078, 117.20736666666667], [118.0676, 121.89793333333334], [122.64250000000001, 126.33246666666668], [127.21260000000001, 130.16266666666667], [130.9126, 133.98260000000002], [134.78773333333334, 137.84786666666668], [138.53776666666667, 141.6825], [142.46263333333334, 145.9283], [146.80253333333334, 150.14733333333334], [150.96766666666667, 154.74266666666668], [155.55256666666668, 159.69743333333335], [160.4677, 164.70756666666668], [165.40756666666667, 168.65236666666667], [169.57770000000002, 173.39766666666668], [174.11260000000001, 178.22246666666666], [187.06763333333333, 190.18263333333334], [191.09263333333334, 195.023], [197.33290000000002, 201.02246666666667], [201.7626666666667, 205.12263333333334], [207.46793333333335, 210.7725], [211.55780000000001, 215.3428], [216.02280000000002, 219.95846666666668], [220.69283333333334, 224.49283333333335], [225.23273333333336, 228.2876], [229.1077666666667, 232.63253333333336], [233.3578, 236.8825666666667], [237.8028666666667, 241.30283333333335], [242.1427666666667, 245.88326666666669], [246.90303333333335, 250.6776], [251.5129, 255.39790000000002], [257.22803333333337, 260.9578], [261.7078333333333, 265.0378], [265.8079666666667, 269.16793333333334], [270.0278333333333, 274.14833333333337], [274.8479666666667, 278.3829666666667], [279.10786666666667, 282.3378666666667], [283.183, 287.053], [287.84790000000004, 290.9427], [291.74786666666665, 294.9429], [295.82800000000003, 299.3683666666667], [300.08293333333336, 302.96270000000004], [303.82803333333334, 307.36803333333336], [308.25793333333337, 311.28773333333334], [312.1779333333333, 315.85793333333334], [316.6779333333333, 320.4279666666667], [321.1980666666667, 324.7581], [325.51796666666667, 328.5878666666667], [330.87823333333336, 334.4128666666667], [335.4182333333334, 338.5528], [339.32800000000003, 342.553], [343.37800000000004, 347.10790000000003], [347.78813333333335, 351.53813333333335], [352.4630333333333, 356.5879], [357.33816666666667, 361.2581666666667], [362.12803333333335, 365.8681], [367.7833, 371.25793333333337], [372.2080666666667, 375.3681], [377.7333666666667, 381.33860000000004], [386.17813333333334, 389.99350000000004], [390.9583666666667, 394.08793333333335], [395.21816666666666, 398.648], [399.4431666666667, 402.92803333333336], [403.7582666666667, 407.63890000000004], [413.0982, 416.5532], [417.26320000000004, 421.1331666666667], [421.9133, 425.58833333333337], [426.4232, 429.97810000000004], [431.1433666666667, 434.5389666666667], [435.93826666666666, 439.52323333333334], [440.52333333333337, 444.05333333333334], [444.8733666666667, 448.7033666666667], [449.50326666666666, 453.16330000000005], [454.15340000000003, 457.84340000000003], [458.52840000000003, 461.9490333333334], [462.6784, 466.21340000000004], [467.0333, 470.4332], [471.18333333333334, 474.04333333333335], [474.78843333333333, 479.37330000000003], [480.21333333333337, 483.7133666666667], ...]</td>\n",
       "      <td>[3]</td>\n",
       "      <td>1 pynwb.ecephys.ElectrodeGroup at 0x5833167120\\nFields:\\n  description: array corresponding to device implanted at PMd\\n  device: Utah Array(PMd) pynwb.device.Device at 0x5833210128\\nFields:\\n  description: 96 channel utah array\\n  manufacturer: BlackRock Microsystems\\n\\n  location: Caudal, dorsal Pre-motor cortex, Left hemisphere\\n</td>\n",
       "    </tr>\n",
       "  </tbody>\n",
       "</table><p>... and 188 more rows.</p></details></details><div style=\"margin-left: 0px;\" class=\"container-fields\"><span class=\"field-key\" title=\".experiment_description\">experiment_description: </span><span class=\"field-value\"></span></div><div style=\"margin-left: 0px;\" class=\"container-fields\"><span class=\"field-key\" title=\".institution\">institution: </span><span class=\"field-value\">Stanford University</span></div></div>"
      ],
      "text/plain": [
       "root pynwb.file.NWBFile at 0x5831050000\n",
       "Fields:\n",
       "  devices: {\n",
       "    Utah Array(M1) <class 'pynwb.device.Device'>,\n",
       "    Utah Array(PMd) <class 'pynwb.device.Device'>\n",
       "  }\n",
       "  electrode_groups: {\n",
       "    1 <class 'pynwb.ecephys.ElectrodeGroup'>,\n",
       "    2 <class 'pynwb.ecephys.ElectrodeGroup'>\n",
       "  }\n",
       "  electrodes: electrodes <class 'hdmf.common.table.DynamicTable'>\n",
       "  experimenter: ['Matthew T. Kaufman' 'Mark M. Churchland']\n",
       "  file_create_date: [datetime.datetime(2021, 8, 11, 3, 1, 26, 636714, tzinfo=tzoffset(None, -14400))]\n",
       "  identifier: 88cc73b6-971c-4b57-8444-df4ec4acea12\n",
       "  institution: Stanford University\n",
       "  intervals: {\n",
       "    trials <class 'pynwb.epoch.TimeIntervals'>\n",
       "  }\n",
       "  processing: {\n",
       "    behavior <class 'pynwb.base.ProcessingModule'>,\n",
       "    ecephys <class 'pynwb.base.ProcessingModule'>\n",
       "  }\n",
       "  related_publications: ['10.1038/nature11129 10.1152/jn.00892.2011 10.1038/nn.3643 10.1038/nn.4042 10.1146/annurev-neuro-062111-150509 10.7554/eLife.0467710.1523/ENEURO.0085-16.2016 10.1038/s41592-018-0109-9']\n",
       "  session_start_time: 2009-09-18 00:00:00-07:00\n",
       "  subject: subject pynwb.file.Subject at 0x5831082384\n",
       "Fields:\n",
       "  sex: M\n",
       "  species: Macaca mulatta\n",
       "  subject_id: Jenkins\n",
       "\n",
       "  timestamps_reference_time: 2009-09-18 00:00:00-07:00\n",
       "  trials: trials <class 'pynwb.epoch.TimeIntervals'>\n",
       "  units: units <class 'pynwb.misc.Units'>"
      ]
     },
     "execution_count": 6,
     "metadata": {},
     "output_type": "execute_result"
    }
   ],
   "source": [
    "nwb = io.read()\n",
    "nwb"
   ]
  },
  {
   "cell_type": "code",
   "execution_count": 8,
   "metadata": {
    "ExecuteTime": {
     "end_time": "2024-11-21T15:54:14.645535Z",
     "start_time": "2024-11-21T15:54:13.774488Z"
    },
    "tags": []
   },
   "outputs": [
    {
     "data": {
      "text/html": [
       "<div>\n",
       "<style scoped>\n",
       "    .dataframe tbody tr th:only-of-type {\n",
       "        vertical-align: middle;\n",
       "    }\n",
       "\n",
       "    .dataframe tbody tr th {\n",
       "        vertical-align: top;\n",
       "    }\n",
       "\n",
       "    .dataframe thead th {\n",
       "        text-align: right;\n",
       "    }\n",
       "</style>\n",
       "<table border=\"1\" class=\"dataframe\">\n",
       "  <thead>\n",
       "    <tr style=\"text-align: right;\">\n",
       "      <th></th>\n",
       "      <th>start_time</th>\n",
       "      <th>stop_time</th>\n",
       "      <th>target_presentation_time</th>\n",
       "      <th>go_cue_time</th>\n",
       "      <th>reaction_time</th>\n",
       "      <th>move_begins_time</th>\n",
       "      <th>move_ends_time</th>\n",
       "      <th>discard_trial</th>\n",
       "      <th>task_success</th>\n",
       "      <th>trial_type</th>\n",
       "      <th>...</th>\n",
       "      <th>correct_reach</th>\n",
       "      <th>maze_num_targets</th>\n",
       "      <th>maze_num_barriers</th>\n",
       "      <th>novel_maze</th>\n",
       "      <th>target_positions</th>\n",
       "      <th>frame_details</th>\n",
       "      <th>hit_target_position</th>\n",
       "      <th>target_size</th>\n",
       "      <th>barrier_info</th>\n",
       "      <th>timeseries</th>\n",
       "    </tr>\n",
       "    <tr>\n",
       "      <th>id</th>\n",
       "      <th></th>\n",
       "      <th></th>\n",
       "      <th></th>\n",
       "      <th></th>\n",
       "      <th></th>\n",
       "      <th></th>\n",
       "      <th></th>\n",
       "      <th></th>\n",
       "      <th></th>\n",
       "      <th></th>\n",
       "      <th></th>\n",
       "      <th></th>\n",
       "      <th></th>\n",
       "      <th></th>\n",
       "      <th></th>\n",
       "      <th></th>\n",
       "      <th></th>\n",
       "      <th></th>\n",
       "      <th></th>\n",
       "      <th></th>\n",
       "      <th></th>\n",
       "    </tr>\n",
       "  </thead>\n",
       "  <tbody>\n",
       "    <tr>\n",
       "      <th>0</th>\n",
       "      <td>4.707200</td>\n",
       "      <td>8.567133</td>\n",
       "      <td>5.570200</td>\n",
       "      <td>6.517200</td>\n",
       "      <td>0.335</td>\n",
       "      <td>6.819200</td>\n",
       "      <td>7.234200</td>\n",
       "      <td>0</td>\n",
       "      <td>1</td>\n",
       "      <td>0</td>\n",
       "      <td>...</td>\n",
       "      <td>0</td>\n",
       "      <td>1</td>\n",
       "      <td>2</td>\n",
       "      <td>1</td>\n",
       "      <td>[[-130, -57]]</td>\n",
       "      <td>[[[-200]], [[200]], [[-155]], [[155]], [[20]]]</td>\n",
       "      <td>[-130, -57]</td>\n",
       "      <td>13</td>\n",
       "      <td>[[-16.0, 96.0, 59.0, 22.0], [-62.0, -112.0, 43...</td>\n",
       "      <td>[(0, 3226, Eye pynwb.behavior.SpatialSeries at...</td>\n",
       "    </tr>\n",
       "    <tr>\n",
       "      <th>1</th>\n",
       "      <td>9.407200</td>\n",
       "      <td>12.112167</td>\n",
       "      <td>10.172200</td>\n",
       "      <td>10.202200</td>\n",
       "      <td>0.305</td>\n",
       "      <td>10.479200</td>\n",
       "      <td>10.789200</td>\n",
       "      <td>0</td>\n",
       "      <td>1</td>\n",
       "      <td>0</td>\n",
       "      <td>...</td>\n",
       "      <td>0</td>\n",
       "      <td>1</td>\n",
       "      <td>2</td>\n",
       "      <td>1</td>\n",
       "      <td>[[120, 70]]</td>\n",
       "      <td>[[[-200]], [[200]], [[-155]], [[155]], [[20]]]</td>\n",
       "      <td>[120, 70]</td>\n",
       "      <td>13</td>\n",
       "      <td>[[-49.0, -59.0, 22.0, 53.0], [-33.0, -100.0, 5...</td>\n",
       "      <td>[(3226, 2081, Eye pynwb.behavior.SpatialSeries...</td>\n",
       "    </tr>\n",
       "    <tr>\n",
       "      <th>2</th>\n",
       "      <td>18.437233</td>\n",
       "      <td>21.972267</td>\n",
       "      <td>19.209233</td>\n",
       "      <td>19.857233</td>\n",
       "      <td>0.300</td>\n",
       "      <td>20.124233</td>\n",
       "      <td>20.584233</td>\n",
       "      <td>0</td>\n",
       "      <td>1</td>\n",
       "      <td>17</td>\n",
       "      <td>...</td>\n",
       "      <td>1</td>\n",
       "      <td>1</td>\n",
       "      <td>9</td>\n",
       "      <td>0</td>\n",
       "      <td>[[-77, 82]]</td>\n",
       "      <td>[[[-200]], [[200]], [[-155]], [[155]], [[20]]]</td>\n",
       "      <td>[-77, 82]</td>\n",
       "      <td>13</td>\n",
       "      <td>[[-33.0, 47.0, 6.0, 37.0], [-77.0, 48.0, 11.0,...</td>\n",
       "      <td>[(5307, 2846, Eye pynwb.behavior.SpatialSeries...</td>\n",
       "    </tr>\n",
       "    <tr>\n",
       "      <th>3</th>\n",
       "      <td>22.777233</td>\n",
       "      <td>26.007267</td>\n",
       "      <td>23.495233</td>\n",
       "      <td>23.959233</td>\n",
       "      <td>0.305</td>\n",
       "      <td>24.229233</td>\n",
       "      <td>24.644233</td>\n",
       "      <td>0</td>\n",
       "      <td>1</td>\n",
       "      <td>8</td>\n",
       "      <td>...</td>\n",
       "      <td>1</td>\n",
       "      <td>1</td>\n",
       "      <td>9</td>\n",
       "      <td>0</td>\n",
       "      <td>[[132, 56]]</td>\n",
       "      <td>[[[-200]], [[200]], [[-155]], [[155]], [[20]]]</td>\n",
       "      <td>[132, 56]</td>\n",
       "      <td>13</td>\n",
       "      <td>[[-82.0, -43.0, 8.0, 118.0], [145.0, -105.0, 1...</td>\n",
       "      <td>[(8153, 2566, Eye pynwb.behavior.SpatialSeries...</td>\n",
       "    </tr>\n",
       "    <tr>\n",
       "      <th>4</th>\n",
       "      <td>26.937267</td>\n",
       "      <td>30.317267</td>\n",
       "      <td>27.630267</td>\n",
       "      <td>28.211267</td>\n",
       "      <td>0.300</td>\n",
       "      <td>28.479267</td>\n",
       "      <td>28.979267</td>\n",
       "      <td>0</td>\n",
       "      <td>1</td>\n",
       "      <td>29</td>\n",
       "      <td>...</td>\n",
       "      <td>1</td>\n",
       "      <td>1</td>\n",
       "      <td>9</td>\n",
       "      <td>0</td>\n",
       "      <td>[[2, 82]]</td>\n",
       "      <td>[[[-200]], [[200]], [[-155]], [[155]], [[20]]]</td>\n",
       "      <td>[2, 82]</td>\n",
       "      <td>13</td>\n",
       "      <td>[[-9.0, 52.0, 8.0, 43.0], [-50.0, 91.0, 64.0, ...</td>\n",
       "      <td>[(10719, 2741, Eye pynwb.behavior.SpatialSerie...</td>\n",
       "    </tr>\n",
       "    <tr>\n",
       "      <th>...</th>\n",
       "      <td>...</td>\n",
       "      <td>...</td>\n",
       "      <td>...</td>\n",
       "      <td>...</td>\n",
       "      <td>...</td>\n",
       "      <td>...</td>\n",
       "      <td>...</td>\n",
       "      <td>...</td>\n",
       "      <td>...</td>\n",
       "      <td>...</td>\n",
       "      <td>...</td>\n",
       "      <td>...</td>\n",
       "      <td>...</td>\n",
       "      <td>...</td>\n",
       "      <td>...</td>\n",
       "      <td>...</td>\n",
       "      <td>...</td>\n",
       "      <td>...</td>\n",
       "      <td>...</td>\n",
       "      <td>...</td>\n",
       "      <td>...</td>\n",
       "    </tr>\n",
       "    <tr>\n",
       "      <th>2631</th>\n",
       "      <td>15586.530559</td>\n",
       "      <td>15590.185559</td>\n",
       "      <td>15587.318559</td>\n",
       "      <td>15587.932559</td>\n",
       "      <td>0.315</td>\n",
       "      <td>15588.212559</td>\n",
       "      <td>15588.807559</td>\n",
       "      <td>0</td>\n",
       "      <td>1</td>\n",
       "      <td>13</td>\n",
       "      <td>...</td>\n",
       "      <td>1</td>\n",
       "      <td>1</td>\n",
       "      <td>8</td>\n",
       "      <td>0</td>\n",
       "      <td>[[132, 56]]</td>\n",
       "      <td>[[[-200]], [[200]], [[-155]], [[155]], [[20]]]</td>\n",
       "      <td>[132, 56]</td>\n",
       "      <td>13</td>\n",
       "      <td>[[-64.0, -47.0, 113.0, 7.0], [-64.0, -39.0, 40...</td>\n",
       "      <td>[(7990376, 2976, Eye pynwb.behavior.SpatialSer...</td>\n",
       "    </tr>\n",
       "    <tr>\n",
       "      <th>2632</th>\n",
       "      <td>15591.780559</td>\n",
       "      <td>15594.615592</td>\n",
       "      <td>15592.688559</td>\n",
       "      <td>15593.202559</td>\n",
       "      <td>0.360</td>\n",
       "      <td>15593.532559</td>\n",
       "      <td>NaN</td>\n",
       "      <td>0</td>\n",
       "      <td>0</td>\n",
       "      <td>13</td>\n",
       "      <td>...</td>\n",
       "      <td>0</td>\n",
       "      <td>1</td>\n",
       "      <td>8</td>\n",
       "      <td>0</td>\n",
       "      <td>[[132, 56]]</td>\n",
       "      <td>[[[-200]], [[200]], [[-155]], [[155]], [[20]]]</td>\n",
       "      <td>[132, 56]</td>\n",
       "      <td>13</td>\n",
       "      <td>[[-64.0, -47.0, 113.0, 7.0], [-64.0, -39.0, 40...</td>\n",
       "      <td>[(7993352, 2831, Eye pynwb.behavior.SpatialSer...</td>\n",
       "    </tr>\n",
       "    <tr>\n",
       "      <th>2633</th>\n",
       "      <td>15599.680592</td>\n",
       "      <td>15602.685592</td>\n",
       "      <td>15600.425592</td>\n",
       "      <td>15600.488592</td>\n",
       "      <td>0.365</td>\n",
       "      <td>15600.822592</td>\n",
       "      <td>15601.287592</td>\n",
       "      <td>0</td>\n",
       "      <td>1</td>\n",
       "      <td>29</td>\n",
       "      <td>...</td>\n",
       "      <td>1</td>\n",
       "      <td>1</td>\n",
       "      <td>9</td>\n",
       "      <td>0</td>\n",
       "      <td>[[2, 82]]</td>\n",
       "      <td>[[[-200]], [[200]], [[-155]], [[155]], [[20]]]</td>\n",
       "      <td>[2, 82]</td>\n",
       "      <td>13</td>\n",
       "      <td>[[-9.0, 52.0, 8.0, 43.0], [-50.0, 91.0, 64.0, ...</td>\n",
       "      <td>[(7996183, 2306, Eye pynwb.behavior.SpatialSer...</td>\n",
       "    </tr>\n",
       "    <tr>\n",
       "      <th>2634</th>\n",
       "      <td>15633.390659</td>\n",
       "      <td>15637.605559</td>\n",
       "      <td>15634.241659</td>\n",
       "      <td>15634.605659</td>\n",
       "      <td>0.385</td>\n",
       "      <td>15635.982659</td>\n",
       "      <td>15636.322659</td>\n",
       "      <td>0</td>\n",
       "      <td>1</td>\n",
       "      <td>4</td>\n",
       "      <td>...</td>\n",
       "      <td>0</td>\n",
       "      <td>1</td>\n",
       "      <td>7</td>\n",
       "      <td>0</td>\n",
       "      <td>[[-116, -5]]</td>\n",
       "      <td>[[[-200]], [[200]], [[-155]], [[155]], [[20]]]</td>\n",
       "      <td>[-116, -5]</td>\n",
       "      <td>13</td>\n",
       "      <td>[[-69.0, -16.0, 69.0, 13.0], [-120.0, -62.0, 1...</td>\n",
       "      <td>[(7998489, 3631, Eye pynwb.behavior.SpatialSer...</td>\n",
       "    </tr>\n",
       "    <tr>\n",
       "      <th>2635</th>\n",
       "      <td>15664.755759</td>\n",
       "      <td>15668.655759</td>\n",
       "      <td>15665.440759</td>\n",
       "      <td>15665.853759</td>\n",
       "      <td>0.590</td>\n",
       "      <td>15666.407759</td>\n",
       "      <td>15667.257759</td>\n",
       "      <td>0</td>\n",
       "      <td>1</td>\n",
       "      <td>16</td>\n",
       "      <td>...</td>\n",
       "      <td>1</td>\n",
       "      <td>1</td>\n",
       "      <td>9</td>\n",
       "      <td>0</td>\n",
       "      <td>[[-118, -83]]</td>\n",
       "      <td>[[[-200]], [[200]], [[-155]], [[155]], [[20]]]</td>\n",
       "      <td>[-118, -83]</td>\n",
       "      <td>13</td>\n",
       "      <td>[[-33.0, 47.0, 6.0, 37.0], [-77.0, 48.0, 11.0,...</td>\n",
       "      <td>[(8002120, 3201, Eye pynwb.behavior.SpatialSer...</td>\n",
       "    </tr>\n",
       "  </tbody>\n",
       "</table>\n",
       "<p>2636 rows × 23 columns</p>\n",
       "</div>"
      ],
      "text/plain": [
       "        start_time     stop_time  target_presentation_time   go_cue_time  \\\n",
       "id                                                                         \n",
       "0         4.707200      8.567133                  5.570200      6.517200   \n",
       "1         9.407200     12.112167                 10.172200     10.202200   \n",
       "2        18.437233     21.972267                 19.209233     19.857233   \n",
       "3        22.777233     26.007267                 23.495233     23.959233   \n",
       "4        26.937267     30.317267                 27.630267     28.211267   \n",
       "...            ...           ...                       ...           ...   \n",
       "2631  15586.530559  15590.185559              15587.318559  15587.932559   \n",
       "2632  15591.780559  15594.615592              15592.688559  15593.202559   \n",
       "2633  15599.680592  15602.685592              15600.425592  15600.488592   \n",
       "2634  15633.390659  15637.605559              15634.241659  15634.605659   \n",
       "2635  15664.755759  15668.655759              15665.440759  15665.853759   \n",
       "\n",
       "      reaction_time  move_begins_time  move_ends_time  discard_trial  \\\n",
       "id                                                                     \n",
       "0             0.335          6.819200        7.234200              0   \n",
       "1             0.305         10.479200       10.789200              0   \n",
       "2             0.300         20.124233       20.584233              0   \n",
       "3             0.305         24.229233       24.644233              0   \n",
       "4             0.300         28.479267       28.979267              0   \n",
       "...             ...               ...             ...            ...   \n",
       "2631          0.315      15588.212559    15588.807559              0   \n",
       "2632          0.360      15593.532559             NaN              0   \n",
       "2633          0.365      15600.822592    15601.287592              0   \n",
       "2634          0.385      15635.982659    15636.322659              0   \n",
       "2635          0.590      15666.407759    15667.257759              0   \n",
       "\n",
       "      task_success  trial_type  ...  correct_reach  maze_num_targets  \\\n",
       "id                              ...                                    \n",
       "0                1           0  ...              0                 1   \n",
       "1                1           0  ...              0                 1   \n",
       "2                1          17  ...              1                 1   \n",
       "3                1           8  ...              1                 1   \n",
       "4                1          29  ...              1                 1   \n",
       "...            ...         ...  ...            ...               ...   \n",
       "2631             1          13  ...              1                 1   \n",
       "2632             0          13  ...              0                 1   \n",
       "2633             1          29  ...              1                 1   \n",
       "2634             1           4  ...              0                 1   \n",
       "2635             1          16  ...              1                 1   \n",
       "\n",
       "      maze_num_barriers  novel_maze  target_positions  \\\n",
       "id                                                      \n",
       "0                     2           1     [[-130, -57]]   \n",
       "1                     2           1       [[120, 70]]   \n",
       "2                     9           0       [[-77, 82]]   \n",
       "3                     9           0       [[132, 56]]   \n",
       "4                     9           0         [[2, 82]]   \n",
       "...                 ...         ...               ...   \n",
       "2631                  8           0       [[132, 56]]   \n",
       "2632                  8           0       [[132, 56]]   \n",
       "2633                  9           0         [[2, 82]]   \n",
       "2634                  7           0      [[-116, -5]]   \n",
       "2635                  9           0     [[-118, -83]]   \n",
       "\n",
       "                                       frame_details  hit_target_position  \\\n",
       "id                                                                          \n",
       "0     [[[-200]], [[200]], [[-155]], [[155]], [[20]]]          [-130, -57]   \n",
       "1     [[[-200]], [[200]], [[-155]], [[155]], [[20]]]            [120, 70]   \n",
       "2     [[[-200]], [[200]], [[-155]], [[155]], [[20]]]            [-77, 82]   \n",
       "3     [[[-200]], [[200]], [[-155]], [[155]], [[20]]]            [132, 56]   \n",
       "4     [[[-200]], [[200]], [[-155]], [[155]], [[20]]]              [2, 82]   \n",
       "...                                              ...                  ...   \n",
       "2631  [[[-200]], [[200]], [[-155]], [[155]], [[20]]]            [132, 56]   \n",
       "2632  [[[-200]], [[200]], [[-155]], [[155]], [[20]]]            [132, 56]   \n",
       "2633  [[[-200]], [[200]], [[-155]], [[155]], [[20]]]              [2, 82]   \n",
       "2634  [[[-200]], [[200]], [[-155]], [[155]], [[20]]]           [-116, -5]   \n",
       "2635  [[[-200]], [[200]], [[-155]], [[155]], [[20]]]          [-118, -83]   \n",
       "\n",
       "     target_size                                       barrier_info  \\\n",
       "id                                                                    \n",
       "0             13  [[-16.0, 96.0, 59.0, 22.0], [-62.0, -112.0, 43...   \n",
       "1             13  [[-49.0, -59.0, 22.0, 53.0], [-33.0, -100.0, 5...   \n",
       "2             13  [[-33.0, 47.0, 6.0, 37.0], [-77.0, 48.0, 11.0,...   \n",
       "3             13  [[-82.0, -43.0, 8.0, 118.0], [145.0, -105.0, 1...   \n",
       "4             13  [[-9.0, 52.0, 8.0, 43.0], [-50.0, 91.0, 64.0, ...   \n",
       "...          ...                                                ...   \n",
       "2631          13  [[-64.0, -47.0, 113.0, 7.0], [-64.0, -39.0, 40...   \n",
       "2632          13  [[-64.0, -47.0, 113.0, 7.0], [-64.0, -39.0, 40...   \n",
       "2633          13  [[-9.0, 52.0, 8.0, 43.0], [-50.0, 91.0, 64.0, ...   \n",
       "2634          13  [[-69.0, -16.0, 69.0, 13.0], [-120.0, -62.0, 1...   \n",
       "2635          13  [[-33.0, 47.0, 6.0, 37.0], [-77.0, 48.0, 11.0,...   \n",
       "\n",
       "                                             timeseries  \n",
       "id                                                       \n",
       "0     [(0, 3226, Eye pynwb.behavior.SpatialSeries at...  \n",
       "1     [(3226, 2081, Eye pynwb.behavior.SpatialSeries...  \n",
       "2     [(5307, 2846, Eye pynwb.behavior.SpatialSeries...  \n",
       "3     [(8153, 2566, Eye pynwb.behavior.SpatialSeries...  \n",
       "4     [(10719, 2741, Eye pynwb.behavior.SpatialSerie...  \n",
       "...                                                 ...  \n",
       "2631  [(7990376, 2976, Eye pynwb.behavior.SpatialSer...  \n",
       "2632  [(7993352, 2831, Eye pynwb.behavior.SpatialSer...  \n",
       "2633  [(7996183, 2306, Eye pynwb.behavior.SpatialSer...  \n",
       "2634  [(7998489, 3631, Eye pynwb.behavior.SpatialSer...  \n",
       "2635  [(8002120, 3201, Eye pynwb.behavior.SpatialSer...  \n",
       "\n",
       "[2636 rows x 23 columns]"
      ]
     },
     "execution_count": 8,
     "metadata": {},
     "output_type": "execute_result"
    }
   ],
   "source": [
    "trialtable = nwb.trials.to_dataframe()\n",
    "trialtable"
   ]
  },
  {
   "cell_type": "code",
   "execution_count": 10,
   "metadata": {
    "ExecuteTime": {
     "end_time": "2024-11-21T15:54:17.489943Z",
     "start_time": "2024-11-21T15:54:17.037679Z"
    },
    "tags": []
   },
   "outputs": [
    {
     "name": "stdout",
     "output_type": "stream",
     "text": [
      "2636\n",
      "192\n"
     ]
    }
   ],
   "source": [
    "n_trials = len(trialtable)\n",
    "n_neurons = nwb.units.to_dataframe()['spike_times'].shape[0]\n",
    "\n",
    "print(n_trials)\n",
    "print(n_neurons)"
   ]
  },
  {
   "cell_type": "code",
   "execution_count": 12,
   "metadata": {
    "ExecuteTime": {
     "end_time": "2024-11-21T15:54:18.898574Z",
     "start_time": "2024-11-21T15:54:18.884037Z"
    },
    "tags": []
   },
   "outputs": [
    {
     "data": {
      "text/plain": [
       "1    2570\n",
       "0      66\n",
       "Name: task_success, dtype: int64"
      ]
     },
     "execution_count": 12,
     "metadata": {},
     "output_type": "execute_result"
    }
   ],
   "source": [
    "trialtable.task_success.value_counts()"
   ]
  },
  {
   "cell_type": "code",
   "execution_count": 14,
   "metadata": {
    "ExecuteTime": {
     "end_time": "2024-11-21T15:54:22.035176Z",
     "start_time": "2024-11-21T15:54:22.029567Z"
    },
    "tags": []
   },
   "outputs": [
    {
     "data": {
      "text/plain": [
       "1    2296\n",
       "0     340\n",
       "Name: correct_reach, dtype: int64"
      ]
     },
     "execution_count": 14,
     "metadata": {},
     "output_type": "execute_result"
    }
   ],
   "source": [
    "trialtable.correct_reach.value_counts()"
   ]
  },
  {
   "cell_type": "code",
   "execution_count": 16,
   "metadata": {
    "ExecuteTime": {
     "end_time": "2024-11-21T15:54:44.014228Z",
     "start_time": "2024-11-21T15:54:44.010457Z"
    },
    "tags": []
   },
   "outputs": [
    {
     "name": "stdout",
     "output_type": "stream",
     "text": [
      "start_time\n",
      "stop_time\n",
      "target_presentation_time\n",
      "go_cue_time\n",
      "reaction_time\n",
      "move_begins_time\n",
      "move_ends_time\n",
      "discard_trial\n",
      "task_success\n",
      "trial_type\n",
      "trial_version\n",
      "proto_trial\n",
      "maze_condition\n",
      "correct_reach\n",
      "maze_num_targets\n",
      "maze_num_barriers\n",
      "novel_maze\n",
      "target_positions\n",
      "frame_details\n",
      "hit_target_position\n",
      "target_size\n",
      "barrier_info\n",
      "timeseries\n"
     ]
    }
   ],
   "source": [
    "for column in trialtable.columns:\n",
    "    print(column)"
   ]
  },
  {
   "cell_type": "code",
   "execution_count": null,
   "metadata": {
    "ExecuteTime": {
     "end_time": "2024-11-14T21:08:06.975668Z",
     "start_time": "2024-11-14T21:08:05.663564Z"
    },
    "jupyter": {
     "source_hidden": true
    },
    "tags": []
   },
   "outputs": [],
   "source": [
    "data = {\n",
    "    'animal_id': [],\n",
    "    'session_id': [],\n",
    "    'trial_id': [],\n",
    "    'spikes': [],\n",
    "    'hand_pos': [],\n",
    "    'cursor_pos': [],\n",
    "    'hand_vel': [],\n",
    "    'cursor_vel': [],\n",
    "    #'typical_reach': [],\n",
    "    #'mean_reach': [],\n",
    "    'reach_angle_rad': [],\n",
    "    'reach_angle_deg': [],\n",
    "    'reach_color': [],\n",
    "}\n",
    "\n",
    "info = {\n",
    "    'animal_id': [],\n",
    "    'session_id': [],\n",
    "    'trial_id': [],\n",
    "    'correct_reach': [],\n",
    "    'task_success': [],\n",
    "}\n",
    "\n",
    "maze = {\n",
    "    'animal_id': [],\n",
    "    'session_id': [],\n",
    "    'trial_id': [],\n",
    "    'trial_type': [],\n",
    "    'trial_version': [],\n",
    "    'maze_condition': [],\n",
    "    'maze_num_targets': [],\n",
    "    'maze_num_barriers': [],\n",
    "    'targets_position':[],\n",
    "    'true_target': [],\n",
    "    'target_size': [],\n",
    "}\n",
    "\n",
    "events = {\n",
    "    'animal_id': [],\n",
    "    'session_id': [],\n",
    "    'trial_id': [],\n",
    "    'start_time': [],\n",
    "    'stop_time': [],\n",
    "    'trial_len': [],\n",
    "    'target_on_time': [],\n",
    "    'gocue_on_time': [],\n",
    "    'move_starts_time': [],\n",
    "    'move_ends_time': [],\n",
    "    'delay_time': [],\n",
    "    'reaction_time': [],\n",
    "    'movement_exec_time': [],\n",
    "}\n",
    "\n",
    "neurons = nwb.units.to_dataframe()['spike_times'] # Neuron id x Spike Time\n",
    "hand = nwb.processing['behavior'].data_interfaces['Position'].spatial_series['Hand'].data[:] # x, y \n",
    "cursor = nwb.processing['behavior'].data_interfaces['Position'].spatial_series['Cursor'].data[:] # x, y\n",
    "session_time = np.round(nwb.processing['behavior'].data_interfaces['Position'].spatial_series['Hand'].timestamps[:] + 0.0001, decimals=3)\n",
    "\n",
    "for trial_id in tqdm(range(0, n_trials)):\n",
    "    \n",
    "    \"\"\"defining the grid/mask for trial\"\"\"\n",
    "    dt = 0.001 #seconds\n",
    "    \n",
    "    min_T = np.round(trialtable['start_time'][trial_id], decimals=3) # Trial start time\n",
    "    max_T = np.round(trialtable['stop_time'][trial_id], decimals=3) # Trial end time\n",
    "    \n",
    "    mi = np.nonzero(session_time > min_T)[0][0]\n",
    "    ma = np.nonzero(session_time < max_T)[0][-1]\n",
    "\n",
    "    grid = np.round(np.arange(min_T, max_T + dt, dt), decimals=3)\n",
    "    n_bins = len(grid)\n",
    "    \n",
    "    \"\"\"fill spiking and behavioral data\"\"\"\n",
    "    \n",
    "    spikes = np.zeros((n_bins, n_neurons))\n",
    "    for n in range(n_neurons):\n",
    "        spikes[:, n] = np.isin(grid, np.round(neurons[n], decimals=3)).astype(int)\n",
    "    \n",
    "    hand_pos = np.zeros((n_bins, 2))\n",
    "    _, hand_pos[:, 0] = np.histogram(hand[mi:ma, 0], bins=n_bins-1)\n",
    "    _, hand_pos[:, 1] = np.histogram(hand[mi:ma, 1], bins=n_bins-1)\n",
    "    \n",
    "    cursor_pos = np.zeros((n_bins, 2))\n",
    "    _, cursor_pos[:, 0] = np.histogram(cursor[mi:ma,0], bins=n_bins-1)\n",
    "    _, cursor_pos[:, 1] = np.histogram(cursor[mi:ma,1], bins=n_bins-1)\n",
    "    \n",
    "    hand_vel = pos_to_vel(hand_pos, dt)\n",
    "    cursor_vel = pos_to_vel(cursor_pos, dt)\n",
    "\n",
    "    #reach_angle_rad = np.atan2(hand_pos[-1, 0], hand_pos[-1, 1])\n",
    "    reach_angle_rad = torch.atan2(torch.tensor(hand_pos[-1, 0]), torch.tensor(hand_pos[-1, 1])).numpy().astype(float)\n",
    "    reach_angle_deg = np.rad2deg(reach_angle_rad) + 360 / 2\n",
    "    reach_color = plt.cm.hsv(reach_angle_rad / (2 * np.pi) + 0.5)\n",
    "    \n",
    "    \"\"\"fill trial info / meta data\"\"\"\n",
    "    task_success = trialtable['task_success'][trial_id]\n",
    "    correct_reach = trialtable['correct_reach'][trial_id]\n",
    "    \n",
    "    \"\"\"fill maze info\"\"\"\n",
    "    trial_type = trialtable['trial_type'][trial_id]\n",
    "    trial_version = trialtable['trial_version'][trial_id]\n",
    "    maze_condition = trialtable['maze_condition'][trial_id]\n",
    "    num_targets = trialtable['maze_num_targets'][trial_id]\n",
    "    num_barriers = trialtable['maze_num_barriers'][trial_id]\n",
    "    targets_pos = trialtable['target_positions'][trial_id]\n",
    "    target_size = trialtable['target_size'][trial_id]\n",
    "    true_target = trialtable['hit_target_position'][trial_id]\n",
    "    \n",
    "    \"\"\"fill events and timing data\"\"\"\n",
    "    start_time = np.round(trialtable['start_time'][trial_id], decimals=3)\n",
    "    stop_time = np.round(trialtable['stop_time'][trial_id], decimals=3)\n",
    "    trial_len = stop_time - start_time\n",
    "    target_on_time = np.round(trialtable['target_presentation_time'][trial_id], decimals=3)\n",
    "    gocue_on_time = np.round(trialtable['go_cue_time'][trial_id], decimals=3)\n",
    "    move_starts_time = np.round(trialtable['move_begins_time'], decimals=3)\n",
    "    move_ends_time = np.round(trialtable['move_ends_time'][trial_id], decimals=3)\n",
    "    move_exec_time = move_ends_time - move_starts_time\n",
    "    reaction_time = np.round(trialtable['reaction_time'][trial_id], decimals=3)\n",
    "    delay_time = gocue_on_time - target_on_time\n",
    "\n",
    "    data['animal_id'].append(animal_id)\n",
    "    data['session_id'].append(session_id)\n",
    "    data['trial_id'].append(trial_id)\n",
    "    data['spikes'].append(torch.tensor(spikes, dtype=torch.float32))\n",
    "    data['hand_pos'].append(torch.tensor(hand_pos, dtype=torch.float32))\n",
    "    data['cursor_pos'].append(torch.tensor(cursor_pos, dtype=torch.float32))\n",
    "    data['hand_vel'].append(torch.tensor(hand_vel, dtype=torch.float32))\n",
    "    data['cursor_vel'].append(torch.tensor(cursor_vel, dtype=torch.float32))\n",
    "    data['reach_angle_rad'].append(reach_angle_rad)\n",
    "    data['reach_angle_deg'].append(reach_angle_deg)\n",
    "    data['reach_color'].append(reach_color)\n",
    "    \n",
    "    info['animal_id'].append(animal_id)\n",
    "    info['session_id'].append(session_id)\n",
    "    info['trial_id'].append(trial_id)\n",
    "    info['correct_reach'].append(correct_reach)\n",
    "    info['task_success'].append(task_success)\n",
    "    \n",
    "    events['animal_id'].append(animal_id)\n",
    "    events['session_id'].append(session_id)\n",
    "    events['trial_id'].append(trial_id)\n",
    "    events['start_time'].append(start_time)\n",
    "    events['stop_time'].append(stop_time)\n",
    "    events['trial_len'].append(stop_time)\n",
    "    events['target_on_time'].append(target_on_time)\n",
    "    events['gocue_on_time'].append(gocue_on_time)\n",
    "    events['move_starts_time'].append(gocue_on_time)\n",
    "    events['move_ends_time'].append(gocue_on_time)\n",
    "    events['delay_time'].append(delay_time)\n",
    "    events['reaction_time'].append(reaction_time)\n",
    "    events['movement_exec_time'].append(move_exec_time)\n",
    "    \n",
    "    maze['animal_id'].append(animal_id)\n",
    "    maze['session_id'].append(session_id)\n",
    "    maze['trial_id'].append(trial_id)\n",
    "    maze['trial_type'].append(trial_type)\n",
    "    maze['trial_version'].append(trial_version)\n",
    "    maze['maze_condition'].append(maze_condition)\n",
    "    maze['maze_num_targets'].append(num_targets)\n",
    "    maze['maze_num_barriers'].append(num_barriers)\n",
    "    maze['targets_position'].append(targets_pos)\n",
    "    maze['true_target'].append(true_target)\n",
    "    maze['target_size'].append(target_size)"
   ]
  },
  {
   "cell_type": "code",
   "execution_count": null,
   "metadata": {
    "jupyter": {
     "source_hidden": true
    },
    "tags": []
   },
   "outputs": [],
   "source": [
    "data_df = pd.DataFrame(data)\n",
    "info_df = pd.DataFrame(info)\n",
    "events_df = pd.DataFrame(events)\n",
    "maze_df = pd.DataFrame(maze)"
   ]
  },
  {
   "cell_type": "code",
   "execution_count": null,
   "metadata": {
    "ExecuteTime": {
     "end_time": "2024-11-11T18:22:37.675914Z",
     "start_time": "2024-11-11T18:22:37.660985Z"
    },
    "jupyter": {
     "source_hidden": true
    },
    "tags": []
   },
   "outputs": [],
   "source": [
    "dataset = df_concat = pd.concat([data_df, info_df, events_df, maze_df], axis=1)"
   ]
  },
  {
   "cell_type": "code",
   "execution_count": null,
   "metadata": {
    "ExecuteTime": {
     "end_time": "2024-11-11T18:22:46.116663Z",
     "start_time": "2024-11-11T18:22:46.101012Z"
    },
    "jupyter": {
     "source_hidden": true
    },
    "tags": []
   },
   "outputs": [],
   "source": [
    "dataset = dataset[dataset.task_success == 1]\n",
    "trialtable = dataset\n",
    "typ = dataset[dataset.correct_reach == 1]\n",
    "dev = dataset[dataset.correct_reach == 0]"
   ]
  },
  {
   "cell_type": "code",
   "execution_count": null,
   "metadata": {
    "ExecuteTime": {
     "end_time": "2024-11-14T18:47:00.619022Z",
     "start_time": "2024-11-14T18:47:00.613364Z"
    },
    "jupyter": {
     "source_hidden": true
    },
    "tags": []
   },
   "outputs": [],
   "source": [
    "trialtable = trialtable[trialtable.task_success == 1]\n",
    "typ = trialtable[trialtable.correct_reach == 1]\n",
    "dev = trialtable[trialtable.correct_reach == 0]"
   ]
  },
  {
   "cell_type": "code",
   "execution_count": null,
   "metadata": {
    "ExecuteTime": {
     "end_time": "2024-11-14T18:47:01.716210Z",
     "start_time": "2024-11-14T18:47:01.586857Z"
    },
    "jupyter": {
     "source_hidden": true
    },
    "tags": []
   },
   "outputs": [],
   "source": [
    "plt.hist(typ.reaction_time, bins='auto', density=True, alpha=0.7, edgecolor='gray')\n",
    "plt.hist(dev.reaction_time, bins='auto', density=True, alpha=0.7, edgecolor='gray')\n",
    "plt.show()"
   ]
  },
  {
   "cell_type": "code",
   "execution_count": null,
   "metadata": {
    "ExecuteTime": {
     "end_time": "2024-11-14T18:47:03.318226Z",
     "start_time": "2024-11-14T18:47:03.126757Z"
    },
    "jupyter": {
     "source_hidden": true
    },
    "tags": []
   },
   "outputs": [],
   "source": [
    "typ_rt = trialtable[(trialtable.correct_reach == 1)].reaction_time.values\n",
    "dev_rt = trialtable[(trialtable.correct_reach == 0)].reaction_time.values\n",
    "\n",
    "sns.kdeplot(typ_rt, fill=True, label='typical reaches')\n",
    "sns.kdeplot(dev_rt, fill=True, label='deviated reaches')\n",
    "\n",
    "plt.title('')\n",
    "plt.xlabel('reaction time (seconds)')\n",
    "plt.ylabel('density')\n",
    "plt.yticks([])\n",
    "plt.legend()\n",
    "#plt.savefig('/home/makki/opium/output_figs/reaction_time.png')\n",
    "plt.show()"
   ]
  },
  {
   "cell_type": "code",
   "execution_count": null,
   "metadata": {
    "ExecuteTime": {
     "end_time": "2024-11-14T21:18:03.993Z",
     "start_time": "2024-11-14T21:18:03.816391Z"
    },
    "jupyter": {
     "source_hidden": true
    },
    "tags": []
   },
   "outputs": [],
   "source": [
    "typ_delay = trialtable[(trialtable.correct_reach == 1)].move_begins_time.values - trialtable[(trialtable.correct_reach == 1)].go_cue_time.values\n",
    "dev_delay = trialtable[(trialtable.correct_reach == 0)].move_begins_time.values - trialtable[(trialtable.correct_reach == 0)].go_cue_time.values\n",
    "\n",
    "sns.kdeplot(typ_delay, fill=True, label='typical reaches')\n",
    "sns.kdeplot(dev_delay, fill=True, label='deviated reaches')\n",
    "\n",
    "plt.title('')\n",
    "plt.xlabel('rt (seconds)')\n",
    "plt.ylabel('density')\n",
    "plt.legend()\n",
    "#plt.savefig('/home/makki/opium/output_figs/delay_time.png')\n",
    "plt.show()"
   ]
  },
  {
   "cell_type": "code",
   "execution_count": null,
   "metadata": {
    "ExecuteTime": {
     "end_time": "2024-11-14T18:47:06.390798Z",
     "start_time": "2024-11-14T18:47:06.233949Z"
    },
    "jupyter": {
     "source_hidden": true
    },
    "tags": []
   },
   "outputs": [],
   "source": [
    "typ_mv_exec = trialtable[(trialtable.correct_reach == 1)].move_ends_time.values - trialtable[(trialtable.correct_reach == 1)].move_begins_time.values\n",
    "dev_mv_exec = trialtable[(trialtable.correct_reach == 0)].move_ends_time.values - trialtable[(trialtable.correct_reach == 0)].move_begins_time.values\n",
    "\n",
    "sns.kdeplot(typ_mv_exec, fill=True, label='typical reaches')\n",
    "sns.kdeplot(dev_mv_exec, fill=True, label='deviated reaches')\n",
    "\n",
    "plt.title('')\n",
    "plt.xlabel('movement execution time (seconds)')\n",
    "plt.ylabel('density')\n",
    "plt.yticks([])\n",
    "plt.legend()\n",
    "#plt.savefig('/home/makki/opium/output_figs/movement_execution_time.png')\n",
    "plt.show()"
   ]
  },
  {
   "cell_type": "code",
   "execution_count": null,
   "metadata": {
    "ExecuteTime": {
     "end_time": "2024-11-14T18:47:13.594576Z",
     "start_time": "2024-11-14T18:47:13.403010Z"
    },
    "jupyter": {
     "source_hidden": true
    },
    "tags": []
   },
   "outputs": [],
   "source": [
    "typ_delay = trialtable[(trialtable.correct_reach == 1)].go_cue_time.values - trialtable[(trialtable.correct_reach == 1)].target_presentation_time.values\n",
    "dev_delay = trialtable[(trialtable.correct_reach == 0)].go_cue_time.values - trialtable[(trialtable.correct_reach == 0)].target_presentation_time.values\n",
    "\n",
    "sns.kdeplot(dev_delay, fill=True, label='deviated reaches')\n",
    "sns.kdeplot(typ_delay, fill=True, label='typical reaches')\n",
    "\n",
    "plt.title('')\n",
    "plt.xlabel('delay (seconds)')\n",
    "plt.ylabel('density')\n",
    "plt.legend()\n",
    "#plt.savefig('/home/makki/opium/output_figs/delay_time.png')\n",
    "plt.show()"
   ]
  },
  {
   "cell_type": "code",
   "execution_count": null,
   "metadata": {
    "ExecuteTime": {
     "end_time": "2024-11-14T18:47:22.968287Z",
     "start_time": "2024-11-14T18:47:22.800379Z"
    },
    "jupyter": {
     "source_hidden": true
    },
    "tags": []
   },
   "outputs": [],
   "source": [
    "typ_mv_beg = trialtable[(trialtable.correct_reach == 1)].move_begins_time.values - trialtable[(trialtable.correct_reach == 1)].start_time.values\n",
    "dev_mv_beg = trialtable[(trialtable.correct_reach == 0)].move_begins_time.values - trialtable[(trialtable.correct_reach == 0)].start_time.values\n",
    "\n",
    "sns.kdeplot(typ_mv_beg, fill=True, label='typical reaches')\n",
    "sns.kdeplot(dev_mv_beg, fill=True, label='deviated reaches')\n",
    "\n",
    "plt.title('')\n",
    "plt.xlabel('beginning of movement')\n",
    "plt.ylabel('density')\n",
    "plt.yticks([])\n",
    "plt.legend()\n",
    "#plt.savefig('/home/makki/opium/output_figs/movement_begins.png')\n",
    "plt.show()"
   ]
  },
  {
   "cell_type": "code",
   "execution_count": null,
   "metadata": {
    "ExecuteTime": {
     "end_time": "2024-11-14T18:47:30.514642Z",
     "start_time": "2024-11-14T18:47:30.348902Z"
    },
    "jupyter": {
     "source_hidden": true
    },
    "tags": []
   },
   "outputs": [],
   "source": [
    "typ_mv_end = trialtable[(trialtable.correct_reach == 1)].move_ends_time.values - trialtable[(trialtable.correct_reach == 1)].start_time.values\n",
    "dev_mv_end = trialtable[(trialtable.correct_reach == 0)].move_ends_time.values - trialtable[(trialtable.correct_reach == 0)].start_time.values\n",
    "\n",
    "sns.kdeplot(typ_mv_end, fill=True, label='typical reaches')\n",
    "sns.kdeplot(dev_mv_end, fill=True, label='deviated reaches')\n",
    "\n",
    "plt.title('')\n",
    "plt.xlabel('end of movement')\n",
    "plt.ylabel('density')\n",
    "plt.yticks([])\n",
    "plt.legend()\n",
    "#plt.savefig('/home/makki/opium/output_figs/movement_ends.png')\n",
    "plt.show()"
   ]
  },
  {
   "cell_type": "code",
   "execution_count": null,
   "metadata": {
    "ExecuteTime": {
     "end_time": "2024-11-14T18:47:33.062129Z",
     "start_time": "2024-11-14T18:47:32.900751Z"
    },
    "jupyter": {
     "source_hidden": true
    },
    "tags": []
   },
   "outputs": [],
   "source": [
    "typ_trial_len = trialtable[(trialtable.correct_reach == 1)].stop_time.values - trialtable[(trialtable.correct_reach == 1)].start_time.values\n",
    "dev_trial_len = trialtable[(trialtable.correct_reach == 0)].stop_time.values - trialtable[(trialtable.correct_reach == 0)].start_time.values\n",
    "\n",
    "sns.kdeplot(typ_trial_len, fill=True, label='typical reaches')\n",
    "sns.kdeplot(dev_trial_len, fill=True, label='deviated reaches')\n",
    "\n",
    "plt.title('')\n",
    "plt.xlabel('trial length')\n",
    "plt.ylabel('density')\n",
    "plt.yticks([])\n",
    "plt.legend()\n",
    "#plt.savefig('/home/makki/opium/output_figs/trial_length.png')\n",
    "plt.show()"
   ]
  },
  {
   "cell_type": "code",
   "execution_count": null,
   "metadata": {
    "ExecuteTime": {
     "end_time": "2024-11-14T20:50:18.688639Z",
     "start_time": "2024-11-14T20:50:18.387435Z"
    },
    "jupyter": {
     "source_hidden": true
    },
    "tags": []
   },
   "outputs": [],
   "source": [
    "typ_trials = trialtable[(trialtable.correct_reach == 1)]\n",
    "dev_trials = trialtable[(trialtable.correct_reach == 0)]\n",
    "    \n",
    "iti = np.array([trialtable.iloc[trial_id+1].start_time - trialtable.iloc[trial_id].start_time for trial_id in range(n_trials-1)])\n",
    "\n",
    "sns.kdeplot(iti[typ_trials.index.tolist()[:-1]], fill=True, label='typical reaches')\n",
    "sns.kdeplot(iti[dev_trials.index.tolist()[:-1]], fill=True, label='deviated reaches')\n",
    "\n",
    "plt.title('')\n",
    "plt.xlabel('inter-trial time')\n",
    "plt.ylabel('density')\n",
    "plt.yticks([])\n",
    "plt.legend()\n",
    "plt.xlim(right=20)\n",
    "#plt.savefig('/home/makki/opium/output_figs/intertrial_time.png')\n",
    "plt.show()"
   ]
  },
  {
   "cell_type": "markdown",
   "metadata": {},
   "source": [
    "### Out-of-sample Behavioral Analysis"
   ]
  },
  {
   "cell_type": "code",
   "execution_count": null,
   "metadata": {
    "ExecuteTime": {
     "end_time": "2024-11-21T15:55:51.174577Z",
     "start_time": "2024-11-21T15:55:51.159Z"
    },
    "tags": []
   },
   "outputs": [],
   "source": [
    "trialtable = trialtable[trialtable.task_success == 1].reset_index()\n",
    "\n",
    "trialtable['trial_id'] = trialtable.index\n",
    "trialtable['animal_id'] = ANIMAL_ID\n",
    "trialtable['session_id'] = SESSION_ID\n",
    "\n",
    "proto_trials = trialtable[trialtable.proto_trial == 1].reset_index()\n",
    "typ_trials = trialtable[trialtable.correct_reach == 1].reset_index()\n",
    "dev_trials = trialtable[trialtable.correct_reach == 0].reset_index()"
   ]
  },
  {
   "cell_type": "code",
   "execution_count": null,
   "metadata": {
    "ExecuteTime": {
     "end_time": "2024-11-21T15:55:52.253785Z",
     "start_time": "2024-11-21T15:55:51.892724Z"
    },
    "jupyter": {
     "source_hidden": true
    },
    "tags": []
   },
   "outputs": [],
   "source": [
    "rt = np.array([trialtable.iloc[trial_id].move_begins_time - trialtable.iloc[trial_id].go_cue_time for trial_id in range(len(trialtable))])\n",
    "\n",
    "sns.kdeplot(rt[typ_trials.index.tolist()[:-1]], fill=True, label='typical reaches')\n",
    "sns.kdeplot(rt[dev_trials.index.tolist()[:-1]], fill=True, label='deviated reaches')\n",
    "\n",
    "plt.title('')\n",
    "plt.xlabel('inter-trial time')\n",
    "plt.ylabel('density')\n",
    "plt.yticks([])\n",
    "plt.legend()\n",
    "#plt.savefig('/home/makki/opium/output_figs/intertrial_time.png')\n",
    "plt.show()"
   ]
  },
  {
   "cell_type": "code",
   "execution_count": null,
   "metadata": {
    "ExecuteTime": {
     "end_time": "2024-11-21T15:55:52.826046Z",
     "start_time": "2024-11-21T15:55:52.513925Z"
    },
    "jupyter": {
     "source_hidden": true
    },
    "tags": []
   },
   "outputs": [],
   "source": [
    "iti = np.array([trialtable.iloc[trial_id+1].start_time - trialtable.iloc[trial_id].start_time for trial_id in range(len(trialtable)-1)])\n",
    "\n",
    "sns.kdeplot(iti[typ_trials.index.tolist()[:-1]], fill=True, label='typical reaches')\n",
    "sns.kdeplot(iti[dev_trials.index.tolist()[:-1]], fill=True, label='deviated reaches')\n",
    "\n",
    "plt.title('')\n",
    "plt.xlabel('inter-trial time')\n",
    "plt.ylabel('density')\n",
    "plt.yticks([])\n",
    "plt.legend()\n",
    "plt.xlim(right=20)\n",
    "#plt.savefig('/home/makki/opium/output_figs/intertrial_time.png')\n",
    "plt.show()"
   ]
  },
  {
   "cell_type": "code",
   "execution_count": null,
   "metadata": {
    "ExecuteTime": {
     "end_time": "2024-11-21T15:55:52.910784Z",
     "start_time": "2024-11-21T15:55:52.907539Z"
    },
    "tags": []
   },
   "outputs": [],
   "source": [
    "trialtable.maze_condition.value_counts()"
   ]
  },
  {
   "cell_type": "code",
   "execution_count": null,
   "metadata": {
    "ExecuteTime": {
     "end_time": "2024-11-21T15:55:52.952099Z",
     "start_time": "2024-11-21T15:55:52.949146Z"
    },
    "tags": []
   },
   "outputs": [],
   "source": [
    "\"\"\"\n",
    "Note that there are no typical trials with the maze condition 0. \n",
    "\"\"\"\n",
    "typ_trials.maze_condition.value_counts()"
   ]
  },
  {
   "cell_type": "code",
   "execution_count": null,
   "metadata": {
    "ExecuteTime": {
     "end_time": "2024-11-21T15:55:53.271549Z",
     "start_time": "2024-11-21T15:55:53.266639Z"
    },
    "tags": []
   },
   "outputs": [],
   "source": [
    "\"\"\"\n",
    "Note that all trials with the maze condition 0 have deviated reaches.. \n",
    "\"\"\"\n",
    "dev_trials.maze_condition.value_counts()"
   ]
  },
  {
   "cell_type": "code",
   "execution_count": null,
   "metadata": {
    "ExecuteTime": {
     "end_time": "2024-11-21T15:55:53.567895Z",
     "start_time": "2024-11-21T15:55:53.433749Z"
    },
    "jupyter": {
     "source_hidden": true
    },
    "tags": []
   },
   "outputs": [],
   "source": [
    "\"\"\"\"trials length distributio\"\"\"\n",
    "\n",
    "trial_len = trialtable.stop_time.values - trialtable.start_time.values\n",
    "typ_trial_len = typ_trials.stop_time.values - typ_trials.start_time.values\n",
    "dev_trial_len = dev_trials.stop_time.values - dev_trials.start_time.values\n",
    "\n",
    "sns.kdeplot(trial_len, fill=True, label='all reaches')\n",
    "sns.kdeplot(typ_trial_len, fill=True, label='typical reaches')\n",
    "sns.kdeplot(dev_trial_len, fill=True, label='deviated reaches')\n",
    "\n",
    "print(trial_len.min())\n",
    "print(trial_len.max())\n",
    "print(trial_len.mean())\n",
    "\n",
    "plt.title('')\n",
    "plt.xlabel('trial length')\n",
    "plt.ylabel('density')\n",
    "plt.yticks([])\n",
    "plt.legend()\n",
    "#plt.savefig('/home/makki/opium/output_figs/trial_length.png')\n",
    "plt.show()"
   ]
  },
  {
   "cell_type": "code",
   "execution_count": null,
   "metadata": {
    "ExecuteTime": {
     "end_time": "2024-11-21T15:55:53.791899Z",
     "start_time": "2024-11-21T15:55:53.680650Z"
    },
    "jupyter": {
     "source_hidden": true
    },
    "tags": []
   },
   "outputs": [],
   "source": [
    "\"\"\"trials length distributio per specific maze condition\"\"\"\n",
    "\n",
    "#trial_len = trialtable.stop_time.values - trialtable.start_time.values\n",
    "#typ_trial_len = typ_trials.stop_time.values - typ_trials.start_time.values\n",
    "#dev_trial_len = dev_trials.stop_time.values - dev_trials.start_time.values\n",
    "\n",
    "cond_inspec = 0\n",
    "\n",
    "trial_len = trialtable[trialtable.maze_condition == cond_inspec].stop_time.values - trialtable[trialtable.maze_condition == cond_inspec].start_time.values\n",
    "typ_trial_len = typ_trials[typ_trials.maze_condition == cond_inspec].stop_time.values - typ_trials[typ_trials.maze_condition == cond_inspec].start_time.values\n",
    "dev_trial_len = dev_trials[dev_trials.maze_condition == cond_inspec].stop_time.values - dev_trials[dev_trials.maze_condition == cond_inspec].start_time.values\n",
    "\n",
    "sns.kdeplot(trial_len, fill=True, label=f'all reaches in cond {cond_inspec}')\n",
    "sns.kdeplot(typ_trial_len, fill=True, label=f'typical reaches in cond {cond_inspec}')\n",
    "sns.kdeplot(dev_trial_len, fill=True, label=f'deviated reaches in cond {cond_inspec}')\n",
    "\n",
    "print(trial_len.min())\n",
    "print(trial_len.max())\n",
    "print(trial_len.mean())\n",
    "\n",
    "plt.title('')\n",
    "plt.xlabel('trial length')\n",
    "plt.ylabel('density')\n",
    "plt.yticks([])\n",
    "plt.legend()\n",
    "#plt.savefig('/home/makki/opium/output_figs/trial_length.png')\n",
    "plt.show()"
   ]
  },
  {
   "cell_type": "code",
   "execution_count": null,
   "metadata": {
    "ExecuteTime": {
     "end_time": "2024-11-21T15:55:54.839892Z",
     "start_time": "2024-11-21T15:55:54.453225Z"
    },
    "tags": []
   },
   "outputs": [],
   "source": [
    "DECIMALS = 3 #of second\n",
    "BINSIZE_MS = 20\n",
    "BINSIZE = BINSIZE_MS * pow(10, -DECIMALS)\n",
    "\n",
    "BINS_BEFORE = int(np.ceil(800/BINSIZE_MS))\n",
    "BINS_AFTER = int(np.ceil(1200/BINSIZE_MS))\n",
    "\n",
    "N_BINS = BINS_BEFORE + BINS_AFTER\n",
    "\n",
    "EVENTS = {'target_on': 1,\n",
    "          'gocue_on': 2,\n",
    "          'move_start': 3,\n",
    "          'move_end': 4,}\n",
    "\n",
    "hand_data = nwb.processing['behavior'].data_interfaces['Position'].spatial_series['Hand'].data[:] # x, y \n",
    "cursor_data = nwb.processing['behavior'].data_interfaces['Position'].spatial_series['Cursor'].data[:] # x, y\n",
    "session_time = np.round(nwb.processing['behavior'].data_interfaces['Position'].spatial_series['Hand'].timestamps[:] + 0.0001, decimals=DECIMALS)\n",
    "\n",
    "neurons = nwb.units.to_dataframe()['spike_times'] # Neuron id x Spike Time\n",
    "targeton = np.round(trialtable['target_presentation_time'], decimals=DECIMALS)\n",
    "gocue = np.round(trialtable['go_cue_time'], decimals=DECIMALS)\n",
    "startmov = np.round(trialtable['move_begins_time'], decimals=DECIMALS)\n",
    "endmov = np.round(trialtable['move_ends_time'], decimals=DECIMALS)\n",
    "reactiontime = np.round(trialtable['reaction_time'], decimals=DECIMALS)\n",
    "\n",
    "conds = trialtable['maze_condition'].values\n",
    "\n",
    "true_targets = trialtable['hit_target_position'].values\n",
    "\n",
    "n_trials = len(trialtable)\n",
    "n_typ_trials = len(typ_trials)\n",
    "n_dev_trials = len(dev_trials)\n",
    "n_neurons = neurons.shape[0]"
   ]
  },
  {
   "cell_type": "code",
   "execution_count": null,
   "metadata": {
    "ExecuteTime": {
     "end_time": "2024-11-21T15:55:57.650242Z",
     "start_time": "2024-11-21T15:55:57.636928Z"
    },
    "tags": []
   },
   "outputs": [],
   "source": [
    "def make_grid(trialtable: pd.DataFrame, trial_id:int, dt:float) -> tuple:\n",
    "    \n",
    "    min_T = np.round(trialtable['start_time'][trial_id], decimals=DECIMALS) # Trial start time\n",
    "    max_T = np.round(trialtable['stop_time'][trial_id], decimals=DECIMALS) # Trial end time\n",
    "\n",
    "    mi = np.nonzero(session_time > min_T)[0][0]\n",
    "    ma = np.nonzero(session_time < max_T)[0][-1]\n",
    "\n",
    "    grid = np.arange(min_T, max_T + dt, dt) #seconds\n",
    "    grid = np.round(grid, decimals=DECIMALS)\n",
    "    \n",
    "    return (min_T, max_T, mi, ma, grid)\n",
    "\n",
    "\n",
    "def pos_to_vel(pos: np.ndarray) -> torch.Tensor:\n",
    "    return np.diff(pos, axis=0)\n",
    "\n",
    "\n",
    "def where(ev, grid):\n",
    "    try:\n",
    "        return np.where(grid == ev)[0][-1]\n",
    "    except IndexError:\n",
    "        return (np.abs(grid - ev)).argmin()\n",
    "            \n",
    "            \n",
    "def get_events_bin(trialtable: pd.DataFrame, dt: float) -> torch.Tensor:\n",
    "    \n",
    "    event_bins = []\n",
    "    \n",
    "    for trial_id in tqdm(range(len(trialtable))):\n",
    "\n",
    "        min_T, max_T, mi, ma, grid = make_grid(trialtable, trial_id, dt)\n",
    "        n_bins = len(grid)\n",
    "        events_binned = np.zeros((n_bins,))\n",
    "                \n",
    "        if targeton[trial_id] > 0:\n",
    "            ti = where(grid, targeton[trial_id])\n",
    "            events_binned[ti] = 1 #target on\n",
    "            \n",
    "        if gocue[trial_id] > 0 and gocue[trial_id] <= grid[-1]:\n",
    "            gi = where(grid, gocue[trial_id])\n",
    "            if gi == ti:\n",
    "                gi += 1\n",
    "            events_binned[gi] = 2 #go cue\n",
    "    \n",
    "        if startmov[trial_id] > 0:\n",
    "            events_binned[where(grid, startmov[trial_id])] = 3 #move start\n",
    "    \n",
    "        if endmov[trial_id] > 0:\n",
    "            events_binned[where(grid, endmov[trial_id])] = 4 #move end\n",
    "            \n",
    "        event_bins.append(events_binned)\n",
    "            \n",
    "    return event_bins\n",
    "\n",
    "\n",
    "def binned_behavior(trialtable: pd.DataFrame, pos_data: pd.DataFrame, dt: float) -> tuple[torch.Tensor, torch.Tensor]:\n",
    "    \n",
    "    pos = []\n",
    "    vel = []\n",
    "    for trial_id in tqdm(range(len(trialtable))):\n",
    "        \n",
    "        min_T, max_T, mi, ma, grid = make_grid(trialtable, trial_id, dt)\n",
    "        n_bins = len(grid)\n",
    "        \n",
    "        pos_binned = np.zeros((n_bins, 2))\n",
    "        _, pos_binned[:, 0] = np.histogram(pos_data[mi:ma, 0], bins=n_bins-1)\n",
    "        _, pos_binned[:, 1] = np.histogram(pos_data[mi:ma, 1], bins=n_bins-1)\n",
    "        pos.append(torch.tensor(pos_binned, dtype=torch.float64))\n",
    "        \n",
    "        vel_binned = pos_to_vel(pos_binned)\n",
    "        vel.append(torch.tensor(vel_binned, dtype=torch.float64))\n",
    "        \n",
    "    return (pos, vel)\n",
    "\n",
    "\n",
    "def align_event(timeseries, events: List, event_idx: int, bins_before: int, bins_after: int) -> torch.Tensor:\n",
    "    \n",
    "    n_trials = len(timeseries)\n",
    "    n_bins = bins_before + bins_after\n",
    "    seq = torch.zeros((n_trials, n_bins, 2))\n",
    "    \n",
    "    for trial_id in tqdm(range(n_trials)):\n",
    "        ei = where(events[trial_id], event_idx)\n",
    "        #ei = np.where(events[trial_id] == event_idx)[0][0]\n",
    "        seq[trial_id] = timeseries[trial_id][ei-bins_before : ei+bins_after, :]\n",
    "        \n",
    "    return seq\n",
    "\n",
    "\n",
    "def cond_avg_reaches(reaches: torch.Tensor, trialtable: pd.DataFrame) -> torch.Tensor:\n",
    "    \n",
    "    conds = torch.tensor(trialtable.maze_condition.values)\n",
    "    uniq_conds, _ = torch.tensor(trialtable.maze_condition.unique()).sort()\n",
    "    n_conds = uniq_conds.shape[0]\n",
    "    _, n_bins, _= reaches.shape\n",
    "    avg_reaches = torch.zeros((n_conds, n_bins, 2))\n",
    "    \n",
    "    for ci, cond in enumerate(uniq_conds):\n",
    "        avg_reaches[ci] = torch.mean(reaches[conds == cond], axis=0)\n",
    "\n",
    "    return avg_reaches"
   ]
  },
  {
   "cell_type": "code",
   "execution_count": null,
   "metadata": {
    "ExecuteTime": {
     "end_time": "2024-11-21T15:56:25.125248Z",
     "start_time": "2024-11-21T15:55:59.422900Z"
    },
    "tags": []
   },
   "outputs": [],
   "source": [
    "events = get_events_bin(trialtable, BINSIZE)"
   ]
  },
  {
   "cell_type": "code",
   "execution_count": null,
   "metadata": {
    "ExecuteTime": {
     "end_time": "2024-11-18T10:26:22.805141Z",
     "start_time": "2024-11-18T10:25:57.104723Z"
    }
   },
   "outputs": [],
   "source": [
    "def get_events_bin(trialtable: pd.DataFrame, dt: float) -> torch.Tensor:\n",
    "    \n",
    "    event_bins = {'ids': [], 'seqs': []}\n",
    "    \n",
    "    for trial_id in tqdm(range(len(trialtable))):\n",
    "\n",
    "        min_T, max_T, mi, ma, grid = make_grid(trialtable, trial_id, dt)\n",
    "        n_bins = len(grid)\n",
    "        events_binned = np.zeros((n_bins,))\n",
    "                \n",
    "        if targeton[trial_id] > 0:\n",
    "            ti = where(grid, targeton[trial_id])\n",
    "            events_binned[ti] = 1 #target on\n",
    "            \n",
    "        if gocue[trial_id] > 0 and gocue[trial_id] <= grid[-1]:\n",
    "            gi = where(grid, gocue[trial_id])\n",
    "            if gi == ti:\n",
    "                gi += 1\n",
    "            events_binned[gi] = 2 #go cue\n",
    "    \n",
    "        if startmov[trial_id] > 0:\n",
    "            events_binned[where(grid, startmov[trial_id])] = 3 #move start\n",
    "    \n",
    "        if endmov[trial_id] > 0:\n",
    "            events_binned[where(grid, endmov[trial_id])] = 4 #move end\n",
    "        \n",
    "        event_bins['ids'].append(trial_id)\n",
    "        event_bins['seqs'].append(events_binned)\n",
    "            \n",
    "    return event_bins\n",
    "\n",
    "events = get_events_bin(trialtable, BINSIZE)"
   ]
  },
  {
   "cell_type": "code",
   "execution_count": null,
   "metadata": {
    "ExecuteTime": {
     "end_time": "2024-11-18T12:58:16.333886Z",
     "start_time": "2024-11-18T12:58:16.315565Z"
    }
   },
   "outputs": [],
   "source": [
    "import pickle\n",
    "\n",
    "with open(\"/home/makki/opium/output_figs/event_bins.pkl\", \"wb\") as pickle_file:\n",
    "    pickle.dump(events, pickle_file)"
   ]
  },
  {
   "cell_type": "code",
   "execution_count": null,
   "metadata": {
    "ExecuteTime": {
     "end_time": "2024-11-18T10:24:18.384152Z",
     "start_time": "2024-11-18T10:24:18.235625Z"
    }
   },
   "outputs": [],
   "source": [
    "import json\n",
    "\n",
    "with open(\"/home/makki/opium/output_figs/event_bins.json\", \"w\") as json_file:\n",
    "    json.dump(events, json_file)"
   ]
  },
  {
   "cell_type": "code",
   "execution_count": null,
   "metadata": {
    "ExecuteTime": {
     "end_time": "2024-11-21T15:57:30.194871Z",
     "start_time": "2024-11-21T15:56:37.011811Z"
    },
    "tags": []
   },
   "outputs": [],
   "source": [
    "hand_pos_binned, hand_vel_binned = binned_behavior(trialtable, hand_data, dt=BINSIZE)\n",
    "cursor_pos_binned, cursor_vel_binned = binned_behavior(trialtable, cursor_data, dt=BINSIZE)"
   ]
  },
  {
   "cell_type": "code",
   "execution_count": null,
   "metadata": {
    "ExecuteTime": {
     "end_time": "2024-11-21T15:57:30.281740Z",
     "start_time": "2024-11-21T15:57:30.230155Z"
    },
    "tags": []
   },
   "outputs": [],
   "source": [
    "hand_pos = align_event(hand_pos_binned, events, EVENTS['move_start'], BINS_BEFORE, BINS_AFTER)\n",
    "hand_vel = align_event(hand_vel_binned, events, EVENTS['move_start'], BINS_BEFORE, BINS_AFTER)"
   ]
  },
  {
   "cell_type": "code",
   "execution_count": null,
   "metadata": {
    "ExecuteTime": {
     "end_time": "2024-11-13T22:10:14.789046Z",
     "start_time": "2024-11-13T22:10:14.784828Z"
    }
   },
   "outputs": [],
   "source": [
    "gocue[248]"
   ]
  },
  {
   "cell_type": "code",
   "execution_count": null,
   "metadata": {
    "ExecuteTime": {
     "end_time": "2024-11-13T22:10:38.918110Z",
     "start_time": "2024-11-13T22:10:38.914Z"
    }
   },
   "outputs": [],
   "source": [
    "hand_pos_binned[248].shape"
   ]
  },
  {
   "cell_type": "code",
   "execution_count": null,
   "metadata": {
    "ExecuteTime": {
     "end_time": "2024-11-13T22:11:37.223219Z",
     "start_time": "2024-11-13T22:11:37.218965Z"
    }
   },
   "outputs": [],
   "source": [
    "where(events[248], 2)"
   ]
  },
  {
   "cell_type": "code",
   "execution_count": null,
   "metadata": {
    "ExecuteTime": {
     "end_time": "2024-11-13T22:11:52.817538Z",
     "start_time": "2024-11-13T22:11:52.812901Z"
    },
    "tags": []
   },
   "outputs": [],
   "source": [
    "where(events[248], 2) * 20"
   ]
  },
  {
   "cell_type": "code",
   "execution_count": null,
   "metadata": {
    "ExecuteTime": {
     "end_time": "2024-11-13T22:10:19.298121Z",
     "start_time": "2024-11-13T22:10:19.292893Z"
    },
    "tags": []
   },
   "outputs": [],
   "source": [
    "events[248]"
   ]
  },
  {
   "cell_type": "code",
   "execution_count": null,
   "metadata": {
    "ExecuteTime": {
     "end_time": "2024-11-13T22:00:50.494382Z",
     "start_time": "2024-11-13T22:00:50.489942Z"
    },
    "tags": []
   },
   "outputs": [],
   "source": [
    "hand_pos_binned[1].shape"
   ]
  },
  {
   "cell_type": "code",
   "execution_count": null,
   "metadata": {
    "ExecuteTime": {
     "end_time": "2024-11-13T21:51:29.433672Z",
     "start_time": "2024-11-13T21:51:29.342210Z"
    }
   },
   "outputs": [],
   "source": [
    "cond = 3\n",
    "true_target = true_targets[trialtable[trialtable.maze_condition == cond].trial_id.values][0]\n",
    "\n",
    "fig = plt.figure(figsize=(6, 6))\n",
    "ax = fig.add_axes([0.1, 0.1, 0.8, 0.8])\n",
    "\n",
    "'''\n",
    "for trial_id in trialtable[trialtable.maze_condition == cond].trial_id.values:\n",
    "    traj = torch.cumsum(hand_pos_binned[trial_id], dim=0) #- hand_pos[mask].mean(dim=0)[0]\n",
    "    #reach_angle = torch.atan2(traj[ -1, 0], traj[-1, 1])\n",
    "    reach_angle = np.atan2(true_target[0], true_target[1])\n",
    "    #reach_angles_deg = torch.rad2deg(reach_angle) + 360 / 2\n",
    "    reach_colors = plt.cm.hsv(reach_angle / (2 * np.pi) + 0.5)\n",
    "\n",
    "    ax.plot(traj[:, 0], traj[:, 1], linewidth=0.7, color=plt.cm.hsv(reach_angle / (2*np.pi) + 0.5))\n",
    "'''\n",
    "\n",
    "for trial_id in typ_trials[typ_trials.maze_condition == cond].trial_id.values:\n",
    "    traj = torch.cumsum(hand_pos_binned[trial_id], dim=0)\n",
    "    ax.plot(traj[:, 0], traj[:, 1], linewidth=0.8, alpha=0.4, color='navy')\n",
    "    \n",
    "for trial_id in dev_trials[dev_trials.maze_condition == cond].trial_id.values:\n",
    "    traj = torch.cumsum(hand_pos_binned[trial_id], dim=0)\n",
    "    ax.plot(traj[:, 0], traj[:, 1], linewidth=0.8, alpha=0.8, color='gold')\n",
    "\n",
    "proto_trial_id = proto_trials[proto_trials.maze_condition == cond].trial_id.values[0]\n",
    "proto_reach = torch.cumsum(hand_pos_binned[proto_trial_id], dim=0)\n",
    "ax.plot(proto_reach[:, 0], proto_reach[:, 1], linewidth=0.8, alpha=0.8, color='magenta')\n",
    "    \n",
    "#plt.axis('off')\n",
    "plt.show()  "
   ]
  },
  {
   "cell_type": "code",
   "execution_count": null,
   "metadata": {
    "ExecuteTime": {
     "end_time": "2024-11-13T21:35:43.122112Z",
     "start_time": "2024-11-13T21:35:43.042610Z"
    }
   },
   "outputs": [],
   "source": [
    "pos_around_target = align_event(hand_pos_binned, events, EVENTS['target_on'], BINS_BEFORE, BINS_AFTER)\n",
    "pos_around_go = align_event(hand_pos_binned, events, EVENTS['gocue_on'], BINS_BEFORE, BINS_AFTER)\n",
    "pos_around_move = align_event(hand_pos_binned, events, EVENTS['move_start'], BINS_BEFORE, BINS_AFTER)\n",
    "\n",
    "hand_pos = torch.concat([pos_around_target, pos_around_go, pos_around_move], axis=1)\n",
    "\n",
    "print(pos_around_target.shape)\n",
    "print(hand_pos.shape)"
   ]
  },
  {
   "cell_type": "markdown",
   "metadata": {},
   "source": [
    "### Plotting trajectories"
   ]
  },
  {
   "cell_type": "code",
   "execution_count": null,
   "metadata": {
    "ExecuteTime": {
     "end_time": "2024-11-13T21:51:36.199968Z",
     "start_time": "2024-11-13T21:51:36.191362Z"
    }
   },
   "outputs": [],
   "source": [
    "uniq_conds = trialtable.set_index(['trial_type', 'trial_version']).index.unique().tolist()\n",
    "maze_conds = [cond for cond in uniq_conds if not any(math.isnan(c) for c in cond)]\n",
    "len(maze_conds)"
   ]
  },
  {
   "cell_type": "code",
   "execution_count": null,
   "metadata": {
    "ExecuteTime": {
     "end_time": "2024-11-13T21:53:15.755747Z",
     "start_time": "2024-11-13T21:53:15.200889Z"
    }
   },
   "outputs": [],
   "source": [
    "## Plot trial-averaged reaches\n",
    "\n",
    "# Find unique conditions\n",
    "maze_conds = trialtable.set_index(['trial_type', 'trial_version']).index.unique().tolist()\n",
    "maze_conds = [cond for cond in maze_conds if not any(math.isnan(c) for c in cond)]\n",
    "\n",
    "orig_conds = {}\n",
    "\n",
    "fig = plt.figure(figsize=(6, 6))\n",
    "fig.suptitle('trial-averaged reach conditions')\n",
    "ax = fig.add_axes([0.1, 0.1, 0.8, 0.8])\n",
    "\n",
    "# Loop over conditions and compute average trajectory\n",
    "for cond_idx, cond in enumerate(maze_conds):\n",
    "    # Find trials in condition\n",
    "    mask = np.all(trialtable[['trial_type', 'trial_version']] == cond, axis=1)\n",
    "    trials = trialtable[mask]\n",
    "    traj = torch.cumsum(hand_pos[mask].mean(axis=0), axis=0) #- hand_pos[mask].mean(dim=0)[0]\n",
    "    # Determine reach angle for color\n",
    "    #reach_angle = torch.atan2(traj[ -1, 0], traj[-1, 1])\n",
    "    true_target = true_targets[mask][0]\n",
    "    reach_angle = np.atan2(true_target[0], true_target[1])\n",
    "    #reach_angles_deg = torch.rad2deg(reach_angle) + 360 / 2\n",
    "    reach_colors = plt.cm.hsv(reach_angle / (2 * np.pi) + 0.5)\n",
    "\n",
    "    # Plot reach\n",
    "    ax.plot(traj[:, 0], traj[:, 1], linewidth=0.7, color=plt.cm.hsv(reach_angle / (2*np.pi) + 0.5))\n",
    "    \n",
    "    orig_conds[cond_idx] = trials.trial_id.drop_duplicates().values\n",
    "    \n",
    "maze_conds = torch.tensor(maze_conds)\n",
    "    \n",
    "#plt.axis('off')\n",
    "plt.show()\n",
    "'''\n",
    "conds = []\n",
    "for trial_id, trial in trial_data.groupby('trial_id'):\n",
    "    trial_id_trial_info = trial_info[trial_info['trial_id'] == trial_id]\n",
    "    \n",
    "    for cond, trial_ids in orig_conds.items():\n",
    "        if trial_id in trial_ids:\n",
    "            conds.append(cond)\n",
    "            break\n",
    "conds = torch.tensor(conds)\n",
    "'''          \n",
    "maze_conds = torch.tensor(maze_conds)\n",
    "\n",
    "print(maze_conds.shape)\n",
    "print(orig_conds.keys())"
   ]
  },
  {
   "cell_type": "code",
   "execution_count": null,
   "metadata": {
    "ExecuteTime": {
     "end_time": "2024-11-13T21:53:18.128265Z",
     "start_time": "2024-11-13T21:53:18.117949Z"
    }
   },
   "outputs": [],
   "source": [
    "def get_avg_trajectory(reaches: torch.Tensor, conds:torch.Tensor, cond: int) -> torch.Tensor:\n",
    "    \n",
    "    return torch.mean(reaches[conds == cond], axis=0)\n",
    "\n",
    "\n",
    "def sort_cond_trajectories_by_deviation(reaches: torch.Tensor, conds:torch.Tensor, cond: int) -> torch.Tensor:\n",
    "    \n",
    "    trajectories = reaches[conds == cond]\n",
    "    n_trajectories, _, _ = trajectories.shape\n",
    "    avg_reach = torch.mean(trajectories, axis=0)\n",
    "    \n",
    "    return trajectories[torch.sort(torch.tensor([dis for dis in [torch.norm(trajectories[ri] - avg_reach) for ri in range(n_trajectories)]]))[1]]\n",
    "\n",
    "\n",
    "def plot_trajectories(reaches: torch.Tensor, conds: torch.Tensor, cond_to_plot:int, true_targets:np.ndarray):\n",
    "    \n",
    "    # get the trajectories from that condition\n",
    "    trajectories = reaches[conds == cond_to_plot]\n",
    "    avg_reach = torch.mean(trajectories, axis=0)\n",
    "\n",
    "    true_target = true_targets[conds == cond_to_plot][0]\n",
    "    \n",
    "    fig = plt.figure(figsize=(6, 6))\n",
    "    #fig.suptitle(f'{obj} {mes} in the condition with the highest standard deviation', fontsize=12)\n",
    "    ax = fig.add_axes([0.1, 0.1, 0.8, 0.8])\n",
    "    \n",
    "    for traj in trajectories:\n",
    "        reach_angle = np.arctan2(traj[-1, 0], traj[-1, 1])\n",
    "        ax.plot(traj[:, 0], traj[:, 1], linewidth=1.0, color='navy', alpha=0.05, zorder=2, label='single reaches' if (traj==trajectories[-1]).all().item() else '')\n",
    "        \n",
    "    ax.scatter(true_target[0], true_target[1], color='skyblue', alpha=0.6, marker='s', s=50.0,zorder=1, label='true target')\n",
    "    ax.scatter(0, 0, c='pink', marker='o', alpha=0.6, s=50.0, zorder=1, label='init fixation point')\n",
    "        \n",
    "    ax.plot(avg_reach[:, 0], avg_reach[:, 1], linewidth=2.0, color='navy', alpha=0.6, zorder=3, label='average trajectory')\n",
    "    #ax.plot(inacc_traj[:, 0], inacc_traj[:, 1], linewidth=2.0, color='coral', alpha=0.8, zorder=4, label='most inaccurate target hit')\n",
    "    #ax.plot(dev_traj[:, 0], dev_traj[:, 1], linewidth=2.0, color='gold', alpha=0.8, zorder=5, label='most deviated trajectory')\n",
    "        \n",
    "    # Maze frame (from the experiment)\n",
    "    #ax.set_xlim(-200+20, 200-20)\n",
    "    #ax.set_ylim(-155+20, 155-20)\n",
    "    ax.set_xlim(plt.xlim()[0] - 100, plt.xlim()[1])\n",
    "    ax.set_ylim(plt.ylim()[0], plt.ylim()[1] + 100)\n",
    "    \n",
    "    #plt.axis('off')\n",
    "    plt.legend(fontsize=6, loc='upper left')\n",
    "    #fig.savefig(f'{obj}_{mes}_most_dispersed_condition.pdf', bbox_inches='tight')\n",
    "    plt.show()"
   ]
  },
  {
   "cell_type": "code",
   "execution_count": null,
   "metadata": {
    "ExecuteTime": {
     "end_time": "2024-11-13T21:54:28.485127Z",
     "start_time": "2024-11-13T21:54:28.305812Z"
    }
   },
   "outputs": [],
   "source": [
    "def plot_cond_typ_dev_trajectories(trialtable: pd.DataFrame, reaches, conds: torch.Tensor, cond_to_plot:int, true_targets:np.ndarray):\n",
    "    \n",
    "    typ_trials = trialtable[trialtable.correct_reach == 1].reset_index()\n",
    "    dev_trials = trialtable[trialtable.correct_reach == 0].reset_index()\n",
    "    \n",
    "    proto_trials = trialtable[trialtable.proto_trial == 1]\n",
    "    cond_proto_trial = proto_trials[trialtable[trialtable.proto_trial == 1].maze_condition == cond_to_plot]\n",
    "    cond_proto_reach = torch.cumsum(reaches[cond_proto_trial.trial_id.values[0]], axis=0)\n",
    "    \n",
    "    typ_conds = conds[typ_trials.trial_id.values]\n",
    "    dev_conds = conds[dev_trials.trial_id.values]\n",
    "    \n",
    "    trajectories = reaches[conds == cond_to_plot]\n",
    "    typ_trajectories = reaches[typ_trials.trial_id.values][typ_conds == cond_to_plot]\n",
    "    dev_trajectories = reaches[dev_trials.trial_id.values][dev_conds == cond_to_plot]\n",
    "    \n",
    "    avg_reach = torch.cumsum(torch.mean(trajectories, axis=0), axis=0)\n",
    "    avg_typ_reach = torch.cumsum(torch.mean(typ_trajectories, axis=0), axis=0)\n",
    "    avg_dev_reach = torch.cumsum(torch.mean(dev_trajectories, axis=0), axis=0)\n",
    "    \n",
    "    true_target = true_targets[conds == cond_to_plot][0]\n",
    "    #true_target = torch.tensor(true_target) * avg_reach[-1] / torch.mean(trajectories, axis=0)[-1]\n",
    "    \n",
    "    #fig= plt.figure(figsize=(6, 6))\n",
    "    #ax = fig.add_axes([0.1, 0.1, 0.8, 0.8])\n",
    "    fig, ax = plt.subplots(figsize=(6, 6))\n",
    "    \n",
    "    for traj in typ_trajectories:\n",
    "        traj = torch.cumsum(traj, axis=0)\n",
    "        ax.plot(traj[:, 0], traj[:, 1], linewidth=1.0, color='navy', alpha=0.1, zorder=2, label='single typical  reaches' if (traj==typ_trajectories[-1]).all().item() else '')\n",
    "    ax.plot(avg_typ_reach[:, 0], avg_reach[:, 1], linewidth=2.0, color='navy', alpha=0.8, zorder=3, label='average typical reach')\n",
    "    \n",
    "    for traj in dev_trajectories:\n",
    "        traj = torch.cumsum(traj, axis=0)\n",
    "        ax.plot(traj[:, 0], traj[:, 1], linewidth=1.0, color='coral', alpha=0.2, zorder=2, label='single deviated reaches' if (traj==dev_trajectories[-1]).all().item() else '')\n",
    "    ax.plot(avg_dev_reach[:, 0], avg_reach[:, 1], linewidth=2.0, color='coral', alpha=1.0, zorder=3, label='average deviated reach')\n",
    "    \n",
    "    ax.plot(cond_proto_reach[:, 0], cond_proto_reach[:, 1], linewidth=2.0, color='gold', alpha=0.8, zorder=3, label='prototypical trial')\n",
    "    #ax.scatter(true_target[0], true_target[1], color='skyblue', alpha=0.6, marker='s', s=50.0,zorder=1, label='true target')\n",
    "    \n",
    "    plt.legend(fontsize=8, loc='upper left')\n",
    "    fig.savefig('/home/makki/opium/output_figs/average_reach_2.pdf', bbox_inches='tight')\n",
    "    plt.show()\n",
    "    \n",
    "plot_cond_typ_dev_trajectories(trialtable, hand_pos, conds, 3, true_targets)"
   ]
  },
  {
   "cell_type": "code",
   "execution_count": null,
   "metadata": {
    "ExecuteTime": {
     "end_time": "2024-11-13T21:55:21.741605Z",
     "start_time": "2024-11-13T21:55:21.734232Z"
    }
   },
   "outputs": [],
   "source": [
    "proto_trials = trialtable[trialtable.proto_trial == 1]\n",
    "cond_proto_trial = proto_trials[trialtable[trialtable.proto_trial == 1].maze_condition == 3]\n",
    "cond_proto_reach = hand_pos[cond_proto_trial.trial_id.values[0]]\n",
    "cond_proto_reach.shape"
   ]
  },
  {
   "cell_type": "code",
   "execution_count": null,
   "metadata": {
    "ExecuteTime": {
     "end_time": "2024-11-11T23:56:28.007385Z",
     "start_time": "2024-11-11T23:56:28.001639Z"
    }
   },
   "outputs": [],
   "source": [
    "torch.cumsum(cond_proto_reach, axis=0) / torch.sum(hand_pos[cond_proto_trial.trial_id.values[0]])"
   ]
  },
  {
   "cell_type": "code",
   "execution_count": null,
   "metadata": {
    "ExecuteTime": {
     "end_time": "2024-11-11T23:36:26.068400Z",
     "start_time": "2024-11-11T23:36:25.985535Z"
    }
   },
   "outputs": [],
   "source": [
    "plt.plot(torch.cumsum(cond_proto_reach[0], axis=0))"
   ]
  },
  {
   "cell_type": "code",
   "execution_count": null,
   "metadata": {
    "ExecuteTime": {
     "end_time": "2024-11-11T23:23:00.953514Z",
     "start_time": "2024-11-11T23:23:00.937572Z"
    }
   },
   "outputs": [],
   "source": [
    "trialtable[trialtable.proto_trial == 1][trialtable[trialtable.proto_trial == 1].maze_condition == 3]"
   ]
  },
  {
   "cell_type": "code",
   "execution_count": null,
   "metadata": {
    "ExecuteTime": {
     "end_time": "2024-11-11T23:21:11.239385Z",
     "start_time": "2024-11-11T23:21:11.234568Z"
    }
   },
   "outputs": [],
   "source": [
    "true_targets[conds == 3][0]"
   ]
  },
  {
   "cell_type": "code",
   "execution_count": null,
   "metadata": {
    "ExecuteTime": {
     "end_time": "2024-11-11T23:21:31.404263Z",
     "start_time": "2024-11-11T23:21:31.398487Z"
    }
   },
   "outputs": [],
   "source": [
    "hand_pos[conds == 3][0][-1]"
   ]
  },
  {
   "cell_type": "code",
   "execution_count": null,
   "metadata": {},
   "outputs": [],
   "source": [
    "x = true_targets[0]"
   ]
  },
  {
   "cell_type": "code",
   "execution_count": null,
   "metadata": {
    "ExecuteTime": {
     "end_time": "2024-11-11T23:14:18.506406Z",
     "start_time": "2024-11-11T23:14:18.403515Z"
    }
   },
   "outputs": [],
   "source": [
    "plot_cond_typ_dev_trajectories(trialtable, hand_pos, conds, 51, true_targets)"
   ]
  },
  {
   "cell_type": "code",
   "execution_count": null,
   "metadata": {
    "ExecuteTime": {
     "end_time": "2024-11-11T23:22:08.474429Z",
     "start_time": "2024-11-11T23:22:08.369605Z"
    }
   },
   "outputs": [],
   "source": [
    "plot_cond_typ_dev_trajectories(trialtable, hand_pos, conds, 3, true_targets)"
   ]
  },
  {
   "cell_type": "code",
   "execution_count": null,
   "metadata": {
    "ExecuteTime": {
     "end_time": "2024-11-11T22:52:13.699241Z",
     "start_time": "2024-11-11T22:52:13.694063Z"
    }
   },
   "outputs": [],
   "source": [
    "hand_pos[0, -1]"
   ]
  },
  {
   "cell_type": "code",
   "execution_count": null,
   "metadata": {
    "ExecuteTime": {
     "end_time": "2024-11-11T22:52:41.848519Z",
     "start_time": "2024-11-11T22:52:41.843980Z"
    }
   },
   "outputs": [],
   "source": [
    "true_targets[0]"
   ]
  },
  {
   "cell_type": "code",
   "execution_count": null,
   "metadata": {
    "ExecuteTime": {
     "end_time": "2024-11-11T22:59:09.420376Z",
     "start_time": "2024-11-11T22:59:09.401842Z"
    }
   },
   "outputs": [],
   "source": [
    "def scaled_cumsum(hand_position):\n",
    "    # Ensure the input is a torch tensor\n",
    "    if not isinstance(hand_position, torch.Tensor):\n",
    "        hand_position = torch.tensor(hand_position, dtype=torch.float32)\n",
    "    \n",
    "    # Step 1: Calculate cumulative sum of the differences in position\n",
    "    displacements = torch.diff(hand_position, dim=0)\n",
    "    cumulative_trajectory = torch.cumsum(displacements, dim=0)\n",
    "    \n",
    "    # Step 2: Add the starting position to the cumulative sum result\n",
    "    cumulative_trajectory = torch.vstack((hand_position[0].unsqueeze(0), cumulative_trajectory + hand_position[0]))\n",
    "\n",
    "    # Step 3: Scale the cumulative trajectory to ensure it ends at the same point as the original\n",
    "    scaling_offset = hand_position[-1] - cumulative_trajectory[-1]\n",
    "    scaled_trajectory = cumulative_trajectory + scaling_offset\n",
    "    \n",
    "    return scaled_trajectory\n",
    "\n",
    "# Example usage\n",
    "# Assuming `hand_position` is an Nx2 array with x, y positions\n",
    "scaled_cumsum(hand_pos[0])\n"
   ]
  },
  {
   "cell_type": "code",
   "execution_count": null,
   "metadata": {
    "ExecuteTime": {
     "end_time": "2024-11-11T23:14:33.459656Z",
     "start_time": "2024-11-11T23:14:33.359301Z"
    }
   },
   "outputs": [],
   "source": [
    "plot_cond_typ_dev_trajectories(trialtable, hand_pos, conds, 15, true_targets)"
   ]
  },
  {
   "cell_type": "code",
   "execution_count": null,
   "metadata": {
    "ExecuteTime": {
     "end_time": "2024-11-11T23:14:35.547779Z",
     "start_time": "2024-11-11T23:14:35.451419Z"
    }
   },
   "outputs": [],
   "source": [
    "plot_cond_typ_dev_trajectories(trialtable, hand_pos, conds, 90, true_targets)"
   ]
  },
  {
   "cell_type": "code",
   "execution_count": null,
   "metadata": {
    "ExecuteTime": {
     "end_time": "2024-11-11T21:57:02.075143Z",
     "start_time": "2024-11-11T21:57:02.069046Z"
    }
   },
   "outputs": [],
   "source": [
    "def pos_to_vel(pos: np.ndarray, dt: float) -> torch.Tensor:\n",
    "    return np.diff(pos, axis=0) / dt\n",
    "\n",
    "vel =  pos_to_vel(hand_pos, 0.001)"
   ]
  },
  {
   "cell_type": "code",
   "execution_count": null,
   "metadata": {
    "ExecuteTime": {
     "end_time": "2024-11-11T22:48:26.275963Z",
     "start_time": "2024-11-11T22:48:26.271125Z"
    }
   },
   "outputs": [],
   "source": [
    "def calculate_velocity(hand_position, dt):\n",
    "    # Calculate velocity as the finite difference between positions\n",
    "    velocity = np.diff(hand_position, axis=0) / dt\n",
    "    # Add a row of zeros at the beginning to keep velocity the same length as position\n",
    "    velocity = np.vstack(([0, 0], velocity))\n",
    "    return velocity\n",
    "\n",
    "# Example usage with dt\n",
    "dt = 0.001  # Assuming 1 ms time interval\n",
    "velocity = calculate_velocity(hand_pos_binned[0], dt)"
   ]
  },
  {
   "cell_type": "code",
   "execution_count": null,
   "metadata": {
    "ExecuteTime": {
     "end_time": "2024-11-11T22:48:26.914202Z",
     "start_time": "2024-11-11T22:48:26.832880Z"
    }
   },
   "outputs": [],
   "source": [
    "plt.plot(velocity[0])"
   ]
  },
  {
   "cell_type": "code",
   "execution_count": null,
   "metadata": {
    "ExecuteTime": {
     "end_time": "2024-11-11T21:57:03.715543Z",
     "start_time": "2024-11-11T21:57:03.710884Z"
    }
   },
   "outputs": [],
   "source": [
    "vel[0][0]"
   ]
  },
  {
   "cell_type": "code",
   "execution_count": null,
   "metadata": {
    "ExecuteTime": {
     "end_time": "2024-11-11T21:57:39.182387Z",
     "start_time": "2024-11-11T21:57:39.099098Z"
    }
   },
   "outputs": [],
   "source": [
    "plt.plot(vel[0])"
   ]
  },
  {
   "cell_type": "code",
   "execution_count": null,
   "metadata": {},
   "outputs": [],
   "source": [
    "vel = result = np.concatenate((array1, array2), axis=0)"
   ]
  },
  {
   "cell_type": "code",
   "execution_count": null,
   "metadata": {
    "ExecuteTime": {
     "end_time": "2024-11-11T21:55:11.298792Z",
     "start_time": "2024-11-11T21:55:11.295062Z"
    }
   },
   "outputs": [],
   "source": [
    "vel.shape"
   ]
  },
  {
   "cell_type": "code",
   "execution_count": null,
   "metadata": {
    "ExecuteTime": {
     "end_time": "2024-11-11T21:51:56.050370Z",
     "start_time": "2024-11-11T21:51:56.046084Z"
    }
   },
   "outputs": [],
   "source": [
    "vel[9]"
   ]
  },
  {
   "cell_type": "code",
   "execution_count": null,
   "metadata": {
    "ExecuteTime": {
     "end_time": "2024-11-11T21:53:33.031673Z",
     "start_time": "2024-11-11T21:53:32.942006Z"
    }
   },
   "outputs": [],
   "source": [
    "cond_to_plot = 3\n",
    "\n",
    "typ_trials = trialtable[trialtable.correct_reach == 1].reset_index()\n",
    "dev_trials = trialtable[trialtable.correct_reach == 0].reset_index()\n",
    "\n",
    "typ_conds = conds[typ_trials.trial_id.values]\n",
    "dev_conds = conds[dev_trials.trial_id.values]\n",
    "\n",
    "trajectories = hand_vel[conds == cond_to_plot]\n",
    "typ_trajectories = hand_vel[typ_trials.trial_id.values][typ_conds == cond_to_plot]\n",
    "dev_trajectories = hand_vel[dev_trials.trial_id.values][dev_conds == cond_to_plot]\n",
    "\n",
    "avg_reach = torch.mean(trajectories, axis=0)\n",
    "avg_typ_reach = torch.mean(typ_trajectories, axis=0)\n",
    "avg_dev_reach = torch.mean(dev_trajectories, axis=0)\n",
    "\n",
    "plt.plot(avg_reach)"
   ]
  },
  {
   "cell_type": "code",
   "execution_count": null,
   "metadata": {
    "ExecuteTime": {
     "end_time": "2024-11-11T21:47:49.862526Z",
     "start_time": "2024-11-11T21:47:49.857601Z"
    }
   },
   "outputs": [],
   "source": [
    "avg_reach"
   ]
  },
  {
   "cell_type": "code",
   "execution_count": null,
   "metadata": {
    "ExecuteTime": {
     "end_time": "2024-11-11T21:38:03.694354Z",
     "start_time": "2024-11-11T21:38:03.383964Z"
    }
   },
   "outputs": [],
   "source": [
    "reaches = hand_vel\n",
    "cond_to_plot = 3\n",
    "\n",
    "typ_trials = trialtable[trialtable.correct_reach == 1].reset_index()\n",
    "dev_trials = trialtable[trialtable.correct_reach == 0].reset_index()\n",
    "\n",
    "typ_conds = conds[typ_trials.trial_id.values]\n",
    "dev_conds = conds[dev_trials.trial_id.values]\n",
    "\n",
    "trajectories = reaches[conds == cond_to_plot]\n",
    "typ_trajectories = reaches[typ_trials.trial_id.values][typ_conds == cond_to_plot]\n",
    "dev_trajectories = reaches[dev_trials.trial_id.values][dev_conds == cond_to_plot]\n",
    "\n",
    "avg_reach = torch.cumsum(torch.mean(trajectories, axis=0), axis=0)\n",
    "avg_typ_reach = torch.cumsum(torch.mean(typ_trajectories, axis=0), axis=0)\n",
    "avg_dev_reach = torch.cumsum(torch.mean(dev_trajectories, axis=0), axis=0)\n",
    "\n",
    "true_target = true_targets[conds == cond_to_plot][0]\n",
    "\n",
    "fig, axes = plt.subplots(2, figsize=(6, 6))\n",
    "axx = axes[0]\n",
    "axy = axes[1]\n",
    "\n",
    "cond_idx = cond_to_plot\n",
    "\n",
    "for traj in trajectories:\n",
    "    traj = torch.cumsum(traj, axis=0)\n",
    "    reach_angle = np.arctan2(traj[-1, 0], traj[-1, 1])\n",
    "    axx.plot(torch.arange(0, traj[:, 0].shape[0], 1)*BINSIZE, traj[:, 0], linewidth=1.0, color='navy', alpha=0.05, zorder=2, label='single reaches' if (traj==trajectories[-1]).all().item() else '')\n",
    "    axy.plot(torch.arange(0, traj[:, 1].shape[0], 1)*BINSIZE, traj[:, 1], linewidth=1.0, color='navy', alpha=0.05, zorder=2, label='single reaches' if (traj==trajectories[-1]).all().item() else '')\n",
    "    \n",
    "axx.plot(torch.arange(0, avg_reach[:, 0].shape[0], 1)*BINSIZE, avg_reach[:, 0], linewidth=2.0, color='navy', alpha=0.6, zorder=3, label='average trajectory')\n",
    "axy.plot(torch.arange(0, avg_reach[:, 1].shape[0], 1)*BINSIZE, avg_reach[:, 1], linewidth=2.0, color='navy', alpha=0.6, zorder=3, label='average trajectory')\n",
    "\n",
    "axx.axvline(x=BINS_BEFORE*BINSIZE, color='gray', alpha=0.6, linestyle='--')\n",
    "axy.axvline(x=BINS_BEFORE*BINSIZE, color='gray', alpha=0.6, linestyle='--')\n",
    "\n",
    "axx.annotate(f\"move\\nonset\",\n",
    "            xy=(BINS_BEFORE*BINSIZE, axx.get_ylim()[1]),\n",
    "            xytext=(BINS_BEFORE * BINSIZE - (N_BINS * BINSIZE * 0.1), (axx.get_ylim()[1] * 1.1)),\n",
    "            arrowprops=dict(facecolor='black', alpha=0.4, arrowstyle='->'),\n",
    "            fontsize=7, alpha=0.8, ha='center')\n",
    "\n",
    "#plt.axis('off')\n",
    "axx.set_title('X\\n') \n",
    "axx.legend(fontsize=6, loc='upper right')\n",
    "axx.set_ylabel(f'velocity', fontsize=10)\n",
    "axy.set_title('Y\\n') \n",
    "axy.legend(fontsize=6, loc='lower right')\n",
    "axy.set_xlabel('\\ntime (ms)', fontsize=10)\n",
    "#fig.suptitle(f'condition with the highest standard deviation\\n\\n', fontsize=12)\n",
    "fig.text(1, 0.95, f'condition with the highest target hit average inaccuracy\\n\\n\\n\\n\\n\\n', ha='center', va='center', fontsize=12)\n",
    "\n",
    "fig.savefig(f'velocity.pdf', bbox_inches='tight')\n",
    "plt.show()"
   ]
  },
  {
   "cell_type": "code",
   "execution_count": null,
   "metadata": {
    "ExecuteTime": {
     "end_time": "2024-11-11T19:11:29.580094Z",
     "start_time": "2024-11-11T19:11:29.500701Z"
    }
   },
   "outputs": [],
   "source": [
    "mask = dev_trials.trial_id.values\n",
    "\n",
    "dev_reaches = hand_pos[mask]\n",
    "dev_conds = conds[mask]\n",
    "\n",
    "trajectories = dev_reaches[dev_conds == 51]\n",
    "avg_reach = torch.mean(trajectories, axis=0)\n",
    "true_target = true_targets[conds == 0][0]\n",
    "\n",
    "#fig= plt.figure(figsize=(6, 6))\n",
    "#ax = fig.add_axes([0.1, 0.1, 0.8, 0.8])\n",
    "fig, ax = plt.subplots(figsize=(6, 6))\n",
    "\n",
    "for traj in trajectories:\n",
    "    ax.plot(traj[:, 0], traj[:, 1], linewidth=1.0, color='coral', alpha=0.05, zorder=2, label='single reaches' if (traj==trajectories[-1]).all().item() else '')\n",
    "    \n",
    "ax.plot(avg_reach[:, 0], avg_reach[:, 1], linewidth=2.0, color='coral', alpha=0.6, zorder=3, label='average trajectory')\n",
    "    \n",
    "plt.show()"
   ]
  },
  {
   "cell_type": "code",
   "execution_count": null,
   "metadata": {},
   "outputs": [],
   "source": [
    "mask = dev_trials.trial_id.values\n",
    "\n",
    "typ_reaches = hand_pos[mask]\n",
    "dev_conds = conds[mask]\n",
    "\n",
    "trajectories = dev_reaches[dev_conds == 51]\n",
    "avg_reach = torch.mean(trajectories, axis=0)\n",
    "true_target = true_targets[conds == 0][0]\n",
    "\n",
    "#fig= plt.figure(figsize=(6, 6))\n",
    "#ax = fig.add_axes([0.1, 0.1, 0.8, 0.8])\n",
    "fig, ax = plt.subplots(figsize=(6, 6))\n",
    "\n",
    "for traj in trajectories:\n",
    "    ax.plot(traj[:, 0], traj[:, 1], linewidth=1.0, color='coral', alpha=0.05, zorder=2, label='single reaches' if (traj==trajectories[-1]).all().item() else '')\n",
    "    \n",
    "ax.plot(avg_reach[:, 0], avg_reach[:, 1], linewidth=2.0, color='coral', alpha=0.6, zorder=3, label='average trajectory')\n",
    "    \n",
    "plt.show()"
   ]
  },
  {
   "cell_type": "code",
   "execution_count": null,
   "metadata": {
    "ExecuteTime": {
     "end_time": "2024-11-11T17:54:58.153821Z",
     "start_time": "2024-11-11T17:54:58.148860Z"
    }
   },
   "outputs": [],
   "source": [
    "hand_pos[typ_trials.trial_id.values].shape"
   ]
  },
  {
   "cell_type": "code",
   "execution_count": null,
   "metadata": {
    "ExecuteTime": {
     "end_time": "2024-11-11T17:55:11.744388Z",
     "start_time": "2024-11-11T17:55:11.739814Z"
    }
   },
   "outputs": [],
   "source": [
    "conds.shape"
   ]
  },
  {
   "cell_type": "code",
   "execution_count": null,
   "metadata": {
    "ExecuteTime": {
     "end_time": "2024-11-11T17:27:09.453178Z",
     "start_time": "2024-11-11T17:27:08.213165Z"
    }
   },
   "outputs": [],
   "source": [
    "typ_reaches = hand_pos[typ_trials.trial_id.values]\n",
    "typ_conds = conds[typ_trials.trial_id.values]\n",
    "dev_reaches = hand_pos[dev_trials.trial_id.values]\n",
    "dev_conds = conds[dev_trials.trial_id.values]\n",
    "\n",
    "trajectories = hand_pos[typ_trials.trial_id.values][typ_conds == 9]\n",
    "avg_reach = torch.mean(trajectories, axis=0)\n",
    "true_target = true_targets[conds == 9][0]\n",
    "\n",
    "#fig= plt.figure(figsize=(6, 6))\n",
    "#ax = fig.add_axes([0.1, 0.1, 0.8, 0.8])\n",
    "fig, ax = plt.subplots(figsize=(6, 6))\n",
    "\n",
    "for traj in typ_reaches:\n",
    "    ax.plot(traj[:, 0], traj[:, 1], linewidth=1.0, color='navy', alpha=0.05, zorder=2, label='single reaches' if (traj==trajectories[-1]).all().item() else '')\n",
    "    \n",
    "ax.plot(avg_reach[:, 0], avg_reach[:, 1], linewidth=2.0, color='navy', alpha=0.6, zorder=3, label='average trajectory')\n",
    "\n",
    "trajectories = hand_pos[dev_trials.trial_id.values][dev_conds == 9]\n",
    "avg_reach = torch.mean(trajectories, axis=0)\n",
    "true_target = true_targets[dev_conds == 9][0]\n",
    "\n",
    "for traj in dev_reaches:\n",
    "    ax.plot(traj[:, 0], traj[:, 1], linewidth=1.0, color='coral', alpha=0.05, zorder=2, label='single reaches' if (traj==trajectories[-1]).all().item() else '')\n",
    "    \n",
    "ax.plot(avg_reach[:, 0], avg_reach[:, 1], linewidth=2.0, color='coral', alpha=0.6, zorder=3, label='average trajectory')\n",
    "    \n",
    "plt.show()"
   ]
  },
  {
   "cell_type": "code",
   "execution_count": null,
   "metadata": {
    "ExecuteTime": {
     "end_time": "2024-11-11T15:06:51.915612Z",
     "start_time": "2024-11-11T15:06:51.795577Z"
    }
   },
   "outputs": [],
   "source": [
    "plot_trajectories(hand_pos, conds, 27, true_targets)"
   ]
  },
  {
   "cell_type": "code",
   "execution_count": null,
   "metadata": {},
   "outputs": [],
   "source": []
  },
  {
   "cell_type": "code",
   "execution_count": null,
   "metadata": {},
   "outputs": [],
   "source": []
  },
  {
   "cell_type": "code",
   "execution_count": null,
   "metadata": {},
   "outputs": [],
   "source": []
  },
  {
   "cell_type": "code",
   "execution_count": null,
   "metadata": {},
   "outputs": [],
   "source": []
  },
  {
   "cell_type": "code",
   "execution_count": null,
   "metadata": {},
   "outputs": [],
   "source": []
  },
  {
   "cell_type": "code",
   "execution_count": null,
   "metadata": {
    "jupyter": {
     "is_executing": true
    }
   },
   "outputs": [],
   "source": [
    "def plot_cond_typ_dev_trajectories(trialtable: pd.DataFrame, reaches, conds: torch.Tensor, cond_to_plot:int, true_targets:np.ndarray):\n",
    "    \n",
    "    typ_trials = trialtable[trialtable.correct_reach == 1].reset_index()\n",
    "    dev_trials = trialtable[trialtable.correct_reach == 0].reset_index()\n",
    "    \n",
    "    proto_trials = trialtable[trialtable.proto_trial == 1]\n",
    "    cond_proto_trial = proto_trials[trialtable[trialtable.proto_trial == 1].maze_condition == cond_to_plot]\n",
    "    cond_proto_reach = reaches[cond_proto_trial.trial_id.values[0]]\n",
    "    \n",
    "    typ_conds = conds[typ_trials.trial_id.values]\n",
    "    dev_conds = conds[dev_trials.trial_id.values]\n",
    "    \n",
    "    trajectories = reaches[conds == cond_to_plot]\n",
    "    typ_trajectories = reaches[typ_trials.trial_id.values][typ_conds == cond_to_plot]\n",
    "    dev_trajectories = reaches[dev_trials.trial_id.values][dev_conds == cond_to_plot]\n",
    "    \n",
    "    avg_reach = torch.mean(trajectories, axis=0)\n",
    "    avg_typ_reach = torch.mean(typ_trajectories, axis=0)\n",
    "    avg_dev_reach = torch.mean(dev_trajectories, axis=0)\n",
    "    \n",
    "    true_target = true_targets[conds == cond_to_plot][0]\n",
    "    #true_target = torch.tensor(true_target) * avg_reach[-1] / torch.mean(trajectories, axis=0)[-1]\n",
    "    \n",
    "    #fig= plt.figure(figsize=(6, 6))\n",
    "    #ax = fig.add_axes([0.1, 0.1, 0.8, 0.8])\n",
    "    fig, ax = plt.subplots(figsize=(6, 6))\n",
    "    \n",
    "    for traj in typ_trajectories:\n",
    "        ax.plot(traj[:, 0], traj[:, 1], linewidth=1.0, color='navy', alpha=0.1, zorder=2)#, label='single typical  reaches' if (traj==typ_trajectories[-1]).all().item() else '')\n",
    "    ax.plot(avg_typ_reach[:, 0], avg_reach[:, 1], linewidth=2.0, color='navy', alpha=0.8, zorder=3, label='average typical reach')\n",
    "    \n",
    "    for traj in dev_trajectories:\n",
    "        ax.plot(traj[:, 0], traj[:, 1], linewidth=1.0, color='gold', alpha=0.2, zorder=2)#, label='single deviated reaches' if (traj==dev_trajectories[-1]).all().item() else '')\n",
    "    ax.plot(avg_dev_reach[:, 0], avg_reach[:, 1], linewidth=2.0, color='gold', alpha=1.0, zorder=3, label='average deviated reach')\n",
    "    \n",
    "    ax.plot(cond_proto_reach[:, 0], cond_proto_reach[:, 1], linewidth=2.0, color='coral', alpha=0.8, zorder=3, label='prototypical trial')\n",
    "    ax.scatter(true_target[0], true_target[1], color='skyblue', alpha=0.6, marker='s', s=50.0,zorder=1, label='true target')\n",
    "    \n",
    "    plt.legend(fontsize=8, loc='upper left')\n",
    "    plt.show()\n",
    "    plt.savefig('/home/makki/opium/output_figs/average_reach_2.pdf')\n",
    "    \n",
    "plot_cond_typ_dev_trajectories(trialtable, hand_pos, conds, 3, true_targets)"
   ]
  },
  {
   "cell_type": "code",
   "execution_count": null,
   "metadata": {},
   "outputs": [],
   "source": []
  }
 ],
 "metadata": {
  "kernelspec": {
   "display_name": "opium",
   "language": "python",
   "name": "opium"
  },
  "language_info": {
   "codemirror_mode": {
    "name": "ipython",
    "version": 3
   },
   "file_extension": ".py",
   "mimetype": "text/x-python",
   "name": "python",
   "nbconvert_exporter": "python",
   "pygments_lexer": "ipython3",
   "version": "3.11.10"
  }
 },
 "nbformat": 4,
 "nbformat_minor": 4
}
