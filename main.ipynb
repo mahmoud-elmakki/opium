{
 "cells": [
  {
   "cell_type": "code",
   "execution_count": 2,
   "id": "64fecfd3-b5eb-44b4-af9e-6ce367952ca8",
   "metadata": {
    "tags": []
   },
   "outputs": [],
   "source": [
    "import numpy as np\n",
    "import pandas as pd\n",
    "import polars as pl\n",
    "from pathlib import Path\n",
    "\n",
    "import matplotlib.pyplot as plt\n",
    "\n",
    "from NeuroTask.api_neurotask import *"
   ]
  },
  {
   "cell_type": "code",
   "execution_count": null,
   "id": "d296ef77-db5f-477e-9feb-a6154a05d0ff",
   "metadata": {},
   "outputs": [],
   "source": []
  }
 ],
 "metadata": {
  "kernelspec": {
   "display_name": "opium",
   "language": "python",
   "name": "opium"
  },
  "language_info": {
   "codemirror_mode": {
    "name": "ipython",
    "version": 3
   },
   "file_extension": ".py",
   "mimetype": "text/x-python",
   "name": "python",
   "nbconvert_exporter": "python",
   "pygments_lexer": "ipython3",
   "version": "3.11.10"
  }
 },
 "nbformat": 4,
 "nbformat_minor": 5
}
