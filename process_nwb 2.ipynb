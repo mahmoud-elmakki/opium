{
 "cells": [
  {
   "cell_type": "code",
   "execution_count": 1,
   "id": "77f7cf08-ed8d-4447-9b58-928e633b2665",
   "metadata": {
    "ExecuteTime": {
     "end_time": "2024-11-04T16:54:08.325167Z",
     "start_time": "2024-11-04T16:54:08.270434Z"
    },
    "tags": []
   },
   "outputs": [],
   "source": [
    "import numpy as np\n",
    "import pandas as pd\n",
    "import math\n",
    "import matplotlib.pyplot as plt\n",
    "\n",
    "import torch\n",
    "\n",
    "#from itertools import product\n",
    "from pynwb import NWBHDF5IO\n",
    "from nlb_tools.nwb_interface import NWBDataset\n",
    "\n",
    "import warnings\n",
    "warnings.filterwarnings(\"ignore\")"
   ]
  },
  {
   "cell_type": "code",
   "execution_count": 2,
   "id": "04832d7f-a739-4b74-94e5-74b852320dbe",
   "metadata": {
    "ExecuteTime": {
     "end_time": "2024-11-04T15:19:16.739349Z",
     "start_time": "2024-11-04T11:51:19.253174Z"
    },
    "tags": []
   },
   "outputs": [
    {
     "name": "stderr",
     "output_type": "stream",
     "text": [
      "Dropping Position_Cursor due to timestamp mismatch.\n",
      "Dropping Position_Eye due to timestamp mismatch.\n",
      "Dropping Position_Hand due to timestamp mismatch.\n",
      "Spikes found outside of observed interval.\n"
     ]
    }
   ],
   "source": [
    "ds = NWBDataset('/Users/mahmoud/data/NWB/000070/sub-Jenkins/sub-Jenkins_ses-20090918_behavior+ecephys.nwb', split_heldout=False)"
   ]
  },
  {
   "cell_type": "code",
   "execution_count": 54,
   "id": "4b17ca9f-0a05-4e42-a01a-eca07ff206a1",
   "metadata": {
    "tags": []
   },
   "outputs": [
    {
     "data": {
      "text/html": [
       "<div>\n",
       "<style scoped>\n",
       "    .dataframe tbody tr th:only-of-type {\n",
       "        vertical-align: middle;\n",
       "    }\n",
       "\n",
       "    .dataframe tbody tr th {\n",
       "        vertical-align: top;\n",
       "    }\n",
       "\n",
       "    .dataframe thead th {\n",
       "        text-align: right;\n",
       "    }\n",
       "</style>\n",
       "<table border=\"1\" class=\"dataframe\">\n",
       "  <thead>\n",
       "    <tr style=\"text-align: right;\">\n",
       "      <th></th>\n",
       "      <th>trial_id</th>\n",
       "      <th>start_time</th>\n",
       "      <th>end_time</th>\n",
       "      <th>target_presentation_time</th>\n",
       "      <th>go_cue_time</th>\n",
       "      <th>reaction_time</th>\n",
       "      <th>move_begins_time</th>\n",
       "      <th>move_ends_time</th>\n",
       "      <th>discard_trial</th>\n",
       "      <th>task_success</th>\n",
       "      <th>...</th>\n",
       "      <th>correct_reach</th>\n",
       "      <th>maze_num_targets</th>\n",
       "      <th>maze_num_barriers</th>\n",
       "      <th>novel_maze</th>\n",
       "      <th>target_positions</th>\n",
       "      <th>frame_details</th>\n",
       "      <th>hit_target_position</th>\n",
       "      <th>target_size</th>\n",
       "      <th>barrier_info</th>\n",
       "      <th>timeseries</th>\n",
       "    </tr>\n",
       "  </thead>\n",
       "  <tbody>\n",
       "    <tr>\n",
       "      <th>0</th>\n",
       "      <td>0</td>\n",
       "      <td>0 days 00:00:04.707200</td>\n",
       "      <td>0 days 00:00:08.567133333</td>\n",
       "      <td>0 days 00:00:05.570200</td>\n",
       "      <td>0 days 00:00:06.517200</td>\n",
       "      <td>0 days 00:00:00.335000</td>\n",
       "      <td>0 days 00:00:06.819200</td>\n",
       "      <td>0 days 00:00:07.234200</td>\n",
       "      <td>0</td>\n",
       "      <td>1</td>\n",
       "      <td>...</td>\n",
       "      <td>0</td>\n",
       "      <td>1</td>\n",
       "      <td>2</td>\n",
       "      <td>1</td>\n",
       "      <td>[[-130, -57]]</td>\n",
       "      <td>[[[-200]], [[200]], [[-155]], [[155]], [[20]]]</td>\n",
       "      <td>[-130, -57]</td>\n",
       "      <td>13</td>\n",
       "      <td>[[-16.0, 96.0, 59.0, 22.0], [-62.0, -112.0, 43...</td>\n",
       "      <td>[(0, 3226, Eye pynwb.behavior.SpatialSeries at...</td>\n",
       "    </tr>\n",
       "    <tr>\n",
       "      <th>1</th>\n",
       "      <td>1</td>\n",
       "      <td>0 days 00:00:09.407200</td>\n",
       "      <td>0 days 00:00:12.112166667</td>\n",
       "      <td>0 days 00:00:10.172200</td>\n",
       "      <td>0 days 00:00:10.202200</td>\n",
       "      <td>0 days 00:00:00.305000</td>\n",
       "      <td>0 days 00:00:10.479200</td>\n",
       "      <td>0 days 00:00:10.789200</td>\n",
       "      <td>0</td>\n",
       "      <td>1</td>\n",
       "      <td>...</td>\n",
       "      <td>0</td>\n",
       "      <td>1</td>\n",
       "      <td>2</td>\n",
       "      <td>1</td>\n",
       "      <td>[[120, 70]]</td>\n",
       "      <td>[[[-200]], [[200]], [[-155]], [[155]], [[20]]]</td>\n",
       "      <td>[120, 70]</td>\n",
       "      <td>13</td>\n",
       "      <td>[[-49.0, -59.0, 22.0, 53.0], [-33.0, -100.0, 5...</td>\n",
       "      <td>[(3226, 2081, Eye pynwb.behavior.SpatialSeries...</td>\n",
       "    </tr>\n",
       "    <tr>\n",
       "      <th>2</th>\n",
       "      <td>2</td>\n",
       "      <td>0 days 00:00:18.437233333</td>\n",
       "      <td>0 days 00:00:21.972266667</td>\n",
       "      <td>0 days 00:00:19.209233333</td>\n",
       "      <td>0 days 00:00:19.857233333</td>\n",
       "      <td>0 days 00:00:00.300000</td>\n",
       "      <td>0 days 00:00:20.124233333</td>\n",
       "      <td>0 days 00:00:20.584233333</td>\n",
       "      <td>0</td>\n",
       "      <td>1</td>\n",
       "      <td>...</td>\n",
       "      <td>1</td>\n",
       "      <td>1</td>\n",
       "      <td>9</td>\n",
       "      <td>0</td>\n",
       "      <td>[[-77, 82]]</td>\n",
       "      <td>[[[-200]], [[200]], [[-155]], [[155]], [[20]]]</td>\n",
       "      <td>[-77, 82]</td>\n",
       "      <td>13</td>\n",
       "      <td>[[-33.0, 47.0, 6.0, 37.0], [-77.0, 48.0, 11.0,...</td>\n",
       "      <td>[(5307, 2846, Eye pynwb.behavior.SpatialSeries...</td>\n",
       "    </tr>\n",
       "    <tr>\n",
       "      <th>3</th>\n",
       "      <td>3</td>\n",
       "      <td>0 days 00:00:22.777233333</td>\n",
       "      <td>0 days 00:00:26.007266667</td>\n",
       "      <td>0 days 00:00:23.495233333</td>\n",
       "      <td>0 days 00:00:23.959233333</td>\n",
       "      <td>0 days 00:00:00.305000</td>\n",
       "      <td>0 days 00:00:24.229233333</td>\n",
       "      <td>0 days 00:00:24.644233333</td>\n",
       "      <td>0</td>\n",
       "      <td>1</td>\n",
       "      <td>...</td>\n",
       "      <td>1</td>\n",
       "      <td>1</td>\n",
       "      <td>9</td>\n",
       "      <td>0</td>\n",
       "      <td>[[132, 56]]</td>\n",
       "      <td>[[[-200]], [[200]], [[-155]], [[155]], [[20]]]</td>\n",
       "      <td>[132, 56]</td>\n",
       "      <td>13</td>\n",
       "      <td>[[-82.0, -43.0, 8.0, 118.0], [145.0, -105.0, 1...</td>\n",
       "      <td>[(8153, 2566, Eye pynwb.behavior.SpatialSeries...</td>\n",
       "    </tr>\n",
       "    <tr>\n",
       "      <th>4</th>\n",
       "      <td>4</td>\n",
       "      <td>0 days 00:00:26.937266667</td>\n",
       "      <td>0 days 00:00:30.317266667</td>\n",
       "      <td>0 days 00:00:27.630266667</td>\n",
       "      <td>0 days 00:00:28.211266667</td>\n",
       "      <td>0 days 00:00:00.300000</td>\n",
       "      <td>0 days 00:00:28.479266667</td>\n",
       "      <td>0 days 00:00:28.979266667</td>\n",
       "      <td>0</td>\n",
       "      <td>1</td>\n",
       "      <td>...</td>\n",
       "      <td>1</td>\n",
       "      <td>1</td>\n",
       "      <td>9</td>\n",
       "      <td>0</td>\n",
       "      <td>[[2, 82]]</td>\n",
       "      <td>[[[-200]], [[200]], [[-155]], [[155]], [[20]]]</td>\n",
       "      <td>[2, 82]</td>\n",
       "      <td>13</td>\n",
       "      <td>[[-9.0, 52.0, 8.0, 43.0], [-50.0, 91.0, 64.0, ...</td>\n",
       "      <td>[(10719, 2741, Eye pynwb.behavior.SpatialSerie...</td>\n",
       "    </tr>\n",
       "    <tr>\n",
       "      <th>...</th>\n",
       "      <td>...</td>\n",
       "      <td>...</td>\n",
       "      <td>...</td>\n",
       "      <td>...</td>\n",
       "      <td>...</td>\n",
       "      <td>...</td>\n",
       "      <td>...</td>\n",
       "      <td>...</td>\n",
       "      <td>...</td>\n",
       "      <td>...</td>\n",
       "      <td>...</td>\n",
       "      <td>...</td>\n",
       "      <td>...</td>\n",
       "      <td>...</td>\n",
       "      <td>...</td>\n",
       "      <td>...</td>\n",
       "      <td>...</td>\n",
       "      <td>...</td>\n",
       "      <td>...</td>\n",
       "      <td>...</td>\n",
       "      <td>...</td>\n",
       "    </tr>\n",
       "    <tr>\n",
       "      <th>2631</th>\n",
       "      <td>2631</td>\n",
       "      <td>0 days 04:19:46.530558580</td>\n",
       "      <td>0 days 04:19:50.185558580</td>\n",
       "      <td>0 days 04:19:47.318558580</td>\n",
       "      <td>0 days 04:19:47.932558580</td>\n",
       "      <td>0 days 00:00:00.315000</td>\n",
       "      <td>0 days 04:19:48.212558580</td>\n",
       "      <td>0 days 04:19:48.807558580</td>\n",
       "      <td>0</td>\n",
       "      <td>1</td>\n",
       "      <td>...</td>\n",
       "      <td>1</td>\n",
       "      <td>1</td>\n",
       "      <td>8</td>\n",
       "      <td>0</td>\n",
       "      <td>[[132, 56]]</td>\n",
       "      <td>[[[-200]], [[200]], [[-155]], [[155]], [[20]]]</td>\n",
       "      <td>[132, 56]</td>\n",
       "      <td>13</td>\n",
       "      <td>[[-64.0, -47.0, 113.0, 7.0], [-64.0, -39.0, 40...</td>\n",
       "      <td>[(7990376, 2976, Eye pynwb.behavior.SpatialSer...</td>\n",
       "    </tr>\n",
       "    <tr>\n",
       "      <th>2632</th>\n",
       "      <td>2632</td>\n",
       "      <td>0 days 04:19:51.780558580</td>\n",
       "      <td>0 days 04:19:54.615591913</td>\n",
       "      <td>0 days 04:19:52.688558580</td>\n",
       "      <td>0 days 04:19:53.202558580</td>\n",
       "      <td>0 days 00:00:00.360000</td>\n",
       "      <td>0 days 04:19:53.532558580</td>\n",
       "      <td>NaT</td>\n",
       "      <td>0</td>\n",
       "      <td>0</td>\n",
       "      <td>...</td>\n",
       "      <td>0</td>\n",
       "      <td>1</td>\n",
       "      <td>8</td>\n",
       "      <td>0</td>\n",
       "      <td>[[132, 56]]</td>\n",
       "      <td>[[[-200]], [[200]], [[-155]], [[155]], [[20]]]</td>\n",
       "      <td>[132, 56]</td>\n",
       "      <td>13</td>\n",
       "      <td>[[-64.0, -47.0, 113.0, 7.0], [-64.0, -39.0, 40...</td>\n",
       "      <td>[(7993352, 2831, Eye pynwb.behavior.SpatialSer...</td>\n",
       "    </tr>\n",
       "    <tr>\n",
       "      <th>2633</th>\n",
       "      <td>2633</td>\n",
       "      <td>0 days 04:19:59.680591913</td>\n",
       "      <td>0 days 04:20:02.685591913</td>\n",
       "      <td>0 days 04:20:00.425591913</td>\n",
       "      <td>0 days 04:20:00.488591913</td>\n",
       "      <td>0 days 00:00:00.365000</td>\n",
       "      <td>0 days 04:20:00.822591913</td>\n",
       "      <td>0 days 04:20:01.287591913</td>\n",
       "      <td>0</td>\n",
       "      <td>1</td>\n",
       "      <td>...</td>\n",
       "      <td>1</td>\n",
       "      <td>1</td>\n",
       "      <td>9</td>\n",
       "      <td>0</td>\n",
       "      <td>[[2, 82]]</td>\n",
       "      <td>[[[-200]], [[200]], [[-155]], [[155]], [[20]]]</td>\n",
       "      <td>[2, 82]</td>\n",
       "      <td>13</td>\n",
       "      <td>[[-9.0, 52.0, 8.0, 43.0], [-50.0, 91.0, 64.0, ...</td>\n",
       "      <td>[(7996183, 2306, Eye pynwb.behavior.SpatialSer...</td>\n",
       "    </tr>\n",
       "    <tr>\n",
       "      <th>2634</th>\n",
       "      <td>2634</td>\n",
       "      <td>0 days 04:20:33.390658580</td>\n",
       "      <td>0 days 04:20:37.605558580</td>\n",
       "      <td>0 days 04:20:34.241658580</td>\n",
       "      <td>0 days 04:20:34.605658580</td>\n",
       "      <td>0 days 00:00:00.385000</td>\n",
       "      <td>0 days 04:20:35.982658580</td>\n",
       "      <td>0 days 04:20:36.322658580</td>\n",
       "      <td>0</td>\n",
       "      <td>1</td>\n",
       "      <td>...</td>\n",
       "      <td>0</td>\n",
       "      <td>1</td>\n",
       "      <td>7</td>\n",
       "      <td>0</td>\n",
       "      <td>[[-116, -5]]</td>\n",
       "      <td>[[[-200]], [[200]], [[-155]], [[155]], [[20]]]</td>\n",
       "      <td>[-116, -5]</td>\n",
       "      <td>13</td>\n",
       "      <td>[[-69.0, -16.0, 69.0, 13.0], [-120.0, -62.0, 1...</td>\n",
       "      <td>[(7998489, 3631, Eye pynwb.behavior.SpatialSer...</td>\n",
       "    </tr>\n",
       "    <tr>\n",
       "      <th>2635</th>\n",
       "      <td>2635</td>\n",
       "      <td>0 days 04:21:04.755758580</td>\n",
       "      <td>0 days 04:21:08.655758580</td>\n",
       "      <td>0 days 04:21:05.440758580</td>\n",
       "      <td>0 days 04:21:05.853758580</td>\n",
       "      <td>0 days 00:00:00.590000</td>\n",
       "      <td>0 days 04:21:06.407758580</td>\n",
       "      <td>0 days 04:21:07.257758580</td>\n",
       "      <td>0</td>\n",
       "      <td>1</td>\n",
       "      <td>...</td>\n",
       "      <td>1</td>\n",
       "      <td>1</td>\n",
       "      <td>9</td>\n",
       "      <td>0</td>\n",
       "      <td>[[-118, -83]]</td>\n",
       "      <td>[[[-200]], [[200]], [[-155]], [[155]], [[20]]]</td>\n",
       "      <td>[-118, -83]</td>\n",
       "      <td>13</td>\n",
       "      <td>[[-33.0, 47.0, 6.0, 37.0], [-77.0, 48.0, 11.0,...</td>\n",
       "      <td>[(8002120, 3201, Eye pynwb.behavior.SpatialSer...</td>\n",
       "    </tr>\n",
       "  </tbody>\n",
       "</table>\n",
       "<p>2636 rows × 24 columns</p>\n",
       "</div>"
      ],
      "text/plain": [
       "      trial_id                start_time                  end_time  \\\n",
       "0            0    0 days 00:00:04.707200 0 days 00:00:08.567133333   \n",
       "1            1    0 days 00:00:09.407200 0 days 00:00:12.112166667   \n",
       "2            2 0 days 00:00:18.437233333 0 days 00:00:21.972266667   \n",
       "3            3 0 days 00:00:22.777233333 0 days 00:00:26.007266667   \n",
       "4            4 0 days 00:00:26.937266667 0 days 00:00:30.317266667   \n",
       "...        ...                       ...                       ...   \n",
       "2631      2631 0 days 04:19:46.530558580 0 days 04:19:50.185558580   \n",
       "2632      2632 0 days 04:19:51.780558580 0 days 04:19:54.615591913   \n",
       "2633      2633 0 days 04:19:59.680591913 0 days 04:20:02.685591913   \n",
       "2634      2634 0 days 04:20:33.390658580 0 days 04:20:37.605558580   \n",
       "2635      2635 0 days 04:21:04.755758580 0 days 04:21:08.655758580   \n",
       "\n",
       "      target_presentation_time               go_cue_time  \\\n",
       "0       0 days 00:00:05.570200    0 days 00:00:06.517200   \n",
       "1       0 days 00:00:10.172200    0 days 00:00:10.202200   \n",
       "2    0 days 00:00:19.209233333 0 days 00:00:19.857233333   \n",
       "3    0 days 00:00:23.495233333 0 days 00:00:23.959233333   \n",
       "4    0 days 00:00:27.630266667 0 days 00:00:28.211266667   \n",
       "...                        ...                       ...   \n",
       "2631 0 days 04:19:47.318558580 0 days 04:19:47.932558580   \n",
       "2632 0 days 04:19:52.688558580 0 days 04:19:53.202558580   \n",
       "2633 0 days 04:20:00.425591913 0 days 04:20:00.488591913   \n",
       "2634 0 days 04:20:34.241658580 0 days 04:20:34.605658580   \n",
       "2635 0 days 04:21:05.440758580 0 days 04:21:05.853758580   \n",
       "\n",
       "              reaction_time          move_begins_time  \\\n",
       "0    0 days 00:00:00.335000    0 days 00:00:06.819200   \n",
       "1    0 days 00:00:00.305000    0 days 00:00:10.479200   \n",
       "2    0 days 00:00:00.300000 0 days 00:00:20.124233333   \n",
       "3    0 days 00:00:00.305000 0 days 00:00:24.229233333   \n",
       "4    0 days 00:00:00.300000 0 days 00:00:28.479266667   \n",
       "...                     ...                       ...   \n",
       "2631 0 days 00:00:00.315000 0 days 04:19:48.212558580   \n",
       "2632 0 days 00:00:00.360000 0 days 04:19:53.532558580   \n",
       "2633 0 days 00:00:00.365000 0 days 04:20:00.822591913   \n",
       "2634 0 days 00:00:00.385000 0 days 04:20:35.982658580   \n",
       "2635 0 days 00:00:00.590000 0 days 04:21:06.407758580   \n",
       "\n",
       "                move_ends_time  discard_trial  task_success  ...  \\\n",
       "0       0 days 00:00:07.234200              0             1  ...   \n",
       "1       0 days 00:00:10.789200              0             1  ...   \n",
       "2    0 days 00:00:20.584233333              0             1  ...   \n",
       "3    0 days 00:00:24.644233333              0             1  ...   \n",
       "4    0 days 00:00:28.979266667              0             1  ...   \n",
       "...                        ...            ...           ...  ...   \n",
       "2631 0 days 04:19:48.807558580              0             1  ...   \n",
       "2632                       NaT              0             0  ...   \n",
       "2633 0 days 04:20:01.287591913              0             1  ...   \n",
       "2634 0 days 04:20:36.322658580              0             1  ...   \n",
       "2635 0 days 04:21:07.257758580              0             1  ...   \n",
       "\n",
       "      correct_reach  maze_num_targets  maze_num_barriers  novel_maze  \\\n",
       "0                 0                 1                  2           1   \n",
       "1                 0                 1                  2           1   \n",
       "2                 1                 1                  9           0   \n",
       "3                 1                 1                  9           0   \n",
       "4                 1                 1                  9           0   \n",
       "...             ...               ...                ...         ...   \n",
       "2631              1                 1                  8           0   \n",
       "2632              0                 1                  8           0   \n",
       "2633              1                 1                  9           0   \n",
       "2634              0                 1                  7           0   \n",
       "2635              1                 1                  9           0   \n",
       "\n",
       "      target_positions                                   frame_details  \\\n",
       "0        [[-130, -57]]  [[[-200]], [[200]], [[-155]], [[155]], [[20]]]   \n",
       "1          [[120, 70]]  [[[-200]], [[200]], [[-155]], [[155]], [[20]]]   \n",
       "2          [[-77, 82]]  [[[-200]], [[200]], [[-155]], [[155]], [[20]]]   \n",
       "3          [[132, 56]]  [[[-200]], [[200]], [[-155]], [[155]], [[20]]]   \n",
       "4            [[2, 82]]  [[[-200]], [[200]], [[-155]], [[155]], [[20]]]   \n",
       "...                ...                                             ...   \n",
       "2631       [[132, 56]]  [[[-200]], [[200]], [[-155]], [[155]], [[20]]]   \n",
       "2632       [[132, 56]]  [[[-200]], [[200]], [[-155]], [[155]], [[20]]]   \n",
       "2633         [[2, 82]]  [[[-200]], [[200]], [[-155]], [[155]], [[20]]]   \n",
       "2634      [[-116, -5]]  [[[-200]], [[200]], [[-155]], [[155]], [[20]]]   \n",
       "2635     [[-118, -83]]  [[[-200]], [[200]], [[-155]], [[155]], [[20]]]   \n",
       "\n",
       "      hit_target_position  target_size  \\\n",
       "0             [-130, -57]           13   \n",
       "1               [120, 70]           13   \n",
       "2               [-77, 82]           13   \n",
       "3               [132, 56]           13   \n",
       "4                 [2, 82]           13   \n",
       "...                   ...          ...   \n",
       "2631            [132, 56]           13   \n",
       "2632            [132, 56]           13   \n",
       "2633              [2, 82]           13   \n",
       "2634           [-116, -5]           13   \n",
       "2635          [-118, -83]           13   \n",
       "\n",
       "                                           barrier_info  \\\n",
       "0     [[-16.0, 96.0, 59.0, 22.0], [-62.0, -112.0, 43...   \n",
       "1     [[-49.0, -59.0, 22.0, 53.0], [-33.0, -100.0, 5...   \n",
       "2     [[-33.0, 47.0, 6.0, 37.0], [-77.0, 48.0, 11.0,...   \n",
       "3     [[-82.0, -43.0, 8.0, 118.0], [145.0, -105.0, 1...   \n",
       "4     [[-9.0, 52.0, 8.0, 43.0], [-50.0, 91.0, 64.0, ...   \n",
       "...                                                 ...   \n",
       "2631  [[-64.0, -47.0, 113.0, 7.0], [-64.0, -39.0, 40...   \n",
       "2632  [[-64.0, -47.0, 113.0, 7.0], [-64.0, -39.0, 40...   \n",
       "2633  [[-9.0, 52.0, 8.0, 43.0], [-50.0, 91.0, 64.0, ...   \n",
       "2634  [[-69.0, -16.0, 69.0, 13.0], [-120.0, -62.0, 1...   \n",
       "2635  [[-33.0, 47.0, 6.0, 37.0], [-77.0, 48.0, 11.0,...   \n",
       "\n",
       "                                             timeseries  \n",
       "0     [(0, 3226, Eye pynwb.behavior.SpatialSeries at...  \n",
       "1     [(3226, 2081, Eye pynwb.behavior.SpatialSeries...  \n",
       "2     [(5307, 2846, Eye pynwb.behavior.SpatialSeries...  \n",
       "3     [(8153, 2566, Eye pynwb.behavior.SpatialSeries...  \n",
       "4     [(10719, 2741, Eye pynwb.behavior.SpatialSerie...  \n",
       "...                                                 ...  \n",
       "2631  [(7990376, 2976, Eye pynwb.behavior.SpatialSer...  \n",
       "2632  [(7993352, 2831, Eye pynwb.behavior.SpatialSer...  \n",
       "2633  [(7996183, 2306, Eye pynwb.behavior.SpatialSer...  \n",
       "2634  [(7998489, 3631, Eye pynwb.behavior.SpatialSer...  \n",
       "2635  [(8002120, 3201, Eye pynwb.behavior.SpatialSer...  \n",
       "\n",
       "[2636 rows x 24 columns]"
      ]
     },
     "execution_count": 54,
     "metadata": {},
     "output_type": "execute_result"
    }
   ],
   "source": [
    "trial_info = ds.trial_info\n",
    "trial_info"
   ]
  },
  {
   "cell_type": "code",
   "execution_count": 4,
   "id": "7fe73fd8-dcec-48a6-a2c6-5ec0ab3362c1",
   "metadata": {
    "tags": []
   },
   "outputs": [
    {
     "name": "stdout",
     "output_type": "stream",
     "text": [
      "trial_id\n",
      "start_time\n",
      "end_time\n",
      "target_presentation_time\n",
      "go_cue_time\n",
      "reaction_time\n",
      "move_begins_time\n",
      "move_ends_time\n",
      "discard_trial\n",
      "task_success\n",
      "trial_type\n",
      "trial_version\n",
      "proto_trial\n",
      "maze_condition\n",
      "correct_reach\n",
      "maze_num_targets\n",
      "maze_num_barriers\n",
      "novel_maze\n",
      "target_positions\n",
      "frame_details\n",
      "hit_target_position\n",
      "target_size\n",
      "barrier_info\n",
      "timeseries\n"
     ]
    }
   ],
   "source": [
    "for column in trial_info.columns:\n",
    "    print(column)"
   ]
  },
  {
   "cell_type": "code",
   "execution_count": 5,
   "id": "bc70e858-d969-40e8-964b-11912b0e140f",
   "metadata": {
    "tags": []
   },
   "outputs": [
    {
     "name": "stdout",
     "output_type": "stream",
     "text": [
      "Total num of trials: 2636\n",
      "\n",
      "Count of null values in each column:\n",
      "\n"
     ]
    },
    {
     "data": {
      "text/plain": [
       "trial_id                     0\n",
       "start_time                   0\n",
       "end_time                     0\n",
       "target_presentation_time     0\n",
       "go_cue_time                  0\n",
       "reaction_time                0\n",
       "move_begins_time             0\n",
       "move_ends_time              53\n",
       "discard_trial                0\n",
       "task_success                 0\n",
       "trial_type                   0\n",
       "trial_version                0\n",
       "proto_trial                  0\n",
       "maze_condition               0\n",
       "correct_reach                0\n",
       "maze_num_targets             0\n",
       "maze_num_barriers            0\n",
       "novel_maze                   0\n",
       "target_positions             0\n",
       "frame_details                0\n",
       "hit_target_position          0\n",
       "target_size                  0\n",
       "barrier_info                 0\n",
       "timeseries                   0\n",
       "dtype: int64"
      ]
     },
     "execution_count": 5,
     "metadata": {},
     "output_type": "execute_result"
    }
   ],
   "source": [
    "# Note that there is a number of trials at the begining of the session(s) that has no metadata at all.\n",
    "# The NWBDataset function: make_trial_data() drops all of those.\n",
    "\n",
    "print(f\"Total num of trials: {len(trial_info)}\\n\")\n",
    "print(\"Count of null values in each column:\\n\")\n",
    "\n",
    "ds.trial_info.isnull().sum()"
   ]
  },
  {
   "cell_type": "code",
   "execution_count": 6,
   "id": "620d709b-e6a0-4530-a713-7b7700c45e94",
   "metadata": {
    "tags": []
   },
   "outputs": [
    {
     "data": {
      "text/plain": [
       "15668656"
      ]
     },
     "execution_count": 6,
     "metadata": {},
     "output_type": "execute_result"
    }
   ],
   "source": [
    "# Number of all time bins in the entire dataset.\n",
    "# That's right, each row is the measures in one time bin.\n",
    "# Also, the original sampling rate is 100Hz (10ms bin size).\n",
    "# Keep in mind that not all the trials are the same length.\n",
    "\n",
    "len(ds.data)"
   ]
  },
  {
   "cell_type": "code",
   "execution_count": 7,
   "id": "a41b07bb-fea2-40d9-bd13-ab2d44ff0f4f",
   "metadata": {
    "tags": []
   },
   "outputs": [
    {
     "name": "stderr",
     "output_type": "stream",
     "text": [
      "NaNs found in 47.65% of `trial_data`.\n"
     ]
    },
    {
     "data": {
      "text/html": [
       "<div>\n",
       "<style scoped>\n",
       "    .dataframe tbody tr th:only-of-type {\n",
       "        vertical-align: middle;\n",
       "    }\n",
       "\n",
       "    .dataframe tbody tr th {\n",
       "        vertical-align: top;\n",
       "    }\n",
       "\n",
       "    .dataframe thead tr th {\n",
       "        text-align: left;\n",
       "    }\n",
       "</style>\n",
       "<table border=\"1\" class=\"dataframe\">\n",
       "  <thead>\n",
       "    <tr>\n",
       "      <th></th>\n",
       "      <th colspan=\"10\" halign=\"left\">Processed_A001</th>\n",
       "      <th>...</th>\n",
       "      <th colspan=\"8\" halign=\"left\">spikes</th>\n",
       "      <th>trial_id</th>\n",
       "      <th>trial_time</th>\n",
       "    </tr>\n",
       "    <tr>\n",
       "      <th></th>\n",
       "      <th>0000</th>\n",
       "      <th>0001</th>\n",
       "      <th>0002</th>\n",
       "      <th>0003</th>\n",
       "      <th>0004</th>\n",
       "      <th>0005</th>\n",
       "      <th>0006</th>\n",
       "      <th>0007</th>\n",
       "      <th>0008</th>\n",
       "      <th>0009</th>\n",
       "      <th>...</th>\n",
       "      <th>184</th>\n",
       "      <th>185</th>\n",
       "      <th>186</th>\n",
       "      <th>187</th>\n",
       "      <th>188</th>\n",
       "      <th>189</th>\n",
       "      <th>190</th>\n",
       "      <th>191</th>\n",
       "      <th></th>\n",
       "      <th></th>\n",
       "    </tr>\n",
       "  </thead>\n",
       "  <tbody>\n",
       "    <tr>\n",
       "      <th>0</th>\n",
       "      <td>-26.0</td>\n",
       "      <td>15.0</td>\n",
       "      <td>15.0</td>\n",
       "      <td>33.0</td>\n",
       "      <td>26.0</td>\n",
       "      <td>-8.0</td>\n",
       "      <td>62.0</td>\n",
       "      <td>-37.0</td>\n",
       "      <td>34.0</td>\n",
       "      <td>-26.0</td>\n",
       "      <td>...</td>\n",
       "      <td>0.0</td>\n",
       "      <td>0.0</td>\n",
       "      <td>0.0</td>\n",
       "      <td>0.0</td>\n",
       "      <td>0.0</td>\n",
       "      <td>0.0</td>\n",
       "      <td>0.0</td>\n",
       "      <td>0.0</td>\n",
       "      <td>0</td>\n",
       "      <td>0 days 00:00:00</td>\n",
       "    </tr>\n",
       "    <tr>\n",
       "      <th>1</th>\n",
       "      <td>-21.0</td>\n",
       "      <td>8.0</td>\n",
       "      <td>7.0</td>\n",
       "      <td>22.0</td>\n",
       "      <td>15.0</td>\n",
       "      <td>-5.0</td>\n",
       "      <td>45.0</td>\n",
       "      <td>-61.0</td>\n",
       "      <td>15.0</td>\n",
       "      <td>-19.0</td>\n",
       "      <td>...</td>\n",
       "      <td>0.0</td>\n",
       "      <td>0.0</td>\n",
       "      <td>0.0</td>\n",
       "      <td>0.0</td>\n",
       "      <td>0.0</td>\n",
       "      <td>0.0</td>\n",
       "      <td>0.0</td>\n",
       "      <td>0.0</td>\n",
       "      <td>0</td>\n",
       "      <td>0 days 00:00:00.001000</td>\n",
       "    </tr>\n",
       "    <tr>\n",
       "      <th>2</th>\n",
       "      <td>-29.0</td>\n",
       "      <td>6.0</td>\n",
       "      <td>-7.0</td>\n",
       "      <td>11.0</td>\n",
       "      <td>-10.0</td>\n",
       "      <td>-2.0</td>\n",
       "      <td>18.0</td>\n",
       "      <td>-63.0</td>\n",
       "      <td>15.0</td>\n",
       "      <td>-23.0</td>\n",
       "      <td>...</td>\n",
       "      <td>0.0</td>\n",
       "      <td>0.0</td>\n",
       "      <td>0.0</td>\n",
       "      <td>0.0</td>\n",
       "      <td>0.0</td>\n",
       "      <td>0.0</td>\n",
       "      <td>0.0</td>\n",
       "      <td>0.0</td>\n",
       "      <td>0</td>\n",
       "      <td>0 days 00:00:00.002000</td>\n",
       "    </tr>\n",
       "    <tr>\n",
       "      <th>3</th>\n",
       "      <td>-48.0</td>\n",
       "      <td>9.0</td>\n",
       "      <td>-27.0</td>\n",
       "      <td>1.0</td>\n",
       "      <td>-17.0</td>\n",
       "      <td>-1.0</td>\n",
       "      <td>1.0</td>\n",
       "      <td>-57.0</td>\n",
       "      <td>19.0</td>\n",
       "      <td>-33.0</td>\n",
       "      <td>...</td>\n",
       "      <td>0.0</td>\n",
       "      <td>0.0</td>\n",
       "      <td>0.0</td>\n",
       "      <td>0.0</td>\n",
       "      <td>0.0</td>\n",
       "      <td>0.0</td>\n",
       "      <td>0.0</td>\n",
       "      <td>0.0</td>\n",
       "      <td>0</td>\n",
       "      <td>0 days 00:00:00.003000</td>\n",
       "    </tr>\n",
       "    <tr>\n",
       "      <th>4</th>\n",
       "      <td>-55.0</td>\n",
       "      <td>15.0</td>\n",
       "      <td>-28.0</td>\n",
       "      <td>9.0</td>\n",
       "      <td>11.0</td>\n",
       "      <td>9.0</td>\n",
       "      <td>15.0</td>\n",
       "      <td>-37.0</td>\n",
       "      <td>18.0</td>\n",
       "      <td>-31.0</td>\n",
       "      <td>...</td>\n",
       "      <td>0.0</td>\n",
       "      <td>0.0</td>\n",
       "      <td>0.0</td>\n",
       "      <td>0.0</td>\n",
       "      <td>0.0</td>\n",
       "      <td>0.0</td>\n",
       "      <td>0.0</td>\n",
       "      <td>0.0</td>\n",
       "      <td>0</td>\n",
       "      <td>0 days 00:00:00.004000</td>\n",
       "    </tr>\n",
       "    <tr>\n",
       "      <th>...</th>\n",
       "      <td>...</td>\n",
       "      <td>...</td>\n",
       "      <td>...</td>\n",
       "      <td>...</td>\n",
       "      <td>...</td>\n",
       "      <td>...</td>\n",
       "      <td>...</td>\n",
       "      <td>...</td>\n",
       "      <td>...</td>\n",
       "      <td>...</td>\n",
       "      <td>...</td>\n",
       "      <td>...</td>\n",
       "      <td>...</td>\n",
       "      <td>...</td>\n",
       "      <td>...</td>\n",
       "      <td>...</td>\n",
       "      <td>...</td>\n",
       "      <td>...</td>\n",
       "      <td>...</td>\n",
       "      <td>...</td>\n",
       "      <td>...</td>\n",
       "    </tr>\n",
       "    <tr>\n",
       "      <th>9667507</th>\n",
       "      <td>NaN</td>\n",
       "      <td>NaN</td>\n",
       "      <td>NaN</td>\n",
       "      <td>NaN</td>\n",
       "      <td>NaN</td>\n",
       "      <td>NaN</td>\n",
       "      <td>NaN</td>\n",
       "      <td>NaN</td>\n",
       "      <td>NaN</td>\n",
       "      <td>NaN</td>\n",
       "      <td>...</td>\n",
       "      <td>0.0</td>\n",
       "      <td>0.0</td>\n",
       "      <td>0.0</td>\n",
       "      <td>0.0</td>\n",
       "      <td>0.0</td>\n",
       "      <td>0.0</td>\n",
       "      <td>0.0</td>\n",
       "      <td>0.0</td>\n",
       "      <td>2635</td>\n",
       "      <td>0 days 00:00:03.895000</td>\n",
       "    </tr>\n",
       "    <tr>\n",
       "      <th>9667508</th>\n",
       "      <td>NaN</td>\n",
       "      <td>NaN</td>\n",
       "      <td>NaN</td>\n",
       "      <td>NaN</td>\n",
       "      <td>NaN</td>\n",
       "      <td>NaN</td>\n",
       "      <td>NaN</td>\n",
       "      <td>NaN</td>\n",
       "      <td>NaN</td>\n",
       "      <td>NaN</td>\n",
       "      <td>...</td>\n",
       "      <td>0.0</td>\n",
       "      <td>0.0</td>\n",
       "      <td>0.0</td>\n",
       "      <td>0.0</td>\n",
       "      <td>0.0</td>\n",
       "      <td>0.0</td>\n",
       "      <td>0.0</td>\n",
       "      <td>0.0</td>\n",
       "      <td>2635</td>\n",
       "      <td>0 days 00:00:03.896000</td>\n",
       "    </tr>\n",
       "    <tr>\n",
       "      <th>9667509</th>\n",
       "      <td>NaN</td>\n",
       "      <td>NaN</td>\n",
       "      <td>NaN</td>\n",
       "      <td>NaN</td>\n",
       "      <td>NaN</td>\n",
       "      <td>NaN</td>\n",
       "      <td>NaN</td>\n",
       "      <td>NaN</td>\n",
       "      <td>NaN</td>\n",
       "      <td>NaN</td>\n",
       "      <td>...</td>\n",
       "      <td>0.0</td>\n",
       "      <td>0.0</td>\n",
       "      <td>0.0</td>\n",
       "      <td>0.0</td>\n",
       "      <td>0.0</td>\n",
       "      <td>0.0</td>\n",
       "      <td>0.0</td>\n",
       "      <td>0.0</td>\n",
       "      <td>2635</td>\n",
       "      <td>0 days 00:00:03.897000</td>\n",
       "    </tr>\n",
       "    <tr>\n",
       "      <th>9667510</th>\n",
       "      <td>NaN</td>\n",
       "      <td>NaN</td>\n",
       "      <td>NaN</td>\n",
       "      <td>NaN</td>\n",
       "      <td>NaN</td>\n",
       "      <td>NaN</td>\n",
       "      <td>NaN</td>\n",
       "      <td>NaN</td>\n",
       "      <td>NaN</td>\n",
       "      <td>NaN</td>\n",
       "      <td>...</td>\n",
       "      <td>0.0</td>\n",
       "      <td>0.0</td>\n",
       "      <td>0.0</td>\n",
       "      <td>1.0</td>\n",
       "      <td>0.0</td>\n",
       "      <td>0.0</td>\n",
       "      <td>0.0</td>\n",
       "      <td>0.0</td>\n",
       "      <td>2635</td>\n",
       "      <td>0 days 00:00:03.898000</td>\n",
       "    </tr>\n",
       "    <tr>\n",
       "      <th>9667511</th>\n",
       "      <td>NaN</td>\n",
       "      <td>NaN</td>\n",
       "      <td>NaN</td>\n",
       "      <td>NaN</td>\n",
       "      <td>NaN</td>\n",
       "      <td>NaN</td>\n",
       "      <td>NaN</td>\n",
       "      <td>NaN</td>\n",
       "      <td>NaN</td>\n",
       "      <td>NaN</td>\n",
       "      <td>...</td>\n",
       "      <td>NaN</td>\n",
       "      <td>NaN</td>\n",
       "      <td>NaN</td>\n",
       "      <td>NaN</td>\n",
       "      <td>NaN</td>\n",
       "      <td>NaN</td>\n",
       "      <td>NaN</td>\n",
       "      <td>NaN</td>\n",
       "      <td>2635</td>\n",
       "      <td>0 days 00:00:03.899000</td>\n",
       "    </tr>\n",
       "  </tbody>\n",
       "</table>\n",
       "<p>9667512 rows × 581 columns</p>\n",
       "</div>"
      ],
      "text/plain": [
       "        Processed_A001                                                       \\\n",
       "                  0000  0001  0002  0003  0004 0005  0006  0007  0008  0009   \n",
       "0                -26.0  15.0  15.0  33.0  26.0 -8.0  62.0 -37.0  34.0 -26.0   \n",
       "1                -21.0   8.0   7.0  22.0  15.0 -5.0  45.0 -61.0  15.0 -19.0   \n",
       "2                -29.0   6.0  -7.0  11.0 -10.0 -2.0  18.0 -63.0  15.0 -23.0   \n",
       "3                -48.0   9.0 -27.0   1.0 -17.0 -1.0   1.0 -57.0  19.0 -33.0   \n",
       "4                -55.0  15.0 -28.0   9.0  11.0  9.0  15.0 -37.0  18.0 -31.0   \n",
       "...                ...   ...   ...   ...   ...  ...   ...   ...   ...   ...   \n",
       "9667507            NaN   NaN   NaN   NaN   NaN  NaN   NaN   NaN   NaN   NaN   \n",
       "9667508            NaN   NaN   NaN   NaN   NaN  NaN   NaN   NaN   NaN   NaN   \n",
       "9667509            NaN   NaN   NaN   NaN   NaN  NaN   NaN   NaN   NaN   NaN   \n",
       "9667510            NaN   NaN   NaN   NaN   NaN  NaN   NaN   NaN   NaN   NaN   \n",
       "9667511            NaN   NaN   NaN   NaN   NaN  NaN   NaN   NaN   NaN   NaN   \n",
       "\n",
       "         ... spikes                                    trial_id  \\\n",
       "         ...    184  185  186  187  188  189  190  191            \n",
       "0        ...    0.0  0.0  0.0  0.0  0.0  0.0  0.0  0.0        0   \n",
       "1        ...    0.0  0.0  0.0  0.0  0.0  0.0  0.0  0.0        0   \n",
       "2        ...    0.0  0.0  0.0  0.0  0.0  0.0  0.0  0.0        0   \n",
       "3        ...    0.0  0.0  0.0  0.0  0.0  0.0  0.0  0.0        0   \n",
       "4        ...    0.0  0.0  0.0  0.0  0.0  0.0  0.0  0.0        0   \n",
       "...      ...    ...  ...  ...  ...  ...  ...  ...  ...      ...   \n",
       "9667507  ...    0.0  0.0  0.0  0.0  0.0  0.0  0.0  0.0     2635   \n",
       "9667508  ...    0.0  0.0  0.0  0.0  0.0  0.0  0.0  0.0     2635   \n",
       "9667509  ...    0.0  0.0  0.0  0.0  0.0  0.0  0.0  0.0     2635   \n",
       "9667510  ...    0.0  0.0  0.0  1.0  0.0  0.0  0.0  0.0     2635   \n",
       "9667511  ...    NaN  NaN  NaN  NaN  NaN  NaN  NaN  NaN     2635   \n",
       "\n",
       "                    trial_time  \n",
       "                                \n",
       "0              0 days 00:00:00  \n",
       "1       0 days 00:00:00.001000  \n",
       "2       0 days 00:00:00.002000  \n",
       "3       0 days 00:00:00.003000  \n",
       "4       0 days 00:00:00.004000  \n",
       "...                        ...  \n",
       "9667507 0 days 00:00:03.895000  \n",
       "9667508 0 days 00:00:03.896000  \n",
       "9667509 0 days 00:00:03.897000  \n",
       "9667510 0 days 00:00:03.898000  \n",
       "9667511 0 days 00:00:03.899000  \n",
       "\n",
       "[9667512 rows x 581 columns]"
      ]
     },
     "execution_count": 7,
     "metadata": {},
     "output_type": "execute_result"
    }
   ],
   "source": [
    "# The make_trial_data() returns a DataFrame containing trialized data. It has the same fields as the continuous `dataset.data` DataFrame,\n",
    "# But adds `trial_id`, `trial_time`, and `align_time`. Till here, each row is still a time bin.\n",
    "# Note: Later we do the cropping and alignment arount move_onset by ourselves.\n",
    "\n",
    "trial_data = ds.make_trial_data(allow_nans=True)\n",
    "trial_data"
   ]
  },
  {
   "cell_type": "code",
   "execution_count": 20,
   "id": "40255fb5f675bf4e",
   "metadata": {
    "tags": []
   },
   "outputs": [
    {
     "ename": "NameError",
     "evalue": "name 'nwb' is not defined",
     "output_type": "error",
     "traceback": [
      "\u001B[0;31m---------------------------------------------------------------------------\u001B[0m",
      "\u001B[0;31mNameError\u001B[0m                                 Traceback (most recent call last)",
      "Cell \u001B[0;32mIn[20], line 1\u001B[0m\n\u001B[0;32m----> 1\u001B[0m hand_pos \u001B[38;5;241m=\u001B[39m \u001B[43mnwb\u001B[49m\u001B[38;5;241m.\u001B[39mprocessing[\u001B[38;5;124m'\u001B[39m\u001B[38;5;124mbehavior\u001B[39m\u001B[38;5;124m'\u001B[39m]\u001B[38;5;241m.\u001B[39mdata_interfaces[\u001B[38;5;124m'\u001B[39m\u001B[38;5;124mPosition\u001B[39m\u001B[38;5;124m'\u001B[39m]\u001B[38;5;241m.\u001B[39mspatial_series[\u001B[38;5;124m'\u001B[39m\u001B[38;5;124mHand\u001B[39m\u001B[38;5;124m'\u001B[39m]\u001B[38;5;241m.\u001B[39mdata[:]\n\u001B[1;32m      2\u001B[0m cursor_pos \u001B[38;5;241m=\u001B[39m nwb\u001B[38;5;241m.\u001B[39mprocessing[\u001B[38;5;124m'\u001B[39m\u001B[38;5;124mbehavior\u001B[39m\u001B[38;5;124m'\u001B[39m]\u001B[38;5;241m.\u001B[39mdata_interfaces[\u001B[38;5;124m'\u001B[39m\u001B[38;5;124mPosition\u001B[39m\u001B[38;5;124m'\u001B[39m]\u001B[38;5;241m.\u001B[39mspatial_series[\u001B[38;5;124m'\u001B[39m\u001B[38;5;124mCursor \u001B[39m\u001B[38;5;124m'\u001B[39m]\u001B[38;5;241m.\u001B[39mdata[:]\n",
      "\u001B[0;31mNameError\u001B[0m: name 'nwb' is not defined"
     ]
    }
   ],
   "source": [
    "hand_pos = nwb.processing['behavior'].data_interfaces['Position'].spatial_series['Hand'].data[:]\n",
    "cursor_pos = nwb.processing['behavior'].data_interfaces['Position'].spatial_series['Cursor '].data[:]"
   ]
  },
  {
   "cell_type": "code",
   "execution_count": 22,
   "id": "f511d740-58d6-40d5-bd9a-5c85e156e7fc",
   "metadata": {
    "tags": []
   },
   "outputs": [
    {
     "data": {
      "text/plain": [
       "2636"
      ]
     },
     "execution_count": 22,
     "metadata": {},
     "output_type": "execute_result"
    }
   ],
   "source": [
    "trial_info['trial_id'].size"
   ]
  },
  {
   "cell_type": "code",
   "execution_count": 24,
   "id": "c75767e0-e45e-461c-bd10-211663bd485c",
   "metadata": {
    "tags": []
   },
   "outputs": [
    {
     "data": {
      "text/plain": [
       "1    2570\n",
       "0      66\n",
       "Name: task_success, dtype: int64"
      ]
     },
     "execution_count": 24,
     "metadata": {},
     "output_type": "execute_result"
    }
   ],
   "source": [
    "trial_info['task_success'].value_counts()"
   ]
  },
  {
   "cell_type": "code",
   "execution_count": 26,
   "id": "001b4f29-79f6-4e3a-b016-a0ceefeafc7d",
   "metadata": {
    "tags": []
   },
   "outputs": [
    {
     "data": {
      "text/plain": [
       "1    2296\n",
       "0     340\n",
       "Name: correct_reach, dtype: int64"
      ]
     },
     "execution_count": 26,
     "metadata": {},
     "output_type": "execute_result"
    }
   ],
   "source": [
    "trial_info['correct_reach'].value_counts()"
   ]
  },
  {
   "cell_type": "code",
   "execution_count": null,
   "id": "5cb2f166-707f-443d-ac03-a34815b93db9",
   "metadata": {
    "tags": []
   },
   "outputs": [],
   "source": [
    "np.isnan(trial_data['spikes'].to_numpy().flatten()).any()"
   ]
  },
  {
   "cell_type": "code",
   "execution_count": 34,
   "id": "ff0aa6e5-f2f0-4416-8519-cacd10e67523",
   "metadata": {
    "tags": []
   },
   "outputs": [],
   "source": [
    "trial_info = trial_info[trial_info.task_success == 1]"
   ]
  },
  {
   "cell_type": "code",
   "execution_count": 36,
   "id": "274c947e-58a5-4368-8b40-2c9c0ec3a29e",
   "metadata": {
    "tags": []
   },
   "outputs": [
    {
     "data": {
      "text/plain": [
       "2636"
      ]
     },
     "execution_count": 36,
     "metadata": {},
     "output_type": "execute_result"
    }
   ],
   "source": [
    "trials = [trial[1] for trial in trial_data.groupby('trial_id')]\n",
    "len(trials)"
   ]
  },
  {
   "cell_type": "code",
   "execution_count": 37,
   "id": "d69705fe-0b15-4a1e-a5a0-cbbabbdcf83e",
   "metadata": {
    "tags": []
   },
   "outputs": [
    {
     "name": "stderr",
     "output_type": "stream",
     "text": [
      "IOPub data rate exceeded.\n",
      "The Jupyter server will temporarily stop sending output\n",
      "to the client in order to avoid crashing it.\n",
      "To change this limit, set the config variable\n",
      "`--ServerApp.iopub_data_rate_limit`.\n",
      "\n",
      "Current values:\n",
      "ServerApp.iopub_data_rate_limit=1000000.0 (bytes/sec)\n",
      "ServerApp.rate_limit_window=3.0 (secs)\n",
      "\n"
     ]
    }
   ],
   "source": [
    "ddd =[]\n",
    "for trial_id, trial in trial_data.groupby('trial_id'):\n",
    "    ddd.append(trial_id)\n",
    "    print(len(ddd))\n",
    "    print(ddd)"
   ]
  },
  {
   "cell_type": "code",
   "execution_count": 38,
   "id": "f95cfb8c-6333-4a9e-9bdc-b072bca0509d",
   "metadata": {
    "tags": []
   },
   "outputs": [
    {
     "data": {
      "text/plain": [
       "<function matplotlib.pyplot.show(close=None, block=None)>"
      ]
     },
     "execution_count": 38,
     "metadata": {},
     "output_type": "execute_result"
    },
    {
     "data": {
      "image/png": "[encoded data removed]",
      "text/plain": [
       "<Figure size 640x480 with 1 Axes>"
      ]
     },
     "metadata": {},
     "output_type": "display_data"
    }
   ],
   "source": [
    "trial_lens = []\n",
    "\n",
    "for trial_id, trial in enumerate(trials):\n",
    "#for trial_id, trial in trial_data.groupby('trial_id'):\n",
    "    trial_id_trial_info = trial_info[trial_info['trial_id'] == trial_id]\n",
    "    \n",
    "    trial_lens.append((trial.trial_time.values[-1] / np.timedelta64(1, 'ms')) - (trial.trial_time.values[0] / np.timedelta64(1, 'ms')))\n",
    "    \n",
    "plt.hist(trial_lens, bins='auto', density=False, alpha=0.7, edgecolor='gray')\n",
    "plt.title('trial length\\n')\n",
    "plt.xlabel('trial length (ms)')\n",
    "plt.ylabel('# trials')\n",
    "#plt.savefig('output_figs/tl.png')\n",
    "plt.show"
   ]
  },
  {
   "cell_type": "code",
   "execution_count": 39,
   "id": "946969e2-7f89-478f-8cd7-3051027c4b84",
   "metadata": {
    "ExecuteTime": {
     "end_time": "2024-11-04T17:28:45.845963Z",
     "start_time": "2024-11-04T17:28:45.828745Z"
    },
    "tags": []
   },
   "outputs": [
    {
     "ename": "IndexError",
     "evalue": "index -1 is out of bounds for axis 0 with size 0",
     "output_type": "error",
     "traceback": [
      "\u001B[0;31m---------------------------------------------------------------------------\u001B[0m",
      "\u001B[0;31mIndexError\u001B[0m                                Traceback (most recent call last)",
      "Cell \u001B[0;32mIn[39], line 8\u001B[0m\n\u001B[1;32m      5\u001B[0m     trial_id_trial_info \u001B[38;5;241m=\u001B[39m trial_info[trial_info[\u001B[38;5;124m'\u001B[39m\u001B[38;5;124mtrial_id\u001B[39m\u001B[38;5;124m'\u001B[39m] \u001B[38;5;241m==\u001B[39m trial_id]\n\u001B[1;32m      6\u001B[0m     trial_id_trial_info_next \u001B[38;5;241m=\u001B[39m trial_info[trial_info[\u001B[38;5;124m'\u001B[39m\u001B[38;5;124mtrial_id\u001B[39m\u001B[38;5;124m'\u001B[39m] \u001B[38;5;241m==\u001B[39m trial_id_next]\n\u001B[0;32m----> 8\u001B[0m     inter_trial_intervals\u001B[38;5;241m.\u001B[39mappend((\u001B[43mtrial_id_trial_info_next\u001B[49m\u001B[43m[\u001B[49m\u001B[38;5;124;43m'\u001B[39;49m\u001B[38;5;124;43mstart_time\u001B[39;49m\u001B[38;5;124;43m'\u001B[39;49m\u001B[43m]\u001B[49m\u001B[38;5;241;43m.\u001B[39;49m\u001B[43mvalues\u001B[49m\u001B[43m[\u001B[49m\u001B[38;5;241;43m-\u001B[39;49m\u001B[38;5;241;43m1\u001B[39;49m\u001B[43m]\u001B[49m \u001B[38;5;241m/\u001B[39m np\u001B[38;5;241m.\u001B[39mtimedelta64(\u001B[38;5;241m1\u001B[39m, \u001B[38;5;124m'\u001B[39m\u001B[38;5;124mms\u001B[39m\u001B[38;5;124m'\u001B[39m)) \u001B[38;5;241m-\u001B[39m (trial_id_trial_info[\u001B[38;5;124m'\u001B[39m\u001B[38;5;124mend_time\u001B[39m\u001B[38;5;124m'\u001B[39m]\u001B[38;5;241m.\u001B[39mvalues[\u001B[38;5;241m-\u001B[39m\u001B[38;5;241m1\u001B[39m] \u001B[38;5;241m/\u001B[39m np\u001B[38;5;241m.\u001B[39mtimedelta64(\u001B[38;5;241m1\u001B[39m, \u001B[38;5;124m'\u001B[39m\u001B[38;5;124mms\u001B[39m\u001B[38;5;124m'\u001B[39m)))\n\u001B[1;32m     10\u001B[0m plt\u001B[38;5;241m.\u001B[39mhist(inter_trial_intervals, bins\u001B[38;5;241m=\u001B[39m\u001B[38;5;124m'\u001B[39m\u001B[38;5;124mauto\u001B[39m\u001B[38;5;124m'\u001B[39m, density\u001B[38;5;241m=\u001B[39m\u001B[38;5;28;01mFalse\u001B[39;00m, alpha\u001B[38;5;241m=\u001B[39m\u001B[38;5;241m0.7\u001B[39m, edgecolor\u001B[38;5;241m=\u001B[39m\u001B[38;5;124m'\u001B[39m\u001B[38;5;124mgray\u001B[39m\u001B[38;5;124m'\u001B[39m)\n\u001B[1;32m     11\u001B[0m plt\u001B[38;5;241m.\u001B[39mtitle(\u001B[38;5;124m'\u001B[39m\u001B[38;5;124mintertrial interval\u001B[39m\u001B[38;5;130;01m\\n\u001B[39;00m\u001B[38;5;124m'\u001B[39m)\n",
      "\u001B[0;31mIndexError\u001B[0m: index -1 is out of bounds for axis 0 with size 0"
     ]
    }
   ],
   "source": [
    "inter_trial_intervals = []\n",
    "    \n",
    "for trial_id, trial in enumerate(trials):\n",
    "    trial_id_next = trial_id + 1\n",
    "    trial_id_trial_info = trial_info[trial_info['trial_id'] == trial_id]\n",
    "    trial_id_trial_info_next = trial_info[trial_info['trial_id'] == trial_id_next]\n",
    "    \n",
    "    inter_trial_intervals.append((trial_id_trial_info_next['start_time'].values[-1] / np.timedelta64(1, 'ms')) - (trial_id_trial_info['end_time'].values[-1] / np.timedelta64(1, 'ms')))\n",
    "    \n",
    "plt.hist(inter_trial_intervals, bins='auto', density=False, alpha=0.7, edgecolor='gray')\n",
    "plt.title('intertrial interval\\n')\n",
    "plt.xlabel('intertrial interval (ms)')\n",
    "plt.ylabel('# trials')\n",
    "#plt.savefig('output_figs/iit.png')\n",
    "plt.show()"
   ]
  },
  {
   "cell_type": "code",
   "execution_count": 43,
   "id": "57f41642-4290-4576-bbee-e64939f3721b",
   "metadata": {
    "tags": []
   },
   "outputs": [
    {
     "ename": "IndexError",
     "evalue": "index 0 is out of bounds for axis 0 with size 0",
     "output_type": "error",
     "traceback": [
      "\u001B[0;31m---------------------------------------------------------------------------\u001B[0m",
      "\u001B[0;31mIndexError\u001B[0m                                Traceback (most recent call last)",
      "Cell \u001B[0;32mIn[43], line 6\u001B[0m\n\u001B[1;32m      3\u001B[0m \u001B[38;5;28;01mfor\u001B[39;00m trial_id, trial \u001B[38;5;129;01min\u001B[39;00m \u001B[38;5;28menumerate\u001B[39m(trials):\n\u001B[1;32m      4\u001B[0m     trial_id_trial_info \u001B[38;5;241m=\u001B[39m trial_info[trial_info[\u001B[38;5;124m'\u001B[39m\u001B[38;5;124mtrial_id\u001B[39m\u001B[38;5;124m'\u001B[39m] \u001B[38;5;241m==\u001B[39m trial_id]\n\u001B[0;32m----> 6\u001B[0m     time_utill_move\u001B[38;5;241m.\u001B[39mappend((\u001B[43mtrial_id_trial_info\u001B[49m\u001B[43m[\u001B[49m\u001B[38;5;124;43m'\u001B[39;49m\u001B[38;5;124;43mmove_begins_time\u001B[39;49m\u001B[38;5;124;43m'\u001B[39;49m\u001B[43m]\u001B[49m\u001B[38;5;241;43m.\u001B[39;49m\u001B[43mvalues\u001B[49m\u001B[43m[\u001B[49m\u001B[38;5;241;43m0\u001B[39;49m\u001B[43m]\u001B[49m \u001B[38;5;241m/\u001B[39m np\u001B[38;5;241m.\u001B[39mtimedelta64(\u001B[38;5;241m1\u001B[39m, \u001B[38;5;124m'\u001B[39m\u001B[38;5;124mms\u001B[39m\u001B[38;5;124m'\u001B[39m)) \u001B[38;5;241m-\u001B[39m (trial_id_trial_info[\u001B[38;5;124m'\u001B[39m\u001B[38;5;124mstart_time\u001B[39m\u001B[38;5;124m'\u001B[39m]\u001B[38;5;241m.\u001B[39mvalues[\u001B[38;5;241m0\u001B[39m] \u001B[38;5;241m/\u001B[39m np\u001B[38;5;241m.\u001B[39mtimedelta64(\u001B[38;5;241m1\u001B[39m, \u001B[38;5;124m'\u001B[39m\u001B[38;5;124mms\u001B[39m\u001B[38;5;124m'\u001B[39m)))\n\u001B[1;32m      8\u001B[0m plt\u001B[38;5;241m.\u001B[39mhist(time_utill_move, bins\u001B[38;5;241m=\u001B[39m\u001B[38;5;124m'\u001B[39m\u001B[38;5;124mauto\u001B[39m\u001B[38;5;124m'\u001B[39m, density\u001B[38;5;241m=\u001B[39m\u001B[38;5;28;01mTrue\u001B[39;00m, alpha\u001B[38;5;241m=\u001B[39m\u001B[38;5;241m0.7\u001B[39m, edgecolor\u001B[38;5;241m=\u001B[39m\u001B[38;5;124m'\u001B[39m\u001B[38;5;124mgray\u001B[39m\u001B[38;5;124m'\u001B[39m)\n\u001B[1;32m      9\u001B[0m plt\u001B[38;5;241m.\u001B[39mtitle(\u001B[38;5;124m'\u001B[39m\u001B[38;5;124mtime untill movement\u001B[39m\u001B[38;5;130;01m\\n\u001B[39;00m\u001B[38;5;124m'\u001B[39m)\n",
      "\u001B[0;31mIndexError\u001B[0m: index 0 is out of bounds for axis 0 with size 0"
     ]
    }
   ],
   "source": [
    "time_utill_move = []\n",
    "\n",
    "for trial_id, trial in enumerate(trials):\n",
    "    trial_id_trial_info = trial_info[trial_info['trial_id'] == trial_id]\n",
    "    \n",
    "    time_utill_move.append((trial_id_trial_info['move_begins_time'].values[0] / np.timedelta64(1, 'ms')) - (trial_id_trial_info['start_time'].values[0] / np.timedelta64(1, 'ms')))\n",
    "    \n",
    "plt.hist(time_utill_move, bins='auto', density=True, alpha=0.7, edgecolor='gray')\n",
    "plt.title('time untill movement\\n')\n",
    "plt.xlabel('time interval before move_onset (sec)')\n",
    "plt.savefig('output_figs/tibm.png')\n",
    "plt.show()"
   ]
  },
  {
   "cell_type": "code",
   "execution_count": null,
   "id": "75989ff0-a894-45e3-8692-8e02ca94cccf",
   "metadata": {
    "tags": []
   },
   "outputs": [],
   "source": [
    "time_after_move = []\n",
    "\n",
    "for i, _ in enumerate(trials):\n",
    "    trial_id = i + n_null_trials\n",
    "    trial_id_trial_info = trial_info[trial_info['trial_id'] == trial_id]\n",
    "    \n",
    "    time_after_move.append((trial_id_trial_info['end_time'].iloc[0] / np.timedelta64(1, 's')) - (trial_id_trial_info['move_onset_time'].iloc[0] / np.timedelta64(1, 's')))\n",
    "    \n",
    "plt.hist(time_after_move, bins='auto', density=False, alpha=0.7, edgecolor='gray')\n",
    "plt.title('time after movement\\n')\n",
    "plt.xlabel('time interval after move_onset (sec)')\n",
    "plt.savefig('output_figs/tiam.png')\n",
    "plt.show()"
   ]
  },
  {
   "cell_type": "markdown",
   "id": "54f94ee0-9b11-4966-8ea4-7d5d882339e3",
   "metadata": {},
   "source": [
    "### Forming conditions"
   ]
  },
  {
   "cell_type": "code",
   "execution_count": 50,
   "id": "26bee82e-3db2-4a34-ac2f-79715cf846ef",
   "metadata": {
    "tags": []
   },
   "outputs": [],
   "source": [
    "dataset = ds"
   ]
  },
  {
   "cell_type": "code",
   "execution_count": 45,
   "id": "1df96c9f-1873-4072-81bc-4380ed3c6528",
   "metadata": {
    "tags": []
   },
   "outputs": [
    {
     "ename": "NameError",
     "evalue": "name 'nwb' is not defined",
     "output_type": "error",
     "traceback": [
      "\u001B[0;31m---------------------------------------------------------------------------\u001B[0m",
      "\u001B[0;31mNameError\u001B[0m                                 Traceback (most recent call last)",
      "Cell \u001B[0;32mIn[45], line 1\u001B[0m\n\u001B[0;32m----> 1\u001B[0m hand_pos \u001B[38;5;241m=\u001B[39m \u001B[43mnwb\u001B[49m\u001B[38;5;241m.\u001B[39mprocessing[\u001B[38;5;124m'\u001B[39m\u001B[38;5;124mbehavior\u001B[39m\u001B[38;5;124m'\u001B[39m]\u001B[38;5;241m.\u001B[39mdata_interfaces[\u001B[38;5;124m'\u001B[39m\u001B[38;5;124mPosition\u001B[39m\u001B[38;5;124m'\u001B[39m]\u001B[38;5;241m.\u001B[39mspatial_series[\u001B[38;5;124m'\u001B[39m\u001B[38;5;124mHand\u001B[39m\u001B[38;5;124m'\u001B[39m]\u001B[38;5;241m.\u001B[39mdata[:]\n\u001B[1;32m      2\u001B[0m cursor_pos \u001B[38;5;241m=\u001B[39m nwb\u001B[38;5;241m.\u001B[39mprocessing[\u001B[38;5;124m'\u001B[39m\u001B[38;5;124mbehavior\u001B[39m\u001B[38;5;124m'\u001B[39m]\u001B[38;5;241m.\u001B[39mdata_interfaces[\u001B[38;5;124m'\u001B[39m\u001B[38;5;124mPosition\u001B[39m\u001B[38;5;124m'\u001B[39m]\u001B[38;5;241m.\u001B[39mspatial_series[\u001B[38;5;124m'\u001B[39m\u001B[38;5;124mCursor \u001B[39m\u001B[38;5;124m'\u001B[39m]\u001B[38;5;241m.\u001B[39mdata[:]\n",
      "\u001B[0;31mNameError\u001B[0m: name 'nwb' is not defined"
     ]
    }
   ],
   "source": [
    "hand_pos = nwb.processing['behavior'].data_interfaces['Position'].spatial_series['Hand'].data[:]\n",
    "cursor_pos = nwb.processing['behavior'].data_interfaces['Position'].spatial_series['Cursor '].data[:]"
   ]
  },
  {
   "cell_type": "code",
   "execution_count": 47,
   "id": "f7d3ba83-c05c-4808-9744-0806683e5fe8",
   "metadata": {
    "tags": []
   },
   "outputs": [],
   "source": [
    "def get_simple_cond(angle):\n",
    "        \n",
    "    if 350 <= angle < 360 or 0 <= angle < 38:\n",
    "        return 0\n",
    "    elif 38 <= angle < 125:\n",
    "        return 1\n",
    "    elif 125 <= angle < 175:\n",
    "        return 2\n",
    "    elif 175 <= angle < 212:\n",
    "        return 3\n",
    "    elif 212 <= angle < 232:\n",
    "        return 4\n",
    "    elif 232 <= angle < 280:\n",
    "        return 5\n",
    "    elif 280 <= angle <= 329:\n",
    "        return 6\n",
    "    elif 329 <= angle <= 350:\n",
    "        return 7\n",
    "    else:\n",
    "        raise ValueError(\"Angle out of range\")\n",
    "\n",
    "def n_unigue_conds(trial_conds):\n",
    "    # Convert each list to a frozenset and use a set to track unique frozensets\n",
    "    unique_conds = set(frozenset(cond) for cond in trial_conds)\n",
    "    return len(unique_conds)"
   ]
  },
  {
   "cell_type": "code",
   "execution_count": 56,
   "id": "7e909af9-d248-45c6-baf3-b56a62b2f52f",
   "metadata": {
    "tags": []
   },
   "outputs": [
    {
     "name": "stderr",
     "output_type": "stream",
     "text": [
      "NaNs found in `self.data`. Dropping 0.03% of points to remove NaNs from `trial_data`.\n"
     ]
    },
    {
     "ename": "KeyError",
     "evalue": "\"Columns not found: ('hand_pos', 'x'), ('hand_pos', 'y')\"",
     "output_type": "error",
     "traceback": [
      "\u001B[0;31m---------------------------------------------------------------------------\u001B[0m",
      "\u001B[0;31mKeyError\u001B[0m                                  Traceback (most recent call last)",
      "Cell \u001B[0;32mIn[56], line 18\u001B[0m\n\u001B[1;32m     16\u001B[0m trial_d \u001B[38;5;241m=\u001B[39m dataset\u001B[38;5;241m.\u001B[39mmake_trial_data(ignored_trials\u001B[38;5;241m=\u001B[39m(\u001B[38;5;241m~\u001B[39mmask))\n\u001B[1;32m     17\u001B[0m \u001B[38;5;66;03m# Average hand position across trials\u001B[39;00m\n\u001B[0;32m---> 18\u001B[0m traj \u001B[38;5;241m=\u001B[39m \u001B[43mtrial_d\u001B[49m\u001B[38;5;241;43m.\u001B[39;49m\u001B[43mgroupby\u001B[49m\u001B[43m(\u001B[49m\u001B[38;5;124;43m'\u001B[39;49m\u001B[38;5;124;43malign_time\u001B[39;49m\u001B[38;5;124;43m'\u001B[39;49m\u001B[43m)\u001B[49m\u001B[43m[\u001B[49m\u001B[43m[\u001B[49m\u001B[43m(\u001B[49m\u001B[38;5;124;43m'\u001B[39;49m\u001B[38;5;124;43mhand_pos\u001B[39;49m\u001B[38;5;124;43m'\u001B[39;49m\u001B[43m,\u001B[49m\u001B[43m \u001B[49m\u001B[38;5;124;43m'\u001B[39;49m\u001B[38;5;124;43mx\u001B[39;49m\u001B[38;5;124;43m'\u001B[39;49m\u001B[43m)\u001B[49m\u001B[43m,\u001B[49m\u001B[43m \u001B[49m\u001B[43m(\u001B[49m\u001B[38;5;124;43m'\u001B[39;49m\u001B[38;5;124;43mhand_pos\u001B[39;49m\u001B[38;5;124;43m'\u001B[39;49m\u001B[43m,\u001B[49m\u001B[43m \u001B[49m\u001B[38;5;124;43m'\u001B[39;49m\u001B[38;5;124;43my\u001B[39;49m\u001B[38;5;124;43m'\u001B[39;49m\u001B[43m)\u001B[49m\u001B[43m]\u001B[49m\u001B[43m]\u001B[49m\u001B[38;5;241m.\u001B[39mmean()\u001B[38;5;241m.\u001B[39mto_numpy()\n\u001B[1;32m     19\u001B[0m \u001B[38;5;66;03m# Determine reach angle for color\u001B[39;00m\n\u001B[1;32m     20\u001B[0m active_target \u001B[38;5;241m=\u001B[39m trial_info[mask]\u001B[38;5;241m.\u001B[39mtarget_pos\u001B[38;5;241m.\u001B[39miloc[\u001B[38;5;241m0\u001B[39m][\u001B[38;5;28mint\u001B[39m(dataset\u001B[38;5;241m.\u001B[39mtrial_info[mask]\u001B[38;5;241m.\u001B[39mactive_target\u001B[38;5;241m.\u001B[39miloc[\u001B[38;5;241m0\u001B[39m])]\n",
      "File \u001B[0;32m/opt/anaconda3/envs/opium/lib/python3.11/site-packages/pandas/core/groupby/generic.py:1538\u001B[0m, in \u001B[0;36mDataFrameGroupBy.__getitem__\u001B[0;34m(self, key)\u001B[0m\n\u001B[1;32m   1529\u001B[0m \u001B[38;5;28;01mif\u001B[39;00m \u001B[38;5;28misinstance\u001B[39m(key, \u001B[38;5;28mtuple\u001B[39m) \u001B[38;5;129;01mand\u001B[39;00m \u001B[38;5;28mlen\u001B[39m(key) \u001B[38;5;241m>\u001B[39m \u001B[38;5;241m1\u001B[39m:\n\u001B[1;32m   1530\u001B[0m     \u001B[38;5;66;03m# if len == 1, then it becomes a SeriesGroupBy and this is actually\u001B[39;00m\n\u001B[1;32m   1531\u001B[0m     \u001B[38;5;66;03m# valid syntax, so don't raise warning\u001B[39;00m\n\u001B[1;32m   1532\u001B[0m     warnings\u001B[38;5;241m.\u001B[39mwarn(\n\u001B[1;32m   1533\u001B[0m         \u001B[38;5;124m\"\u001B[39m\u001B[38;5;124mIndexing with multiple keys (implicitly converted to a tuple \u001B[39m\u001B[38;5;124m\"\u001B[39m\n\u001B[1;32m   1534\u001B[0m         \u001B[38;5;124m\"\u001B[39m\u001B[38;5;124mof keys) will be deprecated, use a list instead.\u001B[39m\u001B[38;5;124m\"\u001B[39m,\n\u001B[1;32m   1535\u001B[0m         \u001B[38;5;167;01mFutureWarning\u001B[39;00m,\n\u001B[1;32m   1536\u001B[0m         stacklevel\u001B[38;5;241m=\u001B[39m\u001B[38;5;241m2\u001B[39m,\n\u001B[1;32m   1537\u001B[0m     )\n\u001B[0;32m-> 1538\u001B[0m \u001B[38;5;28;01mreturn\u001B[39;00m \u001B[38;5;28;43msuper\u001B[39;49m\u001B[43m(\u001B[49m\u001B[43m)\u001B[49m\u001B[38;5;241;43m.\u001B[39;49m\u001B[38;5;21;43m__getitem__\u001B[39;49m\u001B[43m(\u001B[49m\u001B[43mkey\u001B[49m\u001B[43m)\u001B[49m\n",
      "File \u001B[0;32m/opt/anaconda3/envs/opium/lib/python3.11/site-packages/pandas/core/base.py:222\u001B[0m, in \u001B[0;36mSelectionMixin.__getitem__\u001B[0;34m(self, key)\u001B[0m\n\u001B[1;32m    220\u001B[0m     \u001B[38;5;28;01mif\u001B[39;00m \u001B[38;5;28mlen\u001B[39m(\u001B[38;5;28mself\u001B[39m\u001B[38;5;241m.\u001B[39mobj\u001B[38;5;241m.\u001B[39mcolumns\u001B[38;5;241m.\u001B[39mintersection(key)) \u001B[38;5;241m!=\u001B[39m \u001B[38;5;28mlen\u001B[39m(key):\n\u001B[1;32m    221\u001B[0m         bad_keys \u001B[38;5;241m=\u001B[39m \u001B[38;5;28mlist\u001B[39m(\u001B[38;5;28mset\u001B[39m(key)\u001B[38;5;241m.\u001B[39mdifference(\u001B[38;5;28mself\u001B[39m\u001B[38;5;241m.\u001B[39mobj\u001B[38;5;241m.\u001B[39mcolumns))\n\u001B[0;32m--> 222\u001B[0m         \u001B[38;5;28;01mraise\u001B[39;00m \u001B[38;5;167;01mKeyError\u001B[39;00m(\u001B[38;5;124mf\u001B[39m\u001B[38;5;124m\"\u001B[39m\u001B[38;5;124mColumns not found: \u001B[39m\u001B[38;5;132;01m{\u001B[39;00m\u001B[38;5;28mstr\u001B[39m(bad_keys)[\u001B[38;5;241m1\u001B[39m:\u001B[38;5;241m-\u001B[39m\u001B[38;5;241m1\u001B[39m]\u001B[38;5;132;01m}\u001B[39;00m\u001B[38;5;124m\"\u001B[39m)\n\u001B[1;32m    223\u001B[0m     \u001B[38;5;28;01mreturn\u001B[39;00m \u001B[38;5;28mself\u001B[39m\u001B[38;5;241m.\u001B[39m_gotitem(\u001B[38;5;28mlist\u001B[39m(key), ndim\u001B[38;5;241m=\u001B[39m\u001B[38;5;241m2\u001B[39m)\n\u001B[1;32m    225\u001B[0m \u001B[38;5;28;01melif\u001B[39;00m \u001B[38;5;129;01mnot\u001B[39;00m \u001B[38;5;28mgetattr\u001B[39m(\u001B[38;5;28mself\u001B[39m, \u001B[38;5;124m\"\u001B[39m\u001B[38;5;124mas_index\u001B[39m\u001B[38;5;124m\"\u001B[39m, \u001B[38;5;28;01mFalse\u001B[39;00m):\n",
      "\u001B[0;31mKeyError\u001B[0m: \"Columns not found: ('hand_pos', 'x'), ('hand_pos', 'y')\""
     ]
    },
    {
     "data": {
      "image/png": "[encoded data removed]",
      "text/plain": [
       "<Figure size 600x600 with 1 Axes>"
      ]
     },
     "metadata": {},
     "output_type": "display_data"
    }
   ],
   "source": [
    "## Plot trial-averaged reaches\n",
    "\n",
    "# Find unique conditions\n",
    "conds = trial_info.set_index(['trial_type', 'trial_version']).index.unique().tolist()\n",
    "conds = [cond for cond in conds if not any(math.isnan(x) for x in cond)]\n",
    "\n",
    "# Initialize plot\n",
    "fig = plt.figure(figsize=(6, 6))\n",
    "ax = fig.add_axes([0.1, 0.1, 0.8, 0.8])\n",
    "\n",
    "# Loop over conditions and compute average trajectory\n",
    "for cond in conds:\n",
    "    # Find trials in condition\n",
    "    mask = np.all(trial_info[['trial_type', 'trial_version']] == cond, axis=1)\n",
    "    # Extract trial data\n",
    "    trial_d = dataset.make_trial_data(ignored_trials=(~mask))\n",
    "    # Average hand position across trials\n",
    "    traj = trial_d.groupby('align_time')[[('hand_pos', 'x'), ('hand_pos', 'y')]].mean().to_numpy()\n",
    "    # Determine reach angle for color\n",
    "    active_target = trial_info[mask].target_pos.iloc[0][int(dataset.trial_info[mask].active_target.iloc[0])]\n",
    "    reach_angle = np.arctan2(*active_target[::-1])\n",
    "    # Plot reach\n",
    "    ax.plot([0, traj[:, 0][-1]], [0, traj[:, 1][-1]], linewidth=0.7, color=plt.cm.hsv(reach_angle / (2*np.pi) + 0.5))\n",
    "\n",
    "angle_radians = np.radians(350)\n",
    "x_end = 140 * np.cos(angle_radians)\n",
    "y_end = 140 * np.sin(angle_radians)\n",
    "ax.plot([0, x_end], [0, y_end], linewidth=0.7, color='black')\n",
    "'''\n",
    "angle_radians = np.radians(16)\n",
    "x_end = 140 * np.cos(angle_radians)\n",
    "y_end = 140 * np.sin(angle_radians)\n",
    "ax.plot([0, x_end], [0, y_end], linewidth=0.7, color='black')\n",
    "'''\n",
    "angle_radians = np.radians(38)\n",
    "x_end = 80 * np.cos(angle_radians)\n",
    "y_end = 80 * np.sin(angle_radians)\n",
    "ax.plot([0, x_end], [0, y_end], linewidth=0.7, color='black')\n",
    "\n",
    "angle_radians = np.radians(125)\n",
    "x_end = 50 * np.cos(angle_radians)\n",
    "y_end = 50 * np.sin(angle_radians)\n",
    "ax.plot([0, x_end], [0, y_end], linewidth=0.7, color='black')\n",
    "\n",
    "angle_radians = np.radians(175)\n",
    "x_end = 140 * np.cos(angle_radians)\n",
    "y_end = 140 * np.sin(angle_radians)\n",
    "ax.plot([0, x_end], [0, y_end], linewidth=0.7, color='black')\n",
    "'''\n",
    "angle_radians = np.radians(193)\n",
    "x_end = 140 * np.cos(angle_radians)\n",
    "y_end = 140 * np.sin(angle_radians)\n",
    "ax.plot([0, x_end], [0, y_end], linewidth=0.7, color='black')\n",
    "'''\n",
    "angle_radians = np.radians(212)\n",
    "x_end = 140 * np.cos(angle_radians)\n",
    "y_end = 140 * np.sin(angle_radians)\n",
    "ax.plot([0, x_end], [0, y_end], linewidth=0.7, color='black')\n",
    "\n",
    "angle_radians = np.radians(232)\n",
    "x_end = 140 * np.cos(angle_radians)\n",
    "y_end = 140 * np.sin(angle_radians)\n",
    "ax.plot([0, x_end], [0, y_end], linewidth=0.7, color='black')\n",
    "\n",
    "angle_radians = np.radians(280)\n",
    "x_end = 100 * np.cos(angle_radians)\n",
    "y_end = 100 * np.sin(angle_radians)\n",
    "ax.plot([0, x_end], [0, y_end], linewidth=0.7, color='black')\n",
    "\n",
    "angle_radians = np.radians(329)\n",
    "x_end = 140 * np.cos(angle_radians)\n",
    "y_end = 140 * np.sin(angle_radians)\n",
    "ax.plot([0, x_end], [0, y_end], linewidth=0.7, color='black')\n",
    "\n",
    "angle_radians = np.radians(0)\n",
    "x_end = 140 * np.cos(angle_radians)\n",
    "y_end = 140 * np.sin(angle_radians)\n",
    "ax.plot([0, x_end], [0, y_end], linewidth=1.7, color='navy')\n",
    "\n",
    "angle_radians = np.radians(90)\n",
    "x_end = 50 * np.cos(angle_radians)\n",
    "y_end = 50 * np.sin(angle_radians)\n",
    "ax.plot([0, x_end], [0, y_end], linewidth=1.7, color='navy')\n",
    "\n",
    "angle_radians = np.radians(180)\n",
    "x_end = 140 * np.cos(angle_radians)\n",
    "y_end = 140 * np.sin(angle_radians)\n",
    "ax.plot([0, x_end], [0, y_end], linewidth=1.7, color='navy')\n",
    "\n",
    "angle_radians = np.radians(270)\n",
    "x_end = 100 * np.cos(angle_radians)\n",
    "y_end = 100 * np.sin(angle_radians)\n",
    "ax.plot([0, x_end], [0, y_end], linewidth=1.7, color='navy')\n",
    "\n",
    "plt.axis('off')\n",
    "plt.show()"
   ]
  },
  {
   "cell_type": "code",
   "execution_count": null,
   "id": "7ae4e9dd-d340-4586-b3bf-b5301cc2be5f",
   "metadata": {
    "tags": []
   },
   "outputs": [],
   "source": [
    "## Plot trial-averaged reaches\n",
    "\n",
    "# Find unique conditions\n",
    "maze_conds = trial_info.set_index(['trial_type', 'trial_version']).index.unique().tolist()\n",
    "maze_conds = [cond for cond in maze_conds if not any(math.isnan(x) for x in cond)]\n",
    "\n",
    "orig_conds = {}\n",
    "simp_conds = {0:[], 1:[], 2:[], 3:[], 4:[], 5:[], 6:[], 7:[]}\n",
    "\n",
    "fig = plt.figure(figsize=(6, 6))\n",
    "fig.suptitle('Aligned trials (same length)')\n",
    "ax = fig.add_axes([0.1, 0.1, 0.8, 0.8])\n",
    "\n",
    "# Loop over conditions and compute average trajectory\n",
    "for cond_idx, cond in enumerate(maze_conds):\n",
    "    # Find trials in condition\n",
    "    mask = np.all(dataset.trial_info[['trial_type', 'trial_version']] == cond, axis=1)\n",
    "    trial_d = dataset.make_trial_data(align_field='move_onset_time', align_range=(-240, 660), ignored_trials=(~mask))\n",
    "    traj = trial_d.groupby('align_time')[[('hand_pos', 'x'), ('hand_pos', 'y')]].mean().to_numpy()\n",
    "    # Determine reach angle for color\n",
    "    reach_angle = np.arctan2(*trial_info[mask].target_pos.iloc[0][int(trial_info[mask].active_target.iloc[0])][::-1])\n",
    "    # Plot reach\n",
    "    ax.plot(traj[:, 0], traj[:, 1], linewidth=0.7, color=plt.cm.hsv(reach_angle / (2*np.pi) + 0.5))\n",
    "    \n",
    "    orig_conds[cond_idx] = trial_d.trial_id.drop_duplicates().values\n",
    "    simp_conds[get_simple_cond(math.degrees(reach_angle) + 360 / 2)].append(trial_d.trial_id.drop_duplicates().values)\n",
    "\n",
    "simp_conds = {key: np.concatenate(value) for key, value in simp_conds.items()}\n",
    "    \n",
    "plt.axis('off')\n",
    "plt.show()"
   ]
  },
  {
   "cell_type": "code",
   "execution_count": null,
   "id": "574b8112-0ca1-4eba-98ca-aa3139941ab3",
   "metadata": {
    "tags": []
   },
   "outputs": [],
   "source": [
    "conds = []\n",
    "for trial_id, trial in trial_data.groupby('trial_id'):\n",
    "    trial_id_trial_info = trial_info[trial_info['trial_id'] == trial_id]\n",
    "    \n",
    "    for cond, trial_ids in orig_conds.items():\n",
    "        if trial_id in trial_ids:\n",
    "            conds.append(cond)\n",
    "            break\n",
    "            \n",
    "maze_conds = torch.tensor(maze_conds)\n",
    "conds = torch.tensor(conds)\n",
    "\n",
    "print(maze_conds.shape)\n",
    "print(conds.shape)"
   ]
  },
  {
   "cell_type": "code",
   "execution_count": null,
   "id": "cbf4f442-611c-478b-a935-7c64971e2cde",
   "metadata": {
    "tags": []
   },
   "outputs": [],
   "source": [
    "_, cond_counts = torch.unique(conds, return_counts=True)\n",
    "cond_counts"
   ]
  },
  {
   "cell_type": "markdown",
   "id": "7db8c43f-77d3-4aa5-b23e-b93dea9ae6a9",
   "metadata": {
    "tags": []
   },
   "source": [
    "## Forming trials and label vectors"
   ]
  },
  {
   "cell_type": "code",
   "execution_count": null,
   "id": "90b2ac98-41c3-4de7-b3f1-1dae048b36b7",
   "metadata": {
    "tags": []
   },
   "outputs": [],
   "source": [
    "#[col for col in trial_data.columns if any(_ in col for _ in ['vel', 'pos', 'force', 'acc', 'target'])]\n",
    "label_cols = [col for col in trial_data.columns if any(_ in col for _ in ['x', 'y'])]"
   ]
  },
  {
   "cell_type": "code",
   "execution_count": null,
   "id": "41a76fb4-6d1d-4a6e-a8d9-f557d4f6b5b1",
   "metadata": {
    "tags": []
   },
   "outputs": [],
   "source": [
    "label_cols"
   ]
  },
  {
   "cell_type": "code",
   "execution_count": null,
   "id": "80f328b7-6857-427f-bdca-fb12af8d23f6",
   "metadata": {
    "tags": []
   },
   "outputs": [],
   "source": [
    "# Align the trials arount the move_onset bin with offsets before and after that bin.\n",
    "y = []\n",
    "labels = []\n",
    "target_pos = []\n",
    "active_target = []\n",
    "conds = []\n",
    "\n",
    "# We want total trial length of 900ms, which is 90 time bins.\n",
    "bins_before_move = 48\n",
    "bins_after_move = 132\n",
    "\n",
    "trial_length = bins_before_move + bins_after_move\n",
    "n_trials = trial_data.shape[0] // trial_length\n",
    "\n",
    "for trial_id, trial in trial_data.groupby('trial_id'):\n",
    "    trial_id_info = trial_info[trial_info['trial_id'] == trial_id]\n",
    "            \n",
    "    # Get the untill movement in ms.\n",
    "    move_time = (trial_id_info['move_onset_time'].iloc[0] / np.timedelta64(1, 'ms')) - (trial_id_info['start_time'].iloc[0] / np.timedelta64(1, 'ms'))\n",
    "    # Get the number of bins until movement.\n",
    "    move_bin = int(move_time // binsize)\n",
    "\n",
    "    y_heldin_t = torch.tensor(trial.spikes.values)\n",
    "    y_heldout_t = torch.tensor(trial.heldout_spikes.values)\n",
    "    \n",
    "    # Crop the trials arount the move_onset bin with offsets before and after that bin.\n",
    "    y_t = torch.concat(\n",
    "        [y_heldin_t[move_bin-bins_before_move:move_bin+bins_after_move, :], y_heldout_t[move_bin-bins_before_move:move_bin+bins_after_move, :]], dim=-1\n",
    "    )\n",
    "    \n",
    "    y.append(y_t.reshape(1, trial_length, n_neurons))\n",
    "    labels.append(torch.tensor(trial.cursor_pos.values[move_bin-bins_before_move:move_bin+bins_after_move, :]).reshape(1, trial_length, 2))\n",
    "    \n",
    "    target_pos.append(trial_id_info.target_pos.values[0])\n",
    "    active_target.append(int(trial_id_info.active_target.values[0]))\n",
    "    \n",
    "    for cond, trial_ids in orig_conds.items():\n",
    "        if trial_id in trial_ids:\n",
    "            conds.append(cond)\n",
    "    \n",
    "y = torch.concat(y, dim=0)\n",
    "labels = torch.concat(labels, dim=0)\n",
    "conds = torch.tensor(conds)\n",
    "active_target = torch.tensor(active_target)\n",
    "\n",
    "print(y.shape)\n",
    "print(labels.shape)\n",
    "print(conds.shape)\n",
    "print(len(target_pos))\n",
    "print(active_target.shape)"
   ]
  },
  {
   "cell_type": "markdown",
   "id": "5b0bc4f2-8817-4a0a-a3d7-25faafe57710",
   "metadata": {},
   "source": [
    "### Forming events occurance time bins"
   ]
  },
  {
   "cell_type": "code",
   "execution_count": null,
   "id": "f188f9a0-33ed-46be-92ad-529916dc08b4",
   "metadata": {
    "tags": []
   },
   "outputs": [],
   "source": [
    "for i, _ in enumerate(trials):\n",
    "    trial_id = i + n_null_trials\n",
    "    trial_id_trial_info = trial_info[trial_info['trial_id'] == trial_id]\n",
    "    \n",
    "    target_on = (((trial_id_trial_info['target_on_time'].iloc[0] / np.timedelta64(1, 'ms')) - (trial_id_trial_info['start_time'].iloc[0] / np.timedelta64(1, 'ms'))) // binsize)\n",
    "    gocue = (((trial_id_trial_info['go_cue_time'].iloc[0] / np.timedelta64(1, 'ms')) - (trial_id_trial_info['start_time'].iloc[0] / np.timedelta64(1, 'ms'))) // binsize)\n",
    "    move_onset = (((trial_id_trial_info['move_onset_time'].iloc[0] / np.timedelta64(1, 'ms')) - (trial_id_trial_info['start_time'].iloc[0] / np.timedelta64(1, 'ms'))) // binsize)"
   ]
  },
  {
   "cell_type": "code",
   "execution_count": null,
   "id": "d3a1653d-f08c-4e7f-ab2a-0afa535bc469",
   "metadata": {
    "tags": []
   },
   "outputs": [],
   "source": [
    "target_bins = []\n",
    "gocue_bins = []\n",
    "move_bins = []\n",
    "event_bins = []\n",
    "\n",
    "for i, _ in enumerate(trials):\n",
    "    trial_id = i + n_null_trials\n",
    "    trial_id_trial_info = trial_info[trial_info['trial_id'] == trial_id]\n",
    "    \n",
    "    # target : go\n",
    "    delay = (((trial_id_trial_info['go_cue_time'].iloc[0] / np.timedelta64(1, 'ms')) - (trial_id_trial_info['target_on_time'].iloc[0] / np.timedelta64(1, 'ms'))) // binsize)\n",
    "    # go : move\n",
    "    prep = (((trial_id_trial_info['move_onset_time'].iloc[0] / np.timedelta64(1, 'ms')) - (trial_id_trial_info['go_cue_time'].iloc[0] / np.timedelta64(1, 'ms'))) // binsize)\n",
    "    \n",
    "    target_on = (((trial_id_trial_info['target_on_time'].iloc[0] / np.timedelta64(1, 'ms')) - (trial_id_trial_info['start_time'].iloc[0] / np.timedelta64(1, 'ms'))) // binsize)\n",
    "    gocue = (((trial_id_trial_info['go_cue_time'].iloc[0] / np.timedelta64(1, 'ms')) - (trial_id_trial_info['start_time'].iloc[0] / np.timedelta64(1, 'ms'))) // binsize)\n",
    "    move_onset = (((trial_id_trial_info['move_onset_time'].iloc[0] / np.timedelta64(1, 'ms')) - (trial_id_trial_info['start_time'].iloc[0] / np.timedelta64(1, 'ms'))) // binsize)\n",
    "    \n",
    "    target_bins.append(target_on - move_onset + bins_before_move)\n",
    "    gocue_bins.append(gocue - move_onset + bins_before_move)\n",
    "    move_bins.append(bins_before_move)\n",
    "\n",
    "event_bins.append(torch.tensor(target_bins))\n",
    "event_bins.append(torch.tensor(gocue_bins))\n",
    "event_bins.append(torch.tensor(move_bins))\n",
    "event_bins = torch.stack(event_bins)\n",
    "event_bins.shape"
   ]
  },
  {
   "cell_type": "code",
   "execution_count": null,
   "id": "840db6ae-a4b8-4abe-847b-3a0f99eda378",
   "metadata": {
    "tags": []
   },
   "outputs": [],
   "source": [
    "event_bins = event_bins.permute(1, 0)\n",
    "\n",
    "event_bins[event_bins < 0] = float('nan')\n",
    "event_bins[event_bins > bins_before_move + bins_after_move] = float('nan')\n",
    "event_bins.shape"
   ]
  },
  {
   "cell_type": "code",
   "execution_count": null,
   "id": "8b694f84-7c40-444f-b73e-8f5e8461a7ed",
   "metadata": {
    "tags": []
   },
   "outputs": [],
   "source": [
    "event_bins"
   ]
  },
  {
   "cell_type": "markdown",
   "id": "cf0380b0-0668-4f17-a4bd-8b3f5b68422f",
   "metadata": {},
   "source": [
    "### Save data splits"
   ]
  },
  {
   "cell_type": "code",
   "execution_count": null,
   "id": "a9edf129-12bb-4c82-8581-bf4d16236cf0",
   "metadata": {
    "tags": []
   },
   "outputs": [],
   "source": [
    "import torch\n",
    "\n",
    "!mkdir data\n",
    "save_root_path = 'data/'\n",
    "\n",
    "train_data, valid_data, test_data = {}, {}, {}\n",
    "n_trials, seq_len, n_neurons = y.shape\n",
    "n_valid_trials = 574\n",
    "\n",
    "# obs: observations\n",
    "train_data['y_obs'] = torch.Tensor(y[:-n_valid_trials])\n",
    "valid_data['y_obs'] = torch.Tensor(y[-n_valid_trials:-n_valid_trials // 2])\n",
    "test_data['y_obs'] = torch.Tensor(y[-n_valid_trials // 2:])\n",
    "\n",
    "# 'n_bins_enc': Number of time bins used later by in modeling for enconding (default full trial).\n",
    "# 'n_bins_obs': originaly observed trial length (after alignment)\n",
    "# Same for 'n_neurons_obs' and 'n_neurons_enc'.\n",
    "train_data['n_bins_obs'] = valid_data['n_bins_obs'] = test_data['n_bins_obs'] = seq_len\n",
    "train_data['n_bins_enc'] = valid_data['n_bins_enc'] = test_data['n_bins_enc'] = seq_len\n",
    "train_data['n_neurons_obs'] = valid_data['n_neurons_obs'] = test_data['n_neurons_obs'] = n_neurons\n",
    "train_data['n_neurons_enc'] = valid_data['n_neurons_enc'] = test_data['n_neurons_enc'] = n_neurons\n",
    "\n",
    "# Save a 1D array for event bins for each data split, for each trial, for each event.\n",
    "# Note: the o here in event_bins[0] is the session-animal group.\n",
    "for event_id, event in enumerate(['targrt_on_bin', 'go_cue_bin', 'move_onset_bin']):\n",
    "    train_data[event] = torch.Tensor(np.array(event_bins[:-n_valid_trials, event_id]))\n",
    "    valid_data[event] = torch.Tensor(np.array(event_bins[-n_valid_trials:-n_valid_trials // 2, event_id]))\n",
    "    test_data[event] = torch.Tensor(np.array(event_bins[-n_valid_trials // 2:, event_id]))\n",
    "\n",
    "train_data['hand_vel'] = torch.Tensor(np.array(labels[:-n_valid_trials, :, :]))\n",
    "valid_data['hand_vel'] = torch.Tensor(np.array(labels[-n_valid_trials:-n_valid_trials // 2, :, :]))\n",
    "test_data['hand_vel'] = torch.Tensor(np.array(labels[-n_valid_trials // 2:, :, :]))\n",
    "\n",
    "train_data['conds'] = torch.Tensor(np.array(conds[:-n_valid_trials]))\n",
    "valid_data['conds'] = torch.Tensor(np.array(conds[-n_valid_trials:-n_valid_trials // 2]))\n",
    "test_data['conds'] = torch.Tensor(np.array(conds[-n_valid_trials // 2:]))\n",
    "\n",
    "train_data['target_pos'] = target_pos[:-n_valid_trials]\n",
    "valid_data['target_pos'] = target_pos[-n_valid_trials:-n_valid_trials // 2]\n",
    "test_data['target_pos'] = target_pos[-n_valid_trials // 2:]\n",
    "\n",
    "train_data['active_target'] = torch.Tensor(np.array(active_target[:-n_valid_trials]))\n",
    "valid_data['active_target'] = torch.Tensor(np.array(active_target[-n_valid_trials:-n_valid_trials // 2]))\n",
    "test_data['active_target'] = torch.Tensor(np.array(active_target[-n_valid_trials // 2:]))\n",
    "\n",
    "'''\n",
    "for label_id, label in enumerate(label_cols):\n",
    "    train_data[f'{label[0]}_{label[1]}'] = torch.Tensor(np.array(labels[:-n_valid_trials, :, :]))\n",
    "    valid_data[f'{label[0]}_{label[1]}'] = torch.Tensor(np.array(labels[-n_valid_trials:-n_valid_trials // 2, :, :]))\n",
    "    test_data[f'{label[0]}_{label[1]}'] = torch.Tensor(np.array(labels[-n_valid_trials // 2:, :, :]))\n",
    "'''\n",
    "torch.save(train_data, save_root_path + f'data_train_{binsize}ms.pt')\n",
    "torch.save(valid_data, save_root_path + f'data_valid_{binsize}ms.pt')\n",
    "torch.save(test_data, save_root_path + f'data_test_{binsize}ms.pt')\n",
    "\n",
    "print('Data splits (train/valid/test) saved into the \"data\" folder.')"
   ]
  },
  {
   "cell_type": "markdown",
   "id": "a75946d9-ad86-4eeb-ac8c-2997a68d826a",
   "metadata": {},
   "source": [
    "## Load data splits"
   ]
  },
  {
   "cell_type": "code",
   "execution_count": null,
   "id": "8942e4f1-d781-4332-aced-53464f768240",
   "metadata": {},
   "outputs": [],
   "source": [
    "data_path = 'data/data_{split}_{bin_sz_ms}ms.pt'\n",
    "train_data = torch.load(data_path.format(split='train', bin_sz_ms=cfg.bin_sz_ms))\n",
    "val_data = torch.load(data_path.format(split='valid', bin_sz_ms=cfg.bin_sz_ms))\n",
    "test_data = torch.load(data_path.format(split='test', bin_sz_ms=cfg.bin_sz_ms))\n",
    "\n",
    "y_train_obs = train_data['y_obs'].type(torch.float32).to(cfg.data_device)\n",
    "y_valid_obs = val_data['y_obs'].type(torch.float32).to(cfg.data_device)\n",
    "y_test_obs = test_data['y_obs'].type(torch.float32).to(cfg.data_device)\n",
    "\n",
    "vel_train = train_data['velocity'].type(torch.float32).to(cfg.data_device)\n",
    "vel_valid = val_data['velocity'].type(torch.float32).to(cfg.data_device)\n",
    "vel_test = test_data['velocity'].type(torch.float32).to(cfg.data_device)\n",
    "\n",
    "y_train_dataset = torch.utils.data.TensorDataset(y_train_obs, vel_train)\n",
    "y_val_dataset = torch.utils.data.TensorDataset(y_valid_obs, vel_valid)\n",
    "y_test_dataset = torch.utils.data.TensorDataset(y_test_obs, vel_test)\n",
    "\n",
    "train_dataloader = torch.utils.data.DataLoader(y_train_dataset, batch_size=cfg.batch_sz, shuffle=True)\n",
    "valid_dataloader = torch.utils.data.DataLoader(y_val_dataset, batch_size=y_valid_obs.shape[0], shuffle=False)\n",
    "test_dataloader = torch.utils.data.DataLoader(y_test_dataset, batch_size=y_valid_obs.shape[0], shuffle=False)\n",
    "\n",
    "# Data dimensions\n",
    "n_train_trials, n_time_bins, n_neurons_obs = y_train_obs.shape\n",
    "n_valid_trials = y_valid_obs.shape[0]\n",
    "n_test_trials = y_test_obs.shape[0]\n",
    "n_time_bins_enc = train_data['n_time_bins_enc']\n",
    "\n",
    "batch_sz_train = list(y_train_obs.shape)[:-1]\n",
    "batch_sz_valid = list(y_valid_obs.shape)[:-1]\n",
    "batch_sz_test = list(y_test_obs.shape)[:-1]\n",
    "\n",
    "print(\"# training trials: {0}\".format(n_train_trials))\n",
    "print(\"# validation trials: {0}\".format(n_valid_trials))\n",
    "print(\"# testing trials: {0}\".format(n_test_trials))\n",
    "print(\"# neurons: {0}\".format(n_neurons_obs))\n",
    "print(\"# time bins: {0}\".format(n_time_bins))\n",
    "print(\"# time bins used for forcasting: {0}\".format(cfg.n_bins_bhv))\n",
    "print(\"# predicted time bins: {0}\".format(n_time_bins - cfg.n_bins_bhv))"
   ]
  },
  {
   "cell_type": "markdown",
   "id": "704bd434-4093-4914-a044-f66b5085b215",
   "metadata": {},
   "source": [
    "### Reach variability"
   ]
  },
  {
   "cell_type": "code",
   "execution_count": null,
   "id": "845eb108-ef15-4d8a-af22-c71b9f5acd7a",
   "metadata": {
    "tags": []
   },
   "outputs": [],
   "source": [
    "conds_ids, cond_counts = torch.unique(conds, return_counts=True)\n",
    "cond_counts"
   ]
  },
  {
   "cell_type": "code",
   "execution_count": null,
   "id": "bdcca684-153c-492f-9112-02a822463106",
   "metadata": {},
   "outputs": [],
   "source": [
    "top_cs, top_ids = torch.topk(cond_counts, 5)\n",
    "top_ids"
   ]
  },
  {
   "cell_type": "code",
   "execution_count": null,
   "id": "2b287845-040e-46ca-bdb9-532fe06758c9",
   "metadata": {
    "tags": []
   },
   "outputs": [],
   "source": [
    "trial_info['num_targets']"
   ]
  },
  {
   "cell_type": "code",
   "execution_count": null,
   "id": "ccece584-c86b-47ce-b5f2-3d37d7432624",
   "metadata": {
    "tags": []
   },
   "outputs": [],
   "source": [
    "# Trial-averged 108 reach conditions\n",
    "\n",
    "fig = plt.figure(figsize=(6, 6))\n",
    "fig.suptitle('Aligned trials (same length)')\n",
    "ax = fig.add_axes([0.1, 0.1, 0.8, 0.8])\n",
    "\n",
    "# Loop over conditions and compute average trajectory\n",
    "for cond_idx, cond in enumerate([cond for cond in trial_info.set_index(['trial_type', 'trial_version']).index.unique().tolist() if not any(math.isnan(x) for x in cond)]):\n",
    "    # Find trials in condition\n",
    "    mask = np.all(dataset.trial_info[['trial_type', 'trial_version']] == cond, axis=1)\n",
    "    trial_d = dataset.make_trial_data(align_field='move_onset_time', align_range=(-240, 660), ignored_trials=(~mask))\n",
    "    traj = trial_d.groupby('align_time')[[('hand_pos', 'x'), ('hand_pos', 'y')]].mean().to_numpy()\n",
    "    # Determine reach angle for color\n",
    "    reach_angle = np.arctan2(*trial_info[mask].target_pos.iloc[0][int(trial_info[mask].active_target.iloc[0])][::-1])\n",
    "    # Plot reach\n",
    "    ax.plot(traj[:, 0], traj[:, 1], linewidth=0.7, color=plt.cm.hsv(reach_angle / (2*np.pi) + 0.5))\n",
    "    \n",
    "plt.axis('off')\n",
    "plt.savefig('trial_averged_reaches_108')\n",
    "plt.show()"
   ]
  },
  {
   "cell_type": "code",
   "execution_count": null,
   "id": "a8519c75-31f4-4d01-8ee1-71c79ac2d1c9",
   "metadata": {
    "tags": []
   },
   "outputs": [],
   "source": [
    "y_data = y\n",
    "y_vel = labels\n",
    "y_conds = conds\n",
    "y_t_pos = target_pos\n",
    "act_t = active_target"
   ]
  },
  {
   "cell_type": "code",
   "execution_count": null,
   "id": "ea3cda55-1ff4-4bb5-ba0f-d120ae220309",
   "metadata": {
    "tags": []
   },
   "outputs": [],
   "source": [
    "def get_cond_trials(y_vel, y_conds):\n",
    "    psth = np.zeros((len(conds_ids), y_vel.shape[1], y_vel.shape[2]))\n",
    "\n",
    "    for cond in conds_ids:\n",
    "        mask = y_conds == cond\n",
    "        psth[cond, :, :] = y_vel[mask, :, :].mean(axis=0)\n",
    "    \n",
    "    return psth\n",
    "\n",
    "def calc_var_to_mean_ratio(psth):\n",
    "    v_m_ratio =  np.sum((psth.var(axis=0)) / (psth.mean(axis=0)), axis=0)\n",
    "    \n",
    "    return(np.nan_to_num(v_m_ratio, nan=0))"
   ]
  },
  {
   "cell_type": "code",
   "execution_count": null,
   "id": "72f1a0ed-2aeb-4f5d-b93a-d9179604c4df",
   "metadata": {
    "tags": []
   },
   "outputs": [],
   "source": [
    "psth = get_cond_trials(y_vel, y_conds)"
   ]
  },
  {
   "cell_type": "code",
   "execution_count": null,
   "id": "206a66bf-fddb-4b4b-9f1c-f2cb60bb6d32",
   "metadata": {
    "tags": []
   },
   "outputs": [],
   "source": [
    "psth.shape"
   ]
  },
  {
   "cell_type": "code",
   "execution_count": null,
   "id": "04e67f85-8bfb-4b9e-b8f5-309b0fb4e444",
   "metadata": {
    "tags": []
   },
   "outputs": [],
   "source": [
    "vmr = calc_var_to_mean_ratio(psth)"
   ]
  },
  {
   "cell_type": "code",
   "execution_count": null,
   "id": "80e899a1-110b-4066-b780-68e6a1824050",
   "metadata": {
    "tags": []
   },
   "outputs": [],
   "source": [
    "vmr"
   ]
  },
  {
   "cell_type": "code",
   "execution_count": null,
   "id": "48c08d0b-7d3d-463b-aff6-7965403b482a",
   "metadata": {
    "tags": []
   },
   "outputs": [],
   "source": [
    "psth[0, 0, :]"
   ]
  },
  {
   "cell_type": "code",
   "execution_count": null,
   "id": "1e6a8a55-4301-4d7d-865f-c5ad89124d01",
   "metadata": {
    "tags": []
   },
   "outputs": [],
   "source": [
    "# Compute the variance for each tensor along the specified dimension\n",
    "var = [t.var(axis=0).mean().item() for t in psth[0, :, :]]"
   ]
  },
  {
   "cell_type": "code",
   "execution_count": null,
   "id": "540cd4b7-4a50-440c-ac76-09afb0b65f18",
   "metadata": {
    "tags": []
   },
   "outputs": [],
   "source": [
    "var"
   ]
  },
  {
   "cell_type": "code",
   "execution_count": null,
   "id": "8e57ee43-09b4-46c1-a2d2-bb546ef2aa72",
   "metadata": {
    "tags": []
   },
   "outputs": [],
   "source": [
    "np.array(var).shape"
   ]
  },
  {
   "cell_type": "code",
   "execution_count": null,
   "id": "8afbb7d5-e54e-425c-a01e-41be7f258052",
   "metadata": {
    "tags": []
   },
   "outputs": [],
   "source": [
    "psth[0, :, :].shape"
   ]
  },
  {
   "cell_type": "code",
   "execution_count": null,
   "id": "7c2bf3c8-902b-4c48-989a-eaf674f19f17",
   "metadata": {},
   "outputs": [],
   "source": [
    "\n",
    "\n",
    "# Sort the tensors based on the calculated variances\n",
    "sorted_tensors = [tensor for _, tensor in sorted(zip(variances, tensors), key=lambda x: x[0])]\n",
    "\n",
    "# Output the sorted tensors\n",
    "for i, tensor in enumerate(sorted_tensors):\n",
    "    print(f\"Tensor {i+1}:\\n{tensor}\\n\")"
   ]
  },
  {
   "cell_type": "code",
   "execution_count": null,
   "id": "014e9576-853c-41d0-8a6c-ffe13711c738",
   "metadata": {},
   "outputs": [],
   "source": [
    "psth[0, :, :]"
   ]
  },
  {
   "cell_type": "code",
   "execution_count": null,
   "id": "5188504e-a4ff-4430-a865-1cf719f146a9",
   "metadata": {},
   "outputs": [],
   "source": []
  },
  {
   "cell_type": "code",
   "execution_count": null,
   "id": "1dfc318b-29c2-4943-a326-d47088b57b73",
   "metadata": {},
   "outputs": [],
   "source": []
  },
  {
   "cell_type": "code",
   "execution_count": null,
   "id": "6766230e-fc1b-4eaa-a583-d264334acdd0",
   "metadata": {},
   "outputs": [],
   "source": [
    "def load_data(datapath, binsize, split_heldout):\n",
    "    pass\n",
    "\n",
    "def get_average_reach(df, cond):\n",
    "    pass\n",
    "\n",
    "def get_reach_variaiance(df, cond):\n",
    "    pass\n",
    "\n",
    "def get_hit_accuracy(df, cond):\n",
    "    pass\n",
    "\n",
    "def get_reach_deviation(df, cond):\n",
    "    pass"
   ]
  },
  {
   "cell_type": "code",
   "execution_count": null,
   "id": "826ef7ad-c07a-4f8d-aab5-1615d8f8792c",
   "metadata": {
    "tags": []
   },
   "outputs": [],
   "source": [
    "import numpy as np\n",
    "import math\n",
    "\n",
    "from typing import Literal\n",
    "\n",
    "import torch\n",
    "\n",
    "from itertools import product\n",
    "from nlb_tools.nwb_interface import NWBDataset\n",
    "\n",
    "\n",
    "def process_nwb(data_folder_path: str,\n",
    "                split_heldout:bool,\n",
    "                session: int,\n",
    "                animal: int,\n",
    "                binsize: int,\n",
    "                align_event: Literal['target_on_time', 'go_cue_time', 'move_onset_time']\n",
    "                bins_before: int,\n",
    "                bins_after: int,\n",
    "                obj: Literal['hand', 'cursor'],\n",
    "                mes: Literal['vel', 'pos']\n",
    "                save_root_path:str\n",
    "               ) -> pd.DataFrame:\n",
    "    \n",
    "    \n",
    "    \n",
    "    output_df = pd.DataFrame(\n",
    "        {\n",
    "            'session_id': pd.Series(dtype=int),\n",
    "            'animal_id': pd.Series(dtype=int),\n",
    "            'trial_id': pd.Series(dtype=int),\n",
    "\n",
    "            'is_task_success': pd.Series(dtype=int),\n",
    "            'is_correct_reach': pd.Series(dtype=int),\n",
    "\n",
    "            'spikes': pd.Series(dtype=object),\n",
    "\n",
    "            'hand_vel': pd.Series(dtype=object),\n",
    "            'cursor_vel': pd.Series(dtype=object),\n",
    "            'hand_pos': pd.Series(dtype=object),\n",
    "            'cursor_pos': pd.Series(dtype=object),\n",
    "\n",
    "            'hand_pos_cumsum_vel': pd.Series(dtype=object),\n",
    "            'cursor_pos_cumsum_vel': pd.Series(dtype=object),\n",
    "\n",
    "            'maze_condition': pd.Series(dtype=int),\n",
    "            'num_barriers': pd.Series(dtype=int),\n",
    "            'num_targets': pd.Series(dtype=int),\n",
    "            'reach_angle_rad': pd.Series(dtype=float),\n",
    "            'reach_angle_deg': pd.Series(dtype=float),\n",
    "\n",
    "            'typical_reach': {\n",
    "                'reach': pd.Series(dtype=torch.FloatTensor)\n",
    "                'mean': pd.Series(dtype=float),\n",
    "                'variance': pd.Series(dtype=float),\n",
    "            },\n",
    "\n",
    "            'average_reach': pd.Series(dtype=torch.FloatTensor),\n",
    "            'deviation_from_average_reach': pd.Series(dtype=float),\n",
    "\n",
    "            'true_target_pos': {\n",
    "                'x': pd.Series(dtype=float),\n",
    "                'y': pd.Series(dtype=float),\n",
    "            },\n",
    "            'target_hit_accuracy': pd.Series(dtype=float),\n",
    "            'target_size': pd.Series(dtype=float),\n",
    "\n",
    "            'target_on_time': pd.Series(dtype=int),\n",
    "            'target_on_bin': pd.Series(dtype=int),\n",
    "            'go_cue_time': pd.Series(dtype=int),\n",
    "            'go_cue_bin': pd.Series(dtype=int),\n",
    "            'move_starts_time': pd.Series(dtype=int),\n",
    "            'move_starts_bin': pd.Series(dtype=int),\n",
    "            'move_ends_time': pd.Series(dtype=int),\n",
    "            'move_ends_bin': pd.Series(dtype=int),\n",
    "\n",
    "            'intertrial_interval': pd.Series(dtype=float),\n",
    "            'reaction_time': pd.Series(dtype=float),\n",
    "            'delay_time': pd.Series(dtype=float),\n",
    "            'move_execution_time': pd.Series(dtype=float),\n",
    "            \n",
    "            'trial_ends_time': pd.Series(dtype=float),\n",
    "        }\n",
    "    )\n",
    "    \n",
    "    dataset = NWBDataset(datapath, split_heldout=split_heldout)\n",
    "    dataset.resample(target_bin=binsize)\n",
    "    trials_info = dataset.trial_info\n",
    "    print(f'Total number of trials: {len(trial_info)}')\n",
    "    n_null_trials = trial_info.isnull().sum()['success']\n",
    "    print(f\"Including {n_null_trials} null trials\")\n",
    "    \n",
    "    # Combining the number of columns in the 'spikes' field with those in the 'heldout_spikes' field gives the total number of neurons.\n",
    "    n_neurons = dataset.data.spikes.values.shape[1] + dataset.data.heldout_spikes.values.shape[1] if split_heldout else dataset.data.spikes.values.shape[1]\n",
    "    print(f'There are {n_neurons} neurons')\n",
    "\n",
    "    trial_data = dataset.make_trial_data()\n",
    "    trials = [trial[1] for trial in trial_data.groupby('trial_id')]\n",
    "    label_cols = [col for col in trial_data.columns if any(_ in col for _ in ['x', 'y'])]\n",
    "\n",
    "    # Find unique conditions\n",
    "    maze_conds = [cond for cond in trial_info.set_index(['trial_type', 'trial_version']).index.unique().tolist() if\n",
    "                  not any(math.isnan(x) for x in cond)]\n",
    "\n",
    "    orig_conds = {}\n",
    "\n",
    "    # Loop over conditions and compute average trajectory\n",
    "    for cond_idx, cond in enumerate(maze_conds):\n",
    "        # Find trials in condition\n",
    "        mask = np.all(dataset.trial_info[['trial_type', 'trial_version']] == cond, axis=1)\n",
    "        trial_d = dataset.make_trial_data(ignored_trials=(~mask))\n",
    "        orig_conds[cond_idx] = trial_d.trial_id.drop_duplicates().values\n",
    "\n",
    "    maze_conds = torch.tensor(maze_conds)\n",
    "    maze_conds = torch.tensor(maze_conds)\n",
    "\n",
    "    # Align the trials arount the move_onset bin with offsets before and after that bin.\n",
    "\n",
    "    trial_length = bins_before + bins_after\n",
    "    n_trials = trial_data.shape[0] // trial_length\n",
    "\n",
    "    for trial_id, trial in trial_data.groupby('trial_id'):\n",
    "        trial_info = trials_info[trials_info['trial_id'] == trial_id]\n",
    "        \n",
    "        row = {col: None for col in output_df.columns}\n",
    "\n",
    "        # Get the untill movement in ms.\n",
    "        move_time = (trial_info['move_onset_time'].iloc[0] / np.timedelta64(1, 'ms')) - (\n",
    "                    trial_info['start_time'].iloc[0] / np.timedelta64(1, 'ms'))\n",
    "        # Get the number of bins until movement.\n",
    "        move_bin = int(move_time // binsize)\n",
    "\n",
    "        # Crop the trials arount the move_onset bin with offsets before and after that bin.\n",
    "        if split_heldout:\n",
    "            row.spikes = spikes = torch.concat(\n",
    "                [torch.tensor(trial.spikes.values)[move_bin - bins_before:move_bin + bins_after, :], torch.tensor(trial.heldout_spikes.values)[move_bin - bins_before:move_bin + bins_after, :]],\n",
    "                dim=-1)\n",
    "        else:\n",
    "            row.spikes = spikes = torch.tensor(trial.spikes.values)\n",
    "        \n",
    "        row.session_id = session\n",
    "        row.animal_id = animal\n",
    "        row.trial_id = trial_id\n",
    "        \n",
    "        row.is_task_success = trial_info.success\n",
    "        row.is_correct_reach = trial_info.correct_reach\n",
    "        \n",
    "        row.hand_vel = torch.tensor(trial.hand_vel.values[move_bin-bins_before_move:move_bin+bins_after_move, :]).reshape(1, trial_length, 2)\n",
    "        row.cursor_vel = torch.tensor(trial.cursor_vel.values[move_bin-bins_before_move:move_bin+bins_after_move, :]).reshape(1, trial_length, 2)\n",
    "        row.hand_pos = torch.tensor(trial.hand_pos.values[move_bin-bins_before_move:move_bin+bins_after_move, :]).reshape(1, trial_length, 2)\n",
    "        row.cursor_pos = torch.tensor(trial.cursor_pos.values[move_bin-bins_before_move:move_bin+bins_after_move, :]).reshape(1, trial_length, 2)\n",
    "        \n",
    "        row.hand_pos_cumsum_vel = torch.tensor(trial.hand_pos.values[move_bin-bins_before_move:move_bin+bins_after_move, :]).reshape(1, trial_length, 2)\n",
    "        row.cursor_pos_cumsum_vel = torch.tensor(trial.cursor_pos.values[move_bin-bins_before_move:move_bin+bins_after_move, :]).reshape(1, trial_length, 2)\n",
    "        \n",
    "        row.num_barriers = trial_info.num_barriers.values[0]\n",
    "        row.num_targets = trial_info.num_targets.values[0]\n",
    "        row.true_target_pos = trial_info.target_pos.values[0][int(trial_id_info.active_target.values[0])]\n",
    "        \n",
    "        row.intertrial_interval = (trials_info[trials_info['trial_id'] == trial_id+1]['start_time'].iloc[0] / np.timedelta64(1, 'ms')) - (trial_info['end_time'].iloc[0] / np.timedelta64(1, 'ms'))\n",
    "        row.reaction_time = trial_info.rt\n",
    "        row.delay_time = trial_info.delay\n",
    "        row.move_execution_time = (trial_info['move_ends_time'].iloc[0] / np.timedelta64(1, 'ms')) - (trial_info['move_begins_time'].iloc[0] / np.timedelta64(1, 'ms'))\n",
    "        \n",
    "        if 'maze_condition' in dataset:\n",
    "            row.maze_condition = maze_condition\n",
    "        else:\n",
    "            for cond, trial_ids in orig_conds.items():\n",
    "                if trial_id in trial_ids:\n",
    "                    row.maze_condition = cond\n",
    "                \n",
    "        row.target_on_time = (trial_info['target_presentation_time'].iloc[0] / np.timedelta64(1, 'ms')) - (trial_info['start_time'].iloc[0] / np.timedelta64(1, 'ms'))\n",
    "        row.target_on_bin = target_on_time\n",
    "        row.go_cue_time = (trial_info['go_cue_time'].iloc[0] / np.timedelta64(1, 'ms')) - (trial_info['start_time'].iloc[0] / np.timedelta64(1, 'ms'))\n",
    "        row.go_cue_bin = int(np.ceil(go_cue_time / binsize))\n",
    "        row.move_onset_time = (trial_info['move_begins_time'].iloc[0] / np.timedelta64(1, 'ms')) - (trial_info['start_time'].iloc[0] / np.timedelta64(1, 'ms'))\n",
    "        row.move_onset_bin = int(np.ceil()\n",
    "        row.move_ends_time = \n",
    "        row.move_ends_bin = int(np.ceil()\n",
    "        \n",
    "        row.trial_ends_time = (trial_info['end_time'].iloc[0] / np.timedelta64(1, 'ms')) - (trial_info['end_time'].iloc[0] / np.timedelta64(1, 'ms'))\n",
    "\n",
    "        target_on = (((trial_info['target_on_time'].iloc[0] / np.timedelta64(1, 'ms')) - (trial_info['start_time'].iloc[0] / np.timedelta64(1, 'ms'))) // binsize)\n",
    "\n",
    "        gocue = (((trial_info['go_cue_time'].iloc[0] / np.timedelta64(1, 'ms')) - (trial_info['start_time'].iloc[0] / np.timedelta64(1, 'ms'))) // binsize)\n",
    "\n",
    "        move_onset = (((trial_info['move_onset_time'].iloc[0] / np.timedelta64(1, 'ms')) - (trial_info['start_time'].iloc[0] / np.timedelta64(1, 'ms'))) // binsize)\n",
    "\n",
    "        target_bins.append(target_on - move_onset + bins_before)\n",
    "        gocue_bins.append(gocue - move_onset + bins_before)\n",
    "        move_bins.append(bins_before)\n",
    "                                \n",
    "        "
   ]
  },
  {
   "cell_type": "code",
   "execution_count": null,
   "id": "9c548e38-2088-4182-a78d-2cc9c057e452",
   "metadata": {
    "tags": []
   },
   "outputs": [],
   "source": [
    "td = ds.make_trial_data()\n",
    "ti = ds.trial_info"
   ]
  },
  {
   "cell_type": "code",
   "execution_count": null,
   "id": "aee5c785-1920-455c-ba41-6e3ad96f7460",
   "metadata": {
    "tags": []
   },
   "outputs": [],
   "source": [
    "td.shape"
   ]
  },
  {
   "cell_type": "code",
   "execution_count": null,
   "id": "03948dbf-a7b6-421e-b66c-4f32a995413a",
   "metadata": {
    "tags": []
   },
   "outputs": [],
   "source": [
    "for column in td.columns:\n",
    "    print(column)"
   ]
  },
  {
   "cell_type": "code",
   "execution_count": null,
   "id": "135d5a31-e745-41ca-8cfc-c12aea22c8c8",
   "metadata": {
    "tags": []
   },
   "outputs": [],
   "source": [
    "for column in ti.columns:\n",
    "    print(column)"
   ]
  },
  {
   "cell_type": "code",
   "execution_count": null,
   "id": "bc929ed2-1cd1-47ac-ba3c-459944e24ce5",
   "metadata": {
    "tags": []
   },
   "outputs": [],
   "source": [
    "dir(ds)"
   ]
  },
  {
   "cell_type": "code",
   "execution_count": null,
   "id": "9dc1b41d-f60d-46c9-917e-c05c2ce288e7",
   "metadata": {
    "tags": []
   },
   "outputs": [],
   "source": [
    "ds.data.columns"
   ]
  },
  {
   "cell_type": "code",
   "execution_count": null,
   "id": "cb5bd6cb-bc8e-4619-89d2-0560ccf1990e",
   "metadata": {
    "tags": []
   },
   "outputs": [],
   "source": [
    "ds.data.shape"
   ]
  },
  {
   "cell_type": "code",
   "execution_count": null,
   "id": "a927f241-f58e-402a-be8b-1647da7ccddc",
   "metadata": {
    "tags": []
   },
   "outputs": [],
   "source": [
    "ds.calculate_onset()"
   ]
  },
  {
   "cell_type": "code",
   "execution_count": null,
   "id": "fa44c6ff-748a-4e46-8458-cfed75c43dc2",
   "metadata": {
    "tags": []
   },
   "outputs": [],
   "source": [
    "td.shape"
   ]
  },
  {
   "cell_type": "code",
   "execution_count": null,
   "id": "fdd33fe1-a232-44a6-a48c-d216fb09cb2a",
   "metadata": {
    "tags": []
   },
   "outputs": [],
   "source": [
    "len(ti)"
   ]
  },
  {
   "cell_type": "code",
   "execution_count": null,
   "id": "d0be8e00-2b0c-45a0-8fe2-ff7b4f44ef56",
   "metadata": {
    "tags": []
   },
   "outputs": [],
   "source": [
    "ti"
   ]
  },
  {
   "cell_type": "code",
   "execution_count": null,
   "id": "0ced9283-a6f5-46d6-8c58-6c8dd6fca544",
   "metadata": {
    "tags": []
   },
   "outputs": [],
   "source": [
    "n_null_trials = ti.isnull().sum()['task_success']\n",
    "n_neurons = ds.data.spikes.values.shape[1]\n",
    "\n",
    "print(f'number of neurons: {n_neurons}')\n",
    "print(f'total number of trials: {len(ti)}')\n",
    "print(f'number of null trials: {n_null_trials}')"
   ]
  },
  {
   "cell_type": "code",
   "execution_count": null,
   "id": "57648ab3-204a-482f-afc7-7e4320f89e4f",
   "metadata": {},
   "outputs": [],
   "source": []
  }
 ],
 "metadata": {
  "kernelspec": {
   "display_name": "opium",
   "language": "python",
   "name": "opium"
  },
  "language_info": {
   "codemirror_mode": {
    "name": "ipython",
    "version": 3
   },
   "file_extension": ".py",
   "mimetype": "text/x-python",
   "name": "python",
   "nbconvert_exporter": "python",
   "pygments_lexer": "ipython3",
   "version": "3.11.10"
  }
 },
 "nbformat": 4,
 "nbformat_minor": 5
}
