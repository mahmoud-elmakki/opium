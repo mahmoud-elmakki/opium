{
 "cells": [
  {
   "cell_type": "code",
   "id": "initial_id",
   "metadata": {
    "collapsed": true,
    "ExecuteTime": {
     "end_time": "2024-11-04T17:08:05.291349Z",
     "start_time": "2024-11-04T17:08:05.287343Z"
    }
   },
   "source": [
    "import numpy as np\n",
    "import pandas as pd\n",
    "import math\n",
    "import matplotlib.pyplot as plt\n",
    "\n",
    "import torch\n",
    "\n",
    "#from itertools import product\n",
    "from pynwb import NWBHDF5IO\n",
    "from nlb_tools.nwb_interface import NWBDataset\n",
    "\n",
    "import warnings\n",
    "warnings.filterwarnings(\"ignore\")"
   ],
   "outputs": [],
   "execution_count": 18
  },
  {
   "metadata": {
    "ExecuteTime": {
     "end_time": "2024-11-04T17:06:49.449086Z",
     "start_time": "2024-11-04T17:05:17.940709Z"
    }
   },
   "cell_type": "code",
   "source": " ds = NWBDataset('/home/makki/data/NWB/000070/sub-Jenkins/sub-Jenkins_ses-20090916_behavior+ecephys.nwb', split_heldout=False)",
   "id": "4634122fbb93b88a",
   "outputs": [
    {
     "name": "stderr",
     "output_type": "stream",
     "text": [
      "Dropping Position_Cursor due to timestamp mismatch.\n",
      "Dropping Position_Eye due to timestamp mismatch.\n",
      "Dropping Position_Hand due to timestamp mismatch.\n",
      "Spikes found outside of observed interval.\n"
     ]
    }
   ],
   "execution_count": 15
  },
  {
   "metadata": {
    "ExecuteTime": {
     "end_time": "2024-11-06T16:27:17.636691Z",
     "start_time": "2024-11-06T16:27:17.629459Z"
    }
   },
   "cell_type": "code",
   "source": [
    "trial_info = ds.trial_info\n",
    "for column in trial_info.columns:\n",
    "    print(column)"
   ],
   "id": "d0a976ac1ceeb02d",
   "outputs": [
    {
     "ename": "NameError",
     "evalue": "name 'ds' is not defined",
     "output_type": "error",
     "traceback": [
      "\u001B[0;31m---------------------------------------------------------------------------\u001B[0m",
      "\u001B[0;31mNameError\u001B[0m                                 Traceback (most recent call last)",
      "Cell \u001B[0;32mIn[1], line 1\u001B[0m\n\u001B[0;32m----> 1\u001B[0m trial_info \u001B[38;5;241m=\u001B[39m ds\u001B[38;5;241m.\u001B[39mtrial_info\n\u001B[1;32m      2\u001B[0m \u001B[38;5;28;01mfor\u001B[39;00m column \u001B[38;5;129;01min\u001B[39;00m trial_info\u001B[38;5;241m.\u001B[39mcolumns:\n\u001B[1;32m      3\u001B[0m     \u001B[38;5;28mprint\u001B[39m(column)\n",
      "\u001B[0;31mNameError\u001B[0m: name 'ds' is not defined"
     ]
    }
   ],
   "execution_count": 1
  },
  {
   "metadata": {
    "ExecuteTime": {
     "end_time": "2024-11-04T17:10:39.265839Z",
     "start_time": "2024-11-04T17:10:39.257231Z"
    }
   },
   "cell_type": "code",
   "source": [
    "print(f\"Total num of trials: {len(trial_info)}\\n\")\n",
    "print(\"Count of null values in each column:\\n\")\n",
    "\n",
    "trial_info.isnull().sum()"
   ],
   "id": "5edbc65d2d9a3336",
   "outputs": [
    {
     "name": "stdout",
     "output_type": "stream",
     "text": [
      "Total num of trials: 2265\n",
      "\n",
      "Count of null values in each column:\n",
      "\n"
     ]
    },
    {
     "data": {
      "text/plain": [
       "trial_id                     0\n",
       "start_time                   0\n",
       "end_time                     0\n",
       "target_presentation_time     0\n",
       "go_cue_time                  0\n",
       "reaction_time                0\n",
       "move_begins_time             0\n",
       "move_ends_time              13\n",
       "discard_trial                0\n",
       "task_success                 0\n",
       "trial_type                   0\n",
       "trial_version                0\n",
       "proto_trial                  0\n",
       "maze_condition               0\n",
       "correct_reach                0\n",
       "maze_num_targets             0\n",
       "maze_num_barriers            0\n",
       "novel_maze                   0\n",
       "target_positions             0\n",
       "frame_details                0\n",
       "hit_target_position          0\n",
       "target_size                  0\n",
       "barrier_info                 0\n",
       "timeseries                   0\n",
       "dtype: int64"
      ]
     },
     "execution_count": 19,
     "metadata": {},
     "output_type": "execute_result"
    }
   ],
   "execution_count": 19
  },
  {
   "metadata": {
    "ExecuteTime": {
     "end_time": "2024-11-04T17:19:49.423698Z",
     "start_time": "2024-11-04T17:19:18.543949Z"
    }
   },
   "cell_type": "code",
   "source": [
    "# The make_trial_data() returns a DataFrame containing \"trialized\" data. It has the same fields as the continuous `dataset.data` DataFrame,\n",
    "# But adds `trial_id`, `trial_time`, and `align_time`. Till here, each row is still a time bin.\n",
    "# Note: Later we do the cropping and alignment around move_onset by ourselves.\n",
    "\n",
    "trial_data = ds.make_trial_data(allow_nans=True)\n",
    "\n",
    "for column in trial_data.columns:\n",
    "    if 'spikes' not in column:\n",
    "        print(column)"
   ],
   "id": "6a2784d5490145f8",
   "outputs": [
    {
     "name": "stderr",
     "output_type": "stream",
     "text": [
      "NaNs found in 47.14% of `trial_data`.\n"
     ]
    },
    {
     "name": "stdout",
     "output_type": "stream",
     "text": [
      "('Processed_A001', '0000')\n",
      "('Processed_A001', '0001')\n",
      "('Processed_A001', '0002')\n",
      "('Processed_A001', '0003')\n",
      "('Processed_A001', '0004')\n",
      "('Processed_A001', '0005')\n",
      "('Processed_A001', '0006')\n",
      "('Processed_A001', '0007')\n",
      "('Processed_A001', '0008')\n",
      "('Processed_A001', '0009')\n",
      "('Processed_A001', '0010')\n",
      "('Processed_A001', '0011')\n",
      "('Processed_A001', '0012')\n",
      "('Processed_A001', '0013')\n",
      "('Processed_A001', '0014')\n",
      "('Processed_A001', '0015')\n",
      "('Processed_A001', '0016')\n",
      "('Processed_A001', '0017')\n",
      "('Processed_A001', '0018')\n",
      "('Processed_A001', '0019')\n",
      "('Processed_A001', '0020')\n",
      "('Processed_A001', '0021')\n",
      "('Processed_A001', '0022')\n",
      "('Processed_A001', '0023')\n",
      "('Processed_A001', '0024')\n",
      "('Processed_A001', '0025')\n",
      "('Processed_A001', '0026')\n",
      "('Processed_A001', '0027')\n",
      "('Processed_A001', '0028')\n",
      "('Processed_A001', '0029')\n",
      "('Processed_A001', '0030')\n",
      "('Processed_A001', '0031')\n",
      "('Processed_A001', '0032')\n",
      "('Processed_A001', '0033')\n",
      "('Processed_A001', '0034')\n",
      "('Processed_A001', '0035')\n",
      "('Processed_A001', '0036')\n",
      "('Processed_A001', '0037')\n",
      "('Processed_A001', '0038')\n",
      "('Processed_A001', '0039')\n",
      "('Processed_A001', '0040')\n",
      "('Processed_A001', '0041')\n",
      "('Processed_A001', '0042')\n",
      "('Processed_A001', '0043')\n",
      "('Processed_A001', '0044')\n",
      "('Processed_A001', '0045')\n",
      "('Processed_A001', '0046')\n",
      "('Processed_A001', '0047')\n",
      "('Processed_A001', '0048')\n",
      "('Processed_A001', '0049')\n",
      "('Processed_A001', '0050')\n",
      "('Processed_A001', '0051')\n",
      "('Processed_A001', '0052')\n",
      "('Processed_A001', '0053')\n",
      "('Processed_A001', '0054')\n",
      "('Processed_A001', '0055')\n",
      "('Processed_A001', '0056')\n",
      "('Processed_A001', '0057')\n",
      "('Processed_A001', '0058')\n",
      "('Processed_A001', '0059')\n",
      "('Processed_A001', '0060')\n",
      "('Processed_A001', '0061')\n",
      "('Processed_A001', '0062')\n",
      "('Processed_A001', '0063')\n",
      "('Processed_A001', '0064')\n",
      "('Processed_A001', '0065')\n",
      "('Processed_A001', '0066')\n",
      "('Processed_A001', '0067')\n",
      "('Processed_A001', '0068')\n",
      "('Processed_A001', '0069')\n",
      "('Processed_A001', '0070')\n",
      "('Processed_A001', '0071')\n",
      "('Processed_A001', '0072')\n",
      "('Processed_A001', '0073')\n",
      "('Processed_A001', '0074')\n",
      "('Processed_A001', '0075')\n",
      "('Processed_A001', '0076')\n",
      "('Processed_A001', '0077')\n",
      "('Processed_A001', '0078')\n",
      "('Processed_A001', '0079')\n",
      "('Processed_A001', '0080')\n",
      "('Processed_A001', '0081')\n",
      "('Processed_A001', '0082')\n",
      "('Processed_A001', '0083')\n",
      "('Processed_A001', '0084')\n",
      "('Processed_A001', '0085')\n",
      "('Processed_A001', '0086')\n",
      "('Processed_A001', '0087')\n",
      "('Processed_A001', '0088')\n",
      "('Processed_A001', '0089')\n",
      "('Processed_A001', '0090')\n",
      "('Processed_A001', '0091')\n",
      "('Processed_A001', '0092')\n",
      "('Processed_A001', '0093')\n",
      "('Processed_A001', '0094')\n",
      "('Processed_A001', '0095')\n",
      "('Processed_A002', '0000')\n",
      "('Processed_A002', '0001')\n",
      "('Processed_A002', '0002')\n",
      "('Processed_A002', '0003')\n",
      "('Processed_A002', '0004')\n",
      "('Processed_A002', '0005')\n",
      "('Processed_A002', '0006')\n",
      "('Processed_A002', '0007')\n",
      "('Processed_A002', '0008')\n",
      "('Processed_A002', '0009')\n",
      "('Processed_A002', '0010')\n",
      "('Processed_A002', '0011')\n",
      "('Processed_A002', '0012')\n",
      "('Processed_A002', '0013')\n",
      "('Processed_A002', '0014')\n",
      "('Processed_A002', '0015')\n",
      "('Processed_A002', '0016')\n",
      "('Processed_A002', '0017')\n",
      "('Processed_A002', '0018')\n",
      "('Processed_A002', '0019')\n",
      "('Processed_A002', '0020')\n",
      "('Processed_A002', '0021')\n",
      "('Processed_A002', '0022')\n",
      "('Processed_A002', '0023')\n",
      "('Processed_A002', '0024')\n",
      "('Processed_A002', '0025')\n",
      "('Processed_A002', '0026')\n",
      "('Processed_A002', '0027')\n",
      "('Processed_A002', '0028')\n",
      "('Processed_A002', '0029')\n",
      "('Processed_A002', '0030')\n",
      "('Processed_A002', '0031')\n",
      "('Processed_A002', '0032')\n",
      "('Processed_A002', '0033')\n",
      "('Processed_A002', '0034')\n",
      "('Processed_A002', '0035')\n",
      "('Processed_A002', '0036')\n",
      "('Processed_A002', '0037')\n",
      "('Processed_A002', '0038')\n",
      "('Processed_A002', '0039')\n",
      "('Processed_A002', '0040')\n",
      "('Processed_A002', '0041')\n",
      "('Processed_A002', '0042')\n",
      "('Processed_A002', '0043')\n",
      "('Processed_A002', '0044')\n",
      "('Processed_A002', '0045')\n",
      "('Processed_A002', '0046')\n",
      "('Processed_A002', '0047')\n",
      "('Processed_A002', '0048')\n",
      "('Processed_A002', '0049')\n",
      "('Processed_A002', '0050')\n",
      "('Processed_A002', '0051')\n",
      "('Processed_A002', '0052')\n",
      "('Processed_A002', '0053')\n",
      "('Processed_A002', '0054')\n",
      "('Processed_A002', '0055')\n",
      "('Processed_A002', '0056')\n",
      "('Processed_A002', '0057')\n",
      "('Processed_A002', '0058')\n",
      "('Processed_A002', '0059')\n",
      "('Processed_A002', '0060')\n",
      "('Processed_A002', '0061')\n",
      "('Processed_A002', '0062')\n",
      "('Processed_A002', '0063')\n",
      "('Processed_A002', '0064')\n",
      "('Processed_A002', '0065')\n",
      "('Processed_A002', '0066')\n",
      "('Processed_A002', '0067')\n",
      "('Processed_A002', '0068')\n",
      "('Processed_A002', '0069')\n",
      "('Processed_A002', '0070')\n",
      "('Processed_A002', '0071')\n",
      "('Processed_A002', '0072')\n",
      "('Processed_A002', '0073')\n",
      "('Processed_A002', '0074')\n",
      "('Processed_A002', '0075')\n",
      "('Processed_A002', '0076')\n",
      "('Processed_A002', '0077')\n",
      "('Processed_A002', '0078')\n",
      "('Processed_A002', '0079')\n",
      "('Processed_A002', '0080')\n",
      "('Processed_A002', '0081')\n",
      "('Processed_A002', '0082')\n",
      "('Processed_A002', '0083')\n",
      "('Processed_A002', '0084')\n",
      "('Processed_A002', '0085')\n",
      "('Processed_A002', '0086')\n",
      "('Processed_A002', '0087')\n",
      "('Processed_A002', '0088')\n",
      "('Processed_A002', '0089')\n",
      "('Processed_A002', '0090')\n",
      "('Processed_A002', '0091')\n",
      "('Processed_A002', '0092')\n",
      "('Processed_A002', '0093')\n",
      "('Processed_A002', '0094')\n",
      "('Processed_A002', '0095')\n",
      "('Processed_B001', '0000')\n",
      "('Processed_B001', '0001')\n",
      "('Processed_B001', '0002')\n",
      "('Processed_B001', '0003')\n",
      "('Processed_B001', '0004')\n",
      "('Processed_B001', '0005')\n",
      "('Processed_B001', '0006')\n",
      "('Processed_B001', '0007')\n",
      "('Processed_B001', '0008')\n",
      "('Processed_B001', '0009')\n",
      "('Processed_B001', '0010')\n",
      "('Processed_B001', '0011')\n",
      "('Processed_B001', '0012')\n",
      "('Processed_B001', '0013')\n",
      "('Processed_B001', '0014')\n",
      "('Processed_B001', '0015')\n",
      "('Processed_B001', '0016')\n",
      "('Processed_B001', '0017')\n",
      "('Processed_B001', '0018')\n",
      "('Processed_B001', '0019')\n",
      "('Processed_B001', '0020')\n",
      "('Processed_B001', '0021')\n",
      "('Processed_B001', '0022')\n",
      "('Processed_B001', '0023')\n",
      "('Processed_B001', '0024')\n",
      "('Processed_B001', '0025')\n",
      "('Processed_B001', '0026')\n",
      "('Processed_B001', '0027')\n",
      "('Processed_B001', '0028')\n",
      "('Processed_B001', '0029')\n",
      "('Processed_B001', '0030')\n",
      "('Processed_B001', '0031')\n",
      "('Processed_B001', '0032')\n",
      "('Processed_B001', '0033')\n",
      "('Processed_B001', '0034')\n",
      "('Processed_B001', '0035')\n",
      "('Processed_B001', '0036')\n",
      "('Processed_B001', '0037')\n",
      "('Processed_B001', '0038')\n",
      "('Processed_B001', '0039')\n",
      "('Processed_B001', '0040')\n",
      "('Processed_B001', '0041')\n",
      "('Processed_B001', '0042')\n",
      "('Processed_B001', '0043')\n",
      "('Processed_B001', '0044')\n",
      "('Processed_B001', '0045')\n",
      "('Processed_B001', '0046')\n",
      "('Processed_B001', '0047')\n",
      "('Processed_B001', '0048')\n",
      "('Processed_B001', '0049')\n",
      "('Processed_B001', '0050')\n",
      "('Processed_B001', '0051')\n",
      "('Processed_B001', '0052')\n",
      "('Processed_B001', '0053')\n",
      "('Processed_B001', '0054')\n",
      "('Processed_B001', '0055')\n",
      "('Processed_B001', '0056')\n",
      "('Processed_B001', '0057')\n",
      "('Processed_B001', '0058')\n",
      "('Processed_B001', '0059')\n",
      "('Processed_B001', '0060')\n",
      "('Processed_B001', '0061')\n",
      "('Processed_B001', '0062')\n",
      "('Processed_B001', '0063')\n",
      "('Processed_B001', '0064')\n",
      "('Processed_B001', '0065')\n",
      "('Processed_B001', '0066')\n",
      "('Processed_B001', '0067')\n",
      "('Processed_B001', '0068')\n",
      "('Processed_B001', '0069')\n",
      "('Processed_B001', '0070')\n",
      "('Processed_B001', '0071')\n",
      "('Processed_B001', '0072')\n",
      "('Processed_B001', '0073')\n",
      "('Processed_B001', '0074')\n",
      "('Processed_B001', '0075')\n",
      "('Processed_B001', '0076')\n",
      "('Processed_B001', '0077')\n",
      "('Processed_B001', '0078')\n",
      "('Processed_B001', '0079')\n",
      "('Processed_B001', '0080')\n",
      "('Processed_B001', '0081')\n",
      "('Processed_B001', '0082')\n",
      "('Processed_B001', '0083')\n",
      "('Processed_B001', '0084')\n",
      "('Processed_B001', '0085')\n",
      "('Processed_B001', '0086')\n",
      "('Processed_B001', '0087')\n",
      "('Processed_B001', '0088')\n",
      "('Processed_B001', '0089')\n",
      "('Processed_B001', '0090')\n",
      "('Processed_B001', '0091')\n",
      "('Processed_B001', '0092')\n",
      "('Processed_B001', '0093')\n",
      "('Processed_B001', '0094')\n",
      "('Processed_B001', '0095')\n",
      "('Processed_B002', '0000')\n",
      "('Processed_B002', '0001')\n",
      "('Processed_B002', '0002')\n",
      "('Processed_B002', '0003')\n",
      "('Processed_B002', '0004')\n",
      "('Processed_B002', '0005')\n",
      "('Processed_B002', '0006')\n",
      "('Processed_B002', '0007')\n",
      "('Processed_B002', '0008')\n",
      "('Processed_B002', '0009')\n",
      "('Processed_B002', '0010')\n",
      "('Processed_B002', '0011')\n",
      "('Processed_B002', '0012')\n",
      "('Processed_B002', '0013')\n",
      "('Processed_B002', '0014')\n",
      "('Processed_B002', '0015')\n",
      "('Processed_B002', '0016')\n",
      "('Processed_B002', '0017')\n",
      "('Processed_B002', '0018')\n",
      "('Processed_B002', '0019')\n",
      "('Processed_B002', '0020')\n",
      "('Processed_B002', '0021')\n",
      "('Processed_B002', '0022')\n",
      "('Processed_B002', '0023')\n",
      "('Processed_B002', '0024')\n",
      "('Processed_B002', '0025')\n",
      "('Processed_B002', '0026')\n",
      "('Processed_B002', '0027')\n",
      "('Processed_B002', '0028')\n",
      "('Processed_B002', '0029')\n",
      "('Processed_B002', '0030')\n",
      "('Processed_B002', '0031')\n",
      "('Processed_B002', '0032')\n",
      "('Processed_B002', '0033')\n",
      "('Processed_B002', '0034')\n",
      "('Processed_B002', '0035')\n",
      "('Processed_B002', '0036')\n",
      "('Processed_B002', '0037')\n",
      "('Processed_B002', '0038')\n",
      "('Processed_B002', '0039')\n",
      "('Processed_B002', '0040')\n",
      "('Processed_B002', '0041')\n",
      "('Processed_B002', '0042')\n",
      "('Processed_B002', '0043')\n",
      "('Processed_B002', '0044')\n",
      "('Processed_B002', '0045')\n",
      "('Processed_B002', '0046')\n",
      "('Processed_B002', '0047')\n",
      "('Processed_B002', '0048')\n",
      "('Processed_B002', '0049')\n",
      "('Processed_B002', '0050')\n",
      "('Processed_B002', '0051')\n",
      "('Processed_B002', '0052')\n",
      "('Processed_B002', '0053')\n",
      "('Processed_B002', '0054')\n",
      "('Processed_B002', '0055')\n",
      "('Processed_B002', '0056')\n",
      "('Processed_B002', '0057')\n",
      "('Processed_B002', '0058')\n",
      "('Processed_B002', '0059')\n",
      "('Processed_B002', '0060')\n",
      "('Processed_B002', '0061')\n",
      "('Processed_B002', '0062')\n",
      "('Processed_B002', '0063')\n",
      "('Processed_B002', '0064')\n",
      "('Processed_B002', '0065')\n",
      "('Processed_B002', '0066')\n",
      "('Processed_B002', '0067')\n",
      "('Processed_B002', '0068')\n",
      "('Processed_B002', '0069')\n",
      "('Processed_B002', '0070')\n",
      "('Processed_B002', '0071')\n",
      "('Processed_B002', '0072')\n",
      "('Processed_B002', '0073')\n",
      "('Processed_B002', '0074')\n",
      "('Processed_B002', '0075')\n",
      "('Processed_B002', '0076')\n",
      "('Processed_B002', '0077')\n",
      "('Processed_B002', '0078')\n",
      "('Processed_B002', '0079')\n",
      "('Processed_B002', '0080')\n",
      "('Processed_B002', '0081')\n",
      "('Processed_B002', '0082')\n",
      "('Processed_B002', '0083')\n",
      "('Processed_B002', '0084')\n",
      "('Processed_B002', '0085')\n",
      "('Processed_B002', '0086')\n",
      "('Processed_B002', '0087')\n",
      "('Processed_B002', '0088')\n",
      "('Processed_B002', '0089')\n",
      "('Processed_B002', '0090')\n",
      "('Processed_B002', '0091')\n",
      "('Processed_B002', '0092')\n",
      "('Processed_B002', '0093')\n",
      "('Processed_B002', '0094')\n",
      "('Processed_B002', '0095')\n",
      "('align_time', '')\n",
      "('clock_time', '')\n",
      "('margin', '')\n",
      "('trial_id', '')\n",
      "('trial_time', '')\n"
     ]
    }
   ],
   "execution_count": 27
  },
  {
   "metadata": {
    "ExecuteTime": {
     "end_time": "2024-11-04T17:20:58.259631Z",
     "start_time": "2024-11-04T17:20:58.253980Z"
    }
   },
   "cell_type": "code",
   "source": "trial_info['task_success'].value_counts()",
   "id": "30a597af63155965",
   "outputs": [
    {
     "data": {
      "text/plain": [
       "1    2241\n",
       "0      24\n",
       "Name: task_success, dtype: int64"
      ]
     },
     "execution_count": 30,
     "metadata": {},
     "output_type": "execute_result"
    }
   ],
   "execution_count": 30
  },
  {
   "metadata": {
    "ExecuteTime": {
     "end_time": "2024-11-04T17:21:06.680524Z",
     "start_time": "2024-11-04T17:21:06.674929Z"
    }
   },
   "cell_type": "code",
   "source": "trial_info['correct_reach'].value_counts()",
   "id": "77ae058a414d80b6",
   "outputs": [
    {
     "data": {
      "text/plain": [
       "1    1379\n",
       "0     886\n",
       "Name: correct_reach, dtype: int64"
      ]
     },
     "execution_count": 31,
     "metadata": {},
     "output_type": "execute_result"
    }
   ],
   "execution_count": 31
  },
  {
   "metadata": {
    "ExecuteTime": {
     "end_time": "2024-11-04T17:22:11.814002Z",
     "start_time": "2024-11-04T17:22:05.791917Z"
    }
   },
   "cell_type": "code",
   "source": [
    "# List of trials DataFrames\n",
    "trials = [trial[1] for trial in trial_data.groupby('trial_id')]\n",
    "len(trials)"
   ],
   "id": "b558d459111bf64c",
   "outputs": [
    {
     "data": {
      "text/plain": [
       "2265"
      ]
     },
     "execution_count": 33,
     "metadata": {},
     "output_type": "execute_result"
    }
   ],
   "execution_count": 33
  },
  {
   "metadata": {
    "ExecuteTime": {
     "end_time": "2024-11-04T17:25:36.406265Z",
     "start_time": "2024-11-04T17:25:34.380967Z"
    }
   },
   "cell_type": "code",
   "source": [
    "def plot_trial_lens(trials):\n",
    "    trial_lens = []\n",
    "    \n",
    "    for trial_id, trial in enumerate(trials):\n",
    "        trial_lens.append((trial.trial_time.values[-1] / np.timedelta64(1, 'ms')) - (trial.trial_time.values[0] / np.timedelta64(1, 'ms')))\n",
    "        \n",
    "    plt.hist(trial_lens, bins='auto', density=False, alpha=0.7, edgecolor='gray')\n",
    "    plt.title('trial length\\n')\n",
    "    plt.xlabel('trial length (ms)')\n",
    "    plt.ylabel('# trials')\n",
    "    #plt.savefig('output_figs/tl.png')\n",
    "    plt.show()\n",
    "    \n",
    "plot_trial_lens(trials)"
   ],
   "id": "d444928c82da722a",
   "outputs": [
    {
     "data": {
      "text/plain": [
       "<Figure size 640x480 with 1 Axes>"
      ],
      "image/png": "[encoded data removed]"
     },
     "metadata": {},
     "output_type": "display_data"
    }
   ],
   "execution_count": 41
  },
  {
   "metadata": {
    "ExecuteTime": {
     "end_time": "2024-11-04T17:31:25.275631Z",
     "start_time": "2024-11-04T17:31:21.504065Z"
    }
   },
   "cell_type": "code",
   "source": [
    "def plo_iti(trials, trial_info):\n",
    "    itts = []\n",
    "    \n",
    "    for trial_id in range (len(trials)-1):\n",
    "        itts.append(\n",
    "            (trial_info[trial_info['trial_id'] == trial_id+1]['start_time'].values[-1] / np.timedelta64(1, 'ms')) - (trial_info[trial_info['trial_id'] == trial_id]['end_time'].values[-1] / np.timedelta64(1, 'ms'))\n",
    "        )\n",
    "        \n",
    "    plt.hist(itts, bins='auto', density=False, alpha=0.7, edgecolor='gray')\n",
    "    plt.title('intertrial interval\\n')\n",
    "    plt.xlabel('intertrial interval (ms)')\n",
    "    plt.ylabel('# trials')\n",
    "    #plt.savefig('output_figs/iit.png')\n",
    "    plt.show()\n",
    "    \n",
    "plo_iti(trials, trial_info)"
   ],
   "id": "35150c9f49b040a3",
   "outputs": [
    {
     "data": {
      "text/plain": [
       "<Figure size 640x480 with 1 Axes>"
      ],
      "image/png": "[encoded data removed]"
     },
     "metadata": {},
     "output_type": "display_data"
    }
   ],
   "execution_count": 47
  },
  {
   "metadata": {},
   "cell_type": "code",
   "outputs": [],
   "execution_count": null,
   "source": "def time",
   "id": "2733b417734633f9"
  }
 ],
 "metadata": {
  "kernelspec": {
   "display_name": "Python 3",
   "language": "python",
   "name": "python3"
  },
  "language_info": {
   "codemirror_mode": {
    "name": "ipython",
    "version": 2
   },
   "file_extension": ".py",
   "mimetype": "text/x-python",
   "name": "python",
   "nbconvert_exporter": "python",
   "pygments_lexer": "ipython2",
   "version": "2.7.6"
  }
 },
 "nbformat": 4,
 "nbformat_minor": 5
}
