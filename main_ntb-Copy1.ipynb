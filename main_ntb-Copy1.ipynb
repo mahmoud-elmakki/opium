{
 "cells": [
  {
   "cell_type": "code",
   "execution_count": 25,
   "id": "e22bfbaa-ce0f-46dc-a36f-52b6cb70a232",
   "metadata": {
    "tags": []
   },
   "outputs": [],
   "source": [
    "import numpy as np\n",
    "import pandas as pd\n",
    "import polars as pl\n",
    "from pathlib import Path\n",
    "\n",
    "import matplotlib.pyplot as plt\n",
    "\n",
    "from NeuroTask.api_neurotask import *"
   ]
  },
  {
   "cell_type": "code",
   "execution_count": 27,
   "id": "d1a2ab78-cb5d-4325-893e-bb2554dab690",
   "metadata": {
    "tags": []
   },
   "outputs": [
    {
     "name": "stdout",
     "output_type": "stream",
     "text": [
      "Data loaded from data/NTB/Kaggle/6_1_Churchland1_Maze.parquet with bin size of 1 ms\n",
      "Events columns: ['EventGo_cue', 'EventMovement_end', 'EventMovement_start']\n",
      "Covariates columns: ['hand_pos_x', 'hand_pos_y', 'cursor_pos_x', 'cursor_pos_y', 'maze_num_target', 'maze_num_barriers', 'cursor_vel_x', 'cursor_vel_y', 'active_target_pos_x', 'active_target_pos_y', 'maze_condition']\n",
      "Data loaded from data/NTB/Kaggle/6_1_Churchland2_Maze.parquet with bin size of 1 ms\n",
      "Events columns: ['EventGo_cue', 'EventMovement_end', 'EventMovement_start']\n",
      "Covariates columns: ['hand_pos_x', 'hand_pos_y', 'cursor_pos_x', 'cursor_pos_y', 'maze_num_target', 'maze_num_barriers', 'cursor_vel_x', 'cursor_vel_y', 'active_target_pos_x', 'active_target_pos_y', 'maze_condition']\n",
      "Data loaded from data/NTB/Kaggle/6_1_Churchland3_Maze.parquet with bin size of 1 ms\n",
      "Events columns: ['EventGo_cue', 'EventMovement_end', 'EventMovement_start']\n",
      "Covariates columns: ['hand_pos_x', 'hand_pos_y', 'cursor_pos_x', 'cursor_pos_y', 'maze_num_target', 'maze_num_barriers', 'cursor_vel_x', 'cursor_vel_y', 'active_target_pos_x', 'active_target_pos_y', 'maze_condition']\n",
      "Data loaded from data/NTB/Kaggle/6_1_Churchland4_Maze.parquet with bin size of 1 ms\n",
      "Events columns: ['EventGo_cue', 'EventMovement_end', 'EventMovement_start']\n",
      "Covariates columns: ['hand_pos_x', 'hand_pos_y', 'cursor_pos_x', 'cursor_pos_y', 'maze_num_target', 'maze_num_barriers', 'cursor_vel_x', 'cursor_vel_y', 'active_target_pos_x', 'active_target_pos_y', 'maze_condition']\n"
     ]
    }
   ],
   "source": [
    "n_sessions = 4\n",
    "data_files = [f'6_1_Churchland{i}_Maze.parquet' for i in np.arange(1, n_sessions+1)]\n",
    "df_list = []\n",
    "\n",
    "for data_file in data_files:\n",
    "    dataset, _ = load_and_filter_parquet(f'data/NTB/Kaggle/{data_file}')\n",
    "    df_list.append(dataset)"
   ]
  },
  {
   "cell_type": "code",
   "execution_count": null,
   "id": "0c85cd6f-8d7f-4389-a1f0-9ac525c25428",
   "metadata": {},
   "outputs": [],
   "source": [
    "def process_nwb(data_folder_path: str,\n",
    "                split_heldout:bool,\n",
    "                session: int,\n",
    "                animal: int,\n",
    "                binsize: int,\n",
    "                align_event: Literal['target_on_time', 'go_cue_time', 'move_onset_time']\n",
    "                bins_before: int,\n",
    "                bins_after: int,\n",
    "                obj: Literal['hand', 'cursor'],\n",
    "                mes: Literal['vel', 'pos']\n",
    "                save_root_path:str\n",
    "               ) -> pd.DataFrame:\n",
    "    \n",
    "    dataset = NWBDataset(datapath, split_heldout=split_heldout)"
   ]
  },
  {
   "cell_type": "code",
   "execution_count": null,
   "id": "20be30ab-dd61-4e75-b8d0-a7b723dd1824",
   "metadata": {},
   "outputs": [],
   "source": []
  },
  {
   "cell_type": "code",
   "execution_count": null,
   "id": "d461ed97-cfe8-48b0-8ab3-32d090827a32",
   "metadata": {},
   "outputs": [],
   "source": []
  },
  {
   "cell_type": "code",
   "execution_count": null,
   "id": "dd5312c2-c1e1-414e-aac4-7125dff39c9e",
   "metadata": {},
   "outputs": [],
   "source": []
  },
  {
   "cell_type": "code",
   "execution_count": null,
   "id": "61f084ea-3089-45a8-9eb0-27947202f56a",
   "metadata": {},
   "outputs": [],
   "source": []
  },
  {
   "cell_type": "code",
   "execution_count": null,
   "id": "7da68af1-3bcd-498d-ae31-950b1ecb9da0",
   "metadata": {},
   "outputs": [],
   "source": []
  },
  {
   "cell_type": "code",
   "execution_count": null,
   "id": "8a0bb8ed-028c-482c-b306-517a1f520d0e",
   "metadata": {},
   "outputs": [],
   "source": []
  },
  {
   "cell_type": "code",
   "execution_count": null,
   "id": "be41c5e0-014b-4e7a-935a-559f6f7c871d",
   "metadata": {},
   "outputs": [],
   "source": []
  },
  {
   "cell_type": "code",
   "execution_count": null,
   "id": "372da547-8cb2-497d-b876-01a1ba9d1f50",
   "metadata": {},
   "outputs": [],
   "source": []
  },
  {
   "cell_type": "code",
   "execution_count": null,
   "id": "1b7b6089-747e-43cb-9453-1758be9c931b",
   "metadata": {},
   "outputs": [],
   "source": []
  },
  {
   "cell_type": "code",
   "execution_count": null,
   "id": "7ff8245d-7dad-4e87-9823-10316da3e284",
   "metadata": {},
   "outputs": [],
   "source": []
  },
  {
   "cell_type": "code",
   "execution_count": 29,
   "id": "66624f31-04f6-4ef7-afec-b7175a4b5c83",
   "metadata": {
    "tags": []
   },
   "outputs": [
    {
     "name": "stdout",
     "output_type": "stream",
     "text": [
      "\n",
      "Comparing DataFrame 1:\n",
      "No mismatches found.\n",
      "\n",
      "Comparing DataFrame 2:\n",
      "Mismatched columns and dtypes:\n",
      " - Column 'maze_num_target': float64 (current) vs Float64 (reference)\n",
      "\n",
      "Comparing DataFrame 3:\n",
      "Mismatched columns and dtypes:\n",
      " - Column 'maze_num_target': float64 (current) vs Float64 (reference)\n",
      "\n",
      "Comparing DataFrame 4:\n",
      "No mismatches found.\n"
     ]
    }
   ],
   "source": [
    "\"\"\"check for mismatched column data types\"\"\"\n",
    "\n",
    "reference_dtypes = df_list[0].dtypes\n",
    "for i, df in enumerate(df_list):\n",
    "    print(f\"\\nComparing DataFrame {i+1}:\")\n",
    "    mismatched_columns = {}\n",
    "    \n",
    "    for column in df.columns:\n",
    "        if df[column].dtype != reference_dtypes[column]:\n",
    "            mismatched_columns[column] = (df[column].dtype, reference_dtypes[column])\n",
    "    if mismatched_columns:\n",
    "        print(\"Mismatched columns and dtypes:\")\n",
    "        for col, (df_dtype, ref_dtype) in mismatched_columns.items():\n",
    "            print(f\" - Column '{col}': {df_dtype} (current) vs {ref_dtype} (reference)\")\n",
    "    else:\n",
    "        print(\"No mismatches found.\")"
   ]
  },
  {
   "cell_type": "code",
   "execution_count": 30,
   "id": "f74801e4-555c-46a8-a5bc-3e563b953901",
   "metadata": {
    "tags": []
   },
   "outputs": [
    {
     "name": "stdout",
     "output_type": "stream",
     "text": [
      "\n",
      "Processing DataFrame 1:\n",
      "\n",
      "Processing DataFrame 2:\n",
      " - Converting column 'maze_num_target' from float64 to Float64\n",
      "\n",
      "Processing DataFrame 3:\n",
      " - Converting column 'maze_num_target' from float64 to Float64\n",
      "\n",
      "Processing DataFrame 4:\n"
     ]
    }
   ],
   "source": [
    "\"\"\"change mismatched data types to the reference\"\"\"\n",
    "\n",
    "for i, df in enumerate(df_list):\n",
    "    print(f\"\\nProcessing DataFrame {i+1}:\")\n",
    "    \n",
    "    for column in df.columns:\n",
    "        # Check if the dtype of the current column doesn't match the reference\n",
    "        if df[column].dtype != reference_dtypes[column]:\n",
    "            # Convert the column to the reference dtype\n",
    "            print(f\" - Converting column '{column}' from {df[column].dtype} to {reference_dtypes[column]}\")\n",
    "            df[column] = df[column].astype(reference_dtypes[column])"
   ]
  },
  {
   "cell_type": "code",
   "execution_count": 31,
   "id": "02b55f5e-2cba-4b1e-9851-9c4b9955e2fb",
   "metadata": {
    "tags": []
   },
   "outputs": [
    {
     "name": "stdout",
     "output_type": "stream",
     "text": [
      "\n",
      "Comparing DataFrame 1:\n",
      "No mismatches found.\n",
      "\n",
      "Comparing DataFrame 2:\n",
      "No mismatches found.\n",
      "\n",
      "Comparing DataFrame 3:\n",
      "No mismatches found.\n",
      "\n",
      "Comparing DataFrame 4:\n",
      "No mismatches found.\n"
     ]
    }
   ],
   "source": [
    "\"\"\"check for mismatched column data types\"\"\"\n",
    "\n",
    "reference_dtypes = df_list[0].dtypes\n",
    "for i, df in enumerate(df_list):\n",
    "    print(f\"\\nComparing DataFrame {i+1}:\")\n",
    "    mismatched_columns = {}\n",
    "    \n",
    "    for column in df.columns:\n",
    "        if df[column].dtype != reference_dtypes[column]:\n",
    "            mismatched_columns[column] = (df[column].dtype, reference_dtypes[column])\n",
    "    if mismatched_columns:\n",
    "        print(\"Mismatched columns and dtypes:\")\n",
    "        for col, (df_dtype, ref_dtype) in mismatched_columns.items():\n",
    "            print(f\" - Column '{col}': {df_dtype} (current) vs {ref_dtype} (reference)\")\n",
    "    else:\n",
    "        print(\"No mismatches found.\")"
   ]
  },
  {
   "cell_type": "code",
   "execution_count": 32,
   "id": "431dd198-dfe9-4bb7-b075-021bd29a62b3",
   "metadata": {
    "tags": []
   },
   "outputs": [],
   "source": [
    "dataset = pd.concat(df_list, axis=0)"
   ]
  },
  {
   "cell_type": "code",
   "execution_count": null,
   "id": "65c810e6-520d-45ac-a257-40181a7fe4b6",
   "metadata": {},
   "outputs": [],
   "source": [
    "def get_delay_time(df):\n",
    "    pass\n",
    "\n",
    "def get_reaction_time(df):\n",
    "    pass\n",
    "\n",
    "def align(df, align_event, offset_min, offset_max):\n",
    "    return align_event(df, align_event, bin_size=bin_size, offset_min=-offset_min, offset_max=offset_max)"
   ]
  },
  {
   "cell_type": "code",
   "execution_count": null,
   "id": "93bc4afe-3214-4314-b4e1-3ffcafedfcce",
   "metadata": {},
   "outputs": [],
   "source": [
    "# Let's set the offsets before and after a specific event. (((offset_min + offset_max) / bin_size ) + 1) -- 1 = current bin\n",
    "event_align = 'EventMovement_start' # The event to align the trials around (the column name)\n",
    "bin_size = 20 #ms (If rebinned, make sure this is the new bin size)\n",
    "offset_min = 240 #ms\n",
    "offset_max = 440 #ms\n",
    "trial_length = offset_min + offset_max + 1 * bin_size # Total trial length, ms, (including the bin we aligning around)\n",
    "n_bins = trial_length // bin_size\n",
    "\n",
    "dataset_aligned = \n",
    "print(f'length of aligned trials = {n_bins} bins x {bin_size} ms = {trial_length} ms\\n')\n",
    "dataset_aligned"
   ]
  },
  {
   "cell_type": "code",
   "execution_count": null,
   "id": "b251577f-0c2d-49c8-95c8-0f6e5c8ef868",
   "metadata": {},
   "outputs": [],
   "source": [
    "def get_dataset(data_folder, session_id, animal_id, bin_aize, align_event, offset_min, offset_max):\n",
    "    \n",
    "    \n",
    "    \n",
    "    parquet_file_path = f'{data_folder}/6_1_Churchland2_Maze.parquet'\n",
    "    dataset, orig_bin_size = load_and_filter_parquet(parquet_file_path, ['A', 'I','F'])\n",
    "    orig_bin_size = int(orig_bin_size)\n",
    "    dataset\n",
    "    \n",
    "    pass"
   ]
  },
  {
   "cell_type": "code",
   "execution_count": null,
   "id": "8e81fda3-bd2a-4132-bd7e-f6b5f01e6b54",
   "metadata": {},
   "outputs": [],
   "source": []
  },
  {
   "cell_type": "code",
   "execution_count": null,
   "id": "dcd07984-9352-42d0-83bf-1cf6a8339a70",
   "metadata": {},
   "outputs": [],
   "source": []
  },
  {
   "cell_type": "code",
   "execution_count": null,
   "id": "21edf2bd-3fd6-4b1a-9063-550e17186f00",
   "metadata": {},
   "outputs": [],
   "source": []
  },
  {
   "cell_type": "code",
   "execution_count": null,
   "id": "8e8cdbeb-8a1e-460b-b950-4dcbe3ffdb59",
   "metadata": {},
   "outputs": [],
   "source": []
  },
  {
   "cell_type": "code",
   "execution_count": null,
   "id": "06b6dbb6-cb4e-4869-9324-e9d0f2e2420f",
   "metadata": {},
   "outputs": [],
   "source": []
  },
  {
   "cell_type": "code",
   "execution_count": null,
   "id": "a21e96f0-86e4-45b4-8261-570f05ea62a8",
   "metadata": {},
   "outputs": [],
   "source": []
  },
  {
   "cell_type": "code",
   "execution_count": null,
   "id": "a0899213-16ac-4dfb-bc16-c4cc6683e4c1",
   "metadata": {},
   "outputs": [],
   "source": []
  },
  {
   "cell_type": "code",
   "execution_count": null,
   "id": "587a07dc-0d22-42ce-917c-e0d7fb784e6e",
   "metadata": {},
   "outputs": [],
   "source": []
  },
  {
   "cell_type": "code",
   "execution_count": null,
   "id": "e2ef0fff-88ca-4c1f-9607-184b909f4e08",
   "metadata": {},
   "outputs": [],
   "source": []
  },
  {
   "cell_type": "code",
   "execution_count": null,
   "id": "7baf1173-b14a-43f4-90a5-7bccceaaf3d5",
   "metadata": {},
   "outputs": [],
   "source": []
  },
  {
   "cell_type": "code",
   "execution_count": null,
   "id": "6f3ac738-e626-4a39-81c5-c9fd88f2c23a",
   "metadata": {},
   "outputs": [],
   "source": []
  },
  {
   "cell_type": "code",
   "execution_count": null,
   "id": "c9e1ff65-78f9-46f8-a7eb-cc1df3e756b8",
   "metadata": {},
   "outputs": [],
   "source": []
  },
  {
   "cell_type": "code",
   "execution_count": null,
   "id": "558e7d3e-24c0-4cbc-b983-a7e2b229ec68",
   "metadata": {},
   "outputs": [],
   "source": []
  },
  {
   "cell_type": "code",
   "execution_count": null,
   "id": "90bbfa9a-1a44-4f91-876f-5d8fcaa28b42",
   "metadata": {},
   "outputs": [],
   "source": []
  },
  {
   "cell_type": "code",
   "execution_count": null,
   "id": "0f4b8110-8296-4771-a269-c817d51ff303",
   "metadata": {},
   "outputs": [],
   "source": []
  },
  {
   "cell_type": "code",
   "execution_count": null,
   "id": "7ecfe88c-e684-4dea-bfc2-c59a25354075",
   "metadata": {
    "tags": []
   },
   "outputs": [],
   "source": []
  },
  {
   "cell_type": "code",
   "execution_count": null,
   "id": "720c4bdc-5cc9-42b6-b934-71e0ab93e93a",
   "metadata": {
    "tags": []
   },
   "outputs": [],
   "source": []
  },
  {
   "cell_type": "code",
   "execution_count": null,
   "id": "6d487573-6cc7-4d32-bd14-6d91cbd8ec72",
   "metadata": {},
   "outputs": [],
   "source": []
  },
  {
   "cell_type": "code",
   "execution_count": null,
   "id": "543c14d1-c475-471e-9c29-260642011368",
   "metadata": {},
   "outputs": [],
   "source": []
  },
  {
   "cell_type": "code",
   "execution_count": null,
   "id": "9f947c73-3d2a-4c54-9470-70522a74758f",
   "metadata": {},
   "outputs": [],
   "source": []
  },
  {
   "cell_type": "code",
   "execution_count": null,
   "id": "0be08157-723b-44ae-a79f-b2cf74d856c4",
   "metadata": {},
   "outputs": [],
   "source": []
  },
  {
   "cell_type": "code",
   "execution_count": null,
   "id": "54aee74c-a96e-4287-ad44-ddef1a9d1bde",
   "metadata": {
    "tags": []
   },
   "outputs": [],
   "source": [
    "dataset = pl.concat([pl.from_pandas(df) for df in df_list], how=\"vertical\")"
   ]
  },
  {
   "cell_type": "code",
   "execution_count": null,
   "id": "bd50d49d-ac50-4fdf-bfec-7720aa6b2e69",
   "metadata": {
    "tags": []
   },
   "outputs": [],
   "source": [
    "\n",
    "\n",
    "# Step 2: Convert the columns with 'int' type to 'float64'\n",
    "\n",
    "\n",
    "# Print the updated DataFrame with column types\n",
    "print(df.dtypes)\n",
    "print(df)"
   ]
  },
  {
   "cell_type": "code",
   "execution_count": null,
   "id": "65c354b8-efd0-4519-a1d5-ae07b5af4c15",
   "metadata": {
    "tags": []
   },
   "outputs": [],
   "source": [
    "def spikes_tofloat(df):\n",
    "    df = df.copy()\n",
    "    spike_cols = df.filter(like='Neuron').columns\n",
    "    df[spike_cols] = df[spike_cols].apply(lambda col: col.astype('float64') if col.dtype == 'int' else col)\n",
    "    return df"
   ]
  },
  {
   "cell_type": "code",
   "execution_count": null,
   "id": "d92d091e-4fbe-474b-bd77-27a0c3a42811",
   "metadata": {
    "tags": []
   },
   "outputs": [],
   "source": [
    "tofloat_all(dataset1)"
   ]
  },
  {
   "cell_type": "code",
   "execution_count": null,
   "id": "049fc8b6-de8a-4d70-b8ba-1594a0fc272a",
   "metadata": {},
   "outputs": [],
   "source": [
    "spike_cols = df.filter(like='Neuron').columns\n",
    "dataset1[spike_cols].apply(lambda col: col.astype('float64') if col.dtype == 'int' else col)"
   ]
  },
  {
   "cell_type": "code",
   "execution_count": null,
   "id": "d92cead2-4951-44af-9f53-01b71c7b1bd1",
   "metadata": {},
   "outputs": [],
   "source": []
  },
  {
   "cell_type": "code",
   "execution_count": null,
   "id": "4ff760c2-06cb-46f0-b5d1-bdbdf2a846ee",
   "metadata": {},
   "outputs": [],
   "source": [
    "pl.from_pandas("
   ]
  },
  {
   "cell_type": "code",
   "execution_count": null,
   "id": "a61f38d1-d995-4a0b-bdb1-75ea4c2b1855",
   "metadata": {},
   "outputs": [],
   "source": []
  },
  {
   "cell_type": "code",
   "execution_count": null,
   "id": "8d24f877-1c35-41b1-a0d0-698157c0bdf0",
   "metadata": {
    "tags": []
   },
   "outputs": [],
   "source": [
    "dataset = pd.concat(df_list, axis=0)"
   ]
  },
  {
   "cell_type": "code",
   "execution_count": null,
   "id": "2a53fabb-efb2-42f7-b334-5e9145830939",
   "metadata": {
    "tags": []
   },
   "outputs": [],
   "source": [
    "dataset"
   ]
  },
  {
   "cell_type": "code",
   "execution_count": null,
   "id": "5833bbd0-ec7b-4e23-a82b-969996e366ea",
   "metadata": {},
   "outputs": [],
   "source": [
    "dataset = pl.concat([\n",
    "    #pl.from_pandas(dataset1),\n",
    "     pl.from_pandas(dataset2),\n",
    "     pl.from_pandas(dataset3),\n",
    "     #pl.from_pandas(dataset4),\n",
    "     #pl.from_pandas(dataset5),\n",
    "     #pl.from_pandas(dataset6),\n",
    "     #pl.from_pandas(dataset7),\n",
    "     #pl.from_pandas(dataset8),\n",
    "     #pl.from_pandas(dataset9)\n",
    "],\n",
    "    how=\"vertical\"\n",
    ")"
   ]
  },
  {
   "cell_type": "code",
   "execution_count": null,
   "id": "80384b20-1ec6-4e18-ab9c-8905c5cfa506",
   "metadata": {
    "tags": []
   },
   "outputs": [],
   "source": [
    "dataset = pl.concat([\n",
    "    #pl.from_pandas(dataset1),\n",
    "     pl.from_pandas(dataset2),\n",
    "     pl.from_pandas(dataset3),\n",
    "     #pl.from_pandas(dataset4),\n",
    "     #pl.from_pandas(dataset5),\n",
    "     #pl.from_pandas(dataset6),\n",
    "     #pl.from_pandas(dataset7),\n",
    "     #pl.from_pandas(dataset8),\n",
    "     #pl.from_pandas(dataset9)\n",
    "],\n",
    "    how=\"vertical\"\n",
    ")"
   ]
  },
  {
   "cell_type": "code",
   "execution_count": null,
   "id": "5c3f2da5-dde3-49b8-898f-fc45e0135a1f",
   "metadata": {
    "tags": []
   },
   "outputs": [],
   "source": [
    "dataset = pl.concat([pl.from_pandas(dataset1), pl.from_pandas(dataset2)], how=\"vertical\")"
   ]
  },
  {
   "cell_type": "code",
   "execution_count": null,
   "id": "091a7db8-de45-4153-b036-c50fe9b08544",
   "metadata": {
    "tags": []
   },
   "outputs": [],
   "source": [
    "df = pl.DataFrame(\n",
    "    \n",
    "    schema={\n",
    "        \n",
    "        \"session_id\": pl.Int32,\n",
    "        \"animal_id\": pl.Int32,\n",
    "        \"trial_id\": pl.Int32,\n",
    "        \"stim_id\": pl.Int32,\n",
    "        \n",
    "        \"spikes\": pl.List(pl.Float32),\n",
    "        \n",
    "        #\"cursor_vel\": pl.List(pl.Float32),\n",
    "        #\"hand_vel\": pl.List(pl.Float32),\n",
    "        #\"cursor_pos\": pl.List(pl.Float32),\n",
    "        #\"hand_pos\": pl.List(pl.Float32),\n",
    "        \n",
    "        \"cursor_vel\": pl.Struct([pl.Field(\"x\", pl.Float64), pl.Field(\"y\", pl.Float32)]),\n",
    "        \"hand_vel\": pl.Struct([pl.Field(\"x\", pl.Float64), pl.Field(\"y\", pl.Float32)]),\n",
    "        \"cursor_pos\": pl.Struct([pl.Field(\"x\", pl.Float64), pl.Field(\"y\", pl.Float32)]),\n",
    "        \"hand_pos\": pl.Struct([pl.Field(\"x\", pl.Float64), pl.Field(\"y\", pl.Float32)]),\n",
    "        \n",
    "        \"reach_angle\": pl.Float32,\n",
    "        \n",
    "        \"gocue_onset\": pl.Int32,\n",
    "        \"target_onset\": pl.Int32,\n",
    "        \"move_starts\": pl.Int32,\n",
    "        \"move_ends\": pl.Int32,\n",
    "        \n",
    "        \"reaction_time\": pl.Float32,\n",
    "        \"delay_time\": pl.Float32,\n",
    "        \"move_exec_time\": pl.Float32,\n",
    "        \n",
    "        \"sucess\": pl.Boolean,\n",
    "        \n",
    "    }\n",
    ")\n",
    "\n",
    "df"
   ]
  },
  {
   "cell_type": "code",
   "execution_count": null,
   "id": "e1c30fca-f1e0-4207-9bdb-6788099ee474",
   "metadata": {},
   "outputs": [],
   "source": []
  },
  {
   "cell_type": "code",
   "execution_count": null,
   "id": "bef996c5-069d-42a9-aa03-3dc93ab35985",
   "metadata": {},
   "outputs": [],
   "source": []
  },
  {
   "cell_type": "code",
   "execution_count": null,
   "id": "ee769966-91b0-4889-9709-3c7e7abfdd06",
   "metadata": {},
   "outputs": [],
   "source": []
  },
  {
   "cell_type": "code",
   "execution_count": null,
   "id": "5bbe9230-71a5-43ce-b4f3-5553b990ce3b",
   "metadata": {},
   "outputs": [],
   "source": [
    "# List of DataFrames\n",
    "df_list = [dataset1, dataset2, dataset3, dataset4, dataset5, dataset6, dataset7, dataset8,  dataset9]\n",
    "\n",
    "# Step 1: Get the dtypes of the first DataFrame as a reference\n",
    "reference_dtypes = df_list[0].dtypes\n",
    "\n",
    "# Step 2: Check if all DataFrames have the same dtypes\n",
    "same_dtypes = all(df.dtypes.equals(reference_dtypes) for df in df_list)\n",
    "\n",
    "# Print the result\n",
    "if same_dtypes:\n",
    "    print(\"All DataFrames have the same column dtypes.\")\n",
    "else:\n",
    "    print(\"DataFrames have different column dtypes.\")"
   ]
  },
  {
   "cell_type": "code",
   "execution_count": null,
   "id": "d6aa01ef-5bd9-4aff-8efe-bb2c7a8c7b36",
   "metadata": {
    "tags": []
   },
   "outputs": [],
   "source": [
    "[df.dtypes.equals(reference_dtypes) for df in df_list]"
   ]
  },
  {
   "cell_type": "code",
   "execution_count": null,
   "id": "f6a1a529-a9e3-4ee7-9860-39c7c85bd7e6",
   "metadata": {
    "tags": []
   },
   "outputs": [],
   "source": []
  },
  {
   "cell_type": "code",
   "execution_count": null,
   "id": "c96cdeb1-6bb3-4fb5-8918-a1402cd6d6af",
   "metadata": {},
   "outputs": [],
   "source": []
  }
 ],
 "metadata": {
  "kernelspec": {
   "display_name": "opium",
   "language": "python",
   "name": "opium"
  },
  "language_info": {
   "codemirror_mode": {
    "name": "ipython",
    "version": 3
   },
   "file_extension": ".py",
   "mimetype": "text/x-python",
   "name": "python",
   "nbconvert_exporter": "python",
   "pygments_lexer": "ipython3",
   "version": "3.11.10"
  }
 },
 "nbformat": 4,
 "nbformat_minor": 5
}
